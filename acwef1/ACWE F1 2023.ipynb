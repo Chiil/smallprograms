{
 "cells": [
  {
   "cell_type": "code",
   "execution_count": 21,
   "id": "340b6986",
   "metadata": {},
   "outputs": [],
   "source": [
    "import pandas as pd\n",
    "import numpy as np\n",
    "import plotly.express as px\n",
    "from unidecode import unidecode\n",
    "\n",
    "fig_width = 960\n",
    "fig_write = True\n",
    "\n",
    "# 25, 18, 15, 12, 10, 8, 6, 4, 2, 1 (+1 fastest lap)"
   ]
  },
  {
   "cell_type": "code",
   "execution_count": 22,
   "id": "32dbae3b",
   "metadata": {},
   "outputs": [],
   "source": [
    "coureurs = pd.read_excel(\"acwe2023.xlsx\", index_col=\"id\", sheet_name=\"Coureurs\")\n",
    "motor = pd.read_excel(\"acwe2023.xlsx\", index_col=\"id\", sheet_name=\"Motor\")\n",
    "chassis = pd.read_excel(\"acwe2023.xlsx\", index_col=\"id\", sheet_name=\"Chassis\")\n",
    "teams = pd.read_excel(\"acwe2023.xlsx\", index_col=\"id\", sheet_name=\"Teams\")\n",
    "\n",
    "nraces = 3\n",
    "races = list(coureurs.columns[4:4+nraces])"
   ]
  },
  {
   "cell_type": "code",
   "execution_count": 23,
   "id": "e3bccf34",
   "metadata": {},
   "outputs": [],
   "source": [
    "def calc_score_coureur(i, race):\n",
    "    score = coureurs.loc[coureurs.index == i][race] * 0.5\n",
    "    return score.values[0]\n",
    "\n",
    "def calc_score_chassis(i, race):\n",
    "    score = coureurs.loc[coureurs['chassis'] == i][race]\n",
    "    return score.sum() * 0.2\n",
    "    \n",
    "def calc_score_motor(i, race):\n",
    "    score = coureurs.loc[coureurs['motor'] == i][race]\n",
    "    return score.sum() / (0.5*score.count()) * 0.3\n",
    "\n",
    "def make_acwef1_proof(fig):\n",
    "    fig.update_layout(plot_bgcolor='rgba(224, 224, 224, 1)')\n",
    "    fig.update_layout(paper_bgcolor='rgba(224, 224, 224, 1)')\n",
    "    fig.update_yaxes(showgrid=True)\n",
    "    fig.update_layout(\n",
    "        font_size = 11,\n",
    "        title_font_color = '#ff7f00',\n",
    "        title_font_size = 15,\n",
    "        title_font_family = 'Arial Bold Italic')"
   ]
  },
  {
   "cell_type": "code",
   "execution_count": 24,
   "id": "d18ab562",
   "metadata": {},
   "outputs": [],
   "source": [
    "df = pd.DataFrame(columns=['team', 'race', 'cat', 'score'])\n",
    "\n",
    "for race in races:\n",
    "    score_coureur1 = pd.Series([ calc_score_coureur(i, race) for i in teams['coureur1'] ])\n",
    "    score_coureur2 = pd.Series([ calc_score_coureur(i, race) for i in teams['coureur2'] ])\n",
    "    score_chassis  = pd.Series([ calc_score_chassis(i, race) for i in teams['chassis' ] ])\n",
    "    score_motor    = pd.Series([ calc_score_motor  (i, race) for i in teams['motor'   ] ])\n",
    "    \n",
    "    df_coureur1 = pd.DataFrame({'team' : teams['naam'], 'race' : race, 'cat' : 'coureur1', 'score' : score_coureur1})\n",
    "    df_coureur2 = pd.DataFrame({'team' : teams['naam'], 'race' : race, 'cat' : 'coureur2', 'score' : score_coureur2})\n",
    "    df_chassis = pd.DataFrame({'team' : teams['naam'], 'race' : race, 'cat' : 'chassis', 'score' : score_chassis})\n",
    "    df_motor = pd.DataFrame({'team' : teams['naam'], 'race' : race, 'cat' : 'motor', 'score' : score_motor})\n",
    "    \n",
    "    df = pd.concat([df, df_coureur1, df_coureur2, df_chassis, df_motor])"
   ]
  },
  {
   "cell_type": "code",
   "execution_count": 25,
   "id": "3b4e2831",
   "metadata": {},
   "outputs": [],
   "source": [
    "df_total_score = df.groupby(['team'], as_index=False)['score'].sum()\n",
    "df_total_score = df_total_score.sort_values(by='score', ascending=False)\n",
    "# df_total_score = df_total_score.sort_values(by='team', ascending=True)"
   ]
  },
  {
   "cell_type": "code",
   "execution_count": 26,
   "id": "0e0cf06f",
   "metadata": {},
   "outputs": [
    {
     "data": {
      "application/vnd.plotly.v1+json": {
       "config": {
        "plotlyServerURL": "https://plot.ly"
       },
       "data": [
        {
         "alignmentgroup": "True",
         "bingroup": "x",
         "histfunc": "sum",
         "hovertemplate": "Coureur 1<br>Punten = %{y}<extra></extra>",
         "legendgroup": "coureur1",
         "marker": {
          "color": "#1F77B4",
          "pattern": {
           "shape": ""
          }
         },
         "name": "Coureur 1",
         "offsetgroup": "coureur1",
         "orientation": "v",
         "showlegend": true,
         "type": "histogram",
         "x": [
          "Arjan T.",
          "Arjan Z.",
          "Casper",
          "Charlotte",
          "Chiel",
          "Corine",
          "Emily",
          "Erik",
          "Erwin",
          "Grietje",
          "Hans",
          "Isolde",
          "Jordi",
          "Kitty",
          "Marco",
          "Mees",
          "Michiel",
          "Niels",
          "Raymond",
          "Rodi",
          "Stan",
          "Wietse"
         ],
         "xaxis": "x",
         "y": [
          0,
          0,
          5,
          9,
          7.5,
          9,
          6,
          6,
          0,
          0,
          5,
          0,
          0,
          5,
          3,
          3,
          9,
          0,
          9,
          0,
          0,
          0
         ],
         "yaxis": "y"
        },
        {
         "alignmentgroup": "True",
         "bingroup": "x",
         "histfunc": "sum",
         "hovertemplate": "Coureur 2<br>Punten = %{y}<extra></extra>",
         "legendgroup": "motor",
         "marker": {
          "color": "#FF7F0E",
          "pattern": {
           "shape": ""
          }
         },
         "name": "Coureur 2",
         "offsetgroup": "motor",
         "orientation": "v",
         "showlegend": true,
         "type": "histogram",
         "x": [
          "Arjan T.",
          "Arjan Z.",
          "Casper",
          "Charlotte",
          "Chiel",
          "Corine",
          "Emily",
          "Erik",
          "Erwin",
          "Grietje",
          "Hans",
          "Isolde",
          "Jordi",
          "Kitty",
          "Marco",
          "Mees",
          "Michiel",
          "Niels",
          "Raymond",
          "Rodi",
          "Stan",
          "Wietse"
         ],
         "xaxis": "x",
         "y": [
          6.45,
          3,
          6.45,
          1.5999999999999999,
          1.5999999999999999,
          6.45,
          3,
          6.45,
          6.45,
          3,
          1.5999999999999999,
          1.5999999999999999,
          1.5999999999999999,
          1.5999999999999999,
          6.45,
          3,
          1.5999999999999999,
          6.45,
          1.5999999999999999,
          3,
          3,
          0.6
         ],
         "yaxis": "y"
        },
        {
         "alignmentgroup": "True",
         "bingroup": "x",
         "histfunc": "sum",
         "hovertemplate": "Chassis<br>Punten = %{y}<extra></extra>",
         "legendgroup": "chassis",
         "marker": {
          "color": "#2CA02C",
          "pattern": {
           "shape": ""
          }
         },
         "name": "Chassis",
         "offsetgroup": "chassis",
         "orientation": "v",
         "showlegend": true,
         "type": "histogram",
         "x": [
          "Arjan T.",
          "Arjan Z.",
          "Casper",
          "Charlotte",
          "Chiel",
          "Corine",
          "Emily",
          "Erik",
          "Erwin",
          "Grietje",
          "Hans",
          "Isolde",
          "Jordi",
          "Kitty",
          "Marco",
          "Mees",
          "Michiel",
          "Niels",
          "Raymond",
          "Rodi",
          "Stan",
          "Wietse"
         ],
         "xaxis": "x",
         "y": [
          0,
          0,
          0.8,
          0.4,
          8.6,
          4.6000000000000005,
          0,
          4.6000000000000005,
          0.4,
          8.6,
          0,
          0,
          0,
          0.4,
          4.6000000000000005,
          0.4,
          0,
          3.2,
          0.4,
          0.4,
          0.8,
          0
         ],
         "yaxis": "y"
        },
        {
         "alignmentgroup": "True",
         "bingroup": "x",
         "histfunc": "sum",
         "hovertemplate": "Motor<br>Punten = %{y}<extra></extra>",
         "legendgroup": "coureur2",
         "marker": {
          "color": "#D62728",
          "pattern": {
           "shape": ""
          }
         },
         "name": "Motor",
         "offsetgroup": "coureur2",
         "orientation": "v",
         "showlegend": true,
         "type": "histogram",
         "x": [
          "Arjan T.",
          "Arjan Z.",
          "Casper",
          "Charlotte",
          "Chiel",
          "Corine",
          "Emily",
          "Erik",
          "Erwin",
          "Grietje",
          "Hans",
          "Isolde",
          "Jordi",
          "Kitty",
          "Marco",
          "Mees",
          "Michiel",
          "Niels",
          "Raymond",
          "Rodi",
          "Stan",
          "Wietse"
         ],
         "xaxis": "x",
         "y": [
          5,
          5,
          7.5,
          0,
          4,
          0.5,
          0,
          0,
          0,
          0,
          1,
          0,
          0,
          0,
          7.5,
          0,
          0,
          7.5,
          7.5,
          5,
          3,
          1
         ],
         "yaxis": "y"
        }
       ],
       "layout": {
        "barmode": "relative",
        "font": {
         "size": 11
        },
        "height": 400,
        "legend": {
         "title": {
          "text": "Categorie"
         },
         "tracegroupgap": 0
        },
        "paper_bgcolor": "rgba(224, 224, 224, 1)",
        "plot_bgcolor": "rgba(224, 224, 224, 1)",
        "template": {
         "data": {
          "bar": [
           {
            "error_x": {
             "color": "rgb(36,36,36)"
            },
            "error_y": {
             "color": "rgb(36,36,36)"
            },
            "marker": {
             "line": {
              "color": "white",
              "width": 0.5
             },
             "pattern": {
              "fillmode": "overlay",
              "size": 10,
              "solidity": 0.2
             }
            },
            "type": "bar"
           }
          ],
          "barpolar": [
           {
            "marker": {
             "line": {
              "color": "white",
              "width": 0.5
             },
             "pattern": {
              "fillmode": "overlay",
              "size": 10,
              "solidity": 0.2
             }
            },
            "type": "barpolar"
           }
          ],
          "carpet": [
           {
            "aaxis": {
             "endlinecolor": "rgb(36,36,36)",
             "gridcolor": "white",
             "linecolor": "white",
             "minorgridcolor": "white",
             "startlinecolor": "rgb(36,36,36)"
            },
            "baxis": {
             "endlinecolor": "rgb(36,36,36)",
             "gridcolor": "white",
             "linecolor": "white",
             "minorgridcolor": "white",
             "startlinecolor": "rgb(36,36,36)"
            },
            "type": "carpet"
           }
          ],
          "choropleth": [
           {
            "colorbar": {
             "outlinewidth": 1,
             "tickcolor": "rgb(36,36,36)",
             "ticks": "outside"
            },
            "type": "choropleth"
           }
          ],
          "contour": [
           {
            "colorbar": {
             "outlinewidth": 1,
             "tickcolor": "rgb(36,36,36)",
             "ticks": "outside"
            },
            "colorscale": [
             [
              0,
              "#440154"
             ],
             [
              0.1111111111111111,
              "#482878"
             ],
             [
              0.2222222222222222,
              "#3e4989"
             ],
             [
              0.3333333333333333,
              "#31688e"
             ],
             [
              0.4444444444444444,
              "#26828e"
             ],
             [
              0.5555555555555556,
              "#1f9e89"
             ],
             [
              0.6666666666666666,
              "#35b779"
             ],
             [
              0.7777777777777778,
              "#6ece58"
             ],
             [
              0.8888888888888888,
              "#b5de2b"
             ],
             [
              1,
              "#fde725"
             ]
            ],
            "type": "contour"
           }
          ],
          "contourcarpet": [
           {
            "colorbar": {
             "outlinewidth": 1,
             "tickcolor": "rgb(36,36,36)",
             "ticks": "outside"
            },
            "type": "contourcarpet"
           }
          ],
          "heatmap": [
           {
            "colorbar": {
             "outlinewidth": 1,
             "tickcolor": "rgb(36,36,36)",
             "ticks": "outside"
            },
            "colorscale": [
             [
              0,
              "#440154"
             ],
             [
              0.1111111111111111,
              "#482878"
             ],
             [
              0.2222222222222222,
              "#3e4989"
             ],
             [
              0.3333333333333333,
              "#31688e"
             ],
             [
              0.4444444444444444,
              "#26828e"
             ],
             [
              0.5555555555555556,
              "#1f9e89"
             ],
             [
              0.6666666666666666,
              "#35b779"
             ],
             [
              0.7777777777777778,
              "#6ece58"
             ],
             [
              0.8888888888888888,
              "#b5de2b"
             ],
             [
              1,
              "#fde725"
             ]
            ],
            "type": "heatmap"
           }
          ],
          "heatmapgl": [
           {
            "colorbar": {
             "outlinewidth": 1,
             "tickcolor": "rgb(36,36,36)",
             "ticks": "outside"
            },
            "colorscale": [
             [
              0,
              "#440154"
             ],
             [
              0.1111111111111111,
              "#482878"
             ],
             [
              0.2222222222222222,
              "#3e4989"
             ],
             [
              0.3333333333333333,
              "#31688e"
             ],
             [
              0.4444444444444444,
              "#26828e"
             ],
             [
              0.5555555555555556,
              "#1f9e89"
             ],
             [
              0.6666666666666666,
              "#35b779"
             ],
             [
              0.7777777777777778,
              "#6ece58"
             ],
             [
              0.8888888888888888,
              "#b5de2b"
             ],
             [
              1,
              "#fde725"
             ]
            ],
            "type": "heatmapgl"
           }
          ],
          "histogram": [
           {
            "marker": {
             "line": {
              "color": "white",
              "width": 0.6
             }
            },
            "type": "histogram"
           }
          ],
          "histogram2d": [
           {
            "colorbar": {
             "outlinewidth": 1,
             "tickcolor": "rgb(36,36,36)",
             "ticks": "outside"
            },
            "colorscale": [
             [
              0,
              "#440154"
             ],
             [
              0.1111111111111111,
              "#482878"
             ],
             [
              0.2222222222222222,
              "#3e4989"
             ],
             [
              0.3333333333333333,
              "#31688e"
             ],
             [
              0.4444444444444444,
              "#26828e"
             ],
             [
              0.5555555555555556,
              "#1f9e89"
             ],
             [
              0.6666666666666666,
              "#35b779"
             ],
             [
              0.7777777777777778,
              "#6ece58"
             ],
             [
              0.8888888888888888,
              "#b5de2b"
             ],
             [
              1,
              "#fde725"
             ]
            ],
            "type": "histogram2d"
           }
          ],
          "histogram2dcontour": [
           {
            "colorbar": {
             "outlinewidth": 1,
             "tickcolor": "rgb(36,36,36)",
             "ticks": "outside"
            },
            "colorscale": [
             [
              0,
              "#440154"
             ],
             [
              0.1111111111111111,
              "#482878"
             ],
             [
              0.2222222222222222,
              "#3e4989"
             ],
             [
              0.3333333333333333,
              "#31688e"
             ],
             [
              0.4444444444444444,
              "#26828e"
             ],
             [
              0.5555555555555556,
              "#1f9e89"
             ],
             [
              0.6666666666666666,
              "#35b779"
             ],
             [
              0.7777777777777778,
              "#6ece58"
             ],
             [
              0.8888888888888888,
              "#b5de2b"
             ],
             [
              1,
              "#fde725"
             ]
            ],
            "type": "histogram2dcontour"
           }
          ],
          "mesh3d": [
           {
            "colorbar": {
             "outlinewidth": 1,
             "tickcolor": "rgb(36,36,36)",
             "ticks": "outside"
            },
            "type": "mesh3d"
           }
          ],
          "parcoords": [
           {
            "line": {
             "colorbar": {
              "outlinewidth": 1,
              "tickcolor": "rgb(36,36,36)",
              "ticks": "outside"
             }
            },
            "type": "parcoords"
           }
          ],
          "pie": [
           {
            "automargin": true,
            "type": "pie"
           }
          ],
          "scatter": [
           {
            "fillpattern": {
             "fillmode": "overlay",
             "size": 10,
             "solidity": 0.2
            },
            "type": "scatter"
           }
          ],
          "scatter3d": [
           {
            "line": {
             "colorbar": {
              "outlinewidth": 1,
              "tickcolor": "rgb(36,36,36)",
              "ticks": "outside"
             }
            },
            "marker": {
             "colorbar": {
              "outlinewidth": 1,
              "tickcolor": "rgb(36,36,36)",
              "ticks": "outside"
             }
            },
            "type": "scatter3d"
           }
          ],
          "scattercarpet": [
           {
            "marker": {
             "colorbar": {
              "outlinewidth": 1,
              "tickcolor": "rgb(36,36,36)",
              "ticks": "outside"
             }
            },
            "type": "scattercarpet"
           }
          ],
          "scattergeo": [
           {
            "marker": {
             "colorbar": {
              "outlinewidth": 1,
              "tickcolor": "rgb(36,36,36)",
              "ticks": "outside"
             }
            },
            "type": "scattergeo"
           }
          ],
          "scattergl": [
           {
            "marker": {
             "colorbar": {
              "outlinewidth": 1,
              "tickcolor": "rgb(36,36,36)",
              "ticks": "outside"
             }
            },
            "type": "scattergl"
           }
          ],
          "scattermapbox": [
           {
            "marker": {
             "colorbar": {
              "outlinewidth": 1,
              "tickcolor": "rgb(36,36,36)",
              "ticks": "outside"
             }
            },
            "type": "scattermapbox"
           }
          ],
          "scatterpolar": [
           {
            "marker": {
             "colorbar": {
              "outlinewidth": 1,
              "tickcolor": "rgb(36,36,36)",
              "ticks": "outside"
             }
            },
            "type": "scatterpolar"
           }
          ],
          "scatterpolargl": [
           {
            "marker": {
             "colorbar": {
              "outlinewidth": 1,
              "tickcolor": "rgb(36,36,36)",
              "ticks": "outside"
             }
            },
            "type": "scatterpolargl"
           }
          ],
          "scatterternary": [
           {
            "marker": {
             "colorbar": {
              "outlinewidth": 1,
              "tickcolor": "rgb(36,36,36)",
              "ticks": "outside"
             }
            },
            "type": "scatterternary"
           }
          ],
          "surface": [
           {
            "colorbar": {
             "outlinewidth": 1,
             "tickcolor": "rgb(36,36,36)",
             "ticks": "outside"
            },
            "colorscale": [
             [
              0,
              "#440154"
             ],
             [
              0.1111111111111111,
              "#482878"
             ],
             [
              0.2222222222222222,
              "#3e4989"
             ],
             [
              0.3333333333333333,
              "#31688e"
             ],
             [
              0.4444444444444444,
              "#26828e"
             ],
             [
              0.5555555555555556,
              "#1f9e89"
             ],
             [
              0.6666666666666666,
              "#35b779"
             ],
             [
              0.7777777777777778,
              "#6ece58"
             ],
             [
              0.8888888888888888,
              "#b5de2b"
             ],
             [
              1,
              "#fde725"
             ]
            ],
            "type": "surface"
           }
          ],
          "table": [
           {
            "cells": {
             "fill": {
              "color": "rgb(237,237,237)"
             },
             "line": {
              "color": "white"
             }
            },
            "header": {
             "fill": {
              "color": "rgb(217,217,217)"
             },
             "line": {
              "color": "white"
             }
            },
            "type": "table"
           }
          ]
         },
         "layout": {
          "annotationdefaults": {
           "arrowhead": 0,
           "arrowwidth": 1
          },
          "autotypenumbers": "strict",
          "coloraxis": {
           "colorbar": {
            "outlinewidth": 1,
            "tickcolor": "rgb(36,36,36)",
            "ticks": "outside"
           }
          },
          "colorscale": {
           "diverging": [
            [
             0,
             "rgb(103,0,31)"
            ],
            [
             0.1,
             "rgb(178,24,43)"
            ],
            [
             0.2,
             "rgb(214,96,77)"
            ],
            [
             0.3,
             "rgb(244,165,130)"
            ],
            [
             0.4,
             "rgb(253,219,199)"
            ],
            [
             0.5,
             "rgb(247,247,247)"
            ],
            [
             0.6,
             "rgb(209,229,240)"
            ],
            [
             0.7,
             "rgb(146,197,222)"
            ],
            [
             0.8,
             "rgb(67,147,195)"
            ],
            [
             0.9,
             "rgb(33,102,172)"
            ],
            [
             1,
             "rgb(5,48,97)"
            ]
           ],
           "sequential": [
            [
             0,
             "#440154"
            ],
            [
             0.1111111111111111,
             "#482878"
            ],
            [
             0.2222222222222222,
             "#3e4989"
            ],
            [
             0.3333333333333333,
             "#31688e"
            ],
            [
             0.4444444444444444,
             "#26828e"
            ],
            [
             0.5555555555555556,
             "#1f9e89"
            ],
            [
             0.6666666666666666,
             "#35b779"
            ],
            [
             0.7777777777777778,
             "#6ece58"
            ],
            [
             0.8888888888888888,
             "#b5de2b"
            ],
            [
             1,
             "#fde725"
            ]
           ],
           "sequentialminus": [
            [
             0,
             "#440154"
            ],
            [
             0.1111111111111111,
             "#482878"
            ],
            [
             0.2222222222222222,
             "#3e4989"
            ],
            [
             0.3333333333333333,
             "#31688e"
            ],
            [
             0.4444444444444444,
             "#26828e"
            ],
            [
             0.5555555555555556,
             "#1f9e89"
            ],
            [
             0.6666666666666666,
             "#35b779"
            ],
            [
             0.7777777777777778,
             "#6ece58"
            ],
            [
             0.8888888888888888,
             "#b5de2b"
            ],
            [
             1,
             "#fde725"
            ]
           ]
          },
          "colorway": [
           "#1F77B4",
           "#FF7F0E",
           "#2CA02C",
           "#D62728",
           "#9467BD",
           "#8C564B",
           "#E377C2",
           "#7F7F7F",
           "#BCBD22",
           "#17BECF"
          ],
          "font": {
           "color": "rgb(36,36,36)"
          },
          "geo": {
           "bgcolor": "white",
           "lakecolor": "white",
           "landcolor": "white",
           "showlakes": true,
           "showland": true,
           "subunitcolor": "white"
          },
          "hoverlabel": {
           "align": "left"
          },
          "hovermode": "closest",
          "mapbox": {
           "style": "light"
          },
          "paper_bgcolor": "white",
          "plot_bgcolor": "white",
          "polar": {
           "angularaxis": {
            "gridcolor": "rgb(232,232,232)",
            "linecolor": "rgb(36,36,36)",
            "showgrid": false,
            "showline": true,
            "ticks": "outside"
           },
           "bgcolor": "white",
           "radialaxis": {
            "gridcolor": "rgb(232,232,232)",
            "linecolor": "rgb(36,36,36)",
            "showgrid": false,
            "showline": true,
            "ticks": "outside"
           }
          },
          "scene": {
           "xaxis": {
            "backgroundcolor": "white",
            "gridcolor": "rgb(232,232,232)",
            "gridwidth": 2,
            "linecolor": "rgb(36,36,36)",
            "showbackground": true,
            "showgrid": false,
            "showline": true,
            "ticks": "outside",
            "zeroline": false,
            "zerolinecolor": "rgb(36,36,36)"
           },
           "yaxis": {
            "backgroundcolor": "white",
            "gridcolor": "rgb(232,232,232)",
            "gridwidth": 2,
            "linecolor": "rgb(36,36,36)",
            "showbackground": true,
            "showgrid": false,
            "showline": true,
            "ticks": "outside",
            "zeroline": false,
            "zerolinecolor": "rgb(36,36,36)"
           },
           "zaxis": {
            "backgroundcolor": "white",
            "gridcolor": "rgb(232,232,232)",
            "gridwidth": 2,
            "linecolor": "rgb(36,36,36)",
            "showbackground": true,
            "showgrid": false,
            "showline": true,
            "ticks": "outside",
            "zeroline": false,
            "zerolinecolor": "rgb(36,36,36)"
           }
          },
          "shapedefaults": {
           "fillcolor": "black",
           "line": {
            "width": 0
           },
           "opacity": 0.3
          },
          "ternary": {
           "aaxis": {
            "gridcolor": "rgb(232,232,232)",
            "linecolor": "rgb(36,36,36)",
            "showgrid": false,
            "showline": true,
            "ticks": "outside"
           },
           "baxis": {
            "gridcolor": "rgb(232,232,232)",
            "linecolor": "rgb(36,36,36)",
            "showgrid": false,
            "showline": true,
            "ticks": "outside"
           },
           "bgcolor": "white",
           "caxis": {
            "gridcolor": "rgb(232,232,232)",
            "linecolor": "rgb(36,36,36)",
            "showgrid": false,
            "showline": true,
            "ticks": "outside"
           }
          },
          "title": {
           "x": 0.05
          },
          "xaxis": {
           "automargin": true,
           "gridcolor": "rgb(232,232,232)",
           "linecolor": "rgb(36,36,36)",
           "showgrid": false,
           "showline": true,
           "ticks": "outside",
           "title": {
            "standoff": 15
           },
           "zeroline": false,
           "zerolinecolor": "rgb(36,36,36)"
          },
          "yaxis": {
           "automargin": true,
           "gridcolor": "rgb(232,232,232)",
           "linecolor": "rgb(36,36,36)",
           "showgrid": false,
           "showline": true,
           "ticks": "outside",
           "title": {
            "standoff": 15
           },
           "zeroline": false,
           "zerolinecolor": "rgb(36,36,36)"
          }
         }
        },
        "title": {
         "font": {
          "color": "#ff7f00",
          "family": "Arial Bold Italic",
          "size": 15
         },
         "text": "Resultaten Bahrein"
        },
        "width": 960,
        "xaxis": {
         "anchor": "y",
         "domain": [
          0,
          1
         ],
         "title": {
          "text": "Teams"
         }
        },
        "yaxis": {
         "anchor": "x",
         "domain": [
          0,
          1
         ],
         "showgrid": true,
         "title": {
          "text": "Punten"
         }
        }
       }
      },
      "text/html": [
       "<div>                            <div id=\"9ae7b0cd-e81a-472b-a46c-26f11fc9b2d6\" class=\"plotly-graph-div\" style=\"height:400px; width:960px;\"></div>            <script type=\"text/javascript\">                require([\"plotly\"], function(Plotly) {                    window.PLOTLYENV=window.PLOTLYENV || {};                                    if (document.getElementById(\"9ae7b0cd-e81a-472b-a46c-26f11fc9b2d6\")) {                    Plotly.newPlot(                        \"9ae7b0cd-e81a-472b-a46c-26f11fc9b2d6\",                        [{\"alignmentgroup\":\"True\",\"bingroup\":\"x\",\"histfunc\":\"sum\",\"hovertemplate\":\"Coureur 1<br>Punten = %{y}<extra></extra>\",\"legendgroup\":\"coureur1\",\"marker\":{\"color\":\"#1F77B4\",\"pattern\":{\"shape\":\"\"}},\"name\":\"Coureur 1\",\"offsetgroup\":\"coureur1\",\"orientation\":\"v\",\"showlegend\":true,\"x\":[\"Arjan T.\",\"Arjan Z.\",\"Casper\",\"Charlotte\",\"Chiel\",\"Corine\",\"Emily\",\"Erik\",\"Erwin\",\"Grietje\",\"Hans\",\"Isolde\",\"Jordi\",\"Kitty\",\"Marco\",\"Mees\",\"Michiel\",\"Niels\",\"Raymond\",\"Rodi\",\"Stan\",\"Wietse\"],\"xaxis\":\"x\",\"y\":[0.0,0.0,5.0,9.0,7.5,9.0,6.0,6.0,0.0,0.0,5.0,0.0,0.0,5.0,3.0,3.0,9.0,0.0,9.0,0.0,0.0,0.0],\"yaxis\":\"y\",\"type\":\"histogram\"},{\"alignmentgroup\":\"True\",\"bingroup\":\"x\",\"histfunc\":\"sum\",\"hovertemplate\":\"Coureur 2<br>Punten = %{y}<extra></extra>\",\"legendgroup\":\"motor\",\"marker\":{\"color\":\"#FF7F0E\",\"pattern\":{\"shape\":\"\"}},\"name\":\"Coureur 2\",\"offsetgroup\":\"motor\",\"orientation\":\"v\",\"showlegend\":true,\"x\":[\"Arjan T.\",\"Arjan Z.\",\"Casper\",\"Charlotte\",\"Chiel\",\"Corine\",\"Emily\",\"Erik\",\"Erwin\",\"Grietje\",\"Hans\",\"Isolde\",\"Jordi\",\"Kitty\",\"Marco\",\"Mees\",\"Michiel\",\"Niels\",\"Raymond\",\"Rodi\",\"Stan\",\"Wietse\"],\"xaxis\":\"x\",\"y\":[6.45,3.0,6.45,1.5999999999999999,1.5999999999999999,6.45,3.0,6.45,6.45,3.0,1.5999999999999999,1.5999999999999999,1.5999999999999999,1.5999999999999999,6.45,3.0,1.5999999999999999,6.45,1.5999999999999999,3.0,3.0,0.6],\"yaxis\":\"y\",\"type\":\"histogram\"},{\"alignmentgroup\":\"True\",\"bingroup\":\"x\",\"histfunc\":\"sum\",\"hovertemplate\":\"Chassis<br>Punten = %{y}<extra></extra>\",\"legendgroup\":\"chassis\",\"marker\":{\"color\":\"#2CA02C\",\"pattern\":{\"shape\":\"\"}},\"name\":\"Chassis\",\"offsetgroup\":\"chassis\",\"orientation\":\"v\",\"showlegend\":true,\"x\":[\"Arjan T.\",\"Arjan Z.\",\"Casper\",\"Charlotte\",\"Chiel\",\"Corine\",\"Emily\",\"Erik\",\"Erwin\",\"Grietje\",\"Hans\",\"Isolde\",\"Jordi\",\"Kitty\",\"Marco\",\"Mees\",\"Michiel\",\"Niels\",\"Raymond\",\"Rodi\",\"Stan\",\"Wietse\"],\"xaxis\":\"x\",\"y\":[0.0,0.0,0.8,0.4,8.6,4.6000000000000005,0.0,4.6000000000000005,0.4,8.6,0.0,0.0,0.0,0.4,4.6000000000000005,0.4,0.0,3.2,0.4,0.4,0.8,0.0],\"yaxis\":\"y\",\"type\":\"histogram\"},{\"alignmentgroup\":\"True\",\"bingroup\":\"x\",\"histfunc\":\"sum\",\"hovertemplate\":\"Motor<br>Punten = %{y}<extra></extra>\",\"legendgroup\":\"coureur2\",\"marker\":{\"color\":\"#D62728\",\"pattern\":{\"shape\":\"\"}},\"name\":\"Motor\",\"offsetgroup\":\"coureur2\",\"orientation\":\"v\",\"showlegend\":true,\"x\":[\"Arjan T.\",\"Arjan Z.\",\"Casper\",\"Charlotte\",\"Chiel\",\"Corine\",\"Emily\",\"Erik\",\"Erwin\",\"Grietje\",\"Hans\",\"Isolde\",\"Jordi\",\"Kitty\",\"Marco\",\"Mees\",\"Michiel\",\"Niels\",\"Raymond\",\"Rodi\",\"Stan\",\"Wietse\"],\"xaxis\":\"x\",\"y\":[5.0,5.0,7.5,0.0,4.0,0.5,0.0,0.0,0.0,0.0,1.0,0.0,0.0,0.0,7.5,0.0,0.0,7.5,7.5,5.0,3.0,1.0],\"yaxis\":\"y\",\"type\":\"histogram\"}],                        {\"template\":{\"data\":{\"barpolar\":[{\"marker\":{\"line\":{\"color\":\"white\",\"width\":0.5},\"pattern\":{\"fillmode\":\"overlay\",\"size\":10,\"solidity\":0.2}},\"type\":\"barpolar\"}],\"bar\":[{\"error_x\":{\"color\":\"rgb(36,36,36)\"},\"error_y\":{\"color\":\"rgb(36,36,36)\"},\"marker\":{\"line\":{\"color\":\"white\",\"width\":0.5},\"pattern\":{\"fillmode\":\"overlay\",\"size\":10,\"solidity\":0.2}},\"type\":\"bar\"}],\"carpet\":[{\"aaxis\":{\"endlinecolor\":\"rgb(36,36,36)\",\"gridcolor\":\"white\",\"linecolor\":\"white\",\"minorgridcolor\":\"white\",\"startlinecolor\":\"rgb(36,36,36)\"},\"baxis\":{\"endlinecolor\":\"rgb(36,36,36)\",\"gridcolor\":\"white\",\"linecolor\":\"white\",\"minorgridcolor\":\"white\",\"startlinecolor\":\"rgb(36,36,36)\"},\"type\":\"carpet\"}],\"choropleth\":[{\"colorbar\":{\"outlinewidth\":1,\"tickcolor\":\"rgb(36,36,36)\",\"ticks\":\"outside\"},\"type\":\"choropleth\"}],\"contourcarpet\":[{\"colorbar\":{\"outlinewidth\":1,\"tickcolor\":\"rgb(36,36,36)\",\"ticks\":\"outside\"},\"type\":\"contourcarpet\"}],\"contour\":[{\"colorbar\":{\"outlinewidth\":1,\"tickcolor\":\"rgb(36,36,36)\",\"ticks\":\"outside\"},\"colorscale\":[[0.0,\"#440154\"],[0.1111111111111111,\"#482878\"],[0.2222222222222222,\"#3e4989\"],[0.3333333333333333,\"#31688e\"],[0.4444444444444444,\"#26828e\"],[0.5555555555555556,\"#1f9e89\"],[0.6666666666666666,\"#35b779\"],[0.7777777777777778,\"#6ece58\"],[0.8888888888888888,\"#b5de2b\"],[1.0,\"#fde725\"]],\"type\":\"contour\"}],\"heatmapgl\":[{\"colorbar\":{\"outlinewidth\":1,\"tickcolor\":\"rgb(36,36,36)\",\"ticks\":\"outside\"},\"colorscale\":[[0.0,\"#440154\"],[0.1111111111111111,\"#482878\"],[0.2222222222222222,\"#3e4989\"],[0.3333333333333333,\"#31688e\"],[0.4444444444444444,\"#26828e\"],[0.5555555555555556,\"#1f9e89\"],[0.6666666666666666,\"#35b779\"],[0.7777777777777778,\"#6ece58\"],[0.8888888888888888,\"#b5de2b\"],[1.0,\"#fde725\"]],\"type\":\"heatmapgl\"}],\"heatmap\":[{\"colorbar\":{\"outlinewidth\":1,\"tickcolor\":\"rgb(36,36,36)\",\"ticks\":\"outside\"},\"colorscale\":[[0.0,\"#440154\"],[0.1111111111111111,\"#482878\"],[0.2222222222222222,\"#3e4989\"],[0.3333333333333333,\"#31688e\"],[0.4444444444444444,\"#26828e\"],[0.5555555555555556,\"#1f9e89\"],[0.6666666666666666,\"#35b779\"],[0.7777777777777778,\"#6ece58\"],[0.8888888888888888,\"#b5de2b\"],[1.0,\"#fde725\"]],\"type\":\"heatmap\"}],\"histogram2dcontour\":[{\"colorbar\":{\"outlinewidth\":1,\"tickcolor\":\"rgb(36,36,36)\",\"ticks\":\"outside\"},\"colorscale\":[[0.0,\"#440154\"],[0.1111111111111111,\"#482878\"],[0.2222222222222222,\"#3e4989\"],[0.3333333333333333,\"#31688e\"],[0.4444444444444444,\"#26828e\"],[0.5555555555555556,\"#1f9e89\"],[0.6666666666666666,\"#35b779\"],[0.7777777777777778,\"#6ece58\"],[0.8888888888888888,\"#b5de2b\"],[1.0,\"#fde725\"]],\"type\":\"histogram2dcontour\"}],\"histogram2d\":[{\"colorbar\":{\"outlinewidth\":1,\"tickcolor\":\"rgb(36,36,36)\",\"ticks\":\"outside\"},\"colorscale\":[[0.0,\"#440154\"],[0.1111111111111111,\"#482878\"],[0.2222222222222222,\"#3e4989\"],[0.3333333333333333,\"#31688e\"],[0.4444444444444444,\"#26828e\"],[0.5555555555555556,\"#1f9e89\"],[0.6666666666666666,\"#35b779\"],[0.7777777777777778,\"#6ece58\"],[0.8888888888888888,\"#b5de2b\"],[1.0,\"#fde725\"]],\"type\":\"histogram2d\"}],\"histogram\":[{\"marker\":{\"line\":{\"color\":\"white\",\"width\":0.6}},\"type\":\"histogram\"}],\"mesh3d\":[{\"colorbar\":{\"outlinewidth\":1,\"tickcolor\":\"rgb(36,36,36)\",\"ticks\":\"outside\"},\"type\":\"mesh3d\"}],\"parcoords\":[{\"line\":{\"colorbar\":{\"outlinewidth\":1,\"tickcolor\":\"rgb(36,36,36)\",\"ticks\":\"outside\"}},\"type\":\"parcoords\"}],\"pie\":[{\"automargin\":true,\"type\":\"pie\"}],\"scatter3d\":[{\"line\":{\"colorbar\":{\"outlinewidth\":1,\"tickcolor\":\"rgb(36,36,36)\",\"ticks\":\"outside\"}},\"marker\":{\"colorbar\":{\"outlinewidth\":1,\"tickcolor\":\"rgb(36,36,36)\",\"ticks\":\"outside\"}},\"type\":\"scatter3d\"}],\"scattercarpet\":[{\"marker\":{\"colorbar\":{\"outlinewidth\":1,\"tickcolor\":\"rgb(36,36,36)\",\"ticks\":\"outside\"}},\"type\":\"scattercarpet\"}],\"scattergeo\":[{\"marker\":{\"colorbar\":{\"outlinewidth\":1,\"tickcolor\":\"rgb(36,36,36)\",\"ticks\":\"outside\"}},\"type\":\"scattergeo\"}],\"scattergl\":[{\"marker\":{\"colorbar\":{\"outlinewidth\":1,\"tickcolor\":\"rgb(36,36,36)\",\"ticks\":\"outside\"}},\"type\":\"scattergl\"}],\"scattermapbox\":[{\"marker\":{\"colorbar\":{\"outlinewidth\":1,\"tickcolor\":\"rgb(36,36,36)\",\"ticks\":\"outside\"}},\"type\":\"scattermapbox\"}],\"scatterpolargl\":[{\"marker\":{\"colorbar\":{\"outlinewidth\":1,\"tickcolor\":\"rgb(36,36,36)\",\"ticks\":\"outside\"}},\"type\":\"scatterpolargl\"}],\"scatterpolar\":[{\"marker\":{\"colorbar\":{\"outlinewidth\":1,\"tickcolor\":\"rgb(36,36,36)\",\"ticks\":\"outside\"}},\"type\":\"scatterpolar\"}],\"scatter\":[{\"fillpattern\":{\"fillmode\":\"overlay\",\"size\":10,\"solidity\":0.2},\"type\":\"scatter\"}],\"scatterternary\":[{\"marker\":{\"colorbar\":{\"outlinewidth\":1,\"tickcolor\":\"rgb(36,36,36)\",\"ticks\":\"outside\"}},\"type\":\"scatterternary\"}],\"surface\":[{\"colorbar\":{\"outlinewidth\":1,\"tickcolor\":\"rgb(36,36,36)\",\"ticks\":\"outside\"},\"colorscale\":[[0.0,\"#440154\"],[0.1111111111111111,\"#482878\"],[0.2222222222222222,\"#3e4989\"],[0.3333333333333333,\"#31688e\"],[0.4444444444444444,\"#26828e\"],[0.5555555555555556,\"#1f9e89\"],[0.6666666666666666,\"#35b779\"],[0.7777777777777778,\"#6ece58\"],[0.8888888888888888,\"#b5de2b\"],[1.0,\"#fde725\"]],\"type\":\"surface\"}],\"table\":[{\"cells\":{\"fill\":{\"color\":\"rgb(237,237,237)\"},\"line\":{\"color\":\"white\"}},\"header\":{\"fill\":{\"color\":\"rgb(217,217,217)\"},\"line\":{\"color\":\"white\"}},\"type\":\"table\"}]},\"layout\":{\"annotationdefaults\":{\"arrowhead\":0,\"arrowwidth\":1},\"autotypenumbers\":\"strict\",\"coloraxis\":{\"colorbar\":{\"outlinewidth\":1,\"tickcolor\":\"rgb(36,36,36)\",\"ticks\":\"outside\"}},\"colorscale\":{\"diverging\":[[0.0,\"rgb(103,0,31)\"],[0.1,\"rgb(178,24,43)\"],[0.2,\"rgb(214,96,77)\"],[0.3,\"rgb(244,165,130)\"],[0.4,\"rgb(253,219,199)\"],[0.5,\"rgb(247,247,247)\"],[0.6,\"rgb(209,229,240)\"],[0.7,\"rgb(146,197,222)\"],[0.8,\"rgb(67,147,195)\"],[0.9,\"rgb(33,102,172)\"],[1.0,\"rgb(5,48,97)\"]],\"sequential\":[[0.0,\"#440154\"],[0.1111111111111111,\"#482878\"],[0.2222222222222222,\"#3e4989\"],[0.3333333333333333,\"#31688e\"],[0.4444444444444444,\"#26828e\"],[0.5555555555555556,\"#1f9e89\"],[0.6666666666666666,\"#35b779\"],[0.7777777777777778,\"#6ece58\"],[0.8888888888888888,\"#b5de2b\"],[1.0,\"#fde725\"]],\"sequentialminus\":[[0.0,\"#440154\"],[0.1111111111111111,\"#482878\"],[0.2222222222222222,\"#3e4989\"],[0.3333333333333333,\"#31688e\"],[0.4444444444444444,\"#26828e\"],[0.5555555555555556,\"#1f9e89\"],[0.6666666666666666,\"#35b779\"],[0.7777777777777778,\"#6ece58\"],[0.8888888888888888,\"#b5de2b\"],[1.0,\"#fde725\"]]},\"colorway\":[\"#1F77B4\",\"#FF7F0E\",\"#2CA02C\",\"#D62728\",\"#9467BD\",\"#8C564B\",\"#E377C2\",\"#7F7F7F\",\"#BCBD22\",\"#17BECF\"],\"font\":{\"color\":\"rgb(36,36,36)\"},\"geo\":{\"bgcolor\":\"white\",\"lakecolor\":\"white\",\"landcolor\":\"white\",\"showlakes\":true,\"showland\":true,\"subunitcolor\":\"white\"},\"hoverlabel\":{\"align\":\"left\"},\"hovermode\":\"closest\",\"mapbox\":{\"style\":\"light\"},\"paper_bgcolor\":\"white\",\"plot_bgcolor\":\"white\",\"polar\":{\"angularaxis\":{\"gridcolor\":\"rgb(232,232,232)\",\"linecolor\":\"rgb(36,36,36)\",\"showgrid\":false,\"showline\":true,\"ticks\":\"outside\"},\"bgcolor\":\"white\",\"radialaxis\":{\"gridcolor\":\"rgb(232,232,232)\",\"linecolor\":\"rgb(36,36,36)\",\"showgrid\":false,\"showline\":true,\"ticks\":\"outside\"}},\"scene\":{\"xaxis\":{\"backgroundcolor\":\"white\",\"gridcolor\":\"rgb(232,232,232)\",\"gridwidth\":2,\"linecolor\":\"rgb(36,36,36)\",\"showbackground\":true,\"showgrid\":false,\"showline\":true,\"ticks\":\"outside\",\"zeroline\":false,\"zerolinecolor\":\"rgb(36,36,36)\"},\"yaxis\":{\"backgroundcolor\":\"white\",\"gridcolor\":\"rgb(232,232,232)\",\"gridwidth\":2,\"linecolor\":\"rgb(36,36,36)\",\"showbackground\":true,\"showgrid\":false,\"showline\":true,\"ticks\":\"outside\",\"zeroline\":false,\"zerolinecolor\":\"rgb(36,36,36)\"},\"zaxis\":{\"backgroundcolor\":\"white\",\"gridcolor\":\"rgb(232,232,232)\",\"gridwidth\":2,\"linecolor\":\"rgb(36,36,36)\",\"showbackground\":true,\"showgrid\":false,\"showline\":true,\"ticks\":\"outside\",\"zeroline\":false,\"zerolinecolor\":\"rgb(36,36,36)\"}},\"shapedefaults\":{\"fillcolor\":\"black\",\"line\":{\"width\":0},\"opacity\":0.3},\"ternary\":{\"aaxis\":{\"gridcolor\":\"rgb(232,232,232)\",\"linecolor\":\"rgb(36,36,36)\",\"showgrid\":false,\"showline\":true,\"ticks\":\"outside\"},\"baxis\":{\"gridcolor\":\"rgb(232,232,232)\",\"linecolor\":\"rgb(36,36,36)\",\"showgrid\":false,\"showline\":true,\"ticks\":\"outside\"},\"bgcolor\":\"white\",\"caxis\":{\"gridcolor\":\"rgb(232,232,232)\",\"linecolor\":\"rgb(36,36,36)\",\"showgrid\":false,\"showline\":true,\"ticks\":\"outside\"}},\"title\":{\"x\":0.05},\"xaxis\":{\"automargin\":true,\"gridcolor\":\"rgb(232,232,232)\",\"linecolor\":\"rgb(36,36,36)\",\"showgrid\":false,\"showline\":true,\"ticks\":\"outside\",\"title\":{\"standoff\":15},\"zeroline\":false,\"zerolinecolor\":\"rgb(36,36,36)\"},\"yaxis\":{\"automargin\":true,\"gridcolor\":\"rgb(232,232,232)\",\"linecolor\":\"rgb(36,36,36)\",\"showgrid\":false,\"showline\":true,\"ticks\":\"outside\",\"title\":{\"standoff\":15},\"zeroline\":false,\"zerolinecolor\":\"rgb(36,36,36)\"}}},\"xaxis\":{\"anchor\":\"y\",\"domain\":[0.0,1.0],\"title\":{\"text\":\"Teams\"}},\"yaxis\":{\"anchor\":\"x\",\"domain\":[0.0,1.0],\"title\":{\"text\":\"Punten\"},\"showgrid\":true},\"legend\":{\"title\":{\"text\":\"Categorie\"},\"tracegroupgap\":0},\"title\":{\"text\":\"Resultaten Bahrein\",\"font\":{\"color\":\"#ff7f00\",\"size\":15,\"family\":\"Arial Bold Italic\"}},\"barmode\":\"relative\",\"height\":400,\"width\":960,\"plot_bgcolor\":\"rgba(224, 224, 224, 1)\",\"paper_bgcolor\":\"rgba(224, 224, 224, 1)\",\"font\":{\"size\":11}},                        {\"responsive\": true}                    ).then(function(){\n",
       "                            \n",
       "var gd = document.getElementById('9ae7b0cd-e81a-472b-a46c-26f11fc9b2d6');\n",
       "var x = new MutationObserver(function (mutations, observer) {{\n",
       "        var display = window.getComputedStyle(gd).display;\n",
       "        if (!display || display === 'none') {{\n",
       "            console.log([gd, 'removed!']);\n",
       "            Plotly.purge(gd);\n",
       "            observer.disconnect();\n",
       "        }}\n",
       "}});\n",
       "\n",
       "// Listen for the removal of the full notebook cells\n",
       "var notebookContainer = gd.closest('#notebook-container');\n",
       "if (notebookContainer) {{\n",
       "    x.observe(notebookContainer, {childList: true});\n",
       "}}\n",
       "\n",
       "// Listen for the clearing of the current output cell\n",
       "var outputEl = gd.closest('.output');\n",
       "if (outputEl) {{\n",
       "    x.observe(outputEl, {childList: true});\n",
       "}}\n",
       "\n",
       "                        })                };                });            </script>        </div>"
      ]
     },
     "metadata": {},
     "output_type": "display_data"
    },
    {
     "data": {
      "application/vnd.plotly.v1+json": {
       "config": {
        "plotlyServerURL": "https://plot.ly"
       },
       "data": [
        {
         "alignmentgroup": "True",
         "bingroup": "x",
         "histfunc": "sum",
         "hovertemplate": "Coureur 1<br>Punten = %{y}<extra></extra>",
         "legendgroup": "coureur1",
         "marker": {
          "color": "#1F77B4",
          "pattern": {
           "shape": ""
          }
         },
         "name": "Coureur 1",
         "offsetgroup": "coureur1",
         "orientation": "v",
         "showlegend": true,
         "type": "histogram",
         "x": [
          "Arjan T.",
          "Arjan Z.",
          "Casper",
          "Charlotte",
          "Chiel",
          "Corine",
          "Emily",
          "Erik",
          "Erwin",
          "Grietje",
          "Hans",
          "Isolde",
          "Jordi",
          "Kitty",
          "Marco",
          "Mees",
          "Michiel",
          "Niels",
          "Raymond",
          "Rodi",
          "Stan",
          "Wietse"
         ],
         "xaxis": "x",
         "y": [
          0,
          0,
          5,
          12.5,
          7.5,
          12.5,
          4,
          4,
          3,
          0,
          5,
          3,
          3,
          5,
          6,
          6,
          12.5,
          2,
          12.5,
          0,
          0,
          3
         ],
         "yaxis": "y"
        },
        {
         "alignmentgroup": "True",
         "bingroup": "x",
         "histfunc": "sum",
         "hovertemplate": "Coureur 2<br>Punten = %{y}<extra></extra>",
         "legendgroup": "motor",
         "marker": {
          "color": "#FF7F0E",
          "pattern": {
           "shape": ""
          }
         },
         "name": "Coureur 2",
         "offsetgroup": "motor",
         "orientation": "v",
         "showlegend": true,
         "type": "histogram",
         "x": [
          "Arjan T.",
          "Arjan Z.",
          "Casper",
          "Charlotte",
          "Chiel",
          "Corine",
          "Emily",
          "Erik",
          "Erwin",
          "Grietje",
          "Hans",
          "Isolde",
          "Jordi",
          "Kitty",
          "Marco",
          "Mees",
          "Michiel",
          "Niels",
          "Raymond",
          "Rodi",
          "Stan",
          "Wietse"
         ],
         "xaxis": "x",
         "y": [
          6.6,
          2.775,
          6.6,
          1.5,
          1.5,
          6.6,
          2.775,
          6.6,
          6.6,
          2.775,
          1.5,
          1.5,
          1.5,
          1.5,
          6.6,
          2.775,
          1.5,
          6.6,
          1.5,
          2.775,
          2.775,
          1.7999999999999998
         ],
         "yaxis": "y"
        },
        {
         "alignmentgroup": "True",
         "bingroup": "x",
         "histfunc": "sum",
         "hovertemplate": "Chassis<br>Punten = %{y}<extra></extra>",
         "legendgroup": "chassis",
         "marker": {
          "color": "#2CA02C",
          "pattern": {
           "shape": ""
          }
         },
         "name": "Chassis",
         "offsetgroup": "chassis",
         "orientation": "v",
         "showlegend": true,
         "type": "histogram",
         "x": [
          "Arjan T.",
          "Arjan Z.",
          "Casper",
          "Charlotte",
          "Chiel",
          "Corine",
          "Emily",
          "Erik",
          "Erwin",
          "Grietje",
          "Hans",
          "Isolde",
          "Jordi",
          "Kitty",
          "Marco",
          "Mees",
          "Michiel",
          "Niels",
          "Raymond",
          "Rodi",
          "Stan",
          "Wietse"
         ],
         "xaxis": "x",
         "y": [
          0,
          0,
          0,
          1.2000000000000002,
          8.8,
          3,
          0,
          3,
          1.2000000000000002,
          8.8,
          0,
          0,
          0,
          1.2000000000000002,
          3,
          1.2000000000000002,
          0,
          4.4,
          1.2000000000000002,
          1.2000000000000002,
          0,
          0.2
         ],
         "yaxis": "y"
        },
        {
         "alignmentgroup": "True",
         "bingroup": "x",
         "histfunc": "sum",
         "hovertemplate": "Motor<br>Punten = %{y}<extra></extra>",
         "legendgroup": "coureur2",
         "marker": {
          "color": "#D62728",
          "pattern": {
           "shape": ""
          }
         },
         "name": "Motor",
         "offsetgroup": "coureur2",
         "orientation": "v",
         "showlegend": true,
         "type": "histogram",
         "x": [
          "Arjan T.",
          "Arjan Z.",
          "Casper",
          "Charlotte",
          "Chiel",
          "Corine",
          "Emily",
          "Erik",
          "Erwin",
          "Grietje",
          "Hans",
          "Isolde",
          "Jordi",
          "Kitty",
          "Marco",
          "Mees",
          "Michiel",
          "Niels",
          "Raymond",
          "Rodi",
          "Stan",
          "Wietse"
         ],
         "xaxis": "x",
         "y": [
          5,
          5,
          7.5,
          0,
          0,
          0,
          0,
          0,
          0,
          0,
          1,
          0,
          0,
          2,
          7.5,
          2,
          0,
          7.5,
          7.5,
          5,
          6,
          1
         ],
         "yaxis": "y"
        }
       ],
       "layout": {
        "barmode": "relative",
        "font": {
         "size": 11
        },
        "height": 400,
        "legend": {
         "title": {
          "text": "Categorie"
         },
         "tracegroupgap": 0
        },
        "paper_bgcolor": "rgba(224, 224, 224, 1)",
        "plot_bgcolor": "rgba(224, 224, 224, 1)",
        "template": {
         "data": {
          "bar": [
           {
            "error_x": {
             "color": "rgb(36,36,36)"
            },
            "error_y": {
             "color": "rgb(36,36,36)"
            },
            "marker": {
             "line": {
              "color": "white",
              "width": 0.5
             },
             "pattern": {
              "fillmode": "overlay",
              "size": 10,
              "solidity": 0.2
             }
            },
            "type": "bar"
           }
          ],
          "barpolar": [
           {
            "marker": {
             "line": {
              "color": "white",
              "width": 0.5
             },
             "pattern": {
              "fillmode": "overlay",
              "size": 10,
              "solidity": 0.2
             }
            },
            "type": "barpolar"
           }
          ],
          "carpet": [
           {
            "aaxis": {
             "endlinecolor": "rgb(36,36,36)",
             "gridcolor": "white",
             "linecolor": "white",
             "minorgridcolor": "white",
             "startlinecolor": "rgb(36,36,36)"
            },
            "baxis": {
             "endlinecolor": "rgb(36,36,36)",
             "gridcolor": "white",
             "linecolor": "white",
             "minorgridcolor": "white",
             "startlinecolor": "rgb(36,36,36)"
            },
            "type": "carpet"
           }
          ],
          "choropleth": [
           {
            "colorbar": {
             "outlinewidth": 1,
             "tickcolor": "rgb(36,36,36)",
             "ticks": "outside"
            },
            "type": "choropleth"
           }
          ],
          "contour": [
           {
            "colorbar": {
             "outlinewidth": 1,
             "tickcolor": "rgb(36,36,36)",
             "ticks": "outside"
            },
            "colorscale": [
             [
              0,
              "#440154"
             ],
             [
              0.1111111111111111,
              "#482878"
             ],
             [
              0.2222222222222222,
              "#3e4989"
             ],
             [
              0.3333333333333333,
              "#31688e"
             ],
             [
              0.4444444444444444,
              "#26828e"
             ],
             [
              0.5555555555555556,
              "#1f9e89"
             ],
             [
              0.6666666666666666,
              "#35b779"
             ],
             [
              0.7777777777777778,
              "#6ece58"
             ],
             [
              0.8888888888888888,
              "#b5de2b"
             ],
             [
              1,
              "#fde725"
             ]
            ],
            "type": "contour"
           }
          ],
          "contourcarpet": [
           {
            "colorbar": {
             "outlinewidth": 1,
             "tickcolor": "rgb(36,36,36)",
             "ticks": "outside"
            },
            "type": "contourcarpet"
           }
          ],
          "heatmap": [
           {
            "colorbar": {
             "outlinewidth": 1,
             "tickcolor": "rgb(36,36,36)",
             "ticks": "outside"
            },
            "colorscale": [
             [
              0,
              "#440154"
             ],
             [
              0.1111111111111111,
              "#482878"
             ],
             [
              0.2222222222222222,
              "#3e4989"
             ],
             [
              0.3333333333333333,
              "#31688e"
             ],
             [
              0.4444444444444444,
              "#26828e"
             ],
             [
              0.5555555555555556,
              "#1f9e89"
             ],
             [
              0.6666666666666666,
              "#35b779"
             ],
             [
              0.7777777777777778,
              "#6ece58"
             ],
             [
              0.8888888888888888,
              "#b5de2b"
             ],
             [
              1,
              "#fde725"
             ]
            ],
            "type": "heatmap"
           }
          ],
          "heatmapgl": [
           {
            "colorbar": {
             "outlinewidth": 1,
             "tickcolor": "rgb(36,36,36)",
             "ticks": "outside"
            },
            "colorscale": [
             [
              0,
              "#440154"
             ],
             [
              0.1111111111111111,
              "#482878"
             ],
             [
              0.2222222222222222,
              "#3e4989"
             ],
             [
              0.3333333333333333,
              "#31688e"
             ],
             [
              0.4444444444444444,
              "#26828e"
             ],
             [
              0.5555555555555556,
              "#1f9e89"
             ],
             [
              0.6666666666666666,
              "#35b779"
             ],
             [
              0.7777777777777778,
              "#6ece58"
             ],
             [
              0.8888888888888888,
              "#b5de2b"
             ],
             [
              1,
              "#fde725"
             ]
            ],
            "type": "heatmapgl"
           }
          ],
          "histogram": [
           {
            "marker": {
             "line": {
              "color": "white",
              "width": 0.6
             }
            },
            "type": "histogram"
           }
          ],
          "histogram2d": [
           {
            "colorbar": {
             "outlinewidth": 1,
             "tickcolor": "rgb(36,36,36)",
             "ticks": "outside"
            },
            "colorscale": [
             [
              0,
              "#440154"
             ],
             [
              0.1111111111111111,
              "#482878"
             ],
             [
              0.2222222222222222,
              "#3e4989"
             ],
             [
              0.3333333333333333,
              "#31688e"
             ],
             [
              0.4444444444444444,
              "#26828e"
             ],
             [
              0.5555555555555556,
              "#1f9e89"
             ],
             [
              0.6666666666666666,
              "#35b779"
             ],
             [
              0.7777777777777778,
              "#6ece58"
             ],
             [
              0.8888888888888888,
              "#b5de2b"
             ],
             [
              1,
              "#fde725"
             ]
            ],
            "type": "histogram2d"
           }
          ],
          "histogram2dcontour": [
           {
            "colorbar": {
             "outlinewidth": 1,
             "tickcolor": "rgb(36,36,36)",
             "ticks": "outside"
            },
            "colorscale": [
             [
              0,
              "#440154"
             ],
             [
              0.1111111111111111,
              "#482878"
             ],
             [
              0.2222222222222222,
              "#3e4989"
             ],
             [
              0.3333333333333333,
              "#31688e"
             ],
             [
              0.4444444444444444,
              "#26828e"
             ],
             [
              0.5555555555555556,
              "#1f9e89"
             ],
             [
              0.6666666666666666,
              "#35b779"
             ],
             [
              0.7777777777777778,
              "#6ece58"
             ],
             [
              0.8888888888888888,
              "#b5de2b"
             ],
             [
              1,
              "#fde725"
             ]
            ],
            "type": "histogram2dcontour"
           }
          ],
          "mesh3d": [
           {
            "colorbar": {
             "outlinewidth": 1,
             "tickcolor": "rgb(36,36,36)",
             "ticks": "outside"
            },
            "type": "mesh3d"
           }
          ],
          "parcoords": [
           {
            "line": {
             "colorbar": {
              "outlinewidth": 1,
              "tickcolor": "rgb(36,36,36)",
              "ticks": "outside"
             }
            },
            "type": "parcoords"
           }
          ],
          "pie": [
           {
            "automargin": true,
            "type": "pie"
           }
          ],
          "scatter": [
           {
            "fillpattern": {
             "fillmode": "overlay",
             "size": 10,
             "solidity": 0.2
            },
            "type": "scatter"
           }
          ],
          "scatter3d": [
           {
            "line": {
             "colorbar": {
              "outlinewidth": 1,
              "tickcolor": "rgb(36,36,36)",
              "ticks": "outside"
             }
            },
            "marker": {
             "colorbar": {
              "outlinewidth": 1,
              "tickcolor": "rgb(36,36,36)",
              "ticks": "outside"
             }
            },
            "type": "scatter3d"
           }
          ],
          "scattercarpet": [
           {
            "marker": {
             "colorbar": {
              "outlinewidth": 1,
              "tickcolor": "rgb(36,36,36)",
              "ticks": "outside"
             }
            },
            "type": "scattercarpet"
           }
          ],
          "scattergeo": [
           {
            "marker": {
             "colorbar": {
              "outlinewidth": 1,
              "tickcolor": "rgb(36,36,36)",
              "ticks": "outside"
             }
            },
            "type": "scattergeo"
           }
          ],
          "scattergl": [
           {
            "marker": {
             "colorbar": {
              "outlinewidth": 1,
              "tickcolor": "rgb(36,36,36)",
              "ticks": "outside"
             }
            },
            "type": "scattergl"
           }
          ],
          "scattermapbox": [
           {
            "marker": {
             "colorbar": {
              "outlinewidth": 1,
              "tickcolor": "rgb(36,36,36)",
              "ticks": "outside"
             }
            },
            "type": "scattermapbox"
           }
          ],
          "scatterpolar": [
           {
            "marker": {
             "colorbar": {
              "outlinewidth": 1,
              "tickcolor": "rgb(36,36,36)",
              "ticks": "outside"
             }
            },
            "type": "scatterpolar"
           }
          ],
          "scatterpolargl": [
           {
            "marker": {
             "colorbar": {
              "outlinewidth": 1,
              "tickcolor": "rgb(36,36,36)",
              "ticks": "outside"
             }
            },
            "type": "scatterpolargl"
           }
          ],
          "scatterternary": [
           {
            "marker": {
             "colorbar": {
              "outlinewidth": 1,
              "tickcolor": "rgb(36,36,36)",
              "ticks": "outside"
             }
            },
            "type": "scatterternary"
           }
          ],
          "surface": [
           {
            "colorbar": {
             "outlinewidth": 1,
             "tickcolor": "rgb(36,36,36)",
             "ticks": "outside"
            },
            "colorscale": [
             [
              0,
              "#440154"
             ],
             [
              0.1111111111111111,
              "#482878"
             ],
             [
              0.2222222222222222,
              "#3e4989"
             ],
             [
              0.3333333333333333,
              "#31688e"
             ],
             [
              0.4444444444444444,
              "#26828e"
             ],
             [
              0.5555555555555556,
              "#1f9e89"
             ],
             [
              0.6666666666666666,
              "#35b779"
             ],
             [
              0.7777777777777778,
              "#6ece58"
             ],
             [
              0.8888888888888888,
              "#b5de2b"
             ],
             [
              1,
              "#fde725"
             ]
            ],
            "type": "surface"
           }
          ],
          "table": [
           {
            "cells": {
             "fill": {
              "color": "rgb(237,237,237)"
             },
             "line": {
              "color": "white"
             }
            },
            "header": {
             "fill": {
              "color": "rgb(217,217,217)"
             },
             "line": {
              "color": "white"
             }
            },
            "type": "table"
           }
          ]
         },
         "layout": {
          "annotationdefaults": {
           "arrowhead": 0,
           "arrowwidth": 1
          },
          "autotypenumbers": "strict",
          "coloraxis": {
           "colorbar": {
            "outlinewidth": 1,
            "tickcolor": "rgb(36,36,36)",
            "ticks": "outside"
           }
          },
          "colorscale": {
           "diverging": [
            [
             0,
             "rgb(103,0,31)"
            ],
            [
             0.1,
             "rgb(178,24,43)"
            ],
            [
             0.2,
             "rgb(214,96,77)"
            ],
            [
             0.3,
             "rgb(244,165,130)"
            ],
            [
             0.4,
             "rgb(253,219,199)"
            ],
            [
             0.5,
             "rgb(247,247,247)"
            ],
            [
             0.6,
             "rgb(209,229,240)"
            ],
            [
             0.7,
             "rgb(146,197,222)"
            ],
            [
             0.8,
             "rgb(67,147,195)"
            ],
            [
             0.9,
             "rgb(33,102,172)"
            ],
            [
             1,
             "rgb(5,48,97)"
            ]
           ],
           "sequential": [
            [
             0,
             "#440154"
            ],
            [
             0.1111111111111111,
             "#482878"
            ],
            [
             0.2222222222222222,
             "#3e4989"
            ],
            [
             0.3333333333333333,
             "#31688e"
            ],
            [
             0.4444444444444444,
             "#26828e"
            ],
            [
             0.5555555555555556,
             "#1f9e89"
            ],
            [
             0.6666666666666666,
             "#35b779"
            ],
            [
             0.7777777777777778,
             "#6ece58"
            ],
            [
             0.8888888888888888,
             "#b5de2b"
            ],
            [
             1,
             "#fde725"
            ]
           ],
           "sequentialminus": [
            [
             0,
             "#440154"
            ],
            [
             0.1111111111111111,
             "#482878"
            ],
            [
             0.2222222222222222,
             "#3e4989"
            ],
            [
             0.3333333333333333,
             "#31688e"
            ],
            [
             0.4444444444444444,
             "#26828e"
            ],
            [
             0.5555555555555556,
             "#1f9e89"
            ],
            [
             0.6666666666666666,
             "#35b779"
            ],
            [
             0.7777777777777778,
             "#6ece58"
            ],
            [
             0.8888888888888888,
             "#b5de2b"
            ],
            [
             1,
             "#fde725"
            ]
           ]
          },
          "colorway": [
           "#1F77B4",
           "#FF7F0E",
           "#2CA02C",
           "#D62728",
           "#9467BD",
           "#8C564B",
           "#E377C2",
           "#7F7F7F",
           "#BCBD22",
           "#17BECF"
          ],
          "font": {
           "color": "rgb(36,36,36)"
          },
          "geo": {
           "bgcolor": "white",
           "lakecolor": "white",
           "landcolor": "white",
           "showlakes": true,
           "showland": true,
           "subunitcolor": "white"
          },
          "hoverlabel": {
           "align": "left"
          },
          "hovermode": "closest",
          "mapbox": {
           "style": "light"
          },
          "paper_bgcolor": "white",
          "plot_bgcolor": "white",
          "polar": {
           "angularaxis": {
            "gridcolor": "rgb(232,232,232)",
            "linecolor": "rgb(36,36,36)",
            "showgrid": false,
            "showline": true,
            "ticks": "outside"
           },
           "bgcolor": "white",
           "radialaxis": {
            "gridcolor": "rgb(232,232,232)",
            "linecolor": "rgb(36,36,36)",
            "showgrid": false,
            "showline": true,
            "ticks": "outside"
           }
          },
          "scene": {
           "xaxis": {
            "backgroundcolor": "white",
            "gridcolor": "rgb(232,232,232)",
            "gridwidth": 2,
            "linecolor": "rgb(36,36,36)",
            "showbackground": true,
            "showgrid": false,
            "showline": true,
            "ticks": "outside",
            "zeroline": false,
            "zerolinecolor": "rgb(36,36,36)"
           },
           "yaxis": {
            "backgroundcolor": "white",
            "gridcolor": "rgb(232,232,232)",
            "gridwidth": 2,
            "linecolor": "rgb(36,36,36)",
            "showbackground": true,
            "showgrid": false,
            "showline": true,
            "ticks": "outside",
            "zeroline": false,
            "zerolinecolor": "rgb(36,36,36)"
           },
           "zaxis": {
            "backgroundcolor": "white",
            "gridcolor": "rgb(232,232,232)",
            "gridwidth": 2,
            "linecolor": "rgb(36,36,36)",
            "showbackground": true,
            "showgrid": false,
            "showline": true,
            "ticks": "outside",
            "zeroline": false,
            "zerolinecolor": "rgb(36,36,36)"
           }
          },
          "shapedefaults": {
           "fillcolor": "black",
           "line": {
            "width": 0
           },
           "opacity": 0.3
          },
          "ternary": {
           "aaxis": {
            "gridcolor": "rgb(232,232,232)",
            "linecolor": "rgb(36,36,36)",
            "showgrid": false,
            "showline": true,
            "ticks": "outside"
           },
           "baxis": {
            "gridcolor": "rgb(232,232,232)",
            "linecolor": "rgb(36,36,36)",
            "showgrid": false,
            "showline": true,
            "ticks": "outside"
           },
           "bgcolor": "white",
           "caxis": {
            "gridcolor": "rgb(232,232,232)",
            "linecolor": "rgb(36,36,36)",
            "showgrid": false,
            "showline": true,
            "ticks": "outside"
           }
          },
          "title": {
           "x": 0.05
          },
          "xaxis": {
           "automargin": true,
           "gridcolor": "rgb(232,232,232)",
           "linecolor": "rgb(36,36,36)",
           "showgrid": false,
           "showline": true,
           "ticks": "outside",
           "title": {
            "standoff": 15
           },
           "zeroline": false,
           "zerolinecolor": "rgb(36,36,36)"
          },
          "yaxis": {
           "automargin": true,
           "gridcolor": "rgb(232,232,232)",
           "linecolor": "rgb(36,36,36)",
           "showgrid": false,
           "showline": true,
           "ticks": "outside",
           "title": {
            "standoff": 15
           },
           "zeroline": false,
           "zerolinecolor": "rgb(36,36,36)"
          }
         }
        },
        "title": {
         "font": {
          "color": "#ff7f00",
          "family": "Arial Bold Italic",
          "size": 15
         },
         "text": "Resultaten Saudi-Arabië"
        },
        "width": 960,
        "xaxis": {
         "anchor": "y",
         "domain": [
          0,
          1
         ],
         "title": {
          "text": "Teams"
         }
        },
        "yaxis": {
         "anchor": "x",
         "domain": [
          0,
          1
         ],
         "showgrid": true,
         "title": {
          "text": "Punten"
         }
        }
       }
      },
      "text/html": [
       "<div>                            <div id=\"413e18b6-bf0b-4254-8ba7-151d9c990e0e\" class=\"plotly-graph-div\" style=\"height:400px; width:960px;\"></div>            <script type=\"text/javascript\">                require([\"plotly\"], function(Plotly) {                    window.PLOTLYENV=window.PLOTLYENV || {};                                    if (document.getElementById(\"413e18b6-bf0b-4254-8ba7-151d9c990e0e\")) {                    Plotly.newPlot(                        \"413e18b6-bf0b-4254-8ba7-151d9c990e0e\",                        [{\"alignmentgroup\":\"True\",\"bingroup\":\"x\",\"histfunc\":\"sum\",\"hovertemplate\":\"Coureur 1<br>Punten = %{y}<extra></extra>\",\"legendgroup\":\"coureur1\",\"marker\":{\"color\":\"#1F77B4\",\"pattern\":{\"shape\":\"\"}},\"name\":\"Coureur 1\",\"offsetgroup\":\"coureur1\",\"orientation\":\"v\",\"showlegend\":true,\"x\":[\"Arjan T.\",\"Arjan Z.\",\"Casper\",\"Charlotte\",\"Chiel\",\"Corine\",\"Emily\",\"Erik\",\"Erwin\",\"Grietje\",\"Hans\",\"Isolde\",\"Jordi\",\"Kitty\",\"Marco\",\"Mees\",\"Michiel\",\"Niels\",\"Raymond\",\"Rodi\",\"Stan\",\"Wietse\"],\"xaxis\":\"x\",\"y\":[0.0,0.0,5.0,12.5,7.5,12.5,4.0,4.0,3.0,0.0,5.0,3.0,3.0,5.0,6.0,6.0,12.5,2.0,12.5,0.0,0.0,3.0],\"yaxis\":\"y\",\"type\":\"histogram\"},{\"alignmentgroup\":\"True\",\"bingroup\":\"x\",\"histfunc\":\"sum\",\"hovertemplate\":\"Coureur 2<br>Punten = %{y}<extra></extra>\",\"legendgroup\":\"motor\",\"marker\":{\"color\":\"#FF7F0E\",\"pattern\":{\"shape\":\"\"}},\"name\":\"Coureur 2\",\"offsetgroup\":\"motor\",\"orientation\":\"v\",\"showlegend\":true,\"x\":[\"Arjan T.\",\"Arjan Z.\",\"Casper\",\"Charlotte\",\"Chiel\",\"Corine\",\"Emily\",\"Erik\",\"Erwin\",\"Grietje\",\"Hans\",\"Isolde\",\"Jordi\",\"Kitty\",\"Marco\",\"Mees\",\"Michiel\",\"Niels\",\"Raymond\",\"Rodi\",\"Stan\",\"Wietse\"],\"xaxis\":\"x\",\"y\":[6.6,2.775,6.6,1.5,1.5,6.6,2.775,6.6,6.6,2.775,1.5,1.5,1.5,1.5,6.6,2.775,1.5,6.6,1.5,2.775,2.775,1.7999999999999998],\"yaxis\":\"y\",\"type\":\"histogram\"},{\"alignmentgroup\":\"True\",\"bingroup\":\"x\",\"histfunc\":\"sum\",\"hovertemplate\":\"Chassis<br>Punten = %{y}<extra></extra>\",\"legendgroup\":\"chassis\",\"marker\":{\"color\":\"#2CA02C\",\"pattern\":{\"shape\":\"\"}},\"name\":\"Chassis\",\"offsetgroup\":\"chassis\",\"orientation\":\"v\",\"showlegend\":true,\"x\":[\"Arjan T.\",\"Arjan Z.\",\"Casper\",\"Charlotte\",\"Chiel\",\"Corine\",\"Emily\",\"Erik\",\"Erwin\",\"Grietje\",\"Hans\",\"Isolde\",\"Jordi\",\"Kitty\",\"Marco\",\"Mees\",\"Michiel\",\"Niels\",\"Raymond\",\"Rodi\",\"Stan\",\"Wietse\"],\"xaxis\":\"x\",\"y\":[0.0,0.0,0.0,1.2000000000000002,8.8,3.0,0.0,3.0,1.2000000000000002,8.8,0.0,0.0,0.0,1.2000000000000002,3.0,1.2000000000000002,0.0,4.4,1.2000000000000002,1.2000000000000002,0.0,0.2],\"yaxis\":\"y\",\"type\":\"histogram\"},{\"alignmentgroup\":\"True\",\"bingroup\":\"x\",\"histfunc\":\"sum\",\"hovertemplate\":\"Motor<br>Punten = %{y}<extra></extra>\",\"legendgroup\":\"coureur2\",\"marker\":{\"color\":\"#D62728\",\"pattern\":{\"shape\":\"\"}},\"name\":\"Motor\",\"offsetgroup\":\"coureur2\",\"orientation\":\"v\",\"showlegend\":true,\"x\":[\"Arjan T.\",\"Arjan Z.\",\"Casper\",\"Charlotte\",\"Chiel\",\"Corine\",\"Emily\",\"Erik\",\"Erwin\",\"Grietje\",\"Hans\",\"Isolde\",\"Jordi\",\"Kitty\",\"Marco\",\"Mees\",\"Michiel\",\"Niels\",\"Raymond\",\"Rodi\",\"Stan\",\"Wietse\"],\"xaxis\":\"x\",\"y\":[5.0,5.0,7.5,0.0,0.0,0.0,0.0,0.0,0.0,0.0,1.0,0.0,0.0,2.0,7.5,2.0,0.0,7.5,7.5,5.0,6.0,1.0],\"yaxis\":\"y\",\"type\":\"histogram\"}],                        {\"template\":{\"data\":{\"barpolar\":[{\"marker\":{\"line\":{\"color\":\"white\",\"width\":0.5},\"pattern\":{\"fillmode\":\"overlay\",\"size\":10,\"solidity\":0.2}},\"type\":\"barpolar\"}],\"bar\":[{\"error_x\":{\"color\":\"rgb(36,36,36)\"},\"error_y\":{\"color\":\"rgb(36,36,36)\"},\"marker\":{\"line\":{\"color\":\"white\",\"width\":0.5},\"pattern\":{\"fillmode\":\"overlay\",\"size\":10,\"solidity\":0.2}},\"type\":\"bar\"}],\"carpet\":[{\"aaxis\":{\"endlinecolor\":\"rgb(36,36,36)\",\"gridcolor\":\"white\",\"linecolor\":\"white\",\"minorgridcolor\":\"white\",\"startlinecolor\":\"rgb(36,36,36)\"},\"baxis\":{\"endlinecolor\":\"rgb(36,36,36)\",\"gridcolor\":\"white\",\"linecolor\":\"white\",\"minorgridcolor\":\"white\",\"startlinecolor\":\"rgb(36,36,36)\"},\"type\":\"carpet\"}],\"choropleth\":[{\"colorbar\":{\"outlinewidth\":1,\"tickcolor\":\"rgb(36,36,36)\",\"ticks\":\"outside\"},\"type\":\"choropleth\"}],\"contourcarpet\":[{\"colorbar\":{\"outlinewidth\":1,\"tickcolor\":\"rgb(36,36,36)\",\"ticks\":\"outside\"},\"type\":\"contourcarpet\"}],\"contour\":[{\"colorbar\":{\"outlinewidth\":1,\"tickcolor\":\"rgb(36,36,36)\",\"ticks\":\"outside\"},\"colorscale\":[[0.0,\"#440154\"],[0.1111111111111111,\"#482878\"],[0.2222222222222222,\"#3e4989\"],[0.3333333333333333,\"#31688e\"],[0.4444444444444444,\"#26828e\"],[0.5555555555555556,\"#1f9e89\"],[0.6666666666666666,\"#35b779\"],[0.7777777777777778,\"#6ece58\"],[0.8888888888888888,\"#b5de2b\"],[1.0,\"#fde725\"]],\"type\":\"contour\"}],\"heatmapgl\":[{\"colorbar\":{\"outlinewidth\":1,\"tickcolor\":\"rgb(36,36,36)\",\"ticks\":\"outside\"},\"colorscale\":[[0.0,\"#440154\"],[0.1111111111111111,\"#482878\"],[0.2222222222222222,\"#3e4989\"],[0.3333333333333333,\"#31688e\"],[0.4444444444444444,\"#26828e\"],[0.5555555555555556,\"#1f9e89\"],[0.6666666666666666,\"#35b779\"],[0.7777777777777778,\"#6ece58\"],[0.8888888888888888,\"#b5de2b\"],[1.0,\"#fde725\"]],\"type\":\"heatmapgl\"}],\"heatmap\":[{\"colorbar\":{\"outlinewidth\":1,\"tickcolor\":\"rgb(36,36,36)\",\"ticks\":\"outside\"},\"colorscale\":[[0.0,\"#440154\"],[0.1111111111111111,\"#482878\"],[0.2222222222222222,\"#3e4989\"],[0.3333333333333333,\"#31688e\"],[0.4444444444444444,\"#26828e\"],[0.5555555555555556,\"#1f9e89\"],[0.6666666666666666,\"#35b779\"],[0.7777777777777778,\"#6ece58\"],[0.8888888888888888,\"#b5de2b\"],[1.0,\"#fde725\"]],\"type\":\"heatmap\"}],\"histogram2dcontour\":[{\"colorbar\":{\"outlinewidth\":1,\"tickcolor\":\"rgb(36,36,36)\",\"ticks\":\"outside\"},\"colorscale\":[[0.0,\"#440154\"],[0.1111111111111111,\"#482878\"],[0.2222222222222222,\"#3e4989\"],[0.3333333333333333,\"#31688e\"],[0.4444444444444444,\"#26828e\"],[0.5555555555555556,\"#1f9e89\"],[0.6666666666666666,\"#35b779\"],[0.7777777777777778,\"#6ece58\"],[0.8888888888888888,\"#b5de2b\"],[1.0,\"#fde725\"]],\"type\":\"histogram2dcontour\"}],\"histogram2d\":[{\"colorbar\":{\"outlinewidth\":1,\"tickcolor\":\"rgb(36,36,36)\",\"ticks\":\"outside\"},\"colorscale\":[[0.0,\"#440154\"],[0.1111111111111111,\"#482878\"],[0.2222222222222222,\"#3e4989\"],[0.3333333333333333,\"#31688e\"],[0.4444444444444444,\"#26828e\"],[0.5555555555555556,\"#1f9e89\"],[0.6666666666666666,\"#35b779\"],[0.7777777777777778,\"#6ece58\"],[0.8888888888888888,\"#b5de2b\"],[1.0,\"#fde725\"]],\"type\":\"histogram2d\"}],\"histogram\":[{\"marker\":{\"line\":{\"color\":\"white\",\"width\":0.6}},\"type\":\"histogram\"}],\"mesh3d\":[{\"colorbar\":{\"outlinewidth\":1,\"tickcolor\":\"rgb(36,36,36)\",\"ticks\":\"outside\"},\"type\":\"mesh3d\"}],\"parcoords\":[{\"line\":{\"colorbar\":{\"outlinewidth\":1,\"tickcolor\":\"rgb(36,36,36)\",\"ticks\":\"outside\"}},\"type\":\"parcoords\"}],\"pie\":[{\"automargin\":true,\"type\":\"pie\"}],\"scatter3d\":[{\"line\":{\"colorbar\":{\"outlinewidth\":1,\"tickcolor\":\"rgb(36,36,36)\",\"ticks\":\"outside\"}},\"marker\":{\"colorbar\":{\"outlinewidth\":1,\"tickcolor\":\"rgb(36,36,36)\",\"ticks\":\"outside\"}},\"type\":\"scatter3d\"}],\"scattercarpet\":[{\"marker\":{\"colorbar\":{\"outlinewidth\":1,\"tickcolor\":\"rgb(36,36,36)\",\"ticks\":\"outside\"}},\"type\":\"scattercarpet\"}],\"scattergeo\":[{\"marker\":{\"colorbar\":{\"outlinewidth\":1,\"tickcolor\":\"rgb(36,36,36)\",\"ticks\":\"outside\"}},\"type\":\"scattergeo\"}],\"scattergl\":[{\"marker\":{\"colorbar\":{\"outlinewidth\":1,\"tickcolor\":\"rgb(36,36,36)\",\"ticks\":\"outside\"}},\"type\":\"scattergl\"}],\"scattermapbox\":[{\"marker\":{\"colorbar\":{\"outlinewidth\":1,\"tickcolor\":\"rgb(36,36,36)\",\"ticks\":\"outside\"}},\"type\":\"scattermapbox\"}],\"scatterpolargl\":[{\"marker\":{\"colorbar\":{\"outlinewidth\":1,\"tickcolor\":\"rgb(36,36,36)\",\"ticks\":\"outside\"}},\"type\":\"scatterpolargl\"}],\"scatterpolar\":[{\"marker\":{\"colorbar\":{\"outlinewidth\":1,\"tickcolor\":\"rgb(36,36,36)\",\"ticks\":\"outside\"}},\"type\":\"scatterpolar\"}],\"scatter\":[{\"fillpattern\":{\"fillmode\":\"overlay\",\"size\":10,\"solidity\":0.2},\"type\":\"scatter\"}],\"scatterternary\":[{\"marker\":{\"colorbar\":{\"outlinewidth\":1,\"tickcolor\":\"rgb(36,36,36)\",\"ticks\":\"outside\"}},\"type\":\"scatterternary\"}],\"surface\":[{\"colorbar\":{\"outlinewidth\":1,\"tickcolor\":\"rgb(36,36,36)\",\"ticks\":\"outside\"},\"colorscale\":[[0.0,\"#440154\"],[0.1111111111111111,\"#482878\"],[0.2222222222222222,\"#3e4989\"],[0.3333333333333333,\"#31688e\"],[0.4444444444444444,\"#26828e\"],[0.5555555555555556,\"#1f9e89\"],[0.6666666666666666,\"#35b779\"],[0.7777777777777778,\"#6ece58\"],[0.8888888888888888,\"#b5de2b\"],[1.0,\"#fde725\"]],\"type\":\"surface\"}],\"table\":[{\"cells\":{\"fill\":{\"color\":\"rgb(237,237,237)\"},\"line\":{\"color\":\"white\"}},\"header\":{\"fill\":{\"color\":\"rgb(217,217,217)\"},\"line\":{\"color\":\"white\"}},\"type\":\"table\"}]},\"layout\":{\"annotationdefaults\":{\"arrowhead\":0,\"arrowwidth\":1},\"autotypenumbers\":\"strict\",\"coloraxis\":{\"colorbar\":{\"outlinewidth\":1,\"tickcolor\":\"rgb(36,36,36)\",\"ticks\":\"outside\"}},\"colorscale\":{\"diverging\":[[0.0,\"rgb(103,0,31)\"],[0.1,\"rgb(178,24,43)\"],[0.2,\"rgb(214,96,77)\"],[0.3,\"rgb(244,165,130)\"],[0.4,\"rgb(253,219,199)\"],[0.5,\"rgb(247,247,247)\"],[0.6,\"rgb(209,229,240)\"],[0.7,\"rgb(146,197,222)\"],[0.8,\"rgb(67,147,195)\"],[0.9,\"rgb(33,102,172)\"],[1.0,\"rgb(5,48,97)\"]],\"sequential\":[[0.0,\"#440154\"],[0.1111111111111111,\"#482878\"],[0.2222222222222222,\"#3e4989\"],[0.3333333333333333,\"#31688e\"],[0.4444444444444444,\"#26828e\"],[0.5555555555555556,\"#1f9e89\"],[0.6666666666666666,\"#35b779\"],[0.7777777777777778,\"#6ece58\"],[0.8888888888888888,\"#b5de2b\"],[1.0,\"#fde725\"]],\"sequentialminus\":[[0.0,\"#440154\"],[0.1111111111111111,\"#482878\"],[0.2222222222222222,\"#3e4989\"],[0.3333333333333333,\"#31688e\"],[0.4444444444444444,\"#26828e\"],[0.5555555555555556,\"#1f9e89\"],[0.6666666666666666,\"#35b779\"],[0.7777777777777778,\"#6ece58\"],[0.8888888888888888,\"#b5de2b\"],[1.0,\"#fde725\"]]},\"colorway\":[\"#1F77B4\",\"#FF7F0E\",\"#2CA02C\",\"#D62728\",\"#9467BD\",\"#8C564B\",\"#E377C2\",\"#7F7F7F\",\"#BCBD22\",\"#17BECF\"],\"font\":{\"color\":\"rgb(36,36,36)\"},\"geo\":{\"bgcolor\":\"white\",\"lakecolor\":\"white\",\"landcolor\":\"white\",\"showlakes\":true,\"showland\":true,\"subunitcolor\":\"white\"},\"hoverlabel\":{\"align\":\"left\"},\"hovermode\":\"closest\",\"mapbox\":{\"style\":\"light\"},\"paper_bgcolor\":\"white\",\"plot_bgcolor\":\"white\",\"polar\":{\"angularaxis\":{\"gridcolor\":\"rgb(232,232,232)\",\"linecolor\":\"rgb(36,36,36)\",\"showgrid\":false,\"showline\":true,\"ticks\":\"outside\"},\"bgcolor\":\"white\",\"radialaxis\":{\"gridcolor\":\"rgb(232,232,232)\",\"linecolor\":\"rgb(36,36,36)\",\"showgrid\":false,\"showline\":true,\"ticks\":\"outside\"}},\"scene\":{\"xaxis\":{\"backgroundcolor\":\"white\",\"gridcolor\":\"rgb(232,232,232)\",\"gridwidth\":2,\"linecolor\":\"rgb(36,36,36)\",\"showbackground\":true,\"showgrid\":false,\"showline\":true,\"ticks\":\"outside\",\"zeroline\":false,\"zerolinecolor\":\"rgb(36,36,36)\"},\"yaxis\":{\"backgroundcolor\":\"white\",\"gridcolor\":\"rgb(232,232,232)\",\"gridwidth\":2,\"linecolor\":\"rgb(36,36,36)\",\"showbackground\":true,\"showgrid\":false,\"showline\":true,\"ticks\":\"outside\",\"zeroline\":false,\"zerolinecolor\":\"rgb(36,36,36)\"},\"zaxis\":{\"backgroundcolor\":\"white\",\"gridcolor\":\"rgb(232,232,232)\",\"gridwidth\":2,\"linecolor\":\"rgb(36,36,36)\",\"showbackground\":true,\"showgrid\":false,\"showline\":true,\"ticks\":\"outside\",\"zeroline\":false,\"zerolinecolor\":\"rgb(36,36,36)\"}},\"shapedefaults\":{\"fillcolor\":\"black\",\"line\":{\"width\":0},\"opacity\":0.3},\"ternary\":{\"aaxis\":{\"gridcolor\":\"rgb(232,232,232)\",\"linecolor\":\"rgb(36,36,36)\",\"showgrid\":false,\"showline\":true,\"ticks\":\"outside\"},\"baxis\":{\"gridcolor\":\"rgb(232,232,232)\",\"linecolor\":\"rgb(36,36,36)\",\"showgrid\":false,\"showline\":true,\"ticks\":\"outside\"},\"bgcolor\":\"white\",\"caxis\":{\"gridcolor\":\"rgb(232,232,232)\",\"linecolor\":\"rgb(36,36,36)\",\"showgrid\":false,\"showline\":true,\"ticks\":\"outside\"}},\"title\":{\"x\":0.05},\"xaxis\":{\"automargin\":true,\"gridcolor\":\"rgb(232,232,232)\",\"linecolor\":\"rgb(36,36,36)\",\"showgrid\":false,\"showline\":true,\"ticks\":\"outside\",\"title\":{\"standoff\":15},\"zeroline\":false,\"zerolinecolor\":\"rgb(36,36,36)\"},\"yaxis\":{\"automargin\":true,\"gridcolor\":\"rgb(232,232,232)\",\"linecolor\":\"rgb(36,36,36)\",\"showgrid\":false,\"showline\":true,\"ticks\":\"outside\",\"title\":{\"standoff\":15},\"zeroline\":false,\"zerolinecolor\":\"rgb(36,36,36)\"}}},\"xaxis\":{\"anchor\":\"y\",\"domain\":[0.0,1.0],\"title\":{\"text\":\"Teams\"}},\"yaxis\":{\"anchor\":\"x\",\"domain\":[0.0,1.0],\"title\":{\"text\":\"Punten\"},\"showgrid\":true},\"legend\":{\"title\":{\"text\":\"Categorie\"},\"tracegroupgap\":0},\"title\":{\"text\":\"Resultaten Saudi-Arabi\\u00eb\",\"font\":{\"color\":\"#ff7f00\",\"size\":15,\"family\":\"Arial Bold Italic\"}},\"barmode\":\"relative\",\"height\":400,\"width\":960,\"plot_bgcolor\":\"rgba(224, 224, 224, 1)\",\"paper_bgcolor\":\"rgba(224, 224, 224, 1)\",\"font\":{\"size\":11}},                        {\"responsive\": true}                    ).then(function(){\n",
       "                            \n",
       "var gd = document.getElementById('413e18b6-bf0b-4254-8ba7-151d9c990e0e');\n",
       "var x = new MutationObserver(function (mutations, observer) {{\n",
       "        var display = window.getComputedStyle(gd).display;\n",
       "        if (!display || display === 'none') {{\n",
       "            console.log([gd, 'removed!']);\n",
       "            Plotly.purge(gd);\n",
       "            observer.disconnect();\n",
       "        }}\n",
       "}});\n",
       "\n",
       "// Listen for the removal of the full notebook cells\n",
       "var notebookContainer = gd.closest('#notebook-container');\n",
       "if (notebookContainer) {{\n",
       "    x.observe(notebookContainer, {childList: true});\n",
       "}}\n",
       "\n",
       "// Listen for the clearing of the current output cell\n",
       "var outputEl = gd.closest('.output');\n",
       "if (outputEl) {{\n",
       "    x.observe(outputEl, {childList: true});\n",
       "}}\n",
       "\n",
       "                        })                };                });            </script>        </div>"
      ]
     },
     "metadata": {},
     "output_type": "display_data"
    },
    {
     "data": {
      "application/vnd.plotly.v1+json": {
       "config": {
        "plotlyServerURL": "https://plot.ly"
       },
       "data": [
        {
         "alignmentgroup": "True",
         "bingroup": "x",
         "histfunc": "sum",
         "hovertemplate": "Coureur 1<br>Punten = %{y}<extra></extra>",
         "legendgroup": "coureur1",
         "marker": {
          "color": "#1F77B4",
          "pattern": {
           "shape": ""
          }
         },
         "name": "Coureur 1",
         "offsetgroup": "coureur1",
         "orientation": "v",
         "showlegend": true,
         "type": "histogram",
         "x": [
          "Arjan T.",
          "Arjan Z.",
          "Casper",
          "Charlotte",
          "Chiel",
          "Corine",
          "Emily",
          "Erik",
          "Erwin",
          "Grietje",
          "Hans",
          "Isolde",
          "Jordi",
          "Kitty",
          "Marco",
          "Mees",
          "Michiel",
          "Niels",
          "Raymond",
          "Rodi",
          "Stan",
          "Wietse"
         ],
         "xaxis": "x",
         "y": [
          0,
          4,
          9,
          5.5,
          7.5,
          5.5,
          0,
          0,
          0,
          4,
          9,
          0,
          0,
          9,
          0,
          0,
          5.5,
          0,
          5.5,
          4,
          4,
          0
         ],
         "yaxis": "y"
        },
        {
         "alignmentgroup": "True",
         "bingroup": "x",
         "histfunc": "sum",
         "hovertemplate": "Coureur 2<br>Punten = %{y}<extra></extra>",
         "legendgroup": "motor",
         "marker": {
          "color": "#FF7F0E",
          "pattern": {
           "shape": ""
          }
         },
         "name": "Coureur 2",
         "offsetgroup": "motor",
         "orientation": "v",
         "showlegend": true,
         "type": "histogram",
         "x": [
          "Arjan T.",
          "Arjan Z.",
          "Casper",
          "Charlotte",
          "Chiel",
          "Corine",
          "Emily",
          "Erik",
          "Erwin",
          "Grietje",
          "Hans",
          "Isolde",
          "Jordi",
          "Kitty",
          "Marco",
          "Mees",
          "Michiel",
          "Niels",
          "Raymond",
          "Rodi",
          "Stan",
          "Wietse"
         ],
         "xaxis": "x",
         "y": [
          5.55,
          4.2749999999999995,
          5.55,
          0.7999999999999999,
          0.7999999999999999,
          5.55,
          4.2749999999999995,
          5.55,
          5.55,
          4.2749999999999995,
          0.7999999999999999,
          0.7999999999999999,
          0.7999999999999999,
          0.7999999999999999,
          5.55,
          4.2749999999999995,
          0.7999999999999999,
          5.55,
          0.7999999999999999,
          4.2749999999999995,
          4.2749999999999995,
          0
         ],
         "yaxis": "y"
        },
        {
         "alignmentgroup": "True",
         "bingroup": "x",
         "histfunc": "sum",
         "hovertemplate": "Chassis<br>Punten = %{y}<extra></extra>",
         "legendgroup": "chassis",
         "marker": {
          "color": "#2CA02C",
          "pattern": {
           "shape": ""
          }
         },
         "name": "Chassis",
         "offsetgroup": "chassis",
         "orientation": "v",
         "showlegend": true,
         "type": "histogram",
         "x": [
          "Arjan T.",
          "Arjan Z.",
          "Casper",
          "Charlotte",
          "Chiel",
          "Corine",
          "Emily",
          "Erik",
          "Erwin",
          "Grietje",
          "Hans",
          "Isolde",
          "Jordi",
          "Kitty",
          "Marco",
          "Mees",
          "Michiel",
          "Niels",
          "Raymond",
          "Rodi",
          "Stan",
          "Wietse"
         ],
         "xaxis": "x",
         "y": [
          2.4000000000000004,
          2.4000000000000004,
          0.4,
          0,
          7.2,
          5.4,
          2.4000000000000004,
          5.4,
          0,
          7.2,
          2.4000000000000004,
          2.4000000000000004,
          2.4000000000000004,
          0,
          5.4,
          0,
          2.4000000000000004,
          3.6,
          0,
          0,
          0.4,
          1.2000000000000002
         ],
         "yaxis": "y"
        },
        {
         "alignmentgroup": "True",
         "bingroup": "x",
         "histfunc": "sum",
         "hovertemplate": "Motor<br>Punten = %{y}<extra></extra>",
         "legendgroup": "coureur2",
         "marker": {
          "color": "#D62728",
          "pattern": {
           "shape": ""
          }
         },
         "name": "Motor",
         "offsetgroup": "coureur2",
         "orientation": "v",
         "showlegend": true,
         "type": "histogram",
         "x": [
          "Arjan T.",
          "Arjan Z.",
          "Casper",
          "Charlotte",
          "Chiel",
          "Corine",
          "Emily",
          "Erik",
          "Erwin",
          "Grietje",
          "Hans",
          "Isolde",
          "Jordi",
          "Kitty",
          "Marco",
          "Mees",
          "Michiel",
          "Niels",
          "Raymond",
          "Rodi",
          "Stan",
          "Wietse"
         ],
         "xaxis": "x",
         "y": [
          9,
          9,
          7.5,
          0,
          6,
          0,
          4,
          2,
          1,
          0,
          0,
          0,
          2,
          0,
          7.5,
          0,
          2,
          7.5,
          7.5,
          9,
          0,
          0
         ],
         "yaxis": "y"
        }
       ],
       "layout": {
        "barmode": "relative",
        "font": {
         "size": 11
        },
        "height": 400,
        "legend": {
         "title": {
          "text": "Categorie"
         },
         "tracegroupgap": 0
        },
        "paper_bgcolor": "rgba(224, 224, 224, 1)",
        "plot_bgcolor": "rgba(224, 224, 224, 1)",
        "template": {
         "data": {
          "bar": [
           {
            "error_x": {
             "color": "rgb(36,36,36)"
            },
            "error_y": {
             "color": "rgb(36,36,36)"
            },
            "marker": {
             "line": {
              "color": "white",
              "width": 0.5
             },
             "pattern": {
              "fillmode": "overlay",
              "size": 10,
              "solidity": 0.2
             }
            },
            "type": "bar"
           }
          ],
          "barpolar": [
           {
            "marker": {
             "line": {
              "color": "white",
              "width": 0.5
             },
             "pattern": {
              "fillmode": "overlay",
              "size": 10,
              "solidity": 0.2
             }
            },
            "type": "barpolar"
           }
          ],
          "carpet": [
           {
            "aaxis": {
             "endlinecolor": "rgb(36,36,36)",
             "gridcolor": "white",
             "linecolor": "white",
             "minorgridcolor": "white",
             "startlinecolor": "rgb(36,36,36)"
            },
            "baxis": {
             "endlinecolor": "rgb(36,36,36)",
             "gridcolor": "white",
             "linecolor": "white",
             "minorgridcolor": "white",
             "startlinecolor": "rgb(36,36,36)"
            },
            "type": "carpet"
           }
          ],
          "choropleth": [
           {
            "colorbar": {
             "outlinewidth": 1,
             "tickcolor": "rgb(36,36,36)",
             "ticks": "outside"
            },
            "type": "choropleth"
           }
          ],
          "contour": [
           {
            "colorbar": {
             "outlinewidth": 1,
             "tickcolor": "rgb(36,36,36)",
             "ticks": "outside"
            },
            "colorscale": [
             [
              0,
              "#440154"
             ],
             [
              0.1111111111111111,
              "#482878"
             ],
             [
              0.2222222222222222,
              "#3e4989"
             ],
             [
              0.3333333333333333,
              "#31688e"
             ],
             [
              0.4444444444444444,
              "#26828e"
             ],
             [
              0.5555555555555556,
              "#1f9e89"
             ],
             [
              0.6666666666666666,
              "#35b779"
             ],
             [
              0.7777777777777778,
              "#6ece58"
             ],
             [
              0.8888888888888888,
              "#b5de2b"
             ],
             [
              1,
              "#fde725"
             ]
            ],
            "type": "contour"
           }
          ],
          "contourcarpet": [
           {
            "colorbar": {
             "outlinewidth": 1,
             "tickcolor": "rgb(36,36,36)",
             "ticks": "outside"
            },
            "type": "contourcarpet"
           }
          ],
          "heatmap": [
           {
            "colorbar": {
             "outlinewidth": 1,
             "tickcolor": "rgb(36,36,36)",
             "ticks": "outside"
            },
            "colorscale": [
             [
              0,
              "#440154"
             ],
             [
              0.1111111111111111,
              "#482878"
             ],
             [
              0.2222222222222222,
              "#3e4989"
             ],
             [
              0.3333333333333333,
              "#31688e"
             ],
             [
              0.4444444444444444,
              "#26828e"
             ],
             [
              0.5555555555555556,
              "#1f9e89"
             ],
             [
              0.6666666666666666,
              "#35b779"
             ],
             [
              0.7777777777777778,
              "#6ece58"
             ],
             [
              0.8888888888888888,
              "#b5de2b"
             ],
             [
              1,
              "#fde725"
             ]
            ],
            "type": "heatmap"
           }
          ],
          "heatmapgl": [
           {
            "colorbar": {
             "outlinewidth": 1,
             "tickcolor": "rgb(36,36,36)",
             "ticks": "outside"
            },
            "colorscale": [
             [
              0,
              "#440154"
             ],
             [
              0.1111111111111111,
              "#482878"
             ],
             [
              0.2222222222222222,
              "#3e4989"
             ],
             [
              0.3333333333333333,
              "#31688e"
             ],
             [
              0.4444444444444444,
              "#26828e"
             ],
             [
              0.5555555555555556,
              "#1f9e89"
             ],
             [
              0.6666666666666666,
              "#35b779"
             ],
             [
              0.7777777777777778,
              "#6ece58"
             ],
             [
              0.8888888888888888,
              "#b5de2b"
             ],
             [
              1,
              "#fde725"
             ]
            ],
            "type": "heatmapgl"
           }
          ],
          "histogram": [
           {
            "marker": {
             "line": {
              "color": "white",
              "width": 0.6
             }
            },
            "type": "histogram"
           }
          ],
          "histogram2d": [
           {
            "colorbar": {
             "outlinewidth": 1,
             "tickcolor": "rgb(36,36,36)",
             "ticks": "outside"
            },
            "colorscale": [
             [
              0,
              "#440154"
             ],
             [
              0.1111111111111111,
              "#482878"
             ],
             [
              0.2222222222222222,
              "#3e4989"
             ],
             [
              0.3333333333333333,
              "#31688e"
             ],
             [
              0.4444444444444444,
              "#26828e"
             ],
             [
              0.5555555555555556,
              "#1f9e89"
             ],
             [
              0.6666666666666666,
              "#35b779"
             ],
             [
              0.7777777777777778,
              "#6ece58"
             ],
             [
              0.8888888888888888,
              "#b5de2b"
             ],
             [
              1,
              "#fde725"
             ]
            ],
            "type": "histogram2d"
           }
          ],
          "histogram2dcontour": [
           {
            "colorbar": {
             "outlinewidth": 1,
             "tickcolor": "rgb(36,36,36)",
             "ticks": "outside"
            },
            "colorscale": [
             [
              0,
              "#440154"
             ],
             [
              0.1111111111111111,
              "#482878"
             ],
             [
              0.2222222222222222,
              "#3e4989"
             ],
             [
              0.3333333333333333,
              "#31688e"
             ],
             [
              0.4444444444444444,
              "#26828e"
             ],
             [
              0.5555555555555556,
              "#1f9e89"
             ],
             [
              0.6666666666666666,
              "#35b779"
             ],
             [
              0.7777777777777778,
              "#6ece58"
             ],
             [
              0.8888888888888888,
              "#b5de2b"
             ],
             [
              1,
              "#fde725"
             ]
            ],
            "type": "histogram2dcontour"
           }
          ],
          "mesh3d": [
           {
            "colorbar": {
             "outlinewidth": 1,
             "tickcolor": "rgb(36,36,36)",
             "ticks": "outside"
            },
            "type": "mesh3d"
           }
          ],
          "parcoords": [
           {
            "line": {
             "colorbar": {
              "outlinewidth": 1,
              "tickcolor": "rgb(36,36,36)",
              "ticks": "outside"
             }
            },
            "type": "parcoords"
           }
          ],
          "pie": [
           {
            "automargin": true,
            "type": "pie"
           }
          ],
          "scatter": [
           {
            "fillpattern": {
             "fillmode": "overlay",
             "size": 10,
             "solidity": 0.2
            },
            "type": "scatter"
           }
          ],
          "scatter3d": [
           {
            "line": {
             "colorbar": {
              "outlinewidth": 1,
              "tickcolor": "rgb(36,36,36)",
              "ticks": "outside"
             }
            },
            "marker": {
             "colorbar": {
              "outlinewidth": 1,
              "tickcolor": "rgb(36,36,36)",
              "ticks": "outside"
             }
            },
            "type": "scatter3d"
           }
          ],
          "scattercarpet": [
           {
            "marker": {
             "colorbar": {
              "outlinewidth": 1,
              "tickcolor": "rgb(36,36,36)",
              "ticks": "outside"
             }
            },
            "type": "scattercarpet"
           }
          ],
          "scattergeo": [
           {
            "marker": {
             "colorbar": {
              "outlinewidth": 1,
              "tickcolor": "rgb(36,36,36)",
              "ticks": "outside"
             }
            },
            "type": "scattergeo"
           }
          ],
          "scattergl": [
           {
            "marker": {
             "colorbar": {
              "outlinewidth": 1,
              "tickcolor": "rgb(36,36,36)",
              "ticks": "outside"
             }
            },
            "type": "scattergl"
           }
          ],
          "scattermapbox": [
           {
            "marker": {
             "colorbar": {
              "outlinewidth": 1,
              "tickcolor": "rgb(36,36,36)",
              "ticks": "outside"
             }
            },
            "type": "scattermapbox"
           }
          ],
          "scatterpolar": [
           {
            "marker": {
             "colorbar": {
              "outlinewidth": 1,
              "tickcolor": "rgb(36,36,36)",
              "ticks": "outside"
             }
            },
            "type": "scatterpolar"
           }
          ],
          "scatterpolargl": [
           {
            "marker": {
             "colorbar": {
              "outlinewidth": 1,
              "tickcolor": "rgb(36,36,36)",
              "ticks": "outside"
             }
            },
            "type": "scatterpolargl"
           }
          ],
          "scatterternary": [
           {
            "marker": {
             "colorbar": {
              "outlinewidth": 1,
              "tickcolor": "rgb(36,36,36)",
              "ticks": "outside"
             }
            },
            "type": "scatterternary"
           }
          ],
          "surface": [
           {
            "colorbar": {
             "outlinewidth": 1,
             "tickcolor": "rgb(36,36,36)",
             "ticks": "outside"
            },
            "colorscale": [
             [
              0,
              "#440154"
             ],
             [
              0.1111111111111111,
              "#482878"
             ],
             [
              0.2222222222222222,
              "#3e4989"
             ],
             [
              0.3333333333333333,
              "#31688e"
             ],
             [
              0.4444444444444444,
              "#26828e"
             ],
             [
              0.5555555555555556,
              "#1f9e89"
             ],
             [
              0.6666666666666666,
              "#35b779"
             ],
             [
              0.7777777777777778,
              "#6ece58"
             ],
             [
              0.8888888888888888,
              "#b5de2b"
             ],
             [
              1,
              "#fde725"
             ]
            ],
            "type": "surface"
           }
          ],
          "table": [
           {
            "cells": {
             "fill": {
              "color": "rgb(237,237,237)"
             },
             "line": {
              "color": "white"
             }
            },
            "header": {
             "fill": {
              "color": "rgb(217,217,217)"
             },
             "line": {
              "color": "white"
             }
            },
            "type": "table"
           }
          ]
         },
         "layout": {
          "annotationdefaults": {
           "arrowhead": 0,
           "arrowwidth": 1
          },
          "autotypenumbers": "strict",
          "coloraxis": {
           "colorbar": {
            "outlinewidth": 1,
            "tickcolor": "rgb(36,36,36)",
            "ticks": "outside"
           }
          },
          "colorscale": {
           "diverging": [
            [
             0,
             "rgb(103,0,31)"
            ],
            [
             0.1,
             "rgb(178,24,43)"
            ],
            [
             0.2,
             "rgb(214,96,77)"
            ],
            [
             0.3,
             "rgb(244,165,130)"
            ],
            [
             0.4,
             "rgb(253,219,199)"
            ],
            [
             0.5,
             "rgb(247,247,247)"
            ],
            [
             0.6,
             "rgb(209,229,240)"
            ],
            [
             0.7,
             "rgb(146,197,222)"
            ],
            [
             0.8,
             "rgb(67,147,195)"
            ],
            [
             0.9,
             "rgb(33,102,172)"
            ],
            [
             1,
             "rgb(5,48,97)"
            ]
           ],
           "sequential": [
            [
             0,
             "#440154"
            ],
            [
             0.1111111111111111,
             "#482878"
            ],
            [
             0.2222222222222222,
             "#3e4989"
            ],
            [
             0.3333333333333333,
             "#31688e"
            ],
            [
             0.4444444444444444,
             "#26828e"
            ],
            [
             0.5555555555555556,
             "#1f9e89"
            ],
            [
             0.6666666666666666,
             "#35b779"
            ],
            [
             0.7777777777777778,
             "#6ece58"
            ],
            [
             0.8888888888888888,
             "#b5de2b"
            ],
            [
             1,
             "#fde725"
            ]
           ],
           "sequentialminus": [
            [
             0,
             "#440154"
            ],
            [
             0.1111111111111111,
             "#482878"
            ],
            [
             0.2222222222222222,
             "#3e4989"
            ],
            [
             0.3333333333333333,
             "#31688e"
            ],
            [
             0.4444444444444444,
             "#26828e"
            ],
            [
             0.5555555555555556,
             "#1f9e89"
            ],
            [
             0.6666666666666666,
             "#35b779"
            ],
            [
             0.7777777777777778,
             "#6ece58"
            ],
            [
             0.8888888888888888,
             "#b5de2b"
            ],
            [
             1,
             "#fde725"
            ]
           ]
          },
          "colorway": [
           "#1F77B4",
           "#FF7F0E",
           "#2CA02C",
           "#D62728",
           "#9467BD",
           "#8C564B",
           "#E377C2",
           "#7F7F7F",
           "#BCBD22",
           "#17BECF"
          ],
          "font": {
           "color": "rgb(36,36,36)"
          },
          "geo": {
           "bgcolor": "white",
           "lakecolor": "white",
           "landcolor": "white",
           "showlakes": true,
           "showland": true,
           "subunitcolor": "white"
          },
          "hoverlabel": {
           "align": "left"
          },
          "hovermode": "closest",
          "mapbox": {
           "style": "light"
          },
          "paper_bgcolor": "white",
          "plot_bgcolor": "white",
          "polar": {
           "angularaxis": {
            "gridcolor": "rgb(232,232,232)",
            "linecolor": "rgb(36,36,36)",
            "showgrid": false,
            "showline": true,
            "ticks": "outside"
           },
           "bgcolor": "white",
           "radialaxis": {
            "gridcolor": "rgb(232,232,232)",
            "linecolor": "rgb(36,36,36)",
            "showgrid": false,
            "showline": true,
            "ticks": "outside"
           }
          },
          "scene": {
           "xaxis": {
            "backgroundcolor": "white",
            "gridcolor": "rgb(232,232,232)",
            "gridwidth": 2,
            "linecolor": "rgb(36,36,36)",
            "showbackground": true,
            "showgrid": false,
            "showline": true,
            "ticks": "outside",
            "zeroline": false,
            "zerolinecolor": "rgb(36,36,36)"
           },
           "yaxis": {
            "backgroundcolor": "white",
            "gridcolor": "rgb(232,232,232)",
            "gridwidth": 2,
            "linecolor": "rgb(36,36,36)",
            "showbackground": true,
            "showgrid": false,
            "showline": true,
            "ticks": "outside",
            "zeroline": false,
            "zerolinecolor": "rgb(36,36,36)"
           },
           "zaxis": {
            "backgroundcolor": "white",
            "gridcolor": "rgb(232,232,232)",
            "gridwidth": 2,
            "linecolor": "rgb(36,36,36)",
            "showbackground": true,
            "showgrid": false,
            "showline": true,
            "ticks": "outside",
            "zeroline": false,
            "zerolinecolor": "rgb(36,36,36)"
           }
          },
          "shapedefaults": {
           "fillcolor": "black",
           "line": {
            "width": 0
           },
           "opacity": 0.3
          },
          "ternary": {
           "aaxis": {
            "gridcolor": "rgb(232,232,232)",
            "linecolor": "rgb(36,36,36)",
            "showgrid": false,
            "showline": true,
            "ticks": "outside"
           },
           "baxis": {
            "gridcolor": "rgb(232,232,232)",
            "linecolor": "rgb(36,36,36)",
            "showgrid": false,
            "showline": true,
            "ticks": "outside"
           },
           "bgcolor": "white",
           "caxis": {
            "gridcolor": "rgb(232,232,232)",
            "linecolor": "rgb(36,36,36)",
            "showgrid": false,
            "showline": true,
            "ticks": "outside"
           }
          },
          "title": {
           "x": 0.05
          },
          "xaxis": {
           "automargin": true,
           "gridcolor": "rgb(232,232,232)",
           "linecolor": "rgb(36,36,36)",
           "showgrid": false,
           "showline": true,
           "ticks": "outside",
           "title": {
            "standoff": 15
           },
           "zeroline": false,
           "zerolinecolor": "rgb(36,36,36)"
          },
          "yaxis": {
           "automargin": true,
           "gridcolor": "rgb(232,232,232)",
           "linecolor": "rgb(36,36,36)",
           "showgrid": false,
           "showline": true,
           "ticks": "outside",
           "title": {
            "standoff": 15
           },
           "zeroline": false,
           "zerolinecolor": "rgb(36,36,36)"
          }
         }
        },
        "title": {
         "font": {
          "color": "#ff7f00",
          "family": "Arial Bold Italic",
          "size": 15
         },
         "text": "Resultaten Australië"
        },
        "width": 960,
        "xaxis": {
         "anchor": "y",
         "domain": [
          0,
          1
         ],
         "title": {
          "text": "Teams"
         }
        },
        "yaxis": {
         "anchor": "x",
         "domain": [
          0,
          1
         ],
         "showgrid": true,
         "title": {
          "text": "Punten"
         }
        }
       }
      },
      "text/html": [
       "<div>                            <div id=\"8d2278eb-d680-4779-aacd-491768fdf712\" class=\"plotly-graph-div\" style=\"height:400px; width:960px;\"></div>            <script type=\"text/javascript\">                require([\"plotly\"], function(Plotly) {                    window.PLOTLYENV=window.PLOTLYENV || {};                                    if (document.getElementById(\"8d2278eb-d680-4779-aacd-491768fdf712\")) {                    Plotly.newPlot(                        \"8d2278eb-d680-4779-aacd-491768fdf712\",                        [{\"alignmentgroup\":\"True\",\"bingroup\":\"x\",\"histfunc\":\"sum\",\"hovertemplate\":\"Coureur 1<br>Punten = %{y}<extra></extra>\",\"legendgroup\":\"coureur1\",\"marker\":{\"color\":\"#1F77B4\",\"pattern\":{\"shape\":\"\"}},\"name\":\"Coureur 1\",\"offsetgroup\":\"coureur1\",\"orientation\":\"v\",\"showlegend\":true,\"x\":[\"Arjan T.\",\"Arjan Z.\",\"Casper\",\"Charlotte\",\"Chiel\",\"Corine\",\"Emily\",\"Erik\",\"Erwin\",\"Grietje\",\"Hans\",\"Isolde\",\"Jordi\",\"Kitty\",\"Marco\",\"Mees\",\"Michiel\",\"Niels\",\"Raymond\",\"Rodi\",\"Stan\",\"Wietse\"],\"xaxis\":\"x\",\"y\":[0.0,4.0,9.0,5.5,7.5,5.5,0.0,0.0,0.0,4.0,9.0,0.0,0.0,9.0,0.0,0.0,5.5,0.0,5.5,4.0,4.0,0.0],\"yaxis\":\"y\",\"type\":\"histogram\"},{\"alignmentgroup\":\"True\",\"bingroup\":\"x\",\"histfunc\":\"sum\",\"hovertemplate\":\"Coureur 2<br>Punten = %{y}<extra></extra>\",\"legendgroup\":\"motor\",\"marker\":{\"color\":\"#FF7F0E\",\"pattern\":{\"shape\":\"\"}},\"name\":\"Coureur 2\",\"offsetgroup\":\"motor\",\"orientation\":\"v\",\"showlegend\":true,\"x\":[\"Arjan T.\",\"Arjan Z.\",\"Casper\",\"Charlotte\",\"Chiel\",\"Corine\",\"Emily\",\"Erik\",\"Erwin\",\"Grietje\",\"Hans\",\"Isolde\",\"Jordi\",\"Kitty\",\"Marco\",\"Mees\",\"Michiel\",\"Niels\",\"Raymond\",\"Rodi\",\"Stan\",\"Wietse\"],\"xaxis\":\"x\",\"y\":[5.55,4.2749999999999995,5.55,0.7999999999999999,0.7999999999999999,5.55,4.2749999999999995,5.55,5.55,4.2749999999999995,0.7999999999999999,0.7999999999999999,0.7999999999999999,0.7999999999999999,5.55,4.2749999999999995,0.7999999999999999,5.55,0.7999999999999999,4.2749999999999995,4.2749999999999995,0.0],\"yaxis\":\"y\",\"type\":\"histogram\"},{\"alignmentgroup\":\"True\",\"bingroup\":\"x\",\"histfunc\":\"sum\",\"hovertemplate\":\"Chassis<br>Punten = %{y}<extra></extra>\",\"legendgroup\":\"chassis\",\"marker\":{\"color\":\"#2CA02C\",\"pattern\":{\"shape\":\"\"}},\"name\":\"Chassis\",\"offsetgroup\":\"chassis\",\"orientation\":\"v\",\"showlegend\":true,\"x\":[\"Arjan T.\",\"Arjan Z.\",\"Casper\",\"Charlotte\",\"Chiel\",\"Corine\",\"Emily\",\"Erik\",\"Erwin\",\"Grietje\",\"Hans\",\"Isolde\",\"Jordi\",\"Kitty\",\"Marco\",\"Mees\",\"Michiel\",\"Niels\",\"Raymond\",\"Rodi\",\"Stan\",\"Wietse\"],\"xaxis\":\"x\",\"y\":[2.4000000000000004,2.4000000000000004,0.4,0.0,7.2,5.4,2.4000000000000004,5.4,0.0,7.2,2.4000000000000004,2.4000000000000004,2.4000000000000004,0.0,5.4,0.0,2.4000000000000004,3.6,0.0,0.0,0.4,1.2000000000000002],\"yaxis\":\"y\",\"type\":\"histogram\"},{\"alignmentgroup\":\"True\",\"bingroup\":\"x\",\"histfunc\":\"sum\",\"hovertemplate\":\"Motor<br>Punten = %{y}<extra></extra>\",\"legendgroup\":\"coureur2\",\"marker\":{\"color\":\"#D62728\",\"pattern\":{\"shape\":\"\"}},\"name\":\"Motor\",\"offsetgroup\":\"coureur2\",\"orientation\":\"v\",\"showlegend\":true,\"x\":[\"Arjan T.\",\"Arjan Z.\",\"Casper\",\"Charlotte\",\"Chiel\",\"Corine\",\"Emily\",\"Erik\",\"Erwin\",\"Grietje\",\"Hans\",\"Isolde\",\"Jordi\",\"Kitty\",\"Marco\",\"Mees\",\"Michiel\",\"Niels\",\"Raymond\",\"Rodi\",\"Stan\",\"Wietse\"],\"xaxis\":\"x\",\"y\":[9.0,9.0,7.5,0.0,6.0,0.0,4.0,2.0,1.0,0.0,0.0,0.0,2.0,0.0,7.5,0.0,2.0,7.5,7.5,9.0,0.0,0.0],\"yaxis\":\"y\",\"type\":\"histogram\"}],                        {\"template\":{\"data\":{\"barpolar\":[{\"marker\":{\"line\":{\"color\":\"white\",\"width\":0.5},\"pattern\":{\"fillmode\":\"overlay\",\"size\":10,\"solidity\":0.2}},\"type\":\"barpolar\"}],\"bar\":[{\"error_x\":{\"color\":\"rgb(36,36,36)\"},\"error_y\":{\"color\":\"rgb(36,36,36)\"},\"marker\":{\"line\":{\"color\":\"white\",\"width\":0.5},\"pattern\":{\"fillmode\":\"overlay\",\"size\":10,\"solidity\":0.2}},\"type\":\"bar\"}],\"carpet\":[{\"aaxis\":{\"endlinecolor\":\"rgb(36,36,36)\",\"gridcolor\":\"white\",\"linecolor\":\"white\",\"minorgridcolor\":\"white\",\"startlinecolor\":\"rgb(36,36,36)\"},\"baxis\":{\"endlinecolor\":\"rgb(36,36,36)\",\"gridcolor\":\"white\",\"linecolor\":\"white\",\"minorgridcolor\":\"white\",\"startlinecolor\":\"rgb(36,36,36)\"},\"type\":\"carpet\"}],\"choropleth\":[{\"colorbar\":{\"outlinewidth\":1,\"tickcolor\":\"rgb(36,36,36)\",\"ticks\":\"outside\"},\"type\":\"choropleth\"}],\"contourcarpet\":[{\"colorbar\":{\"outlinewidth\":1,\"tickcolor\":\"rgb(36,36,36)\",\"ticks\":\"outside\"},\"type\":\"contourcarpet\"}],\"contour\":[{\"colorbar\":{\"outlinewidth\":1,\"tickcolor\":\"rgb(36,36,36)\",\"ticks\":\"outside\"},\"colorscale\":[[0.0,\"#440154\"],[0.1111111111111111,\"#482878\"],[0.2222222222222222,\"#3e4989\"],[0.3333333333333333,\"#31688e\"],[0.4444444444444444,\"#26828e\"],[0.5555555555555556,\"#1f9e89\"],[0.6666666666666666,\"#35b779\"],[0.7777777777777778,\"#6ece58\"],[0.8888888888888888,\"#b5de2b\"],[1.0,\"#fde725\"]],\"type\":\"contour\"}],\"heatmapgl\":[{\"colorbar\":{\"outlinewidth\":1,\"tickcolor\":\"rgb(36,36,36)\",\"ticks\":\"outside\"},\"colorscale\":[[0.0,\"#440154\"],[0.1111111111111111,\"#482878\"],[0.2222222222222222,\"#3e4989\"],[0.3333333333333333,\"#31688e\"],[0.4444444444444444,\"#26828e\"],[0.5555555555555556,\"#1f9e89\"],[0.6666666666666666,\"#35b779\"],[0.7777777777777778,\"#6ece58\"],[0.8888888888888888,\"#b5de2b\"],[1.0,\"#fde725\"]],\"type\":\"heatmapgl\"}],\"heatmap\":[{\"colorbar\":{\"outlinewidth\":1,\"tickcolor\":\"rgb(36,36,36)\",\"ticks\":\"outside\"},\"colorscale\":[[0.0,\"#440154\"],[0.1111111111111111,\"#482878\"],[0.2222222222222222,\"#3e4989\"],[0.3333333333333333,\"#31688e\"],[0.4444444444444444,\"#26828e\"],[0.5555555555555556,\"#1f9e89\"],[0.6666666666666666,\"#35b779\"],[0.7777777777777778,\"#6ece58\"],[0.8888888888888888,\"#b5de2b\"],[1.0,\"#fde725\"]],\"type\":\"heatmap\"}],\"histogram2dcontour\":[{\"colorbar\":{\"outlinewidth\":1,\"tickcolor\":\"rgb(36,36,36)\",\"ticks\":\"outside\"},\"colorscale\":[[0.0,\"#440154\"],[0.1111111111111111,\"#482878\"],[0.2222222222222222,\"#3e4989\"],[0.3333333333333333,\"#31688e\"],[0.4444444444444444,\"#26828e\"],[0.5555555555555556,\"#1f9e89\"],[0.6666666666666666,\"#35b779\"],[0.7777777777777778,\"#6ece58\"],[0.8888888888888888,\"#b5de2b\"],[1.0,\"#fde725\"]],\"type\":\"histogram2dcontour\"}],\"histogram2d\":[{\"colorbar\":{\"outlinewidth\":1,\"tickcolor\":\"rgb(36,36,36)\",\"ticks\":\"outside\"},\"colorscale\":[[0.0,\"#440154\"],[0.1111111111111111,\"#482878\"],[0.2222222222222222,\"#3e4989\"],[0.3333333333333333,\"#31688e\"],[0.4444444444444444,\"#26828e\"],[0.5555555555555556,\"#1f9e89\"],[0.6666666666666666,\"#35b779\"],[0.7777777777777778,\"#6ece58\"],[0.8888888888888888,\"#b5de2b\"],[1.0,\"#fde725\"]],\"type\":\"histogram2d\"}],\"histogram\":[{\"marker\":{\"line\":{\"color\":\"white\",\"width\":0.6}},\"type\":\"histogram\"}],\"mesh3d\":[{\"colorbar\":{\"outlinewidth\":1,\"tickcolor\":\"rgb(36,36,36)\",\"ticks\":\"outside\"},\"type\":\"mesh3d\"}],\"parcoords\":[{\"line\":{\"colorbar\":{\"outlinewidth\":1,\"tickcolor\":\"rgb(36,36,36)\",\"ticks\":\"outside\"}},\"type\":\"parcoords\"}],\"pie\":[{\"automargin\":true,\"type\":\"pie\"}],\"scatter3d\":[{\"line\":{\"colorbar\":{\"outlinewidth\":1,\"tickcolor\":\"rgb(36,36,36)\",\"ticks\":\"outside\"}},\"marker\":{\"colorbar\":{\"outlinewidth\":1,\"tickcolor\":\"rgb(36,36,36)\",\"ticks\":\"outside\"}},\"type\":\"scatter3d\"}],\"scattercarpet\":[{\"marker\":{\"colorbar\":{\"outlinewidth\":1,\"tickcolor\":\"rgb(36,36,36)\",\"ticks\":\"outside\"}},\"type\":\"scattercarpet\"}],\"scattergeo\":[{\"marker\":{\"colorbar\":{\"outlinewidth\":1,\"tickcolor\":\"rgb(36,36,36)\",\"ticks\":\"outside\"}},\"type\":\"scattergeo\"}],\"scattergl\":[{\"marker\":{\"colorbar\":{\"outlinewidth\":1,\"tickcolor\":\"rgb(36,36,36)\",\"ticks\":\"outside\"}},\"type\":\"scattergl\"}],\"scattermapbox\":[{\"marker\":{\"colorbar\":{\"outlinewidth\":1,\"tickcolor\":\"rgb(36,36,36)\",\"ticks\":\"outside\"}},\"type\":\"scattermapbox\"}],\"scatterpolargl\":[{\"marker\":{\"colorbar\":{\"outlinewidth\":1,\"tickcolor\":\"rgb(36,36,36)\",\"ticks\":\"outside\"}},\"type\":\"scatterpolargl\"}],\"scatterpolar\":[{\"marker\":{\"colorbar\":{\"outlinewidth\":1,\"tickcolor\":\"rgb(36,36,36)\",\"ticks\":\"outside\"}},\"type\":\"scatterpolar\"}],\"scatter\":[{\"fillpattern\":{\"fillmode\":\"overlay\",\"size\":10,\"solidity\":0.2},\"type\":\"scatter\"}],\"scatterternary\":[{\"marker\":{\"colorbar\":{\"outlinewidth\":1,\"tickcolor\":\"rgb(36,36,36)\",\"ticks\":\"outside\"}},\"type\":\"scatterternary\"}],\"surface\":[{\"colorbar\":{\"outlinewidth\":1,\"tickcolor\":\"rgb(36,36,36)\",\"ticks\":\"outside\"},\"colorscale\":[[0.0,\"#440154\"],[0.1111111111111111,\"#482878\"],[0.2222222222222222,\"#3e4989\"],[0.3333333333333333,\"#31688e\"],[0.4444444444444444,\"#26828e\"],[0.5555555555555556,\"#1f9e89\"],[0.6666666666666666,\"#35b779\"],[0.7777777777777778,\"#6ece58\"],[0.8888888888888888,\"#b5de2b\"],[1.0,\"#fde725\"]],\"type\":\"surface\"}],\"table\":[{\"cells\":{\"fill\":{\"color\":\"rgb(237,237,237)\"},\"line\":{\"color\":\"white\"}},\"header\":{\"fill\":{\"color\":\"rgb(217,217,217)\"},\"line\":{\"color\":\"white\"}},\"type\":\"table\"}]},\"layout\":{\"annotationdefaults\":{\"arrowhead\":0,\"arrowwidth\":1},\"autotypenumbers\":\"strict\",\"coloraxis\":{\"colorbar\":{\"outlinewidth\":1,\"tickcolor\":\"rgb(36,36,36)\",\"ticks\":\"outside\"}},\"colorscale\":{\"diverging\":[[0.0,\"rgb(103,0,31)\"],[0.1,\"rgb(178,24,43)\"],[0.2,\"rgb(214,96,77)\"],[0.3,\"rgb(244,165,130)\"],[0.4,\"rgb(253,219,199)\"],[0.5,\"rgb(247,247,247)\"],[0.6,\"rgb(209,229,240)\"],[0.7,\"rgb(146,197,222)\"],[0.8,\"rgb(67,147,195)\"],[0.9,\"rgb(33,102,172)\"],[1.0,\"rgb(5,48,97)\"]],\"sequential\":[[0.0,\"#440154\"],[0.1111111111111111,\"#482878\"],[0.2222222222222222,\"#3e4989\"],[0.3333333333333333,\"#31688e\"],[0.4444444444444444,\"#26828e\"],[0.5555555555555556,\"#1f9e89\"],[0.6666666666666666,\"#35b779\"],[0.7777777777777778,\"#6ece58\"],[0.8888888888888888,\"#b5de2b\"],[1.0,\"#fde725\"]],\"sequentialminus\":[[0.0,\"#440154\"],[0.1111111111111111,\"#482878\"],[0.2222222222222222,\"#3e4989\"],[0.3333333333333333,\"#31688e\"],[0.4444444444444444,\"#26828e\"],[0.5555555555555556,\"#1f9e89\"],[0.6666666666666666,\"#35b779\"],[0.7777777777777778,\"#6ece58\"],[0.8888888888888888,\"#b5de2b\"],[1.0,\"#fde725\"]]},\"colorway\":[\"#1F77B4\",\"#FF7F0E\",\"#2CA02C\",\"#D62728\",\"#9467BD\",\"#8C564B\",\"#E377C2\",\"#7F7F7F\",\"#BCBD22\",\"#17BECF\"],\"font\":{\"color\":\"rgb(36,36,36)\"},\"geo\":{\"bgcolor\":\"white\",\"lakecolor\":\"white\",\"landcolor\":\"white\",\"showlakes\":true,\"showland\":true,\"subunitcolor\":\"white\"},\"hoverlabel\":{\"align\":\"left\"},\"hovermode\":\"closest\",\"mapbox\":{\"style\":\"light\"},\"paper_bgcolor\":\"white\",\"plot_bgcolor\":\"white\",\"polar\":{\"angularaxis\":{\"gridcolor\":\"rgb(232,232,232)\",\"linecolor\":\"rgb(36,36,36)\",\"showgrid\":false,\"showline\":true,\"ticks\":\"outside\"},\"bgcolor\":\"white\",\"radialaxis\":{\"gridcolor\":\"rgb(232,232,232)\",\"linecolor\":\"rgb(36,36,36)\",\"showgrid\":false,\"showline\":true,\"ticks\":\"outside\"}},\"scene\":{\"xaxis\":{\"backgroundcolor\":\"white\",\"gridcolor\":\"rgb(232,232,232)\",\"gridwidth\":2,\"linecolor\":\"rgb(36,36,36)\",\"showbackground\":true,\"showgrid\":false,\"showline\":true,\"ticks\":\"outside\",\"zeroline\":false,\"zerolinecolor\":\"rgb(36,36,36)\"},\"yaxis\":{\"backgroundcolor\":\"white\",\"gridcolor\":\"rgb(232,232,232)\",\"gridwidth\":2,\"linecolor\":\"rgb(36,36,36)\",\"showbackground\":true,\"showgrid\":false,\"showline\":true,\"ticks\":\"outside\",\"zeroline\":false,\"zerolinecolor\":\"rgb(36,36,36)\"},\"zaxis\":{\"backgroundcolor\":\"white\",\"gridcolor\":\"rgb(232,232,232)\",\"gridwidth\":2,\"linecolor\":\"rgb(36,36,36)\",\"showbackground\":true,\"showgrid\":false,\"showline\":true,\"ticks\":\"outside\",\"zeroline\":false,\"zerolinecolor\":\"rgb(36,36,36)\"}},\"shapedefaults\":{\"fillcolor\":\"black\",\"line\":{\"width\":0},\"opacity\":0.3},\"ternary\":{\"aaxis\":{\"gridcolor\":\"rgb(232,232,232)\",\"linecolor\":\"rgb(36,36,36)\",\"showgrid\":false,\"showline\":true,\"ticks\":\"outside\"},\"baxis\":{\"gridcolor\":\"rgb(232,232,232)\",\"linecolor\":\"rgb(36,36,36)\",\"showgrid\":false,\"showline\":true,\"ticks\":\"outside\"},\"bgcolor\":\"white\",\"caxis\":{\"gridcolor\":\"rgb(232,232,232)\",\"linecolor\":\"rgb(36,36,36)\",\"showgrid\":false,\"showline\":true,\"ticks\":\"outside\"}},\"title\":{\"x\":0.05},\"xaxis\":{\"automargin\":true,\"gridcolor\":\"rgb(232,232,232)\",\"linecolor\":\"rgb(36,36,36)\",\"showgrid\":false,\"showline\":true,\"ticks\":\"outside\",\"title\":{\"standoff\":15},\"zeroline\":false,\"zerolinecolor\":\"rgb(36,36,36)\"},\"yaxis\":{\"automargin\":true,\"gridcolor\":\"rgb(232,232,232)\",\"linecolor\":\"rgb(36,36,36)\",\"showgrid\":false,\"showline\":true,\"ticks\":\"outside\",\"title\":{\"standoff\":15},\"zeroline\":false,\"zerolinecolor\":\"rgb(36,36,36)\"}}},\"xaxis\":{\"anchor\":\"y\",\"domain\":[0.0,1.0],\"title\":{\"text\":\"Teams\"}},\"yaxis\":{\"anchor\":\"x\",\"domain\":[0.0,1.0],\"title\":{\"text\":\"Punten\"},\"showgrid\":true},\"legend\":{\"title\":{\"text\":\"Categorie\"},\"tracegroupgap\":0},\"title\":{\"text\":\"Resultaten Australi\\u00eb\",\"font\":{\"color\":\"#ff7f00\",\"size\":15,\"family\":\"Arial Bold Italic\"}},\"barmode\":\"relative\",\"height\":400,\"width\":960,\"plot_bgcolor\":\"rgba(224, 224, 224, 1)\",\"paper_bgcolor\":\"rgba(224, 224, 224, 1)\",\"font\":{\"size\":11}},                        {\"responsive\": true}                    ).then(function(){\n",
       "                            \n",
       "var gd = document.getElementById('8d2278eb-d680-4779-aacd-491768fdf712');\n",
       "var x = new MutationObserver(function (mutations, observer) {{\n",
       "        var display = window.getComputedStyle(gd).display;\n",
       "        if (!display || display === 'none') {{\n",
       "            console.log([gd, 'removed!']);\n",
       "            Plotly.purge(gd);\n",
       "            observer.disconnect();\n",
       "        }}\n",
       "}});\n",
       "\n",
       "// Listen for the removal of the full notebook cells\n",
       "var notebookContainer = gd.closest('#notebook-container');\n",
       "if (notebookContainer) {{\n",
       "    x.observe(notebookContainer, {childList: true});\n",
       "}}\n",
       "\n",
       "// Listen for the clearing of the current output cell\n",
       "var outputEl = gd.closest('.output');\n",
       "if (outputEl) {{\n",
       "    x.observe(outputEl, {childList: true});\n",
       "}}\n",
       "\n",
       "                        })                };                });            </script>        </div>"
      ]
     },
     "metadata": {},
     "output_type": "display_data"
    }
   ],
   "source": [
    "for race in races:\n",
    "    df_race = df.loc[df['race']==race]\n",
    "    df_race = df_race.sort_values(by=\"team\")\n",
    "    fig = px.histogram(df_race, x=\"team\", y=\"score\", color=\"cat\",\n",
    "                title=\"Resultaten {}\".format(race),\n",
    "                width=fig_width, height=400,\n",
    "                labels={ \"score\" : \"Score\", \"cat\" : \"Categorie\", \"team\" : \"Teams\" },\n",
    "                template=\"simple_white\")\n",
    "\n",
    "    fig.update_layout(yaxis_title=\"Punten\")\n",
    "\n",
    "    make_acwef1_proof(fig)\n",
    "\n",
    "    series_name = [\"Coureur 1\", \"Coureur 2\", \"Chassis\", \"Motor\"]\n",
    "    for idx, name in enumerate(series_name):\n",
    "        fig.data[idx].name = name\n",
    "        fig.data[idx].hovertemplate=name + \"<br>Punten = %{y}<extra></extra>\"\n",
    "    #    fig.data[idx].hovertemplate = name\n",
    "\n",
    "    if fig_write:\n",
    "        fig.write_html(\"resultaten_{}.html\".format(unidecode(race).lower()), full_html=False, include_plotlyjs='cdn')\n",
    "    fig.show()"
   ]
  },
  {
   "cell_type": "code",
   "execution_count": 27,
   "id": "21d588bd",
   "metadata": {},
   "outputs": [],
   "source": [
    "df_score_per_race = df.groupby(['race', 'team'])['score'].sum(numeric_only=True).unstack()#.reset_index()#.rename_axis(None, axis=1)\n",
    "# df_score_per_race.transpose()\n",
    "df_score_per_race = df_score_per_race.reindex(races)\n",
    "df_score_cumsum = df_score_per_race.cumsum()"
   ]
  },
  {
   "cell_type": "code",
   "execution_count": 28,
   "id": "f181e9da",
   "metadata": {
    "scrolled": false
   },
   "outputs": [
    {
     "data": {
      "application/vnd.plotly.v1+json": {
       "config": {
        "plotlyServerURL": "https://plot.ly"
       },
       "data": [
        {
         "hovertemplate": "Arjan T.<br>Race = %{x}<br>Punten = %{y}<extra></extra>",
         "legendgroup": "Arjan T.",
         "line": {
          "color": "#1F77B4",
          "dash": "solid"
         },
         "marker": {
          "symbol": "circle"
         },
         "mode": "lines",
         "name": "Arjan T.",
         "orientation": "v",
         "showlegend": true,
         "type": "scatter",
         "x": [
          "Bahrein",
          "Saudi-Arabië",
          "Australië"
         ],
         "xaxis": "x",
         "y": [
          11.45,
          23.049999999999997,
          40
         ],
         "yaxis": "y"
        },
        {
         "hovertemplate": "Arjan Z.<br>Race = %{x}<br>Punten = %{y}<extra></extra>",
         "legendgroup": "Arjan Z.",
         "line": {
          "color": "#FF7F0E",
          "dash": "solid"
         },
         "marker": {
          "symbol": "circle"
         },
         "mode": "lines",
         "name": "Arjan Z.",
         "orientation": "v",
         "showlegend": true,
         "type": "scatter",
         "x": [
          "Bahrein",
          "Saudi-Arabië",
          "Australië"
         ],
         "xaxis": "x",
         "y": [
          8,
          15.775,
          35.45
         ],
         "yaxis": "y"
        },
        {
         "hovertemplate": "Casper<br>Race = %{x}<br>Punten = %{y}<extra></extra>",
         "legendgroup": "Casper",
         "line": {
          "color": "#2CA02C",
          "dash": "solid"
         },
         "marker": {
          "symbol": "circle"
         },
         "mode": "lines",
         "name": "Casper",
         "orientation": "v",
         "showlegend": true,
         "type": "scatter",
         "x": [
          "Bahrein",
          "Saudi-Arabië",
          "Australië"
         ],
         "xaxis": "x",
         "y": [
          19.75,
          38.85,
          61.3
         ],
         "yaxis": "y"
        },
        {
         "hovertemplate": "Charlotte<br>Race = %{x}<br>Punten = %{y}<extra></extra>",
         "legendgroup": "Charlotte",
         "line": {
          "color": "#D62728",
          "dash": "solid"
         },
         "marker": {
          "symbol": "circle"
         },
         "mode": "lines",
         "name": "Charlotte",
         "orientation": "v",
         "showlegend": true,
         "type": "scatter",
         "x": [
          "Bahrein",
          "Saudi-Arabië",
          "Australië"
         ],
         "xaxis": "x",
         "y": [
          11,
          26.2,
          32.5
         ],
         "yaxis": "y"
        },
        {
         "hovertemplate": "Chiel<br>Race = %{x}<br>Punten = %{y}<extra></extra>",
         "legendgroup": "Chiel",
         "line": {
          "color": "#9467BD",
          "dash": "solid"
         },
         "marker": {
          "symbol": "circle"
         },
         "mode": "lines",
         "name": "Chiel",
         "orientation": "v",
         "showlegend": true,
         "type": "scatter",
         "x": [
          "Bahrein",
          "Saudi-Arabië",
          "Australië"
         ],
         "xaxis": "x",
         "y": [
          21.7,
          39.5,
          61
         ],
         "yaxis": "y"
        },
        {
         "hovertemplate": "Corine<br>Race = %{x}<br>Punten = %{y}<extra></extra>",
         "legendgroup": "Corine",
         "line": {
          "color": "#8C564B",
          "dash": "solid"
         },
         "marker": {
          "symbol": "circle"
         },
         "mode": "lines",
         "name": "Corine",
         "orientation": "v",
         "showlegend": true,
         "type": "scatter",
         "x": [
          "Bahrein",
          "Saudi-Arabië",
          "Australië"
         ],
         "xaxis": "x",
         "y": [
          20.55,
          42.650000000000006,
          59.10000000000001
         ],
         "yaxis": "y"
        },
        {
         "hovertemplate": "Emily<br>Race = %{x}<br>Punten = %{y}<extra></extra>",
         "legendgroup": "Emily",
         "line": {
          "color": "#E377C2",
          "dash": "solid"
         },
         "marker": {
          "symbol": "circle"
         },
         "mode": "lines",
         "name": "Emily",
         "orientation": "v",
         "showlegend": true,
         "type": "scatter",
         "x": [
          "Bahrein",
          "Saudi-Arabië",
          "Australië"
         ],
         "xaxis": "x",
         "y": [
          9,
          15.775,
          26.450000000000003
         ],
         "yaxis": "y"
        },
        {
         "hovertemplate": "Erik<br>Race = %{x}<br>Punten = %{y}<extra></extra>",
         "legendgroup": "Erik",
         "line": {
          "color": "#7F7F7F",
          "dash": "solid"
         },
         "marker": {
          "symbol": "circle"
         },
         "mode": "lines",
         "name": "Erik",
         "orientation": "v",
         "showlegend": true,
         "type": "scatter",
         "x": [
          "Bahrein",
          "Saudi-Arabië",
          "Australië"
         ],
         "xaxis": "x",
         "y": [
          17.05,
          30.65,
          43.599999999999994
         ],
         "yaxis": "y"
        },
        {
         "hovertemplate": "Erwin<br>Race = %{x}<br>Punten = %{y}<extra></extra>",
         "legendgroup": "Erwin",
         "line": {
          "color": "#BCBD22",
          "dash": "solid"
         },
         "marker": {
          "symbol": "circle"
         },
         "mode": "lines",
         "name": "Erwin",
         "orientation": "v",
         "showlegend": true,
         "type": "scatter",
         "x": [
          "Bahrein",
          "Saudi-Arabië",
          "Australië"
         ],
         "xaxis": "x",
         "y": [
          6.8500000000000005,
          17.650000000000002,
          24.200000000000003
         ],
         "yaxis": "y"
        },
        {
         "hovertemplate": "Grietje<br>Race = %{x}<br>Punten = %{y}<extra></extra>",
         "legendgroup": "Grietje",
         "line": {
          "color": "#17BECF",
          "dash": "solid"
         },
         "marker": {
          "symbol": "circle"
         },
         "mode": "lines",
         "name": "Grietje",
         "orientation": "v",
         "showlegend": true,
         "type": "scatter",
         "x": [
          "Bahrein",
          "Saudi-Arabië",
          "Australië"
         ],
         "xaxis": "x",
         "y": [
          11.6,
          23.175,
          38.65
         ],
         "yaxis": "y"
        },
        {
         "hovertemplate": "Hans<br>Race = %{x}<br>Punten = %{y}<extra></extra>",
         "legendgroup": "Hans",
         "line": {
          "color": "#1F77B4",
          "dash": "solid"
         },
         "marker": {
          "symbol": "circle"
         },
         "mode": "lines",
         "name": "Hans",
         "orientation": "v",
         "showlegend": true,
         "type": "scatter",
         "x": [
          "Bahrein",
          "Saudi-Arabië",
          "Australië"
         ],
         "xaxis": "x",
         "y": [
          7.6,
          15.1,
          27.3
         ],
         "yaxis": "y"
        },
        {
         "hovertemplate": "Isolde<br>Race = %{x}<br>Punten = %{y}<extra></extra>",
         "legendgroup": "Isolde",
         "line": {
          "color": "#FF7F0E",
          "dash": "solid"
         },
         "marker": {
          "symbol": "circle"
         },
         "mode": "lines",
         "name": "Isolde",
         "orientation": "v",
         "showlegend": true,
         "type": "scatter",
         "x": [
          "Bahrein",
          "Saudi-Arabië",
          "Australië"
         ],
         "xaxis": "x",
         "y": [
          1.5999999999999999,
          6.1,
          9.3
         ],
         "yaxis": "y"
        },
        {
         "hovertemplate": "Jordi<br>Race = %{x}<br>Punten = %{y}<extra></extra>",
         "legendgroup": "Jordi",
         "line": {
          "color": "#2CA02C",
          "dash": "solid"
         },
         "marker": {
          "symbol": "circle"
         },
         "mode": "lines",
         "name": "Jordi",
         "orientation": "v",
         "showlegend": true,
         "type": "scatter",
         "x": [
          "Bahrein",
          "Saudi-Arabië",
          "Australië"
         ],
         "xaxis": "x",
         "y": [
          1.5999999999999999,
          6.1,
          11.3
         ],
         "yaxis": "y"
        },
        {
         "hovertemplate": "Kitty<br>Race = %{x}<br>Punten = %{y}<extra></extra>",
         "legendgroup": "Kitty",
         "line": {
          "color": "#D62728",
          "dash": "solid"
         },
         "marker": {
          "symbol": "circle"
         },
         "mode": "lines",
         "name": "Kitty",
         "orientation": "v",
         "showlegend": true,
         "type": "scatter",
         "x": [
          "Bahrein",
          "Saudi-Arabië",
          "Australië"
         ],
         "xaxis": "x",
         "y": [
          7,
          16.7,
          26.5
         ],
         "yaxis": "y"
        },
        {
         "hovertemplate": "Marco<br>Race = %{x}<br>Punten = %{y}<extra></extra>",
         "legendgroup": "Marco",
         "line": {
          "color": "#9467BD",
          "dash": "solid"
         },
         "marker": {
          "symbol": "circle"
         },
         "mode": "lines",
         "name": "Marco",
         "orientation": "v",
         "showlegend": true,
         "type": "scatter",
         "x": [
          "Bahrein",
          "Saudi-Arabië",
          "Australië"
         ],
         "xaxis": "x",
         "y": [
          21.55,
          44.650000000000006,
          63.10000000000001
         ],
         "yaxis": "y"
        },
        {
         "hovertemplate": "Mees<br>Race = %{x}<br>Punten = %{y}<extra></extra>",
         "legendgroup": "Mees",
         "line": {
          "color": "#8C564B",
          "dash": "solid"
         },
         "marker": {
          "symbol": "circle"
         },
         "mode": "lines",
         "name": "Mees",
         "orientation": "v",
         "showlegend": true,
         "type": "scatter",
         "x": [
          "Bahrein",
          "Saudi-Arabië",
          "Australië"
         ],
         "xaxis": "x",
         "y": [
          6.4,
          18.375,
          22.65
         ],
         "yaxis": "y"
        },
        {
         "hovertemplate": "Michiel<br>Race = %{x}<br>Punten = %{y}<extra></extra>",
         "legendgroup": "Michiel",
         "line": {
          "color": "#E377C2",
          "dash": "solid"
         },
         "marker": {
          "symbol": "circle"
         },
         "mode": "lines",
         "name": "Michiel",
         "orientation": "v",
         "showlegend": true,
         "type": "scatter",
         "x": [
          "Bahrein",
          "Saudi-Arabië",
          "Australië"
         ],
         "xaxis": "x",
         "y": [
          10.6,
          24.6,
          35.300000000000004
         ],
         "yaxis": "y"
        },
        {
         "hovertemplate": "Niels<br>Race = %{x}<br>Punten = %{y}<extra></extra>",
         "legendgroup": "Niels",
         "line": {
          "color": "#7F7F7F",
          "dash": "solid"
         },
         "marker": {
          "symbol": "circle"
         },
         "mode": "lines",
         "name": "Niels",
         "orientation": "v",
         "showlegend": true,
         "type": "scatter",
         "x": [
          "Bahrein",
          "Saudi-Arabië",
          "Australië"
         ],
         "xaxis": "x",
         "y": [
          17.15,
          37.65,
          54.3
         ],
         "yaxis": "y"
        },
        {
         "hovertemplate": "Raymond<br>Race = %{x}<br>Punten = %{y}<extra></extra>",
         "legendgroup": "Raymond",
         "line": {
          "color": "#BCBD22",
          "dash": "solid"
         },
         "marker": {
          "symbol": "circle"
         },
         "mode": "lines",
         "name": "Raymond",
         "orientation": "v",
         "showlegend": true,
         "type": "scatter",
         "x": [
          "Bahrein",
          "Saudi-Arabië",
          "Australië"
         ],
         "xaxis": "x",
         "y": [
          18.5,
          41.2,
          55
         ],
         "yaxis": "y"
        },
        {
         "hovertemplate": "Rodi<br>Race = %{x}<br>Punten = %{y}<extra></extra>",
         "legendgroup": "Rodi",
         "line": {
          "color": "#17BECF",
          "dash": "solid"
         },
         "marker": {
          "symbol": "circle"
         },
         "mode": "lines",
         "name": "Rodi",
         "orientation": "v",
         "showlegend": true,
         "type": "scatter",
         "x": [
          "Bahrein",
          "Saudi-Arabië",
          "Australië"
         ],
         "xaxis": "x",
         "y": [
          8.4,
          17.375,
          34.65
         ],
         "yaxis": "y"
        },
        {
         "hovertemplate": "Stan<br>Race = %{x}<br>Punten = %{y}<extra></extra>",
         "legendgroup": "Stan",
         "line": {
          "color": "#1F77B4",
          "dash": "solid"
         },
         "marker": {
          "symbol": "circle"
         },
         "mode": "lines",
         "name": "Stan",
         "orientation": "v",
         "showlegend": true,
         "type": "scatter",
         "x": [
          "Bahrein",
          "Saudi-Arabië",
          "Australië"
         ],
         "xaxis": "x",
         "y": [
          6.8,
          15.575,
          24.25
         ],
         "yaxis": "y"
        },
        {
         "hovertemplate": "Wietse<br>Race = %{x}<br>Punten = %{y}<extra></extra>",
         "legendgroup": "Wietse",
         "line": {
          "color": "#FF7F0E",
          "dash": "solid"
         },
         "marker": {
          "symbol": "circle"
         },
         "mode": "lines",
         "name": "Wietse",
         "orientation": "v",
         "showlegend": true,
         "type": "scatter",
         "x": [
          "Bahrein",
          "Saudi-Arabië",
          "Australië"
         ],
         "xaxis": "x",
         "y": [
          1.6,
          7.6,
          8.8
         ],
         "yaxis": "y"
        }
       ],
       "layout": {
        "font": {
         "size": 11
        },
        "height": 660,
        "legend": {
         "title": {
          "text": "Teams"
         },
         "tracegroupgap": 0
        },
        "paper_bgcolor": "rgba(224, 224, 224, 1)",
        "plot_bgcolor": "rgba(224, 224, 224, 1)",
        "template": {
         "data": {
          "bar": [
           {
            "error_x": {
             "color": "rgb(36,36,36)"
            },
            "error_y": {
             "color": "rgb(36,36,36)"
            },
            "marker": {
             "line": {
              "color": "white",
              "width": 0.5
             },
             "pattern": {
              "fillmode": "overlay",
              "size": 10,
              "solidity": 0.2
             }
            },
            "type": "bar"
           }
          ],
          "barpolar": [
           {
            "marker": {
             "line": {
              "color": "white",
              "width": 0.5
             },
             "pattern": {
              "fillmode": "overlay",
              "size": 10,
              "solidity": 0.2
             }
            },
            "type": "barpolar"
           }
          ],
          "carpet": [
           {
            "aaxis": {
             "endlinecolor": "rgb(36,36,36)",
             "gridcolor": "white",
             "linecolor": "white",
             "minorgridcolor": "white",
             "startlinecolor": "rgb(36,36,36)"
            },
            "baxis": {
             "endlinecolor": "rgb(36,36,36)",
             "gridcolor": "white",
             "linecolor": "white",
             "minorgridcolor": "white",
             "startlinecolor": "rgb(36,36,36)"
            },
            "type": "carpet"
           }
          ],
          "choropleth": [
           {
            "colorbar": {
             "outlinewidth": 1,
             "tickcolor": "rgb(36,36,36)",
             "ticks": "outside"
            },
            "type": "choropleth"
           }
          ],
          "contour": [
           {
            "colorbar": {
             "outlinewidth": 1,
             "tickcolor": "rgb(36,36,36)",
             "ticks": "outside"
            },
            "colorscale": [
             [
              0,
              "#440154"
             ],
             [
              0.1111111111111111,
              "#482878"
             ],
             [
              0.2222222222222222,
              "#3e4989"
             ],
             [
              0.3333333333333333,
              "#31688e"
             ],
             [
              0.4444444444444444,
              "#26828e"
             ],
             [
              0.5555555555555556,
              "#1f9e89"
             ],
             [
              0.6666666666666666,
              "#35b779"
             ],
             [
              0.7777777777777778,
              "#6ece58"
             ],
             [
              0.8888888888888888,
              "#b5de2b"
             ],
             [
              1,
              "#fde725"
             ]
            ],
            "type": "contour"
           }
          ],
          "contourcarpet": [
           {
            "colorbar": {
             "outlinewidth": 1,
             "tickcolor": "rgb(36,36,36)",
             "ticks": "outside"
            },
            "type": "contourcarpet"
           }
          ],
          "heatmap": [
           {
            "colorbar": {
             "outlinewidth": 1,
             "tickcolor": "rgb(36,36,36)",
             "ticks": "outside"
            },
            "colorscale": [
             [
              0,
              "#440154"
             ],
             [
              0.1111111111111111,
              "#482878"
             ],
             [
              0.2222222222222222,
              "#3e4989"
             ],
             [
              0.3333333333333333,
              "#31688e"
             ],
             [
              0.4444444444444444,
              "#26828e"
             ],
             [
              0.5555555555555556,
              "#1f9e89"
             ],
             [
              0.6666666666666666,
              "#35b779"
             ],
             [
              0.7777777777777778,
              "#6ece58"
             ],
             [
              0.8888888888888888,
              "#b5de2b"
             ],
             [
              1,
              "#fde725"
             ]
            ],
            "type": "heatmap"
           }
          ],
          "heatmapgl": [
           {
            "colorbar": {
             "outlinewidth": 1,
             "tickcolor": "rgb(36,36,36)",
             "ticks": "outside"
            },
            "colorscale": [
             [
              0,
              "#440154"
             ],
             [
              0.1111111111111111,
              "#482878"
             ],
             [
              0.2222222222222222,
              "#3e4989"
             ],
             [
              0.3333333333333333,
              "#31688e"
             ],
             [
              0.4444444444444444,
              "#26828e"
             ],
             [
              0.5555555555555556,
              "#1f9e89"
             ],
             [
              0.6666666666666666,
              "#35b779"
             ],
             [
              0.7777777777777778,
              "#6ece58"
             ],
             [
              0.8888888888888888,
              "#b5de2b"
             ],
             [
              1,
              "#fde725"
             ]
            ],
            "type": "heatmapgl"
           }
          ],
          "histogram": [
           {
            "marker": {
             "line": {
              "color": "white",
              "width": 0.6
             }
            },
            "type": "histogram"
           }
          ],
          "histogram2d": [
           {
            "colorbar": {
             "outlinewidth": 1,
             "tickcolor": "rgb(36,36,36)",
             "ticks": "outside"
            },
            "colorscale": [
             [
              0,
              "#440154"
             ],
             [
              0.1111111111111111,
              "#482878"
             ],
             [
              0.2222222222222222,
              "#3e4989"
             ],
             [
              0.3333333333333333,
              "#31688e"
             ],
             [
              0.4444444444444444,
              "#26828e"
             ],
             [
              0.5555555555555556,
              "#1f9e89"
             ],
             [
              0.6666666666666666,
              "#35b779"
             ],
             [
              0.7777777777777778,
              "#6ece58"
             ],
             [
              0.8888888888888888,
              "#b5de2b"
             ],
             [
              1,
              "#fde725"
             ]
            ],
            "type": "histogram2d"
           }
          ],
          "histogram2dcontour": [
           {
            "colorbar": {
             "outlinewidth": 1,
             "tickcolor": "rgb(36,36,36)",
             "ticks": "outside"
            },
            "colorscale": [
             [
              0,
              "#440154"
             ],
             [
              0.1111111111111111,
              "#482878"
             ],
             [
              0.2222222222222222,
              "#3e4989"
             ],
             [
              0.3333333333333333,
              "#31688e"
             ],
             [
              0.4444444444444444,
              "#26828e"
             ],
             [
              0.5555555555555556,
              "#1f9e89"
             ],
             [
              0.6666666666666666,
              "#35b779"
             ],
             [
              0.7777777777777778,
              "#6ece58"
             ],
             [
              0.8888888888888888,
              "#b5de2b"
             ],
             [
              1,
              "#fde725"
             ]
            ],
            "type": "histogram2dcontour"
           }
          ],
          "mesh3d": [
           {
            "colorbar": {
             "outlinewidth": 1,
             "tickcolor": "rgb(36,36,36)",
             "ticks": "outside"
            },
            "type": "mesh3d"
           }
          ],
          "parcoords": [
           {
            "line": {
             "colorbar": {
              "outlinewidth": 1,
              "tickcolor": "rgb(36,36,36)",
              "ticks": "outside"
             }
            },
            "type": "parcoords"
           }
          ],
          "pie": [
           {
            "automargin": true,
            "type": "pie"
           }
          ],
          "scatter": [
           {
            "fillpattern": {
             "fillmode": "overlay",
             "size": 10,
             "solidity": 0.2
            },
            "type": "scatter"
           }
          ],
          "scatter3d": [
           {
            "line": {
             "colorbar": {
              "outlinewidth": 1,
              "tickcolor": "rgb(36,36,36)",
              "ticks": "outside"
             }
            },
            "marker": {
             "colorbar": {
              "outlinewidth": 1,
              "tickcolor": "rgb(36,36,36)",
              "ticks": "outside"
             }
            },
            "type": "scatter3d"
           }
          ],
          "scattercarpet": [
           {
            "marker": {
             "colorbar": {
              "outlinewidth": 1,
              "tickcolor": "rgb(36,36,36)",
              "ticks": "outside"
             }
            },
            "type": "scattercarpet"
           }
          ],
          "scattergeo": [
           {
            "marker": {
             "colorbar": {
              "outlinewidth": 1,
              "tickcolor": "rgb(36,36,36)",
              "ticks": "outside"
             }
            },
            "type": "scattergeo"
           }
          ],
          "scattergl": [
           {
            "marker": {
             "colorbar": {
              "outlinewidth": 1,
              "tickcolor": "rgb(36,36,36)",
              "ticks": "outside"
             }
            },
            "type": "scattergl"
           }
          ],
          "scattermapbox": [
           {
            "marker": {
             "colorbar": {
              "outlinewidth": 1,
              "tickcolor": "rgb(36,36,36)",
              "ticks": "outside"
             }
            },
            "type": "scattermapbox"
           }
          ],
          "scatterpolar": [
           {
            "marker": {
             "colorbar": {
              "outlinewidth": 1,
              "tickcolor": "rgb(36,36,36)",
              "ticks": "outside"
             }
            },
            "type": "scatterpolar"
           }
          ],
          "scatterpolargl": [
           {
            "marker": {
             "colorbar": {
              "outlinewidth": 1,
              "tickcolor": "rgb(36,36,36)",
              "ticks": "outside"
             }
            },
            "type": "scatterpolargl"
           }
          ],
          "scatterternary": [
           {
            "marker": {
             "colorbar": {
              "outlinewidth": 1,
              "tickcolor": "rgb(36,36,36)",
              "ticks": "outside"
             }
            },
            "type": "scatterternary"
           }
          ],
          "surface": [
           {
            "colorbar": {
             "outlinewidth": 1,
             "tickcolor": "rgb(36,36,36)",
             "ticks": "outside"
            },
            "colorscale": [
             [
              0,
              "#440154"
             ],
             [
              0.1111111111111111,
              "#482878"
             ],
             [
              0.2222222222222222,
              "#3e4989"
             ],
             [
              0.3333333333333333,
              "#31688e"
             ],
             [
              0.4444444444444444,
              "#26828e"
             ],
             [
              0.5555555555555556,
              "#1f9e89"
             ],
             [
              0.6666666666666666,
              "#35b779"
             ],
             [
              0.7777777777777778,
              "#6ece58"
             ],
             [
              0.8888888888888888,
              "#b5de2b"
             ],
             [
              1,
              "#fde725"
             ]
            ],
            "type": "surface"
           }
          ],
          "table": [
           {
            "cells": {
             "fill": {
              "color": "rgb(237,237,237)"
             },
             "line": {
              "color": "white"
             }
            },
            "header": {
             "fill": {
              "color": "rgb(217,217,217)"
             },
             "line": {
              "color": "white"
             }
            },
            "type": "table"
           }
          ]
         },
         "layout": {
          "annotationdefaults": {
           "arrowhead": 0,
           "arrowwidth": 1
          },
          "autotypenumbers": "strict",
          "coloraxis": {
           "colorbar": {
            "outlinewidth": 1,
            "tickcolor": "rgb(36,36,36)",
            "ticks": "outside"
           }
          },
          "colorscale": {
           "diverging": [
            [
             0,
             "rgb(103,0,31)"
            ],
            [
             0.1,
             "rgb(178,24,43)"
            ],
            [
             0.2,
             "rgb(214,96,77)"
            ],
            [
             0.3,
             "rgb(244,165,130)"
            ],
            [
             0.4,
             "rgb(253,219,199)"
            ],
            [
             0.5,
             "rgb(247,247,247)"
            ],
            [
             0.6,
             "rgb(209,229,240)"
            ],
            [
             0.7,
             "rgb(146,197,222)"
            ],
            [
             0.8,
             "rgb(67,147,195)"
            ],
            [
             0.9,
             "rgb(33,102,172)"
            ],
            [
             1,
             "rgb(5,48,97)"
            ]
           ],
           "sequential": [
            [
             0,
             "#440154"
            ],
            [
             0.1111111111111111,
             "#482878"
            ],
            [
             0.2222222222222222,
             "#3e4989"
            ],
            [
             0.3333333333333333,
             "#31688e"
            ],
            [
             0.4444444444444444,
             "#26828e"
            ],
            [
             0.5555555555555556,
             "#1f9e89"
            ],
            [
             0.6666666666666666,
             "#35b779"
            ],
            [
             0.7777777777777778,
             "#6ece58"
            ],
            [
             0.8888888888888888,
             "#b5de2b"
            ],
            [
             1,
             "#fde725"
            ]
           ],
           "sequentialminus": [
            [
             0,
             "#440154"
            ],
            [
             0.1111111111111111,
             "#482878"
            ],
            [
             0.2222222222222222,
             "#3e4989"
            ],
            [
             0.3333333333333333,
             "#31688e"
            ],
            [
             0.4444444444444444,
             "#26828e"
            ],
            [
             0.5555555555555556,
             "#1f9e89"
            ],
            [
             0.6666666666666666,
             "#35b779"
            ],
            [
             0.7777777777777778,
             "#6ece58"
            ],
            [
             0.8888888888888888,
             "#b5de2b"
            ],
            [
             1,
             "#fde725"
            ]
           ]
          },
          "colorway": [
           "#1F77B4",
           "#FF7F0E",
           "#2CA02C",
           "#D62728",
           "#9467BD",
           "#8C564B",
           "#E377C2",
           "#7F7F7F",
           "#BCBD22",
           "#17BECF"
          ],
          "font": {
           "color": "rgb(36,36,36)"
          },
          "geo": {
           "bgcolor": "white",
           "lakecolor": "white",
           "landcolor": "white",
           "showlakes": true,
           "showland": true,
           "subunitcolor": "white"
          },
          "hoverlabel": {
           "align": "left"
          },
          "hovermode": "closest",
          "mapbox": {
           "style": "light"
          },
          "paper_bgcolor": "white",
          "plot_bgcolor": "white",
          "polar": {
           "angularaxis": {
            "gridcolor": "rgb(232,232,232)",
            "linecolor": "rgb(36,36,36)",
            "showgrid": false,
            "showline": true,
            "ticks": "outside"
           },
           "bgcolor": "white",
           "radialaxis": {
            "gridcolor": "rgb(232,232,232)",
            "linecolor": "rgb(36,36,36)",
            "showgrid": false,
            "showline": true,
            "ticks": "outside"
           }
          },
          "scene": {
           "xaxis": {
            "backgroundcolor": "white",
            "gridcolor": "rgb(232,232,232)",
            "gridwidth": 2,
            "linecolor": "rgb(36,36,36)",
            "showbackground": true,
            "showgrid": false,
            "showline": true,
            "ticks": "outside",
            "zeroline": false,
            "zerolinecolor": "rgb(36,36,36)"
           },
           "yaxis": {
            "backgroundcolor": "white",
            "gridcolor": "rgb(232,232,232)",
            "gridwidth": 2,
            "linecolor": "rgb(36,36,36)",
            "showbackground": true,
            "showgrid": false,
            "showline": true,
            "ticks": "outside",
            "zeroline": false,
            "zerolinecolor": "rgb(36,36,36)"
           },
           "zaxis": {
            "backgroundcolor": "white",
            "gridcolor": "rgb(232,232,232)",
            "gridwidth": 2,
            "linecolor": "rgb(36,36,36)",
            "showbackground": true,
            "showgrid": false,
            "showline": true,
            "ticks": "outside",
            "zeroline": false,
            "zerolinecolor": "rgb(36,36,36)"
           }
          },
          "shapedefaults": {
           "fillcolor": "black",
           "line": {
            "width": 0
           },
           "opacity": 0.3
          },
          "ternary": {
           "aaxis": {
            "gridcolor": "rgb(232,232,232)",
            "linecolor": "rgb(36,36,36)",
            "showgrid": false,
            "showline": true,
            "ticks": "outside"
           },
           "baxis": {
            "gridcolor": "rgb(232,232,232)",
            "linecolor": "rgb(36,36,36)",
            "showgrid": false,
            "showline": true,
            "ticks": "outside"
           },
           "bgcolor": "white",
           "caxis": {
            "gridcolor": "rgb(232,232,232)",
            "linecolor": "rgb(36,36,36)",
            "showgrid": false,
            "showline": true,
            "ticks": "outside"
           }
          },
          "title": {
           "x": 0.05
          },
          "xaxis": {
           "automargin": true,
           "gridcolor": "rgb(232,232,232)",
           "linecolor": "rgb(36,36,36)",
           "showgrid": false,
           "showline": true,
           "ticks": "outside",
           "title": {
            "standoff": 15
           },
           "zeroline": false,
           "zerolinecolor": "rgb(36,36,36)"
          },
          "yaxis": {
           "automargin": true,
           "gridcolor": "rgb(232,232,232)",
           "linecolor": "rgb(36,36,36)",
           "showgrid": false,
           "showline": true,
           "ticks": "outside",
           "title": {
            "standoff": 15
           },
           "zeroline": false,
           "zerolinecolor": "rgb(36,36,36)"
          }
         }
        },
        "title": {
         "font": {
          "color": "#ff7f00",
          "family": "Arial Bold Italic",
          "size": 15
         },
         "text": "Stand"
        },
        "width": 960,
        "xaxis": {
         "anchor": "y",
         "domain": [
          0,
          1
         ],
         "title": {
          "text": "Races"
         }
        },
        "yaxis": {
         "anchor": "x",
         "domain": [
          0,
          1
         ],
         "showgrid": true,
         "title": {
          "text": "Puntentotaal"
         }
        }
       }
      },
      "text/html": [
       "<div>                            <div id=\"1de3d2bb-52be-4c91-9e42-b89d57e22da0\" class=\"plotly-graph-div\" style=\"height:660px; width:960px;\"></div>            <script type=\"text/javascript\">                require([\"plotly\"], function(Plotly) {                    window.PLOTLYENV=window.PLOTLYENV || {};                                    if (document.getElementById(\"1de3d2bb-52be-4c91-9e42-b89d57e22da0\")) {                    Plotly.newPlot(                        \"1de3d2bb-52be-4c91-9e42-b89d57e22da0\",                        [{\"hovertemplate\":\"Arjan T.<br>Race = %{x}<br>Punten = %{y}<extra></extra>\",\"legendgroup\":\"Arjan T.\",\"line\":{\"color\":\"#1F77B4\",\"dash\":\"solid\"},\"marker\":{\"symbol\":\"circle\"},\"mode\":\"lines\",\"name\":\"Arjan T.\",\"orientation\":\"v\",\"showlegend\":true,\"x\":[\"Bahrein\",\"Saudi-Arabi\\u00eb\",\"Australi\\u00eb\"],\"xaxis\":\"x\",\"y\":[11.45,23.049999999999997,40.0],\"yaxis\":\"y\",\"type\":\"scatter\"},{\"hovertemplate\":\"Arjan Z.<br>Race = %{x}<br>Punten = %{y}<extra></extra>\",\"legendgroup\":\"Arjan Z.\",\"line\":{\"color\":\"#FF7F0E\",\"dash\":\"solid\"},\"marker\":{\"symbol\":\"circle\"},\"mode\":\"lines\",\"name\":\"Arjan Z.\",\"orientation\":\"v\",\"showlegend\":true,\"x\":[\"Bahrein\",\"Saudi-Arabi\\u00eb\",\"Australi\\u00eb\"],\"xaxis\":\"x\",\"y\":[8.0,15.775,35.45],\"yaxis\":\"y\",\"type\":\"scatter\"},{\"hovertemplate\":\"Casper<br>Race = %{x}<br>Punten = %{y}<extra></extra>\",\"legendgroup\":\"Casper\",\"line\":{\"color\":\"#2CA02C\",\"dash\":\"solid\"},\"marker\":{\"symbol\":\"circle\"},\"mode\":\"lines\",\"name\":\"Casper\",\"orientation\":\"v\",\"showlegend\":true,\"x\":[\"Bahrein\",\"Saudi-Arabi\\u00eb\",\"Australi\\u00eb\"],\"xaxis\":\"x\",\"y\":[19.75,38.85,61.3],\"yaxis\":\"y\",\"type\":\"scatter\"},{\"hovertemplate\":\"Charlotte<br>Race = %{x}<br>Punten = %{y}<extra></extra>\",\"legendgroup\":\"Charlotte\",\"line\":{\"color\":\"#D62728\",\"dash\":\"solid\"},\"marker\":{\"symbol\":\"circle\"},\"mode\":\"lines\",\"name\":\"Charlotte\",\"orientation\":\"v\",\"showlegend\":true,\"x\":[\"Bahrein\",\"Saudi-Arabi\\u00eb\",\"Australi\\u00eb\"],\"xaxis\":\"x\",\"y\":[11.0,26.2,32.5],\"yaxis\":\"y\",\"type\":\"scatter\"},{\"hovertemplate\":\"Chiel<br>Race = %{x}<br>Punten = %{y}<extra></extra>\",\"legendgroup\":\"Chiel\",\"line\":{\"color\":\"#9467BD\",\"dash\":\"solid\"},\"marker\":{\"symbol\":\"circle\"},\"mode\":\"lines\",\"name\":\"Chiel\",\"orientation\":\"v\",\"showlegend\":true,\"x\":[\"Bahrein\",\"Saudi-Arabi\\u00eb\",\"Australi\\u00eb\"],\"xaxis\":\"x\",\"y\":[21.7,39.5,61.0],\"yaxis\":\"y\",\"type\":\"scatter\"},{\"hovertemplate\":\"Corine<br>Race = %{x}<br>Punten = %{y}<extra></extra>\",\"legendgroup\":\"Corine\",\"line\":{\"color\":\"#8C564B\",\"dash\":\"solid\"},\"marker\":{\"symbol\":\"circle\"},\"mode\":\"lines\",\"name\":\"Corine\",\"orientation\":\"v\",\"showlegend\":true,\"x\":[\"Bahrein\",\"Saudi-Arabi\\u00eb\",\"Australi\\u00eb\"],\"xaxis\":\"x\",\"y\":[20.55,42.650000000000006,59.10000000000001],\"yaxis\":\"y\",\"type\":\"scatter\"},{\"hovertemplate\":\"Emily<br>Race = %{x}<br>Punten = %{y}<extra></extra>\",\"legendgroup\":\"Emily\",\"line\":{\"color\":\"#E377C2\",\"dash\":\"solid\"},\"marker\":{\"symbol\":\"circle\"},\"mode\":\"lines\",\"name\":\"Emily\",\"orientation\":\"v\",\"showlegend\":true,\"x\":[\"Bahrein\",\"Saudi-Arabi\\u00eb\",\"Australi\\u00eb\"],\"xaxis\":\"x\",\"y\":[9.0,15.775,26.450000000000003],\"yaxis\":\"y\",\"type\":\"scatter\"},{\"hovertemplate\":\"Erik<br>Race = %{x}<br>Punten = %{y}<extra></extra>\",\"legendgroup\":\"Erik\",\"line\":{\"color\":\"#7F7F7F\",\"dash\":\"solid\"},\"marker\":{\"symbol\":\"circle\"},\"mode\":\"lines\",\"name\":\"Erik\",\"orientation\":\"v\",\"showlegend\":true,\"x\":[\"Bahrein\",\"Saudi-Arabi\\u00eb\",\"Australi\\u00eb\"],\"xaxis\":\"x\",\"y\":[17.05,30.65,43.599999999999994],\"yaxis\":\"y\",\"type\":\"scatter\"},{\"hovertemplate\":\"Erwin<br>Race = %{x}<br>Punten = %{y}<extra></extra>\",\"legendgroup\":\"Erwin\",\"line\":{\"color\":\"#BCBD22\",\"dash\":\"solid\"},\"marker\":{\"symbol\":\"circle\"},\"mode\":\"lines\",\"name\":\"Erwin\",\"orientation\":\"v\",\"showlegend\":true,\"x\":[\"Bahrein\",\"Saudi-Arabi\\u00eb\",\"Australi\\u00eb\"],\"xaxis\":\"x\",\"y\":[6.8500000000000005,17.650000000000002,24.200000000000003],\"yaxis\":\"y\",\"type\":\"scatter\"},{\"hovertemplate\":\"Grietje<br>Race = %{x}<br>Punten = %{y}<extra></extra>\",\"legendgroup\":\"Grietje\",\"line\":{\"color\":\"#17BECF\",\"dash\":\"solid\"},\"marker\":{\"symbol\":\"circle\"},\"mode\":\"lines\",\"name\":\"Grietje\",\"orientation\":\"v\",\"showlegend\":true,\"x\":[\"Bahrein\",\"Saudi-Arabi\\u00eb\",\"Australi\\u00eb\"],\"xaxis\":\"x\",\"y\":[11.6,23.175,38.65],\"yaxis\":\"y\",\"type\":\"scatter\"},{\"hovertemplate\":\"Hans<br>Race = %{x}<br>Punten = %{y}<extra></extra>\",\"legendgroup\":\"Hans\",\"line\":{\"color\":\"#1F77B4\",\"dash\":\"solid\"},\"marker\":{\"symbol\":\"circle\"},\"mode\":\"lines\",\"name\":\"Hans\",\"orientation\":\"v\",\"showlegend\":true,\"x\":[\"Bahrein\",\"Saudi-Arabi\\u00eb\",\"Australi\\u00eb\"],\"xaxis\":\"x\",\"y\":[7.6,15.1,27.3],\"yaxis\":\"y\",\"type\":\"scatter\"},{\"hovertemplate\":\"Isolde<br>Race = %{x}<br>Punten = %{y}<extra></extra>\",\"legendgroup\":\"Isolde\",\"line\":{\"color\":\"#FF7F0E\",\"dash\":\"solid\"},\"marker\":{\"symbol\":\"circle\"},\"mode\":\"lines\",\"name\":\"Isolde\",\"orientation\":\"v\",\"showlegend\":true,\"x\":[\"Bahrein\",\"Saudi-Arabi\\u00eb\",\"Australi\\u00eb\"],\"xaxis\":\"x\",\"y\":[1.5999999999999999,6.1,9.3],\"yaxis\":\"y\",\"type\":\"scatter\"},{\"hovertemplate\":\"Jordi<br>Race = %{x}<br>Punten = %{y}<extra></extra>\",\"legendgroup\":\"Jordi\",\"line\":{\"color\":\"#2CA02C\",\"dash\":\"solid\"},\"marker\":{\"symbol\":\"circle\"},\"mode\":\"lines\",\"name\":\"Jordi\",\"orientation\":\"v\",\"showlegend\":true,\"x\":[\"Bahrein\",\"Saudi-Arabi\\u00eb\",\"Australi\\u00eb\"],\"xaxis\":\"x\",\"y\":[1.5999999999999999,6.1,11.3],\"yaxis\":\"y\",\"type\":\"scatter\"},{\"hovertemplate\":\"Kitty<br>Race = %{x}<br>Punten = %{y}<extra></extra>\",\"legendgroup\":\"Kitty\",\"line\":{\"color\":\"#D62728\",\"dash\":\"solid\"},\"marker\":{\"symbol\":\"circle\"},\"mode\":\"lines\",\"name\":\"Kitty\",\"orientation\":\"v\",\"showlegend\":true,\"x\":[\"Bahrein\",\"Saudi-Arabi\\u00eb\",\"Australi\\u00eb\"],\"xaxis\":\"x\",\"y\":[7.0,16.7,26.5],\"yaxis\":\"y\",\"type\":\"scatter\"},{\"hovertemplate\":\"Marco<br>Race = %{x}<br>Punten = %{y}<extra></extra>\",\"legendgroup\":\"Marco\",\"line\":{\"color\":\"#9467BD\",\"dash\":\"solid\"},\"marker\":{\"symbol\":\"circle\"},\"mode\":\"lines\",\"name\":\"Marco\",\"orientation\":\"v\",\"showlegend\":true,\"x\":[\"Bahrein\",\"Saudi-Arabi\\u00eb\",\"Australi\\u00eb\"],\"xaxis\":\"x\",\"y\":[21.55,44.650000000000006,63.10000000000001],\"yaxis\":\"y\",\"type\":\"scatter\"},{\"hovertemplate\":\"Mees<br>Race = %{x}<br>Punten = %{y}<extra></extra>\",\"legendgroup\":\"Mees\",\"line\":{\"color\":\"#8C564B\",\"dash\":\"solid\"},\"marker\":{\"symbol\":\"circle\"},\"mode\":\"lines\",\"name\":\"Mees\",\"orientation\":\"v\",\"showlegend\":true,\"x\":[\"Bahrein\",\"Saudi-Arabi\\u00eb\",\"Australi\\u00eb\"],\"xaxis\":\"x\",\"y\":[6.4,18.375,22.65],\"yaxis\":\"y\",\"type\":\"scatter\"},{\"hovertemplate\":\"Michiel<br>Race = %{x}<br>Punten = %{y}<extra></extra>\",\"legendgroup\":\"Michiel\",\"line\":{\"color\":\"#E377C2\",\"dash\":\"solid\"},\"marker\":{\"symbol\":\"circle\"},\"mode\":\"lines\",\"name\":\"Michiel\",\"orientation\":\"v\",\"showlegend\":true,\"x\":[\"Bahrein\",\"Saudi-Arabi\\u00eb\",\"Australi\\u00eb\"],\"xaxis\":\"x\",\"y\":[10.6,24.6,35.300000000000004],\"yaxis\":\"y\",\"type\":\"scatter\"},{\"hovertemplate\":\"Niels<br>Race = %{x}<br>Punten = %{y}<extra></extra>\",\"legendgroup\":\"Niels\",\"line\":{\"color\":\"#7F7F7F\",\"dash\":\"solid\"},\"marker\":{\"symbol\":\"circle\"},\"mode\":\"lines\",\"name\":\"Niels\",\"orientation\":\"v\",\"showlegend\":true,\"x\":[\"Bahrein\",\"Saudi-Arabi\\u00eb\",\"Australi\\u00eb\"],\"xaxis\":\"x\",\"y\":[17.15,37.65,54.3],\"yaxis\":\"y\",\"type\":\"scatter\"},{\"hovertemplate\":\"Raymond<br>Race = %{x}<br>Punten = %{y}<extra></extra>\",\"legendgroup\":\"Raymond\",\"line\":{\"color\":\"#BCBD22\",\"dash\":\"solid\"},\"marker\":{\"symbol\":\"circle\"},\"mode\":\"lines\",\"name\":\"Raymond\",\"orientation\":\"v\",\"showlegend\":true,\"x\":[\"Bahrein\",\"Saudi-Arabi\\u00eb\",\"Australi\\u00eb\"],\"xaxis\":\"x\",\"y\":[18.5,41.2,55.0],\"yaxis\":\"y\",\"type\":\"scatter\"},{\"hovertemplate\":\"Rodi<br>Race = %{x}<br>Punten = %{y}<extra></extra>\",\"legendgroup\":\"Rodi\",\"line\":{\"color\":\"#17BECF\",\"dash\":\"solid\"},\"marker\":{\"symbol\":\"circle\"},\"mode\":\"lines\",\"name\":\"Rodi\",\"orientation\":\"v\",\"showlegend\":true,\"x\":[\"Bahrein\",\"Saudi-Arabi\\u00eb\",\"Australi\\u00eb\"],\"xaxis\":\"x\",\"y\":[8.4,17.375,34.65],\"yaxis\":\"y\",\"type\":\"scatter\"},{\"hovertemplate\":\"Stan<br>Race = %{x}<br>Punten = %{y}<extra></extra>\",\"legendgroup\":\"Stan\",\"line\":{\"color\":\"#1F77B4\",\"dash\":\"solid\"},\"marker\":{\"symbol\":\"circle\"},\"mode\":\"lines\",\"name\":\"Stan\",\"orientation\":\"v\",\"showlegend\":true,\"x\":[\"Bahrein\",\"Saudi-Arabi\\u00eb\",\"Australi\\u00eb\"],\"xaxis\":\"x\",\"y\":[6.8,15.575,24.25],\"yaxis\":\"y\",\"type\":\"scatter\"},{\"hovertemplate\":\"Wietse<br>Race = %{x}<br>Punten = %{y}<extra></extra>\",\"legendgroup\":\"Wietse\",\"line\":{\"color\":\"#FF7F0E\",\"dash\":\"solid\"},\"marker\":{\"symbol\":\"circle\"},\"mode\":\"lines\",\"name\":\"Wietse\",\"orientation\":\"v\",\"showlegend\":true,\"x\":[\"Bahrein\",\"Saudi-Arabi\\u00eb\",\"Australi\\u00eb\"],\"xaxis\":\"x\",\"y\":[1.6,7.6,8.8],\"yaxis\":\"y\",\"type\":\"scatter\"}],                        {\"template\":{\"data\":{\"barpolar\":[{\"marker\":{\"line\":{\"color\":\"white\",\"width\":0.5},\"pattern\":{\"fillmode\":\"overlay\",\"size\":10,\"solidity\":0.2}},\"type\":\"barpolar\"}],\"bar\":[{\"error_x\":{\"color\":\"rgb(36,36,36)\"},\"error_y\":{\"color\":\"rgb(36,36,36)\"},\"marker\":{\"line\":{\"color\":\"white\",\"width\":0.5},\"pattern\":{\"fillmode\":\"overlay\",\"size\":10,\"solidity\":0.2}},\"type\":\"bar\"}],\"carpet\":[{\"aaxis\":{\"endlinecolor\":\"rgb(36,36,36)\",\"gridcolor\":\"white\",\"linecolor\":\"white\",\"minorgridcolor\":\"white\",\"startlinecolor\":\"rgb(36,36,36)\"},\"baxis\":{\"endlinecolor\":\"rgb(36,36,36)\",\"gridcolor\":\"white\",\"linecolor\":\"white\",\"minorgridcolor\":\"white\",\"startlinecolor\":\"rgb(36,36,36)\"},\"type\":\"carpet\"}],\"choropleth\":[{\"colorbar\":{\"outlinewidth\":1,\"tickcolor\":\"rgb(36,36,36)\",\"ticks\":\"outside\"},\"type\":\"choropleth\"}],\"contourcarpet\":[{\"colorbar\":{\"outlinewidth\":1,\"tickcolor\":\"rgb(36,36,36)\",\"ticks\":\"outside\"},\"type\":\"contourcarpet\"}],\"contour\":[{\"colorbar\":{\"outlinewidth\":1,\"tickcolor\":\"rgb(36,36,36)\",\"ticks\":\"outside\"},\"colorscale\":[[0.0,\"#440154\"],[0.1111111111111111,\"#482878\"],[0.2222222222222222,\"#3e4989\"],[0.3333333333333333,\"#31688e\"],[0.4444444444444444,\"#26828e\"],[0.5555555555555556,\"#1f9e89\"],[0.6666666666666666,\"#35b779\"],[0.7777777777777778,\"#6ece58\"],[0.8888888888888888,\"#b5de2b\"],[1.0,\"#fde725\"]],\"type\":\"contour\"}],\"heatmapgl\":[{\"colorbar\":{\"outlinewidth\":1,\"tickcolor\":\"rgb(36,36,36)\",\"ticks\":\"outside\"},\"colorscale\":[[0.0,\"#440154\"],[0.1111111111111111,\"#482878\"],[0.2222222222222222,\"#3e4989\"],[0.3333333333333333,\"#31688e\"],[0.4444444444444444,\"#26828e\"],[0.5555555555555556,\"#1f9e89\"],[0.6666666666666666,\"#35b779\"],[0.7777777777777778,\"#6ece58\"],[0.8888888888888888,\"#b5de2b\"],[1.0,\"#fde725\"]],\"type\":\"heatmapgl\"}],\"heatmap\":[{\"colorbar\":{\"outlinewidth\":1,\"tickcolor\":\"rgb(36,36,36)\",\"ticks\":\"outside\"},\"colorscale\":[[0.0,\"#440154\"],[0.1111111111111111,\"#482878\"],[0.2222222222222222,\"#3e4989\"],[0.3333333333333333,\"#31688e\"],[0.4444444444444444,\"#26828e\"],[0.5555555555555556,\"#1f9e89\"],[0.6666666666666666,\"#35b779\"],[0.7777777777777778,\"#6ece58\"],[0.8888888888888888,\"#b5de2b\"],[1.0,\"#fde725\"]],\"type\":\"heatmap\"}],\"histogram2dcontour\":[{\"colorbar\":{\"outlinewidth\":1,\"tickcolor\":\"rgb(36,36,36)\",\"ticks\":\"outside\"},\"colorscale\":[[0.0,\"#440154\"],[0.1111111111111111,\"#482878\"],[0.2222222222222222,\"#3e4989\"],[0.3333333333333333,\"#31688e\"],[0.4444444444444444,\"#26828e\"],[0.5555555555555556,\"#1f9e89\"],[0.6666666666666666,\"#35b779\"],[0.7777777777777778,\"#6ece58\"],[0.8888888888888888,\"#b5de2b\"],[1.0,\"#fde725\"]],\"type\":\"histogram2dcontour\"}],\"histogram2d\":[{\"colorbar\":{\"outlinewidth\":1,\"tickcolor\":\"rgb(36,36,36)\",\"ticks\":\"outside\"},\"colorscale\":[[0.0,\"#440154\"],[0.1111111111111111,\"#482878\"],[0.2222222222222222,\"#3e4989\"],[0.3333333333333333,\"#31688e\"],[0.4444444444444444,\"#26828e\"],[0.5555555555555556,\"#1f9e89\"],[0.6666666666666666,\"#35b779\"],[0.7777777777777778,\"#6ece58\"],[0.8888888888888888,\"#b5de2b\"],[1.0,\"#fde725\"]],\"type\":\"histogram2d\"}],\"histogram\":[{\"marker\":{\"line\":{\"color\":\"white\",\"width\":0.6}},\"type\":\"histogram\"}],\"mesh3d\":[{\"colorbar\":{\"outlinewidth\":1,\"tickcolor\":\"rgb(36,36,36)\",\"ticks\":\"outside\"},\"type\":\"mesh3d\"}],\"parcoords\":[{\"line\":{\"colorbar\":{\"outlinewidth\":1,\"tickcolor\":\"rgb(36,36,36)\",\"ticks\":\"outside\"}},\"type\":\"parcoords\"}],\"pie\":[{\"automargin\":true,\"type\":\"pie\"}],\"scatter3d\":[{\"line\":{\"colorbar\":{\"outlinewidth\":1,\"tickcolor\":\"rgb(36,36,36)\",\"ticks\":\"outside\"}},\"marker\":{\"colorbar\":{\"outlinewidth\":1,\"tickcolor\":\"rgb(36,36,36)\",\"ticks\":\"outside\"}},\"type\":\"scatter3d\"}],\"scattercarpet\":[{\"marker\":{\"colorbar\":{\"outlinewidth\":1,\"tickcolor\":\"rgb(36,36,36)\",\"ticks\":\"outside\"}},\"type\":\"scattercarpet\"}],\"scattergeo\":[{\"marker\":{\"colorbar\":{\"outlinewidth\":1,\"tickcolor\":\"rgb(36,36,36)\",\"ticks\":\"outside\"}},\"type\":\"scattergeo\"}],\"scattergl\":[{\"marker\":{\"colorbar\":{\"outlinewidth\":1,\"tickcolor\":\"rgb(36,36,36)\",\"ticks\":\"outside\"}},\"type\":\"scattergl\"}],\"scattermapbox\":[{\"marker\":{\"colorbar\":{\"outlinewidth\":1,\"tickcolor\":\"rgb(36,36,36)\",\"ticks\":\"outside\"}},\"type\":\"scattermapbox\"}],\"scatterpolargl\":[{\"marker\":{\"colorbar\":{\"outlinewidth\":1,\"tickcolor\":\"rgb(36,36,36)\",\"ticks\":\"outside\"}},\"type\":\"scatterpolargl\"}],\"scatterpolar\":[{\"marker\":{\"colorbar\":{\"outlinewidth\":1,\"tickcolor\":\"rgb(36,36,36)\",\"ticks\":\"outside\"}},\"type\":\"scatterpolar\"}],\"scatter\":[{\"fillpattern\":{\"fillmode\":\"overlay\",\"size\":10,\"solidity\":0.2},\"type\":\"scatter\"}],\"scatterternary\":[{\"marker\":{\"colorbar\":{\"outlinewidth\":1,\"tickcolor\":\"rgb(36,36,36)\",\"ticks\":\"outside\"}},\"type\":\"scatterternary\"}],\"surface\":[{\"colorbar\":{\"outlinewidth\":1,\"tickcolor\":\"rgb(36,36,36)\",\"ticks\":\"outside\"},\"colorscale\":[[0.0,\"#440154\"],[0.1111111111111111,\"#482878\"],[0.2222222222222222,\"#3e4989\"],[0.3333333333333333,\"#31688e\"],[0.4444444444444444,\"#26828e\"],[0.5555555555555556,\"#1f9e89\"],[0.6666666666666666,\"#35b779\"],[0.7777777777777778,\"#6ece58\"],[0.8888888888888888,\"#b5de2b\"],[1.0,\"#fde725\"]],\"type\":\"surface\"}],\"table\":[{\"cells\":{\"fill\":{\"color\":\"rgb(237,237,237)\"},\"line\":{\"color\":\"white\"}},\"header\":{\"fill\":{\"color\":\"rgb(217,217,217)\"},\"line\":{\"color\":\"white\"}},\"type\":\"table\"}]},\"layout\":{\"annotationdefaults\":{\"arrowhead\":0,\"arrowwidth\":1},\"autotypenumbers\":\"strict\",\"coloraxis\":{\"colorbar\":{\"outlinewidth\":1,\"tickcolor\":\"rgb(36,36,36)\",\"ticks\":\"outside\"}},\"colorscale\":{\"diverging\":[[0.0,\"rgb(103,0,31)\"],[0.1,\"rgb(178,24,43)\"],[0.2,\"rgb(214,96,77)\"],[0.3,\"rgb(244,165,130)\"],[0.4,\"rgb(253,219,199)\"],[0.5,\"rgb(247,247,247)\"],[0.6,\"rgb(209,229,240)\"],[0.7,\"rgb(146,197,222)\"],[0.8,\"rgb(67,147,195)\"],[0.9,\"rgb(33,102,172)\"],[1.0,\"rgb(5,48,97)\"]],\"sequential\":[[0.0,\"#440154\"],[0.1111111111111111,\"#482878\"],[0.2222222222222222,\"#3e4989\"],[0.3333333333333333,\"#31688e\"],[0.4444444444444444,\"#26828e\"],[0.5555555555555556,\"#1f9e89\"],[0.6666666666666666,\"#35b779\"],[0.7777777777777778,\"#6ece58\"],[0.8888888888888888,\"#b5de2b\"],[1.0,\"#fde725\"]],\"sequentialminus\":[[0.0,\"#440154\"],[0.1111111111111111,\"#482878\"],[0.2222222222222222,\"#3e4989\"],[0.3333333333333333,\"#31688e\"],[0.4444444444444444,\"#26828e\"],[0.5555555555555556,\"#1f9e89\"],[0.6666666666666666,\"#35b779\"],[0.7777777777777778,\"#6ece58\"],[0.8888888888888888,\"#b5de2b\"],[1.0,\"#fde725\"]]},\"colorway\":[\"#1F77B4\",\"#FF7F0E\",\"#2CA02C\",\"#D62728\",\"#9467BD\",\"#8C564B\",\"#E377C2\",\"#7F7F7F\",\"#BCBD22\",\"#17BECF\"],\"font\":{\"color\":\"rgb(36,36,36)\"},\"geo\":{\"bgcolor\":\"white\",\"lakecolor\":\"white\",\"landcolor\":\"white\",\"showlakes\":true,\"showland\":true,\"subunitcolor\":\"white\"},\"hoverlabel\":{\"align\":\"left\"},\"hovermode\":\"closest\",\"mapbox\":{\"style\":\"light\"},\"paper_bgcolor\":\"white\",\"plot_bgcolor\":\"white\",\"polar\":{\"angularaxis\":{\"gridcolor\":\"rgb(232,232,232)\",\"linecolor\":\"rgb(36,36,36)\",\"showgrid\":false,\"showline\":true,\"ticks\":\"outside\"},\"bgcolor\":\"white\",\"radialaxis\":{\"gridcolor\":\"rgb(232,232,232)\",\"linecolor\":\"rgb(36,36,36)\",\"showgrid\":false,\"showline\":true,\"ticks\":\"outside\"}},\"scene\":{\"xaxis\":{\"backgroundcolor\":\"white\",\"gridcolor\":\"rgb(232,232,232)\",\"gridwidth\":2,\"linecolor\":\"rgb(36,36,36)\",\"showbackground\":true,\"showgrid\":false,\"showline\":true,\"ticks\":\"outside\",\"zeroline\":false,\"zerolinecolor\":\"rgb(36,36,36)\"},\"yaxis\":{\"backgroundcolor\":\"white\",\"gridcolor\":\"rgb(232,232,232)\",\"gridwidth\":2,\"linecolor\":\"rgb(36,36,36)\",\"showbackground\":true,\"showgrid\":false,\"showline\":true,\"ticks\":\"outside\",\"zeroline\":false,\"zerolinecolor\":\"rgb(36,36,36)\"},\"zaxis\":{\"backgroundcolor\":\"white\",\"gridcolor\":\"rgb(232,232,232)\",\"gridwidth\":2,\"linecolor\":\"rgb(36,36,36)\",\"showbackground\":true,\"showgrid\":false,\"showline\":true,\"ticks\":\"outside\",\"zeroline\":false,\"zerolinecolor\":\"rgb(36,36,36)\"}},\"shapedefaults\":{\"fillcolor\":\"black\",\"line\":{\"width\":0},\"opacity\":0.3},\"ternary\":{\"aaxis\":{\"gridcolor\":\"rgb(232,232,232)\",\"linecolor\":\"rgb(36,36,36)\",\"showgrid\":false,\"showline\":true,\"ticks\":\"outside\"},\"baxis\":{\"gridcolor\":\"rgb(232,232,232)\",\"linecolor\":\"rgb(36,36,36)\",\"showgrid\":false,\"showline\":true,\"ticks\":\"outside\"},\"bgcolor\":\"white\",\"caxis\":{\"gridcolor\":\"rgb(232,232,232)\",\"linecolor\":\"rgb(36,36,36)\",\"showgrid\":false,\"showline\":true,\"ticks\":\"outside\"}},\"title\":{\"x\":0.05},\"xaxis\":{\"automargin\":true,\"gridcolor\":\"rgb(232,232,232)\",\"linecolor\":\"rgb(36,36,36)\",\"showgrid\":false,\"showline\":true,\"ticks\":\"outside\",\"title\":{\"standoff\":15},\"zeroline\":false,\"zerolinecolor\":\"rgb(36,36,36)\"},\"yaxis\":{\"automargin\":true,\"gridcolor\":\"rgb(232,232,232)\",\"linecolor\":\"rgb(36,36,36)\",\"showgrid\":false,\"showline\":true,\"ticks\":\"outside\",\"title\":{\"standoff\":15},\"zeroline\":false,\"zerolinecolor\":\"rgb(36,36,36)\"}}},\"xaxis\":{\"anchor\":\"y\",\"domain\":[0.0,1.0],\"title\":{\"text\":\"Races\"}},\"yaxis\":{\"anchor\":\"x\",\"domain\":[0.0,1.0],\"title\":{\"text\":\"Puntentotaal\"},\"showgrid\":true},\"legend\":{\"title\":{\"text\":\"Teams\"},\"tracegroupgap\":0},\"title\":{\"text\":\"Stand\",\"font\":{\"color\":\"#ff7f00\",\"size\":15,\"family\":\"Arial Bold Italic\"}},\"height\":660,\"width\":960,\"plot_bgcolor\":\"rgba(224, 224, 224, 1)\",\"paper_bgcolor\":\"rgba(224, 224, 224, 1)\",\"font\":{\"size\":11}},                        {\"responsive\": true}                    ).then(function(){\n",
       "                            \n",
       "var gd = document.getElementById('1de3d2bb-52be-4c91-9e42-b89d57e22da0');\n",
       "var x = new MutationObserver(function (mutations, observer) {{\n",
       "        var display = window.getComputedStyle(gd).display;\n",
       "        if (!display || display === 'none') {{\n",
       "            console.log([gd, 'removed!']);\n",
       "            Plotly.purge(gd);\n",
       "            observer.disconnect();\n",
       "        }}\n",
       "}});\n",
       "\n",
       "// Listen for the removal of the full notebook cells\n",
       "var notebookContainer = gd.closest('#notebook-container');\n",
       "if (notebookContainer) {{\n",
       "    x.observe(notebookContainer, {childList: true});\n",
       "}}\n",
       "\n",
       "// Listen for the clearing of the current output cell\n",
       "var outputEl = gd.closest('.output');\n",
       "if (outputEl) {{\n",
       "    x.observe(outputEl, {childList: true});\n",
       "}}\n",
       "\n",
       "                        })                };                });            </script>        </div>"
      ]
     },
     "metadata": {},
     "output_type": "display_data"
    }
   ],
   "source": [
    "discrete_colors = px.colors.sample_colorscale('Bluered', np.arange(0.5, 21.5) / 22)\n",
    "\n",
    "fig = px.line(\n",
    "    df_score_cumsum, template='simple_white',\n",
    "    title=\"Stand\",\n",
    "    labels={ \"team\" : \"Teams\" },\n",
    "    width=fig_width, height=660)#, color_discrete_map=discrete_colors)\n",
    "\n",
    "fig.update_layout(xaxis_title=\"Races\") \n",
    "fig.update_layout(yaxis_title=\"Puntentotaal\")\n",
    "make_acwef1_proof(fig)\n",
    "\n",
    "for idx, name in enumerate(fig.data):\n",
    "    fig.data[idx].hovertemplate = fig.data[idx].name + \"<br>Race = %{x}<br>Punten = %{y}<extra></extra>\"\n",
    "\n",
    "if fig_write:\n",
    "    fig.write_html(\"totale_punten_lijn.html\", full_html=False, include_plotlyjs='cdn')\n",
    "fig.show()"
   ]
  },
  {
   "cell_type": "code",
   "execution_count": 29,
   "id": "e1293a57",
   "metadata": {},
   "outputs": [
    {
     "data": {
      "application/vnd.plotly.v1+json": {
       "config": {
        "plotlyServerURL": "https://plot.ly"
       },
       "data": [
        {
         "alignmentgroup": "True",
         "bingroup": "x",
         "histfunc": "sum",
         "hovertemplate": "Bahrein<br>Punten = %{y}<extra></extra>",
         "legendgroup": "Bahrein",
         "marker": {
          "color": "#1F77B4",
          "pattern": {
           "shape": ""
          }
         },
         "name": "Bahrein",
         "offsetgroup": "Bahrein",
         "orientation": "v",
         "showlegend": true,
         "type": "histogram",
         "x": [
          "Chiel",
          "Marco",
          "Corine",
          "Casper",
          "Raymond",
          "Niels",
          "Erik",
          "Grietje",
          "Arjan T.",
          "Charlotte",
          "Michiel",
          "Emily",
          "Rodi",
          "Arjan Z.",
          "Hans",
          "Kitty",
          "Stan",
          "Erwin",
          "Mees",
          "Jordi",
          "Wietse",
          "Isolde",
          "Chiel",
          "Marco",
          "Corine",
          "Casper",
          "Raymond",
          "Niels",
          "Erik",
          "Grietje",
          "Arjan T.",
          "Charlotte",
          "Michiel",
          "Emily",
          "Rodi",
          "Arjan Z.",
          "Hans",
          "Kitty",
          "Stan",
          "Erwin",
          "Mees",
          "Jordi",
          "Wietse",
          "Isolde",
          "Chiel",
          "Marco",
          "Corine",
          "Casper",
          "Raymond",
          "Niels",
          "Erik",
          "Grietje",
          "Arjan T.",
          "Charlotte",
          "Michiel",
          "Emily",
          "Rodi",
          "Arjan Z.",
          "Hans",
          "Kitty",
          "Stan",
          "Erwin",
          "Mees",
          "Jordi",
          "Wietse",
          "Isolde",
          "Chiel",
          "Marco",
          "Corine",
          "Casper",
          "Raymond",
          "Niels",
          "Erik",
          "Grietje",
          "Arjan T.",
          "Charlotte",
          "Michiel",
          "Emily",
          "Rodi",
          "Arjan Z.",
          "Hans",
          "Kitty",
          "Stan",
          "Erwin",
          "Mees",
          "Jordi",
          "Wietse",
          "Isolde"
         ],
         "xaxis": "x",
         "y": [
          7.5,
          3,
          9,
          5,
          9,
          0,
          6,
          0,
          0,
          9,
          9,
          6,
          0,
          0,
          5,
          5,
          0,
          0,
          3,
          0,
          0,
          0,
          4,
          7.5,
          0.5,
          7.5,
          7.5,
          7.5,
          0,
          0,
          5,
          0,
          0,
          0,
          5,
          5,
          1,
          0,
          3,
          0,
          0,
          0,
          1,
          0,
          8.6,
          4.6000000000000005,
          4.6000000000000005,
          0.8,
          0.4,
          3.2,
          4.6000000000000005,
          8.6,
          0,
          0.4,
          0,
          0,
          0.4,
          0,
          0,
          0.4,
          0.8,
          0.4,
          0.4,
          0,
          0,
          0,
          1.5999999999999999,
          6.45,
          6.45,
          6.45,
          1.5999999999999999,
          6.45,
          6.45,
          3,
          6.45,
          1.5999999999999999,
          1.5999999999999999,
          3,
          3,
          3,
          1.5999999999999999,
          1.5999999999999999,
          3,
          6.45,
          3,
          1.5999999999999999,
          0.6,
          1.5999999999999999
         ],
         "yaxis": "y"
        },
        {
         "alignmentgroup": "True",
         "bingroup": "x",
         "histfunc": "sum",
         "hovertemplate": "Saudi-Arabië<br>Punten = %{y}<extra></extra>",
         "legendgroup": "Saudi-Arabië",
         "marker": {
          "color": "#FF7F0E",
          "pattern": {
           "shape": ""
          }
         },
         "name": "Saudi-Arabië",
         "offsetgroup": "Saudi-Arabië",
         "orientation": "v",
         "showlegend": true,
         "type": "histogram",
         "x": [
          "Chiel",
          "Marco",
          "Corine",
          "Casper",
          "Raymond",
          "Niels",
          "Erik",
          "Grietje",
          "Arjan T.",
          "Charlotte",
          "Michiel",
          "Emily",
          "Rodi",
          "Arjan Z.",
          "Hans",
          "Kitty",
          "Stan",
          "Erwin",
          "Mees",
          "Jordi",
          "Wietse",
          "Isolde",
          "Chiel",
          "Marco",
          "Corine",
          "Casper",
          "Raymond",
          "Niels",
          "Erik",
          "Grietje",
          "Arjan T.",
          "Charlotte",
          "Michiel",
          "Emily",
          "Rodi",
          "Arjan Z.",
          "Hans",
          "Kitty",
          "Stan",
          "Erwin",
          "Mees",
          "Jordi",
          "Wietse",
          "Isolde",
          "Chiel",
          "Marco",
          "Corine",
          "Casper",
          "Raymond",
          "Niels",
          "Erik",
          "Grietje",
          "Arjan T.",
          "Charlotte",
          "Michiel",
          "Emily",
          "Rodi",
          "Arjan Z.",
          "Hans",
          "Kitty",
          "Stan",
          "Erwin",
          "Mees",
          "Jordi",
          "Wietse",
          "Isolde",
          "Chiel",
          "Marco",
          "Corine",
          "Casper",
          "Raymond",
          "Niels",
          "Erik",
          "Grietje",
          "Arjan T.",
          "Charlotte",
          "Michiel",
          "Emily",
          "Rodi",
          "Arjan Z.",
          "Hans",
          "Kitty",
          "Stan",
          "Erwin",
          "Mees",
          "Jordi",
          "Wietse",
          "Isolde"
         ],
         "xaxis": "x",
         "y": [
          7.5,
          6,
          12.5,
          5,
          12.5,
          2,
          4,
          0,
          0,
          12.5,
          12.5,
          4,
          0,
          0,
          5,
          5,
          0,
          3,
          6,
          3,
          3,
          3,
          0,
          7.5,
          0,
          7.5,
          7.5,
          7.5,
          0,
          0,
          5,
          0,
          0,
          0,
          5,
          5,
          1,
          2,
          6,
          0,
          2,
          0,
          1,
          0,
          8.8,
          3,
          3,
          0,
          1.2000000000000002,
          4.4,
          3,
          8.8,
          0,
          1.2000000000000002,
          0,
          0,
          1.2000000000000002,
          0,
          0,
          1.2000000000000002,
          0,
          1.2000000000000002,
          1.2000000000000002,
          0,
          0.2,
          0,
          1.5,
          6.6,
          6.6,
          6.6,
          1.5,
          6.6,
          6.6,
          2.775,
          6.6,
          1.5,
          1.5,
          2.775,
          2.775,
          2.775,
          1.5,
          1.5,
          2.775,
          6.6,
          2.775,
          1.5,
          1.7999999999999998,
          1.5
         ],
         "yaxis": "y"
        },
        {
         "alignmentgroup": "True",
         "bingroup": "x",
         "histfunc": "sum",
         "hovertemplate": "Australië<br>Punten = %{y}<extra></extra>",
         "legendgroup": "Australië",
         "marker": {
          "color": "#2CA02C",
          "pattern": {
           "shape": ""
          }
         },
         "name": "Australië",
         "offsetgroup": "Australië",
         "orientation": "v",
         "showlegend": true,
         "type": "histogram",
         "x": [
          "Chiel",
          "Marco",
          "Corine",
          "Casper",
          "Raymond",
          "Niels",
          "Erik",
          "Grietje",
          "Arjan T.",
          "Charlotte",
          "Michiel",
          "Emily",
          "Rodi",
          "Arjan Z.",
          "Hans",
          "Kitty",
          "Stan",
          "Erwin",
          "Mees",
          "Jordi",
          "Wietse",
          "Isolde",
          "Chiel",
          "Marco",
          "Corine",
          "Casper",
          "Raymond",
          "Niels",
          "Erik",
          "Grietje",
          "Arjan T.",
          "Charlotte",
          "Michiel",
          "Emily",
          "Rodi",
          "Arjan Z.",
          "Hans",
          "Kitty",
          "Stan",
          "Erwin",
          "Mees",
          "Jordi",
          "Wietse",
          "Isolde",
          "Chiel",
          "Marco",
          "Corine",
          "Casper",
          "Raymond",
          "Niels",
          "Erik",
          "Grietje",
          "Arjan T.",
          "Charlotte",
          "Michiel",
          "Emily",
          "Rodi",
          "Arjan Z.",
          "Hans",
          "Kitty",
          "Stan",
          "Erwin",
          "Mees",
          "Jordi",
          "Wietse",
          "Isolde",
          "Chiel",
          "Marco",
          "Corine",
          "Casper",
          "Raymond",
          "Niels",
          "Erik",
          "Grietje",
          "Arjan T.",
          "Charlotte",
          "Michiel",
          "Emily",
          "Rodi",
          "Arjan Z.",
          "Hans",
          "Kitty",
          "Stan",
          "Erwin",
          "Mees",
          "Jordi",
          "Wietse",
          "Isolde"
         ],
         "xaxis": "x",
         "y": [
          7.5,
          0,
          5.5,
          9,
          5.5,
          0,
          0,
          4,
          0,
          5.5,
          5.5,
          0,
          4,
          4,
          9,
          9,
          4,
          0,
          0,
          0,
          0,
          0,
          6,
          7.5,
          0,
          7.5,
          7.5,
          7.5,
          2,
          0,
          9,
          0,
          2,
          4,
          9,
          9,
          0,
          0,
          0,
          1,
          0,
          2,
          0,
          0,
          7.2,
          5.4,
          5.4,
          0.4,
          0,
          3.6,
          5.4,
          7.2,
          2.4000000000000004,
          0,
          2.4000000000000004,
          2.4000000000000004,
          0,
          2.4000000000000004,
          2.4000000000000004,
          0,
          0.4,
          0,
          0,
          2.4000000000000004,
          1.2000000000000002,
          2.4000000000000004,
          0.7999999999999999,
          5.55,
          5.55,
          5.55,
          0.7999999999999999,
          5.55,
          5.55,
          4.2749999999999995,
          5.55,
          0.7999999999999999,
          0.7999999999999999,
          4.2749999999999995,
          4.2749999999999995,
          4.2749999999999995,
          0.7999999999999999,
          0.7999999999999999,
          4.2749999999999995,
          5.55,
          4.2749999999999995,
          0.7999999999999999,
          0,
          0.7999999999999999
         ],
         "yaxis": "y"
        }
       ],
       "layout": {
        "barmode": "relative",
        "font": {
         "size": 11
        },
        "height": 660,
        "legend": {
         "title": {
          "text": "Races"
         },
         "tracegroupgap": 0
        },
        "paper_bgcolor": "rgba(224, 224, 224, 1)",
        "plot_bgcolor": "rgba(224, 224, 224, 1)",
        "template": {
         "data": {
          "bar": [
           {
            "error_x": {
             "color": "rgb(36,36,36)"
            },
            "error_y": {
             "color": "rgb(36,36,36)"
            },
            "marker": {
             "line": {
              "color": "white",
              "width": 0.5
             },
             "pattern": {
              "fillmode": "overlay",
              "size": 10,
              "solidity": 0.2
             }
            },
            "type": "bar"
           }
          ],
          "barpolar": [
           {
            "marker": {
             "line": {
              "color": "white",
              "width": 0.5
             },
             "pattern": {
              "fillmode": "overlay",
              "size": 10,
              "solidity": 0.2
             }
            },
            "type": "barpolar"
           }
          ],
          "carpet": [
           {
            "aaxis": {
             "endlinecolor": "rgb(36,36,36)",
             "gridcolor": "white",
             "linecolor": "white",
             "minorgridcolor": "white",
             "startlinecolor": "rgb(36,36,36)"
            },
            "baxis": {
             "endlinecolor": "rgb(36,36,36)",
             "gridcolor": "white",
             "linecolor": "white",
             "minorgridcolor": "white",
             "startlinecolor": "rgb(36,36,36)"
            },
            "type": "carpet"
           }
          ],
          "choropleth": [
           {
            "colorbar": {
             "outlinewidth": 1,
             "tickcolor": "rgb(36,36,36)",
             "ticks": "outside"
            },
            "type": "choropleth"
           }
          ],
          "contour": [
           {
            "colorbar": {
             "outlinewidth": 1,
             "tickcolor": "rgb(36,36,36)",
             "ticks": "outside"
            },
            "colorscale": [
             [
              0,
              "#440154"
             ],
             [
              0.1111111111111111,
              "#482878"
             ],
             [
              0.2222222222222222,
              "#3e4989"
             ],
             [
              0.3333333333333333,
              "#31688e"
             ],
             [
              0.4444444444444444,
              "#26828e"
             ],
             [
              0.5555555555555556,
              "#1f9e89"
             ],
             [
              0.6666666666666666,
              "#35b779"
             ],
             [
              0.7777777777777778,
              "#6ece58"
             ],
             [
              0.8888888888888888,
              "#b5de2b"
             ],
             [
              1,
              "#fde725"
             ]
            ],
            "type": "contour"
           }
          ],
          "contourcarpet": [
           {
            "colorbar": {
             "outlinewidth": 1,
             "tickcolor": "rgb(36,36,36)",
             "ticks": "outside"
            },
            "type": "contourcarpet"
           }
          ],
          "heatmap": [
           {
            "colorbar": {
             "outlinewidth": 1,
             "tickcolor": "rgb(36,36,36)",
             "ticks": "outside"
            },
            "colorscale": [
             [
              0,
              "#440154"
             ],
             [
              0.1111111111111111,
              "#482878"
             ],
             [
              0.2222222222222222,
              "#3e4989"
             ],
             [
              0.3333333333333333,
              "#31688e"
             ],
             [
              0.4444444444444444,
              "#26828e"
             ],
             [
              0.5555555555555556,
              "#1f9e89"
             ],
             [
              0.6666666666666666,
              "#35b779"
             ],
             [
              0.7777777777777778,
              "#6ece58"
             ],
             [
              0.8888888888888888,
              "#b5de2b"
             ],
             [
              1,
              "#fde725"
             ]
            ],
            "type": "heatmap"
           }
          ],
          "heatmapgl": [
           {
            "colorbar": {
             "outlinewidth": 1,
             "tickcolor": "rgb(36,36,36)",
             "ticks": "outside"
            },
            "colorscale": [
             [
              0,
              "#440154"
             ],
             [
              0.1111111111111111,
              "#482878"
             ],
             [
              0.2222222222222222,
              "#3e4989"
             ],
             [
              0.3333333333333333,
              "#31688e"
             ],
             [
              0.4444444444444444,
              "#26828e"
             ],
             [
              0.5555555555555556,
              "#1f9e89"
             ],
             [
              0.6666666666666666,
              "#35b779"
             ],
             [
              0.7777777777777778,
              "#6ece58"
             ],
             [
              0.8888888888888888,
              "#b5de2b"
             ],
             [
              1,
              "#fde725"
             ]
            ],
            "type": "heatmapgl"
           }
          ],
          "histogram": [
           {
            "marker": {
             "line": {
              "color": "white",
              "width": 0.6
             }
            },
            "type": "histogram"
           }
          ],
          "histogram2d": [
           {
            "colorbar": {
             "outlinewidth": 1,
             "tickcolor": "rgb(36,36,36)",
             "ticks": "outside"
            },
            "colorscale": [
             [
              0,
              "#440154"
             ],
             [
              0.1111111111111111,
              "#482878"
             ],
             [
              0.2222222222222222,
              "#3e4989"
             ],
             [
              0.3333333333333333,
              "#31688e"
             ],
             [
              0.4444444444444444,
              "#26828e"
             ],
             [
              0.5555555555555556,
              "#1f9e89"
             ],
             [
              0.6666666666666666,
              "#35b779"
             ],
             [
              0.7777777777777778,
              "#6ece58"
             ],
             [
              0.8888888888888888,
              "#b5de2b"
             ],
             [
              1,
              "#fde725"
             ]
            ],
            "type": "histogram2d"
           }
          ],
          "histogram2dcontour": [
           {
            "colorbar": {
             "outlinewidth": 1,
             "tickcolor": "rgb(36,36,36)",
             "ticks": "outside"
            },
            "colorscale": [
             [
              0,
              "#440154"
             ],
             [
              0.1111111111111111,
              "#482878"
             ],
             [
              0.2222222222222222,
              "#3e4989"
             ],
             [
              0.3333333333333333,
              "#31688e"
             ],
             [
              0.4444444444444444,
              "#26828e"
             ],
             [
              0.5555555555555556,
              "#1f9e89"
             ],
             [
              0.6666666666666666,
              "#35b779"
             ],
             [
              0.7777777777777778,
              "#6ece58"
             ],
             [
              0.8888888888888888,
              "#b5de2b"
             ],
             [
              1,
              "#fde725"
             ]
            ],
            "type": "histogram2dcontour"
           }
          ],
          "mesh3d": [
           {
            "colorbar": {
             "outlinewidth": 1,
             "tickcolor": "rgb(36,36,36)",
             "ticks": "outside"
            },
            "type": "mesh3d"
           }
          ],
          "parcoords": [
           {
            "line": {
             "colorbar": {
              "outlinewidth": 1,
              "tickcolor": "rgb(36,36,36)",
              "ticks": "outside"
             }
            },
            "type": "parcoords"
           }
          ],
          "pie": [
           {
            "automargin": true,
            "type": "pie"
           }
          ],
          "scatter": [
           {
            "fillpattern": {
             "fillmode": "overlay",
             "size": 10,
             "solidity": 0.2
            },
            "type": "scatter"
           }
          ],
          "scatter3d": [
           {
            "line": {
             "colorbar": {
              "outlinewidth": 1,
              "tickcolor": "rgb(36,36,36)",
              "ticks": "outside"
             }
            },
            "marker": {
             "colorbar": {
              "outlinewidth": 1,
              "tickcolor": "rgb(36,36,36)",
              "ticks": "outside"
             }
            },
            "type": "scatter3d"
           }
          ],
          "scattercarpet": [
           {
            "marker": {
             "colorbar": {
              "outlinewidth": 1,
              "tickcolor": "rgb(36,36,36)",
              "ticks": "outside"
             }
            },
            "type": "scattercarpet"
           }
          ],
          "scattergeo": [
           {
            "marker": {
             "colorbar": {
              "outlinewidth": 1,
              "tickcolor": "rgb(36,36,36)",
              "ticks": "outside"
             }
            },
            "type": "scattergeo"
           }
          ],
          "scattergl": [
           {
            "marker": {
             "colorbar": {
              "outlinewidth": 1,
              "tickcolor": "rgb(36,36,36)",
              "ticks": "outside"
             }
            },
            "type": "scattergl"
           }
          ],
          "scattermapbox": [
           {
            "marker": {
             "colorbar": {
              "outlinewidth": 1,
              "tickcolor": "rgb(36,36,36)",
              "ticks": "outside"
             }
            },
            "type": "scattermapbox"
           }
          ],
          "scatterpolar": [
           {
            "marker": {
             "colorbar": {
              "outlinewidth": 1,
              "tickcolor": "rgb(36,36,36)",
              "ticks": "outside"
             }
            },
            "type": "scatterpolar"
           }
          ],
          "scatterpolargl": [
           {
            "marker": {
             "colorbar": {
              "outlinewidth": 1,
              "tickcolor": "rgb(36,36,36)",
              "ticks": "outside"
             }
            },
            "type": "scatterpolargl"
           }
          ],
          "scatterternary": [
           {
            "marker": {
             "colorbar": {
              "outlinewidth": 1,
              "tickcolor": "rgb(36,36,36)",
              "ticks": "outside"
             }
            },
            "type": "scatterternary"
           }
          ],
          "surface": [
           {
            "colorbar": {
             "outlinewidth": 1,
             "tickcolor": "rgb(36,36,36)",
             "ticks": "outside"
            },
            "colorscale": [
             [
              0,
              "#440154"
             ],
             [
              0.1111111111111111,
              "#482878"
             ],
             [
              0.2222222222222222,
              "#3e4989"
             ],
             [
              0.3333333333333333,
              "#31688e"
             ],
             [
              0.4444444444444444,
              "#26828e"
             ],
             [
              0.5555555555555556,
              "#1f9e89"
             ],
             [
              0.6666666666666666,
              "#35b779"
             ],
             [
              0.7777777777777778,
              "#6ece58"
             ],
             [
              0.8888888888888888,
              "#b5de2b"
             ],
             [
              1,
              "#fde725"
             ]
            ],
            "type": "surface"
           }
          ],
          "table": [
           {
            "cells": {
             "fill": {
              "color": "rgb(237,237,237)"
             },
             "line": {
              "color": "white"
             }
            },
            "header": {
             "fill": {
              "color": "rgb(217,217,217)"
             },
             "line": {
              "color": "white"
             }
            },
            "type": "table"
           }
          ]
         },
         "layout": {
          "annotationdefaults": {
           "arrowhead": 0,
           "arrowwidth": 1
          },
          "autotypenumbers": "strict",
          "coloraxis": {
           "colorbar": {
            "outlinewidth": 1,
            "tickcolor": "rgb(36,36,36)",
            "ticks": "outside"
           }
          },
          "colorscale": {
           "diverging": [
            [
             0,
             "rgb(103,0,31)"
            ],
            [
             0.1,
             "rgb(178,24,43)"
            ],
            [
             0.2,
             "rgb(214,96,77)"
            ],
            [
             0.3,
             "rgb(244,165,130)"
            ],
            [
             0.4,
             "rgb(253,219,199)"
            ],
            [
             0.5,
             "rgb(247,247,247)"
            ],
            [
             0.6,
             "rgb(209,229,240)"
            ],
            [
             0.7,
             "rgb(146,197,222)"
            ],
            [
             0.8,
             "rgb(67,147,195)"
            ],
            [
             0.9,
             "rgb(33,102,172)"
            ],
            [
             1,
             "rgb(5,48,97)"
            ]
           ],
           "sequential": [
            [
             0,
             "#440154"
            ],
            [
             0.1111111111111111,
             "#482878"
            ],
            [
             0.2222222222222222,
             "#3e4989"
            ],
            [
             0.3333333333333333,
             "#31688e"
            ],
            [
             0.4444444444444444,
             "#26828e"
            ],
            [
             0.5555555555555556,
             "#1f9e89"
            ],
            [
             0.6666666666666666,
             "#35b779"
            ],
            [
             0.7777777777777778,
             "#6ece58"
            ],
            [
             0.8888888888888888,
             "#b5de2b"
            ],
            [
             1,
             "#fde725"
            ]
           ],
           "sequentialminus": [
            [
             0,
             "#440154"
            ],
            [
             0.1111111111111111,
             "#482878"
            ],
            [
             0.2222222222222222,
             "#3e4989"
            ],
            [
             0.3333333333333333,
             "#31688e"
            ],
            [
             0.4444444444444444,
             "#26828e"
            ],
            [
             0.5555555555555556,
             "#1f9e89"
            ],
            [
             0.6666666666666666,
             "#35b779"
            ],
            [
             0.7777777777777778,
             "#6ece58"
            ],
            [
             0.8888888888888888,
             "#b5de2b"
            ],
            [
             1,
             "#fde725"
            ]
           ]
          },
          "colorway": [
           "#1F77B4",
           "#FF7F0E",
           "#2CA02C",
           "#D62728",
           "#9467BD",
           "#8C564B",
           "#E377C2",
           "#7F7F7F",
           "#BCBD22",
           "#17BECF"
          ],
          "font": {
           "color": "rgb(36,36,36)"
          },
          "geo": {
           "bgcolor": "white",
           "lakecolor": "white",
           "landcolor": "white",
           "showlakes": true,
           "showland": true,
           "subunitcolor": "white"
          },
          "hoverlabel": {
           "align": "left"
          },
          "hovermode": "closest",
          "mapbox": {
           "style": "light"
          },
          "paper_bgcolor": "white",
          "plot_bgcolor": "white",
          "polar": {
           "angularaxis": {
            "gridcolor": "rgb(232,232,232)",
            "linecolor": "rgb(36,36,36)",
            "showgrid": false,
            "showline": true,
            "ticks": "outside"
           },
           "bgcolor": "white",
           "radialaxis": {
            "gridcolor": "rgb(232,232,232)",
            "linecolor": "rgb(36,36,36)",
            "showgrid": false,
            "showline": true,
            "ticks": "outside"
           }
          },
          "scene": {
           "xaxis": {
            "backgroundcolor": "white",
            "gridcolor": "rgb(232,232,232)",
            "gridwidth": 2,
            "linecolor": "rgb(36,36,36)",
            "showbackground": true,
            "showgrid": false,
            "showline": true,
            "ticks": "outside",
            "zeroline": false,
            "zerolinecolor": "rgb(36,36,36)"
           },
           "yaxis": {
            "backgroundcolor": "white",
            "gridcolor": "rgb(232,232,232)",
            "gridwidth": 2,
            "linecolor": "rgb(36,36,36)",
            "showbackground": true,
            "showgrid": false,
            "showline": true,
            "ticks": "outside",
            "zeroline": false,
            "zerolinecolor": "rgb(36,36,36)"
           },
           "zaxis": {
            "backgroundcolor": "white",
            "gridcolor": "rgb(232,232,232)",
            "gridwidth": 2,
            "linecolor": "rgb(36,36,36)",
            "showbackground": true,
            "showgrid": false,
            "showline": true,
            "ticks": "outside",
            "zeroline": false,
            "zerolinecolor": "rgb(36,36,36)"
           }
          },
          "shapedefaults": {
           "fillcolor": "black",
           "line": {
            "width": 0
           },
           "opacity": 0.3
          },
          "ternary": {
           "aaxis": {
            "gridcolor": "rgb(232,232,232)",
            "linecolor": "rgb(36,36,36)",
            "showgrid": false,
            "showline": true,
            "ticks": "outside"
           },
           "baxis": {
            "gridcolor": "rgb(232,232,232)",
            "linecolor": "rgb(36,36,36)",
            "showgrid": false,
            "showline": true,
            "ticks": "outside"
           },
           "bgcolor": "white",
           "caxis": {
            "gridcolor": "rgb(232,232,232)",
            "linecolor": "rgb(36,36,36)",
            "showgrid": false,
            "showline": true,
            "ticks": "outside"
           }
          },
          "title": {
           "x": 0.05
          },
          "xaxis": {
           "automargin": true,
           "gridcolor": "rgb(232,232,232)",
           "linecolor": "rgb(36,36,36)",
           "showgrid": false,
           "showline": true,
           "ticks": "outside",
           "title": {
            "standoff": 15
           },
           "zeroline": false,
           "zerolinecolor": "rgb(36,36,36)"
          },
          "yaxis": {
           "automargin": true,
           "gridcolor": "rgb(232,232,232)",
           "linecolor": "rgb(36,36,36)",
           "showgrid": false,
           "showline": true,
           "ticks": "outside",
           "title": {
            "standoff": 15
           },
           "zeroline": false,
           "zerolinecolor": "rgb(36,36,36)"
          }
         }
        },
        "title": {
         "font": {
          "color": "#ff7f00",
          "family": "Arial Bold Italic",
          "size": 15
         },
         "text": "Stand"
        },
        "width": 960,
        "xaxis": {
         "anchor": "y",
         "categoryarray": [
          "Marco",
          "Casper",
          "Chiel",
          "Corine",
          "Raymond",
          "Niels",
          "Erik",
          "Arjan T.",
          "Grietje",
          "Arjan Z.",
          "Michiel",
          "Rodi",
          "Charlotte",
          "Hans",
          "Kitty",
          "Emily",
          "Stan",
          "Erwin",
          "Mees",
          "Jordi",
          "Isolde",
          "Wietse"
         ],
         "categoryorder": "array",
         "domain": [
          0,
          1
         ],
         "title": {
          "text": "Teams"
         }
        },
        "yaxis": {
         "anchor": "x",
         "domain": [
          0,
          1
         ],
         "showgrid": true,
         "title": {
          "text": "Puntentotaal"
         }
        }
       }
      },
      "text/html": [
       "<div>                            <div id=\"87e7b6cf-4ec7-4346-9623-b6b610b16d19\" class=\"plotly-graph-div\" style=\"height:660px; width:960px;\"></div>            <script type=\"text/javascript\">                require([\"plotly\"], function(Plotly) {                    window.PLOTLYENV=window.PLOTLYENV || {};                                    if (document.getElementById(\"87e7b6cf-4ec7-4346-9623-b6b610b16d19\")) {                    Plotly.newPlot(                        \"87e7b6cf-4ec7-4346-9623-b6b610b16d19\",                        [{\"alignmentgroup\":\"True\",\"bingroup\":\"x\",\"histfunc\":\"sum\",\"hovertemplate\":\"Bahrein<br>Punten = %{y}<extra></extra>\",\"legendgroup\":\"Bahrein\",\"marker\":{\"color\":\"#1F77B4\",\"pattern\":{\"shape\":\"\"}},\"name\":\"Bahrein\",\"offsetgroup\":\"Bahrein\",\"orientation\":\"v\",\"showlegend\":true,\"x\":[\"Chiel\",\"Marco\",\"Corine\",\"Casper\",\"Raymond\",\"Niels\",\"Erik\",\"Grietje\",\"Arjan T.\",\"Charlotte\",\"Michiel\",\"Emily\",\"Rodi\",\"Arjan Z.\",\"Hans\",\"Kitty\",\"Stan\",\"Erwin\",\"Mees\",\"Jordi\",\"Wietse\",\"Isolde\",\"Chiel\",\"Marco\",\"Corine\",\"Casper\",\"Raymond\",\"Niels\",\"Erik\",\"Grietje\",\"Arjan T.\",\"Charlotte\",\"Michiel\",\"Emily\",\"Rodi\",\"Arjan Z.\",\"Hans\",\"Kitty\",\"Stan\",\"Erwin\",\"Mees\",\"Jordi\",\"Wietse\",\"Isolde\",\"Chiel\",\"Marco\",\"Corine\",\"Casper\",\"Raymond\",\"Niels\",\"Erik\",\"Grietje\",\"Arjan T.\",\"Charlotte\",\"Michiel\",\"Emily\",\"Rodi\",\"Arjan Z.\",\"Hans\",\"Kitty\",\"Stan\",\"Erwin\",\"Mees\",\"Jordi\",\"Wietse\",\"Isolde\",\"Chiel\",\"Marco\",\"Corine\",\"Casper\",\"Raymond\",\"Niels\",\"Erik\",\"Grietje\",\"Arjan T.\",\"Charlotte\",\"Michiel\",\"Emily\",\"Rodi\",\"Arjan Z.\",\"Hans\",\"Kitty\",\"Stan\",\"Erwin\",\"Mees\",\"Jordi\",\"Wietse\",\"Isolde\"],\"xaxis\":\"x\",\"y\":[7.5,3.0,9.0,5.0,9.0,0.0,6.0,0.0,0.0,9.0,9.0,6.0,0.0,0.0,5.0,5.0,0.0,0.0,3.0,0.0,0.0,0.0,4.0,7.5,0.5,7.5,7.5,7.5,0.0,0.0,5.0,0.0,0.0,0.0,5.0,5.0,1.0,0.0,3.0,0.0,0.0,0.0,1.0,0.0,8.6,4.6000000000000005,4.6000000000000005,0.8,0.4,3.2,4.6000000000000005,8.6,0.0,0.4,0.0,0.0,0.4,0.0,0.0,0.4,0.8,0.4,0.4,0.0,0.0,0.0,1.5999999999999999,6.45,6.45,6.45,1.5999999999999999,6.45,6.45,3.0,6.45,1.5999999999999999,1.5999999999999999,3.0,3.0,3.0,1.5999999999999999,1.5999999999999999,3.0,6.45,3.0,1.5999999999999999,0.6,1.5999999999999999],\"yaxis\":\"y\",\"type\":\"histogram\"},{\"alignmentgroup\":\"True\",\"bingroup\":\"x\",\"histfunc\":\"sum\",\"hovertemplate\":\"Saudi-Arabi\\u00eb<br>Punten = %{y}<extra></extra>\",\"legendgroup\":\"Saudi-Arabi\\u00eb\",\"marker\":{\"color\":\"#FF7F0E\",\"pattern\":{\"shape\":\"\"}},\"name\":\"Saudi-Arabi\\u00eb\",\"offsetgroup\":\"Saudi-Arabi\\u00eb\",\"orientation\":\"v\",\"showlegend\":true,\"x\":[\"Chiel\",\"Marco\",\"Corine\",\"Casper\",\"Raymond\",\"Niels\",\"Erik\",\"Grietje\",\"Arjan T.\",\"Charlotte\",\"Michiel\",\"Emily\",\"Rodi\",\"Arjan Z.\",\"Hans\",\"Kitty\",\"Stan\",\"Erwin\",\"Mees\",\"Jordi\",\"Wietse\",\"Isolde\",\"Chiel\",\"Marco\",\"Corine\",\"Casper\",\"Raymond\",\"Niels\",\"Erik\",\"Grietje\",\"Arjan T.\",\"Charlotte\",\"Michiel\",\"Emily\",\"Rodi\",\"Arjan Z.\",\"Hans\",\"Kitty\",\"Stan\",\"Erwin\",\"Mees\",\"Jordi\",\"Wietse\",\"Isolde\",\"Chiel\",\"Marco\",\"Corine\",\"Casper\",\"Raymond\",\"Niels\",\"Erik\",\"Grietje\",\"Arjan T.\",\"Charlotte\",\"Michiel\",\"Emily\",\"Rodi\",\"Arjan Z.\",\"Hans\",\"Kitty\",\"Stan\",\"Erwin\",\"Mees\",\"Jordi\",\"Wietse\",\"Isolde\",\"Chiel\",\"Marco\",\"Corine\",\"Casper\",\"Raymond\",\"Niels\",\"Erik\",\"Grietje\",\"Arjan T.\",\"Charlotte\",\"Michiel\",\"Emily\",\"Rodi\",\"Arjan Z.\",\"Hans\",\"Kitty\",\"Stan\",\"Erwin\",\"Mees\",\"Jordi\",\"Wietse\",\"Isolde\"],\"xaxis\":\"x\",\"y\":[7.5,6.0,12.5,5.0,12.5,2.0,4.0,0.0,0.0,12.5,12.5,4.0,0.0,0.0,5.0,5.0,0.0,3.0,6.0,3.0,3.0,3.0,0.0,7.5,0.0,7.5,7.5,7.5,0.0,0.0,5.0,0.0,0.0,0.0,5.0,5.0,1.0,2.0,6.0,0.0,2.0,0.0,1.0,0.0,8.8,3.0,3.0,0.0,1.2000000000000002,4.4,3.0,8.8,0.0,1.2000000000000002,0.0,0.0,1.2000000000000002,0.0,0.0,1.2000000000000002,0.0,1.2000000000000002,1.2000000000000002,0.0,0.2,0.0,1.5,6.6,6.6,6.6,1.5,6.6,6.6,2.775,6.6,1.5,1.5,2.775,2.775,2.775,1.5,1.5,2.775,6.6,2.775,1.5,1.7999999999999998,1.5],\"yaxis\":\"y\",\"type\":\"histogram\"},{\"alignmentgroup\":\"True\",\"bingroup\":\"x\",\"histfunc\":\"sum\",\"hovertemplate\":\"Australi\\u00eb<br>Punten = %{y}<extra></extra>\",\"legendgroup\":\"Australi\\u00eb\",\"marker\":{\"color\":\"#2CA02C\",\"pattern\":{\"shape\":\"\"}},\"name\":\"Australi\\u00eb\",\"offsetgroup\":\"Australi\\u00eb\",\"orientation\":\"v\",\"showlegend\":true,\"x\":[\"Chiel\",\"Marco\",\"Corine\",\"Casper\",\"Raymond\",\"Niels\",\"Erik\",\"Grietje\",\"Arjan T.\",\"Charlotte\",\"Michiel\",\"Emily\",\"Rodi\",\"Arjan Z.\",\"Hans\",\"Kitty\",\"Stan\",\"Erwin\",\"Mees\",\"Jordi\",\"Wietse\",\"Isolde\",\"Chiel\",\"Marco\",\"Corine\",\"Casper\",\"Raymond\",\"Niels\",\"Erik\",\"Grietje\",\"Arjan T.\",\"Charlotte\",\"Michiel\",\"Emily\",\"Rodi\",\"Arjan Z.\",\"Hans\",\"Kitty\",\"Stan\",\"Erwin\",\"Mees\",\"Jordi\",\"Wietse\",\"Isolde\",\"Chiel\",\"Marco\",\"Corine\",\"Casper\",\"Raymond\",\"Niels\",\"Erik\",\"Grietje\",\"Arjan T.\",\"Charlotte\",\"Michiel\",\"Emily\",\"Rodi\",\"Arjan Z.\",\"Hans\",\"Kitty\",\"Stan\",\"Erwin\",\"Mees\",\"Jordi\",\"Wietse\",\"Isolde\",\"Chiel\",\"Marco\",\"Corine\",\"Casper\",\"Raymond\",\"Niels\",\"Erik\",\"Grietje\",\"Arjan T.\",\"Charlotte\",\"Michiel\",\"Emily\",\"Rodi\",\"Arjan Z.\",\"Hans\",\"Kitty\",\"Stan\",\"Erwin\",\"Mees\",\"Jordi\",\"Wietse\",\"Isolde\"],\"xaxis\":\"x\",\"y\":[7.5,0.0,5.5,9.0,5.5,0.0,0.0,4.0,0.0,5.5,5.5,0.0,4.0,4.0,9.0,9.0,4.0,0.0,0.0,0.0,0.0,0.0,6.0,7.5,0.0,7.5,7.5,7.5,2.0,0.0,9.0,0.0,2.0,4.0,9.0,9.0,0.0,0.0,0.0,1.0,0.0,2.0,0.0,0.0,7.2,5.4,5.4,0.4,0.0,3.6,5.4,7.2,2.4000000000000004,0.0,2.4000000000000004,2.4000000000000004,0.0,2.4000000000000004,2.4000000000000004,0.0,0.4,0.0,0.0,2.4000000000000004,1.2000000000000002,2.4000000000000004,0.7999999999999999,5.55,5.55,5.55,0.7999999999999999,5.55,5.55,4.2749999999999995,5.55,0.7999999999999999,0.7999999999999999,4.2749999999999995,4.2749999999999995,4.2749999999999995,0.7999999999999999,0.7999999999999999,4.2749999999999995,5.55,4.2749999999999995,0.7999999999999999,0.0,0.7999999999999999],\"yaxis\":\"y\",\"type\":\"histogram\"}],                        {\"template\":{\"data\":{\"barpolar\":[{\"marker\":{\"line\":{\"color\":\"white\",\"width\":0.5},\"pattern\":{\"fillmode\":\"overlay\",\"size\":10,\"solidity\":0.2}},\"type\":\"barpolar\"}],\"bar\":[{\"error_x\":{\"color\":\"rgb(36,36,36)\"},\"error_y\":{\"color\":\"rgb(36,36,36)\"},\"marker\":{\"line\":{\"color\":\"white\",\"width\":0.5},\"pattern\":{\"fillmode\":\"overlay\",\"size\":10,\"solidity\":0.2}},\"type\":\"bar\"}],\"carpet\":[{\"aaxis\":{\"endlinecolor\":\"rgb(36,36,36)\",\"gridcolor\":\"white\",\"linecolor\":\"white\",\"minorgridcolor\":\"white\",\"startlinecolor\":\"rgb(36,36,36)\"},\"baxis\":{\"endlinecolor\":\"rgb(36,36,36)\",\"gridcolor\":\"white\",\"linecolor\":\"white\",\"minorgridcolor\":\"white\",\"startlinecolor\":\"rgb(36,36,36)\"},\"type\":\"carpet\"}],\"choropleth\":[{\"colorbar\":{\"outlinewidth\":1,\"tickcolor\":\"rgb(36,36,36)\",\"ticks\":\"outside\"},\"type\":\"choropleth\"}],\"contourcarpet\":[{\"colorbar\":{\"outlinewidth\":1,\"tickcolor\":\"rgb(36,36,36)\",\"ticks\":\"outside\"},\"type\":\"contourcarpet\"}],\"contour\":[{\"colorbar\":{\"outlinewidth\":1,\"tickcolor\":\"rgb(36,36,36)\",\"ticks\":\"outside\"},\"colorscale\":[[0.0,\"#440154\"],[0.1111111111111111,\"#482878\"],[0.2222222222222222,\"#3e4989\"],[0.3333333333333333,\"#31688e\"],[0.4444444444444444,\"#26828e\"],[0.5555555555555556,\"#1f9e89\"],[0.6666666666666666,\"#35b779\"],[0.7777777777777778,\"#6ece58\"],[0.8888888888888888,\"#b5de2b\"],[1.0,\"#fde725\"]],\"type\":\"contour\"}],\"heatmapgl\":[{\"colorbar\":{\"outlinewidth\":1,\"tickcolor\":\"rgb(36,36,36)\",\"ticks\":\"outside\"},\"colorscale\":[[0.0,\"#440154\"],[0.1111111111111111,\"#482878\"],[0.2222222222222222,\"#3e4989\"],[0.3333333333333333,\"#31688e\"],[0.4444444444444444,\"#26828e\"],[0.5555555555555556,\"#1f9e89\"],[0.6666666666666666,\"#35b779\"],[0.7777777777777778,\"#6ece58\"],[0.8888888888888888,\"#b5de2b\"],[1.0,\"#fde725\"]],\"type\":\"heatmapgl\"}],\"heatmap\":[{\"colorbar\":{\"outlinewidth\":1,\"tickcolor\":\"rgb(36,36,36)\",\"ticks\":\"outside\"},\"colorscale\":[[0.0,\"#440154\"],[0.1111111111111111,\"#482878\"],[0.2222222222222222,\"#3e4989\"],[0.3333333333333333,\"#31688e\"],[0.4444444444444444,\"#26828e\"],[0.5555555555555556,\"#1f9e89\"],[0.6666666666666666,\"#35b779\"],[0.7777777777777778,\"#6ece58\"],[0.8888888888888888,\"#b5de2b\"],[1.0,\"#fde725\"]],\"type\":\"heatmap\"}],\"histogram2dcontour\":[{\"colorbar\":{\"outlinewidth\":1,\"tickcolor\":\"rgb(36,36,36)\",\"ticks\":\"outside\"},\"colorscale\":[[0.0,\"#440154\"],[0.1111111111111111,\"#482878\"],[0.2222222222222222,\"#3e4989\"],[0.3333333333333333,\"#31688e\"],[0.4444444444444444,\"#26828e\"],[0.5555555555555556,\"#1f9e89\"],[0.6666666666666666,\"#35b779\"],[0.7777777777777778,\"#6ece58\"],[0.8888888888888888,\"#b5de2b\"],[1.0,\"#fde725\"]],\"type\":\"histogram2dcontour\"}],\"histogram2d\":[{\"colorbar\":{\"outlinewidth\":1,\"tickcolor\":\"rgb(36,36,36)\",\"ticks\":\"outside\"},\"colorscale\":[[0.0,\"#440154\"],[0.1111111111111111,\"#482878\"],[0.2222222222222222,\"#3e4989\"],[0.3333333333333333,\"#31688e\"],[0.4444444444444444,\"#26828e\"],[0.5555555555555556,\"#1f9e89\"],[0.6666666666666666,\"#35b779\"],[0.7777777777777778,\"#6ece58\"],[0.8888888888888888,\"#b5de2b\"],[1.0,\"#fde725\"]],\"type\":\"histogram2d\"}],\"histogram\":[{\"marker\":{\"line\":{\"color\":\"white\",\"width\":0.6}},\"type\":\"histogram\"}],\"mesh3d\":[{\"colorbar\":{\"outlinewidth\":1,\"tickcolor\":\"rgb(36,36,36)\",\"ticks\":\"outside\"},\"type\":\"mesh3d\"}],\"parcoords\":[{\"line\":{\"colorbar\":{\"outlinewidth\":1,\"tickcolor\":\"rgb(36,36,36)\",\"ticks\":\"outside\"}},\"type\":\"parcoords\"}],\"pie\":[{\"automargin\":true,\"type\":\"pie\"}],\"scatter3d\":[{\"line\":{\"colorbar\":{\"outlinewidth\":1,\"tickcolor\":\"rgb(36,36,36)\",\"ticks\":\"outside\"}},\"marker\":{\"colorbar\":{\"outlinewidth\":1,\"tickcolor\":\"rgb(36,36,36)\",\"ticks\":\"outside\"}},\"type\":\"scatter3d\"}],\"scattercarpet\":[{\"marker\":{\"colorbar\":{\"outlinewidth\":1,\"tickcolor\":\"rgb(36,36,36)\",\"ticks\":\"outside\"}},\"type\":\"scattercarpet\"}],\"scattergeo\":[{\"marker\":{\"colorbar\":{\"outlinewidth\":1,\"tickcolor\":\"rgb(36,36,36)\",\"ticks\":\"outside\"}},\"type\":\"scattergeo\"}],\"scattergl\":[{\"marker\":{\"colorbar\":{\"outlinewidth\":1,\"tickcolor\":\"rgb(36,36,36)\",\"ticks\":\"outside\"}},\"type\":\"scattergl\"}],\"scattermapbox\":[{\"marker\":{\"colorbar\":{\"outlinewidth\":1,\"tickcolor\":\"rgb(36,36,36)\",\"ticks\":\"outside\"}},\"type\":\"scattermapbox\"}],\"scatterpolargl\":[{\"marker\":{\"colorbar\":{\"outlinewidth\":1,\"tickcolor\":\"rgb(36,36,36)\",\"ticks\":\"outside\"}},\"type\":\"scatterpolargl\"}],\"scatterpolar\":[{\"marker\":{\"colorbar\":{\"outlinewidth\":1,\"tickcolor\":\"rgb(36,36,36)\",\"ticks\":\"outside\"}},\"type\":\"scatterpolar\"}],\"scatter\":[{\"fillpattern\":{\"fillmode\":\"overlay\",\"size\":10,\"solidity\":0.2},\"type\":\"scatter\"}],\"scatterternary\":[{\"marker\":{\"colorbar\":{\"outlinewidth\":1,\"tickcolor\":\"rgb(36,36,36)\",\"ticks\":\"outside\"}},\"type\":\"scatterternary\"}],\"surface\":[{\"colorbar\":{\"outlinewidth\":1,\"tickcolor\":\"rgb(36,36,36)\",\"ticks\":\"outside\"},\"colorscale\":[[0.0,\"#440154\"],[0.1111111111111111,\"#482878\"],[0.2222222222222222,\"#3e4989\"],[0.3333333333333333,\"#31688e\"],[0.4444444444444444,\"#26828e\"],[0.5555555555555556,\"#1f9e89\"],[0.6666666666666666,\"#35b779\"],[0.7777777777777778,\"#6ece58\"],[0.8888888888888888,\"#b5de2b\"],[1.0,\"#fde725\"]],\"type\":\"surface\"}],\"table\":[{\"cells\":{\"fill\":{\"color\":\"rgb(237,237,237)\"},\"line\":{\"color\":\"white\"}},\"header\":{\"fill\":{\"color\":\"rgb(217,217,217)\"},\"line\":{\"color\":\"white\"}},\"type\":\"table\"}]},\"layout\":{\"annotationdefaults\":{\"arrowhead\":0,\"arrowwidth\":1},\"autotypenumbers\":\"strict\",\"coloraxis\":{\"colorbar\":{\"outlinewidth\":1,\"tickcolor\":\"rgb(36,36,36)\",\"ticks\":\"outside\"}},\"colorscale\":{\"diverging\":[[0.0,\"rgb(103,0,31)\"],[0.1,\"rgb(178,24,43)\"],[0.2,\"rgb(214,96,77)\"],[0.3,\"rgb(244,165,130)\"],[0.4,\"rgb(253,219,199)\"],[0.5,\"rgb(247,247,247)\"],[0.6,\"rgb(209,229,240)\"],[0.7,\"rgb(146,197,222)\"],[0.8,\"rgb(67,147,195)\"],[0.9,\"rgb(33,102,172)\"],[1.0,\"rgb(5,48,97)\"]],\"sequential\":[[0.0,\"#440154\"],[0.1111111111111111,\"#482878\"],[0.2222222222222222,\"#3e4989\"],[0.3333333333333333,\"#31688e\"],[0.4444444444444444,\"#26828e\"],[0.5555555555555556,\"#1f9e89\"],[0.6666666666666666,\"#35b779\"],[0.7777777777777778,\"#6ece58\"],[0.8888888888888888,\"#b5de2b\"],[1.0,\"#fde725\"]],\"sequentialminus\":[[0.0,\"#440154\"],[0.1111111111111111,\"#482878\"],[0.2222222222222222,\"#3e4989\"],[0.3333333333333333,\"#31688e\"],[0.4444444444444444,\"#26828e\"],[0.5555555555555556,\"#1f9e89\"],[0.6666666666666666,\"#35b779\"],[0.7777777777777778,\"#6ece58\"],[0.8888888888888888,\"#b5de2b\"],[1.0,\"#fde725\"]]},\"colorway\":[\"#1F77B4\",\"#FF7F0E\",\"#2CA02C\",\"#D62728\",\"#9467BD\",\"#8C564B\",\"#E377C2\",\"#7F7F7F\",\"#BCBD22\",\"#17BECF\"],\"font\":{\"color\":\"rgb(36,36,36)\"},\"geo\":{\"bgcolor\":\"white\",\"lakecolor\":\"white\",\"landcolor\":\"white\",\"showlakes\":true,\"showland\":true,\"subunitcolor\":\"white\"},\"hoverlabel\":{\"align\":\"left\"},\"hovermode\":\"closest\",\"mapbox\":{\"style\":\"light\"},\"paper_bgcolor\":\"white\",\"plot_bgcolor\":\"white\",\"polar\":{\"angularaxis\":{\"gridcolor\":\"rgb(232,232,232)\",\"linecolor\":\"rgb(36,36,36)\",\"showgrid\":false,\"showline\":true,\"ticks\":\"outside\"},\"bgcolor\":\"white\",\"radialaxis\":{\"gridcolor\":\"rgb(232,232,232)\",\"linecolor\":\"rgb(36,36,36)\",\"showgrid\":false,\"showline\":true,\"ticks\":\"outside\"}},\"scene\":{\"xaxis\":{\"backgroundcolor\":\"white\",\"gridcolor\":\"rgb(232,232,232)\",\"gridwidth\":2,\"linecolor\":\"rgb(36,36,36)\",\"showbackground\":true,\"showgrid\":false,\"showline\":true,\"ticks\":\"outside\",\"zeroline\":false,\"zerolinecolor\":\"rgb(36,36,36)\"},\"yaxis\":{\"backgroundcolor\":\"white\",\"gridcolor\":\"rgb(232,232,232)\",\"gridwidth\":2,\"linecolor\":\"rgb(36,36,36)\",\"showbackground\":true,\"showgrid\":false,\"showline\":true,\"ticks\":\"outside\",\"zeroline\":false,\"zerolinecolor\":\"rgb(36,36,36)\"},\"zaxis\":{\"backgroundcolor\":\"white\",\"gridcolor\":\"rgb(232,232,232)\",\"gridwidth\":2,\"linecolor\":\"rgb(36,36,36)\",\"showbackground\":true,\"showgrid\":false,\"showline\":true,\"ticks\":\"outside\",\"zeroline\":false,\"zerolinecolor\":\"rgb(36,36,36)\"}},\"shapedefaults\":{\"fillcolor\":\"black\",\"line\":{\"width\":0},\"opacity\":0.3},\"ternary\":{\"aaxis\":{\"gridcolor\":\"rgb(232,232,232)\",\"linecolor\":\"rgb(36,36,36)\",\"showgrid\":false,\"showline\":true,\"ticks\":\"outside\"},\"baxis\":{\"gridcolor\":\"rgb(232,232,232)\",\"linecolor\":\"rgb(36,36,36)\",\"showgrid\":false,\"showline\":true,\"ticks\":\"outside\"},\"bgcolor\":\"white\",\"caxis\":{\"gridcolor\":\"rgb(232,232,232)\",\"linecolor\":\"rgb(36,36,36)\",\"showgrid\":false,\"showline\":true,\"ticks\":\"outside\"}},\"title\":{\"x\":0.05},\"xaxis\":{\"automargin\":true,\"gridcolor\":\"rgb(232,232,232)\",\"linecolor\":\"rgb(36,36,36)\",\"showgrid\":false,\"showline\":true,\"ticks\":\"outside\",\"title\":{\"standoff\":15},\"zeroline\":false,\"zerolinecolor\":\"rgb(36,36,36)\"},\"yaxis\":{\"automargin\":true,\"gridcolor\":\"rgb(232,232,232)\",\"linecolor\":\"rgb(36,36,36)\",\"showgrid\":false,\"showline\":true,\"ticks\":\"outside\",\"title\":{\"standoff\":15},\"zeroline\":false,\"zerolinecolor\":\"rgb(36,36,36)\"}}},\"xaxis\":{\"anchor\":\"y\",\"domain\":[0.0,1.0],\"title\":{\"text\":\"Teams\"},\"categoryorder\":\"array\",\"categoryarray\":[\"Marco\",\"Casper\",\"Chiel\",\"Corine\",\"Raymond\",\"Niels\",\"Erik\",\"Arjan T.\",\"Grietje\",\"Arjan Z.\",\"Michiel\",\"Rodi\",\"Charlotte\",\"Hans\",\"Kitty\",\"Emily\",\"Stan\",\"Erwin\",\"Mees\",\"Jordi\",\"Isolde\",\"Wietse\"]},\"yaxis\":{\"anchor\":\"x\",\"domain\":[0.0,1.0],\"title\":{\"text\":\"Puntentotaal\"},\"showgrid\":true},\"legend\":{\"title\":{\"text\":\"Races\"},\"tracegroupgap\":0},\"title\":{\"text\":\"Stand\",\"font\":{\"color\":\"#ff7f00\",\"size\":15,\"family\":\"Arial Bold Italic\"}},\"barmode\":\"relative\",\"height\":660,\"width\":960,\"plot_bgcolor\":\"rgba(224, 224, 224, 1)\",\"paper_bgcolor\":\"rgba(224, 224, 224, 1)\",\"font\":{\"size\":11}},                        {\"responsive\": true}                    ).then(function(){\n",
       "                            \n",
       "var gd = document.getElementById('87e7b6cf-4ec7-4346-9623-b6b610b16d19');\n",
       "var x = new MutationObserver(function (mutations, observer) {{\n",
       "        var display = window.getComputedStyle(gd).display;\n",
       "        if (!display || display === 'none') {{\n",
       "            console.log([gd, 'removed!']);\n",
       "            Plotly.purge(gd);\n",
       "            observer.disconnect();\n",
       "        }}\n",
       "}});\n",
       "\n",
       "// Listen for the removal of the full notebook cells\n",
       "var notebookContainer = gd.closest('#notebook-container');\n",
       "if (notebookContainer) {{\n",
       "    x.observe(notebookContainer, {childList: true});\n",
       "}}\n",
       "\n",
       "// Listen for the clearing of the current output cell\n",
       "var outputEl = gd.closest('.output');\n",
       "if (outputEl) {{\n",
       "    x.observe(outputEl, {childList: true});\n",
       "}}\n",
       "\n",
       "                        })                };                });            </script>        </div>"
      ]
     },
     "metadata": {},
     "output_type": "display_data"
    }
   ],
   "source": [
    "team_names = df_total_score['team']\n",
    "\n",
    "fig = px.histogram(df, x=\"team\", y=\"score\", color=\"race\",\n",
    "            title=\"Stand\",\n",
    "            width=fig_width, height=660,\n",
    "            labels={ \"race\" : \"Races\" },\n",
    "            template=\"simple_white\"\n",
    "            )\n",
    "\n",
    "fig.update_layout(xaxis_title=\"Teams\") \n",
    "fig.update_layout(yaxis_title=\"Puntentotaal\")\n",
    "\n",
    "fig.update_xaxes(categoryorder='array', categoryarray=team_names)\n",
    "\n",
    "make_acwef1_proof(fig)\n",
    "\n",
    "for idx, name in enumerate(races):\n",
    "    fig.data[idx].name = name\n",
    "    fig.data[idx].hovertemplate = name + \"<br>Punten = %{y}<extra></extra>\"       \n",
    "                 \n",
    "if fig_write:\n",
    "    fig.write_html(\"totale_punten_staaf.html\", full_html=False, include_plotlyjs='cdn')\n",
    "fig.show()"
   ]
  },
  {
   "cell_type": "code",
   "execution_count": 30,
   "id": "b45477e2",
   "metadata": {
    "scrolled": false
   },
   "outputs": [
    {
     "data": {
      "application/vnd.plotly.v1+json": {
       "config": {
        "plotlyServerURL": "https://plot.ly"
       },
       "data": [
        {
         "alignmentgroup": "True",
         "bingroup": "x",
         "histfunc": "sum",
         "hovertemplate": "Coureur 1<br>Punten = %{y}<extra></extra>",
         "legendgroup": "coureur1",
         "marker": {
          "color": "#1F77B4",
          "pattern": {
           "shape": ""
          }
         },
         "name": "Coureur 1",
         "offsetgroup": "coureur1",
         "orientation": "v",
         "showlegend": true,
         "type": "histogram",
         "x": [
          "Chiel",
          "Marco",
          "Corine",
          "Casper",
          "Raymond",
          "Niels",
          "Erik",
          "Grietje",
          "Arjan T.",
          "Charlotte",
          "Michiel",
          "Emily",
          "Rodi",
          "Arjan Z.",
          "Hans",
          "Kitty",
          "Stan",
          "Erwin",
          "Mees",
          "Jordi",
          "Wietse",
          "Isolde",
          "Chiel",
          "Marco",
          "Corine",
          "Casper",
          "Raymond",
          "Niels",
          "Erik",
          "Grietje",
          "Arjan T.",
          "Charlotte",
          "Michiel",
          "Emily",
          "Rodi",
          "Arjan Z.",
          "Hans",
          "Kitty",
          "Stan",
          "Erwin",
          "Mees",
          "Jordi",
          "Wietse",
          "Isolde",
          "Chiel",
          "Marco",
          "Corine",
          "Casper",
          "Raymond",
          "Niels",
          "Erik",
          "Grietje",
          "Arjan T.",
          "Charlotte",
          "Michiel",
          "Emily",
          "Rodi",
          "Arjan Z.",
          "Hans",
          "Kitty",
          "Stan",
          "Erwin",
          "Mees",
          "Jordi",
          "Wietse",
          "Isolde"
         ],
         "xaxis": "x",
         "y": [
          7.5,
          3,
          9,
          5,
          9,
          0,
          6,
          0,
          0,
          9,
          9,
          6,
          0,
          0,
          5,
          5,
          0,
          0,
          3,
          0,
          0,
          0,
          7.5,
          6,
          12.5,
          5,
          12.5,
          2,
          4,
          0,
          0,
          12.5,
          12.5,
          4,
          0,
          0,
          5,
          5,
          0,
          3,
          6,
          3,
          3,
          3,
          7.5,
          0,
          5.5,
          9,
          5.5,
          0,
          0,
          4,
          0,
          5.5,
          5.5,
          0,
          4,
          4,
          9,
          9,
          4,
          0,
          0,
          0,
          0,
          0
         ],
         "yaxis": "y"
        },
        {
         "alignmentgroup": "True",
         "bingroup": "x",
         "histfunc": "sum",
         "hovertemplate": "Coureur 2<br>Punten = %{y}<extra></extra>",
         "legendgroup": "coureur2",
         "marker": {
          "color": "#FF7F0E",
          "pattern": {
           "shape": ""
          }
         },
         "name": "Coureur 2",
         "offsetgroup": "coureur2",
         "orientation": "v",
         "showlegend": true,
         "type": "histogram",
         "x": [
          "Chiel",
          "Marco",
          "Corine",
          "Casper",
          "Raymond",
          "Niels",
          "Erik",
          "Grietje",
          "Arjan T.",
          "Charlotte",
          "Michiel",
          "Emily",
          "Rodi",
          "Arjan Z.",
          "Hans",
          "Kitty",
          "Stan",
          "Erwin",
          "Mees",
          "Jordi",
          "Wietse",
          "Isolde",
          "Chiel",
          "Marco",
          "Corine",
          "Casper",
          "Raymond",
          "Niels",
          "Erik",
          "Grietje",
          "Arjan T.",
          "Charlotte",
          "Michiel",
          "Emily",
          "Rodi",
          "Arjan Z.",
          "Hans",
          "Kitty",
          "Stan",
          "Erwin",
          "Mees",
          "Jordi",
          "Wietse",
          "Isolde",
          "Chiel",
          "Marco",
          "Corine",
          "Casper",
          "Raymond",
          "Niels",
          "Erik",
          "Grietje",
          "Arjan T.",
          "Charlotte",
          "Michiel",
          "Emily",
          "Rodi",
          "Arjan Z.",
          "Hans",
          "Kitty",
          "Stan",
          "Erwin",
          "Mees",
          "Jordi",
          "Wietse",
          "Isolde"
         ],
         "xaxis": "x",
         "y": [
          4,
          7.5,
          0.5,
          7.5,
          7.5,
          7.5,
          0,
          0,
          5,
          0,
          0,
          0,
          5,
          5,
          1,
          0,
          3,
          0,
          0,
          0,
          1,
          0,
          0,
          7.5,
          0,
          7.5,
          7.5,
          7.5,
          0,
          0,
          5,
          0,
          0,
          0,
          5,
          5,
          1,
          2,
          6,
          0,
          2,
          0,
          1,
          0,
          6,
          7.5,
          0,
          7.5,
          7.5,
          7.5,
          2,
          0,
          9,
          0,
          2,
          4,
          9,
          9,
          0,
          0,
          0,
          1,
          0,
          2,
          0,
          0
         ],
         "yaxis": "y"
        },
        {
         "alignmentgroup": "True",
         "bingroup": "x",
         "histfunc": "sum",
         "hovertemplate": "Chassis<br>Punten = %{y}<extra></extra>",
         "legendgroup": "chassis",
         "marker": {
          "color": "#2CA02C",
          "pattern": {
           "shape": ""
          }
         },
         "name": "Chassis",
         "offsetgroup": "chassis",
         "orientation": "v",
         "showlegend": true,
         "type": "histogram",
         "x": [
          "Chiel",
          "Marco",
          "Corine",
          "Casper",
          "Raymond",
          "Niels",
          "Erik",
          "Grietje",
          "Arjan T.",
          "Charlotte",
          "Michiel",
          "Emily",
          "Rodi",
          "Arjan Z.",
          "Hans",
          "Kitty",
          "Stan",
          "Erwin",
          "Mees",
          "Jordi",
          "Wietse",
          "Isolde",
          "Chiel",
          "Marco",
          "Corine",
          "Casper",
          "Raymond",
          "Niels",
          "Erik",
          "Grietje",
          "Arjan T.",
          "Charlotte",
          "Michiel",
          "Emily",
          "Rodi",
          "Arjan Z.",
          "Hans",
          "Kitty",
          "Stan",
          "Erwin",
          "Mees",
          "Jordi",
          "Wietse",
          "Isolde",
          "Chiel",
          "Marco",
          "Corine",
          "Casper",
          "Raymond",
          "Niels",
          "Erik",
          "Grietje",
          "Arjan T.",
          "Charlotte",
          "Michiel",
          "Emily",
          "Rodi",
          "Arjan Z.",
          "Hans",
          "Kitty",
          "Stan",
          "Erwin",
          "Mees",
          "Jordi",
          "Wietse",
          "Isolde"
         ],
         "xaxis": "x",
         "y": [
          8.6,
          4.6000000000000005,
          4.6000000000000005,
          0.8,
          0.4,
          3.2,
          4.6000000000000005,
          8.6,
          0,
          0.4,
          0,
          0,
          0.4,
          0,
          0,
          0.4,
          0.8,
          0.4,
          0.4,
          0,
          0,
          0,
          8.8,
          3,
          3,
          0,
          1.2000000000000002,
          4.4,
          3,
          8.8,
          0,
          1.2000000000000002,
          0,
          0,
          1.2000000000000002,
          0,
          0,
          1.2000000000000002,
          0,
          1.2000000000000002,
          1.2000000000000002,
          0,
          0.2,
          0,
          7.2,
          5.4,
          5.4,
          0.4,
          0,
          3.6,
          5.4,
          7.2,
          2.4000000000000004,
          0,
          2.4000000000000004,
          2.4000000000000004,
          0,
          2.4000000000000004,
          2.4000000000000004,
          0,
          0.4,
          0,
          0,
          2.4000000000000004,
          1.2000000000000002,
          2.4000000000000004
         ],
         "yaxis": "y"
        },
        {
         "alignmentgroup": "True",
         "bingroup": "x",
         "histfunc": "sum",
         "hovertemplate": "Motor<br>Punten = %{y}<extra></extra>",
         "legendgroup": "motor",
         "marker": {
          "color": "#D62728",
          "pattern": {
           "shape": ""
          }
         },
         "name": "Motor",
         "offsetgroup": "motor",
         "orientation": "v",
         "showlegend": true,
         "type": "histogram",
         "x": [
          "Chiel",
          "Marco",
          "Corine",
          "Casper",
          "Raymond",
          "Niels",
          "Erik",
          "Grietje",
          "Arjan T.",
          "Charlotte",
          "Michiel",
          "Emily",
          "Rodi",
          "Arjan Z.",
          "Hans",
          "Kitty",
          "Stan",
          "Erwin",
          "Mees",
          "Jordi",
          "Wietse",
          "Isolde",
          "Chiel",
          "Marco",
          "Corine",
          "Casper",
          "Raymond",
          "Niels",
          "Erik",
          "Grietje",
          "Arjan T.",
          "Charlotte",
          "Michiel",
          "Emily",
          "Rodi",
          "Arjan Z.",
          "Hans",
          "Kitty",
          "Stan",
          "Erwin",
          "Mees",
          "Jordi",
          "Wietse",
          "Isolde",
          "Chiel",
          "Marco",
          "Corine",
          "Casper",
          "Raymond",
          "Niels",
          "Erik",
          "Grietje",
          "Arjan T.",
          "Charlotte",
          "Michiel",
          "Emily",
          "Rodi",
          "Arjan Z.",
          "Hans",
          "Kitty",
          "Stan",
          "Erwin",
          "Mees",
          "Jordi",
          "Wietse",
          "Isolde"
         ],
         "xaxis": "x",
         "y": [
          1.5999999999999999,
          6.45,
          6.45,
          6.45,
          1.5999999999999999,
          6.45,
          6.45,
          3,
          6.45,
          1.5999999999999999,
          1.5999999999999999,
          3,
          3,
          3,
          1.5999999999999999,
          1.5999999999999999,
          3,
          6.45,
          3,
          1.5999999999999999,
          0.6,
          1.5999999999999999,
          1.5,
          6.6,
          6.6,
          6.6,
          1.5,
          6.6,
          6.6,
          2.775,
          6.6,
          1.5,
          1.5,
          2.775,
          2.775,
          2.775,
          1.5,
          1.5,
          2.775,
          6.6,
          2.775,
          1.5,
          1.7999999999999998,
          1.5,
          0.7999999999999999,
          5.55,
          5.55,
          5.55,
          0.7999999999999999,
          5.55,
          5.55,
          4.2749999999999995,
          5.55,
          0.7999999999999999,
          0.7999999999999999,
          4.2749999999999995,
          4.2749999999999995,
          4.2749999999999995,
          0.7999999999999999,
          0.7999999999999999,
          4.2749999999999995,
          5.55,
          4.2749999999999995,
          0.7999999999999999,
          0,
          0.7999999999999999
         ],
         "yaxis": "y"
        }
       ],
       "layout": {
        "barmode": "relative",
        "font": {
         "size": 11
        },
        "height": 660,
        "legend": {
         "title": {
          "text": "Categorie"
         },
         "tracegroupgap": 0
        },
        "paper_bgcolor": "rgba(224, 224, 224, 1)",
        "plot_bgcolor": "rgba(224, 224, 224, 1)",
        "template": {
         "data": {
          "bar": [
           {
            "error_x": {
             "color": "rgb(36,36,36)"
            },
            "error_y": {
             "color": "rgb(36,36,36)"
            },
            "marker": {
             "line": {
              "color": "white",
              "width": 0.5
             },
             "pattern": {
              "fillmode": "overlay",
              "size": 10,
              "solidity": 0.2
             }
            },
            "type": "bar"
           }
          ],
          "barpolar": [
           {
            "marker": {
             "line": {
              "color": "white",
              "width": 0.5
             },
             "pattern": {
              "fillmode": "overlay",
              "size": 10,
              "solidity": 0.2
             }
            },
            "type": "barpolar"
           }
          ],
          "carpet": [
           {
            "aaxis": {
             "endlinecolor": "rgb(36,36,36)",
             "gridcolor": "white",
             "linecolor": "white",
             "minorgridcolor": "white",
             "startlinecolor": "rgb(36,36,36)"
            },
            "baxis": {
             "endlinecolor": "rgb(36,36,36)",
             "gridcolor": "white",
             "linecolor": "white",
             "minorgridcolor": "white",
             "startlinecolor": "rgb(36,36,36)"
            },
            "type": "carpet"
           }
          ],
          "choropleth": [
           {
            "colorbar": {
             "outlinewidth": 1,
             "tickcolor": "rgb(36,36,36)",
             "ticks": "outside"
            },
            "type": "choropleth"
           }
          ],
          "contour": [
           {
            "colorbar": {
             "outlinewidth": 1,
             "tickcolor": "rgb(36,36,36)",
             "ticks": "outside"
            },
            "colorscale": [
             [
              0,
              "#440154"
             ],
             [
              0.1111111111111111,
              "#482878"
             ],
             [
              0.2222222222222222,
              "#3e4989"
             ],
             [
              0.3333333333333333,
              "#31688e"
             ],
             [
              0.4444444444444444,
              "#26828e"
             ],
             [
              0.5555555555555556,
              "#1f9e89"
             ],
             [
              0.6666666666666666,
              "#35b779"
             ],
             [
              0.7777777777777778,
              "#6ece58"
             ],
             [
              0.8888888888888888,
              "#b5de2b"
             ],
             [
              1,
              "#fde725"
             ]
            ],
            "type": "contour"
           }
          ],
          "contourcarpet": [
           {
            "colorbar": {
             "outlinewidth": 1,
             "tickcolor": "rgb(36,36,36)",
             "ticks": "outside"
            },
            "type": "contourcarpet"
           }
          ],
          "heatmap": [
           {
            "colorbar": {
             "outlinewidth": 1,
             "tickcolor": "rgb(36,36,36)",
             "ticks": "outside"
            },
            "colorscale": [
             [
              0,
              "#440154"
             ],
             [
              0.1111111111111111,
              "#482878"
             ],
             [
              0.2222222222222222,
              "#3e4989"
             ],
             [
              0.3333333333333333,
              "#31688e"
             ],
             [
              0.4444444444444444,
              "#26828e"
             ],
             [
              0.5555555555555556,
              "#1f9e89"
             ],
             [
              0.6666666666666666,
              "#35b779"
             ],
             [
              0.7777777777777778,
              "#6ece58"
             ],
             [
              0.8888888888888888,
              "#b5de2b"
             ],
             [
              1,
              "#fde725"
             ]
            ],
            "type": "heatmap"
           }
          ],
          "heatmapgl": [
           {
            "colorbar": {
             "outlinewidth": 1,
             "tickcolor": "rgb(36,36,36)",
             "ticks": "outside"
            },
            "colorscale": [
             [
              0,
              "#440154"
             ],
             [
              0.1111111111111111,
              "#482878"
             ],
             [
              0.2222222222222222,
              "#3e4989"
             ],
             [
              0.3333333333333333,
              "#31688e"
             ],
             [
              0.4444444444444444,
              "#26828e"
             ],
             [
              0.5555555555555556,
              "#1f9e89"
             ],
             [
              0.6666666666666666,
              "#35b779"
             ],
             [
              0.7777777777777778,
              "#6ece58"
             ],
             [
              0.8888888888888888,
              "#b5de2b"
             ],
             [
              1,
              "#fde725"
             ]
            ],
            "type": "heatmapgl"
           }
          ],
          "histogram": [
           {
            "marker": {
             "line": {
              "color": "white",
              "width": 0.6
             }
            },
            "type": "histogram"
           }
          ],
          "histogram2d": [
           {
            "colorbar": {
             "outlinewidth": 1,
             "tickcolor": "rgb(36,36,36)",
             "ticks": "outside"
            },
            "colorscale": [
             [
              0,
              "#440154"
             ],
             [
              0.1111111111111111,
              "#482878"
             ],
             [
              0.2222222222222222,
              "#3e4989"
             ],
             [
              0.3333333333333333,
              "#31688e"
             ],
             [
              0.4444444444444444,
              "#26828e"
             ],
             [
              0.5555555555555556,
              "#1f9e89"
             ],
             [
              0.6666666666666666,
              "#35b779"
             ],
             [
              0.7777777777777778,
              "#6ece58"
             ],
             [
              0.8888888888888888,
              "#b5de2b"
             ],
             [
              1,
              "#fde725"
             ]
            ],
            "type": "histogram2d"
           }
          ],
          "histogram2dcontour": [
           {
            "colorbar": {
             "outlinewidth": 1,
             "tickcolor": "rgb(36,36,36)",
             "ticks": "outside"
            },
            "colorscale": [
             [
              0,
              "#440154"
             ],
             [
              0.1111111111111111,
              "#482878"
             ],
             [
              0.2222222222222222,
              "#3e4989"
             ],
             [
              0.3333333333333333,
              "#31688e"
             ],
             [
              0.4444444444444444,
              "#26828e"
             ],
             [
              0.5555555555555556,
              "#1f9e89"
             ],
             [
              0.6666666666666666,
              "#35b779"
             ],
             [
              0.7777777777777778,
              "#6ece58"
             ],
             [
              0.8888888888888888,
              "#b5de2b"
             ],
             [
              1,
              "#fde725"
             ]
            ],
            "type": "histogram2dcontour"
           }
          ],
          "mesh3d": [
           {
            "colorbar": {
             "outlinewidth": 1,
             "tickcolor": "rgb(36,36,36)",
             "ticks": "outside"
            },
            "type": "mesh3d"
           }
          ],
          "parcoords": [
           {
            "line": {
             "colorbar": {
              "outlinewidth": 1,
              "tickcolor": "rgb(36,36,36)",
              "ticks": "outside"
             }
            },
            "type": "parcoords"
           }
          ],
          "pie": [
           {
            "automargin": true,
            "type": "pie"
           }
          ],
          "scatter": [
           {
            "fillpattern": {
             "fillmode": "overlay",
             "size": 10,
             "solidity": 0.2
            },
            "type": "scatter"
           }
          ],
          "scatter3d": [
           {
            "line": {
             "colorbar": {
              "outlinewidth": 1,
              "tickcolor": "rgb(36,36,36)",
              "ticks": "outside"
             }
            },
            "marker": {
             "colorbar": {
              "outlinewidth": 1,
              "tickcolor": "rgb(36,36,36)",
              "ticks": "outside"
             }
            },
            "type": "scatter3d"
           }
          ],
          "scattercarpet": [
           {
            "marker": {
             "colorbar": {
              "outlinewidth": 1,
              "tickcolor": "rgb(36,36,36)",
              "ticks": "outside"
             }
            },
            "type": "scattercarpet"
           }
          ],
          "scattergeo": [
           {
            "marker": {
             "colorbar": {
              "outlinewidth": 1,
              "tickcolor": "rgb(36,36,36)",
              "ticks": "outside"
             }
            },
            "type": "scattergeo"
           }
          ],
          "scattergl": [
           {
            "marker": {
             "colorbar": {
              "outlinewidth": 1,
              "tickcolor": "rgb(36,36,36)",
              "ticks": "outside"
             }
            },
            "type": "scattergl"
           }
          ],
          "scattermapbox": [
           {
            "marker": {
             "colorbar": {
              "outlinewidth": 1,
              "tickcolor": "rgb(36,36,36)",
              "ticks": "outside"
             }
            },
            "type": "scattermapbox"
           }
          ],
          "scatterpolar": [
           {
            "marker": {
             "colorbar": {
              "outlinewidth": 1,
              "tickcolor": "rgb(36,36,36)",
              "ticks": "outside"
             }
            },
            "type": "scatterpolar"
           }
          ],
          "scatterpolargl": [
           {
            "marker": {
             "colorbar": {
              "outlinewidth": 1,
              "tickcolor": "rgb(36,36,36)",
              "ticks": "outside"
             }
            },
            "type": "scatterpolargl"
           }
          ],
          "scatterternary": [
           {
            "marker": {
             "colorbar": {
              "outlinewidth": 1,
              "tickcolor": "rgb(36,36,36)",
              "ticks": "outside"
             }
            },
            "type": "scatterternary"
           }
          ],
          "surface": [
           {
            "colorbar": {
             "outlinewidth": 1,
             "tickcolor": "rgb(36,36,36)",
             "ticks": "outside"
            },
            "colorscale": [
             [
              0,
              "#440154"
             ],
             [
              0.1111111111111111,
              "#482878"
             ],
             [
              0.2222222222222222,
              "#3e4989"
             ],
             [
              0.3333333333333333,
              "#31688e"
             ],
             [
              0.4444444444444444,
              "#26828e"
             ],
             [
              0.5555555555555556,
              "#1f9e89"
             ],
             [
              0.6666666666666666,
              "#35b779"
             ],
             [
              0.7777777777777778,
              "#6ece58"
             ],
             [
              0.8888888888888888,
              "#b5de2b"
             ],
             [
              1,
              "#fde725"
             ]
            ],
            "type": "surface"
           }
          ],
          "table": [
           {
            "cells": {
             "fill": {
              "color": "rgb(237,237,237)"
             },
             "line": {
              "color": "white"
             }
            },
            "header": {
             "fill": {
              "color": "rgb(217,217,217)"
             },
             "line": {
              "color": "white"
             }
            },
            "type": "table"
           }
          ]
         },
         "layout": {
          "annotationdefaults": {
           "arrowhead": 0,
           "arrowwidth": 1
          },
          "autotypenumbers": "strict",
          "coloraxis": {
           "colorbar": {
            "outlinewidth": 1,
            "tickcolor": "rgb(36,36,36)",
            "ticks": "outside"
           }
          },
          "colorscale": {
           "diverging": [
            [
             0,
             "rgb(103,0,31)"
            ],
            [
             0.1,
             "rgb(178,24,43)"
            ],
            [
             0.2,
             "rgb(214,96,77)"
            ],
            [
             0.3,
             "rgb(244,165,130)"
            ],
            [
             0.4,
             "rgb(253,219,199)"
            ],
            [
             0.5,
             "rgb(247,247,247)"
            ],
            [
             0.6,
             "rgb(209,229,240)"
            ],
            [
             0.7,
             "rgb(146,197,222)"
            ],
            [
             0.8,
             "rgb(67,147,195)"
            ],
            [
             0.9,
             "rgb(33,102,172)"
            ],
            [
             1,
             "rgb(5,48,97)"
            ]
           ],
           "sequential": [
            [
             0,
             "#440154"
            ],
            [
             0.1111111111111111,
             "#482878"
            ],
            [
             0.2222222222222222,
             "#3e4989"
            ],
            [
             0.3333333333333333,
             "#31688e"
            ],
            [
             0.4444444444444444,
             "#26828e"
            ],
            [
             0.5555555555555556,
             "#1f9e89"
            ],
            [
             0.6666666666666666,
             "#35b779"
            ],
            [
             0.7777777777777778,
             "#6ece58"
            ],
            [
             0.8888888888888888,
             "#b5de2b"
            ],
            [
             1,
             "#fde725"
            ]
           ],
           "sequentialminus": [
            [
             0,
             "#440154"
            ],
            [
             0.1111111111111111,
             "#482878"
            ],
            [
             0.2222222222222222,
             "#3e4989"
            ],
            [
             0.3333333333333333,
             "#31688e"
            ],
            [
             0.4444444444444444,
             "#26828e"
            ],
            [
             0.5555555555555556,
             "#1f9e89"
            ],
            [
             0.6666666666666666,
             "#35b779"
            ],
            [
             0.7777777777777778,
             "#6ece58"
            ],
            [
             0.8888888888888888,
             "#b5de2b"
            ],
            [
             1,
             "#fde725"
            ]
           ]
          },
          "colorway": [
           "#1F77B4",
           "#FF7F0E",
           "#2CA02C",
           "#D62728",
           "#9467BD",
           "#8C564B",
           "#E377C2",
           "#7F7F7F",
           "#BCBD22",
           "#17BECF"
          ],
          "font": {
           "color": "rgb(36,36,36)"
          },
          "geo": {
           "bgcolor": "white",
           "lakecolor": "white",
           "landcolor": "white",
           "showlakes": true,
           "showland": true,
           "subunitcolor": "white"
          },
          "hoverlabel": {
           "align": "left"
          },
          "hovermode": "closest",
          "mapbox": {
           "style": "light"
          },
          "paper_bgcolor": "white",
          "plot_bgcolor": "white",
          "polar": {
           "angularaxis": {
            "gridcolor": "rgb(232,232,232)",
            "linecolor": "rgb(36,36,36)",
            "showgrid": false,
            "showline": true,
            "ticks": "outside"
           },
           "bgcolor": "white",
           "radialaxis": {
            "gridcolor": "rgb(232,232,232)",
            "linecolor": "rgb(36,36,36)",
            "showgrid": false,
            "showline": true,
            "ticks": "outside"
           }
          },
          "scene": {
           "xaxis": {
            "backgroundcolor": "white",
            "gridcolor": "rgb(232,232,232)",
            "gridwidth": 2,
            "linecolor": "rgb(36,36,36)",
            "showbackground": true,
            "showgrid": false,
            "showline": true,
            "ticks": "outside",
            "zeroline": false,
            "zerolinecolor": "rgb(36,36,36)"
           },
           "yaxis": {
            "backgroundcolor": "white",
            "gridcolor": "rgb(232,232,232)",
            "gridwidth": 2,
            "linecolor": "rgb(36,36,36)",
            "showbackground": true,
            "showgrid": false,
            "showline": true,
            "ticks": "outside",
            "zeroline": false,
            "zerolinecolor": "rgb(36,36,36)"
           },
           "zaxis": {
            "backgroundcolor": "white",
            "gridcolor": "rgb(232,232,232)",
            "gridwidth": 2,
            "linecolor": "rgb(36,36,36)",
            "showbackground": true,
            "showgrid": false,
            "showline": true,
            "ticks": "outside",
            "zeroline": false,
            "zerolinecolor": "rgb(36,36,36)"
           }
          },
          "shapedefaults": {
           "fillcolor": "black",
           "line": {
            "width": 0
           },
           "opacity": 0.3
          },
          "ternary": {
           "aaxis": {
            "gridcolor": "rgb(232,232,232)",
            "linecolor": "rgb(36,36,36)",
            "showgrid": false,
            "showline": true,
            "ticks": "outside"
           },
           "baxis": {
            "gridcolor": "rgb(232,232,232)",
            "linecolor": "rgb(36,36,36)",
            "showgrid": false,
            "showline": true,
            "ticks": "outside"
           },
           "bgcolor": "white",
           "caxis": {
            "gridcolor": "rgb(232,232,232)",
            "linecolor": "rgb(36,36,36)",
            "showgrid": false,
            "showline": true,
            "ticks": "outside"
           }
          },
          "title": {
           "x": 0.05
          },
          "xaxis": {
           "automargin": true,
           "gridcolor": "rgb(232,232,232)",
           "linecolor": "rgb(36,36,36)",
           "showgrid": false,
           "showline": true,
           "ticks": "outside",
           "title": {
            "standoff": 15
           },
           "zeroline": false,
           "zerolinecolor": "rgb(36,36,36)"
          },
          "yaxis": {
           "automargin": true,
           "gridcolor": "rgb(232,232,232)",
           "linecolor": "rgb(36,36,36)",
           "showgrid": false,
           "showline": true,
           "ticks": "outside",
           "title": {
            "standoff": 15
           },
           "zeroline": false,
           "zerolinecolor": "rgb(36,36,36)"
          }
         }
        },
        "title": {
         "font": {
          "color": "#ff7f00",
          "family": "Arial Bold Italic",
          "size": 15
         },
         "text": "Stand"
        },
        "width": 960,
        "xaxis": {
         "anchor": "y",
         "categoryarray": [
          "Marco",
          "Casper",
          "Chiel",
          "Corine",
          "Raymond",
          "Niels",
          "Erik",
          "Arjan T.",
          "Grietje",
          "Arjan Z.",
          "Michiel",
          "Rodi",
          "Charlotte",
          "Hans",
          "Kitty",
          "Emily",
          "Stan",
          "Erwin",
          "Mees",
          "Jordi",
          "Isolde",
          "Wietse"
         ],
         "categoryorder": "array",
         "domain": [
          0,
          1
         ],
         "title": {
          "text": "Teams"
         }
        },
        "yaxis": {
         "anchor": "x",
         "domain": [
          0,
          1
         ],
         "showgrid": true,
         "title": {
          "text": "Puntentotaal"
         }
        }
       }
      },
      "text/html": [
       "<div>                            <div id=\"407e2016-a149-41f3-b7dd-d0c7206bb8d5\" class=\"plotly-graph-div\" style=\"height:660px; width:960px;\"></div>            <script type=\"text/javascript\">                require([\"plotly\"], function(Plotly) {                    window.PLOTLYENV=window.PLOTLYENV || {};                                    if (document.getElementById(\"407e2016-a149-41f3-b7dd-d0c7206bb8d5\")) {                    Plotly.newPlot(                        \"407e2016-a149-41f3-b7dd-d0c7206bb8d5\",                        [{\"alignmentgroup\":\"True\",\"bingroup\":\"x\",\"histfunc\":\"sum\",\"hovertemplate\":\"Coureur 1<br>Punten = %{y}<extra></extra>\",\"legendgroup\":\"coureur1\",\"marker\":{\"color\":\"#1F77B4\",\"pattern\":{\"shape\":\"\"}},\"name\":\"Coureur 1\",\"offsetgroup\":\"coureur1\",\"orientation\":\"v\",\"showlegend\":true,\"x\":[\"Chiel\",\"Marco\",\"Corine\",\"Casper\",\"Raymond\",\"Niels\",\"Erik\",\"Grietje\",\"Arjan T.\",\"Charlotte\",\"Michiel\",\"Emily\",\"Rodi\",\"Arjan Z.\",\"Hans\",\"Kitty\",\"Stan\",\"Erwin\",\"Mees\",\"Jordi\",\"Wietse\",\"Isolde\",\"Chiel\",\"Marco\",\"Corine\",\"Casper\",\"Raymond\",\"Niels\",\"Erik\",\"Grietje\",\"Arjan T.\",\"Charlotte\",\"Michiel\",\"Emily\",\"Rodi\",\"Arjan Z.\",\"Hans\",\"Kitty\",\"Stan\",\"Erwin\",\"Mees\",\"Jordi\",\"Wietse\",\"Isolde\",\"Chiel\",\"Marco\",\"Corine\",\"Casper\",\"Raymond\",\"Niels\",\"Erik\",\"Grietje\",\"Arjan T.\",\"Charlotte\",\"Michiel\",\"Emily\",\"Rodi\",\"Arjan Z.\",\"Hans\",\"Kitty\",\"Stan\",\"Erwin\",\"Mees\",\"Jordi\",\"Wietse\",\"Isolde\"],\"xaxis\":\"x\",\"y\":[7.5,3.0,9.0,5.0,9.0,0.0,6.0,0.0,0.0,9.0,9.0,6.0,0.0,0.0,5.0,5.0,0.0,0.0,3.0,0.0,0.0,0.0,7.5,6.0,12.5,5.0,12.5,2.0,4.0,0.0,0.0,12.5,12.5,4.0,0.0,0.0,5.0,5.0,0.0,3.0,6.0,3.0,3.0,3.0,7.5,0.0,5.5,9.0,5.5,0.0,0.0,4.0,0.0,5.5,5.5,0.0,4.0,4.0,9.0,9.0,4.0,0.0,0.0,0.0,0.0,0.0],\"yaxis\":\"y\",\"type\":\"histogram\"},{\"alignmentgroup\":\"True\",\"bingroup\":\"x\",\"histfunc\":\"sum\",\"hovertemplate\":\"Coureur 2<br>Punten = %{y}<extra></extra>\",\"legendgroup\":\"coureur2\",\"marker\":{\"color\":\"#FF7F0E\",\"pattern\":{\"shape\":\"\"}},\"name\":\"Coureur 2\",\"offsetgroup\":\"coureur2\",\"orientation\":\"v\",\"showlegend\":true,\"x\":[\"Chiel\",\"Marco\",\"Corine\",\"Casper\",\"Raymond\",\"Niels\",\"Erik\",\"Grietje\",\"Arjan T.\",\"Charlotte\",\"Michiel\",\"Emily\",\"Rodi\",\"Arjan Z.\",\"Hans\",\"Kitty\",\"Stan\",\"Erwin\",\"Mees\",\"Jordi\",\"Wietse\",\"Isolde\",\"Chiel\",\"Marco\",\"Corine\",\"Casper\",\"Raymond\",\"Niels\",\"Erik\",\"Grietje\",\"Arjan T.\",\"Charlotte\",\"Michiel\",\"Emily\",\"Rodi\",\"Arjan Z.\",\"Hans\",\"Kitty\",\"Stan\",\"Erwin\",\"Mees\",\"Jordi\",\"Wietse\",\"Isolde\",\"Chiel\",\"Marco\",\"Corine\",\"Casper\",\"Raymond\",\"Niels\",\"Erik\",\"Grietje\",\"Arjan T.\",\"Charlotte\",\"Michiel\",\"Emily\",\"Rodi\",\"Arjan Z.\",\"Hans\",\"Kitty\",\"Stan\",\"Erwin\",\"Mees\",\"Jordi\",\"Wietse\",\"Isolde\"],\"xaxis\":\"x\",\"y\":[4.0,7.5,0.5,7.5,7.5,7.5,0.0,0.0,5.0,0.0,0.0,0.0,5.0,5.0,1.0,0.0,3.0,0.0,0.0,0.0,1.0,0.0,0.0,7.5,0.0,7.5,7.5,7.5,0.0,0.0,5.0,0.0,0.0,0.0,5.0,5.0,1.0,2.0,6.0,0.0,2.0,0.0,1.0,0.0,6.0,7.5,0.0,7.5,7.5,7.5,2.0,0.0,9.0,0.0,2.0,4.0,9.0,9.0,0.0,0.0,0.0,1.0,0.0,2.0,0.0,0.0],\"yaxis\":\"y\",\"type\":\"histogram\"},{\"alignmentgroup\":\"True\",\"bingroup\":\"x\",\"histfunc\":\"sum\",\"hovertemplate\":\"Chassis<br>Punten = %{y}<extra></extra>\",\"legendgroup\":\"chassis\",\"marker\":{\"color\":\"#2CA02C\",\"pattern\":{\"shape\":\"\"}},\"name\":\"Chassis\",\"offsetgroup\":\"chassis\",\"orientation\":\"v\",\"showlegend\":true,\"x\":[\"Chiel\",\"Marco\",\"Corine\",\"Casper\",\"Raymond\",\"Niels\",\"Erik\",\"Grietje\",\"Arjan T.\",\"Charlotte\",\"Michiel\",\"Emily\",\"Rodi\",\"Arjan Z.\",\"Hans\",\"Kitty\",\"Stan\",\"Erwin\",\"Mees\",\"Jordi\",\"Wietse\",\"Isolde\",\"Chiel\",\"Marco\",\"Corine\",\"Casper\",\"Raymond\",\"Niels\",\"Erik\",\"Grietje\",\"Arjan T.\",\"Charlotte\",\"Michiel\",\"Emily\",\"Rodi\",\"Arjan Z.\",\"Hans\",\"Kitty\",\"Stan\",\"Erwin\",\"Mees\",\"Jordi\",\"Wietse\",\"Isolde\",\"Chiel\",\"Marco\",\"Corine\",\"Casper\",\"Raymond\",\"Niels\",\"Erik\",\"Grietje\",\"Arjan T.\",\"Charlotte\",\"Michiel\",\"Emily\",\"Rodi\",\"Arjan Z.\",\"Hans\",\"Kitty\",\"Stan\",\"Erwin\",\"Mees\",\"Jordi\",\"Wietse\",\"Isolde\"],\"xaxis\":\"x\",\"y\":[8.6,4.6000000000000005,4.6000000000000005,0.8,0.4,3.2,4.6000000000000005,8.6,0.0,0.4,0.0,0.0,0.4,0.0,0.0,0.4,0.8,0.4,0.4,0.0,0.0,0.0,8.8,3.0,3.0,0.0,1.2000000000000002,4.4,3.0,8.8,0.0,1.2000000000000002,0.0,0.0,1.2000000000000002,0.0,0.0,1.2000000000000002,0.0,1.2000000000000002,1.2000000000000002,0.0,0.2,0.0,7.2,5.4,5.4,0.4,0.0,3.6,5.4,7.2,2.4000000000000004,0.0,2.4000000000000004,2.4000000000000004,0.0,2.4000000000000004,2.4000000000000004,0.0,0.4,0.0,0.0,2.4000000000000004,1.2000000000000002,2.4000000000000004],\"yaxis\":\"y\",\"type\":\"histogram\"},{\"alignmentgroup\":\"True\",\"bingroup\":\"x\",\"histfunc\":\"sum\",\"hovertemplate\":\"Motor<br>Punten = %{y}<extra></extra>\",\"legendgroup\":\"motor\",\"marker\":{\"color\":\"#D62728\",\"pattern\":{\"shape\":\"\"}},\"name\":\"Motor\",\"offsetgroup\":\"motor\",\"orientation\":\"v\",\"showlegend\":true,\"x\":[\"Chiel\",\"Marco\",\"Corine\",\"Casper\",\"Raymond\",\"Niels\",\"Erik\",\"Grietje\",\"Arjan T.\",\"Charlotte\",\"Michiel\",\"Emily\",\"Rodi\",\"Arjan Z.\",\"Hans\",\"Kitty\",\"Stan\",\"Erwin\",\"Mees\",\"Jordi\",\"Wietse\",\"Isolde\",\"Chiel\",\"Marco\",\"Corine\",\"Casper\",\"Raymond\",\"Niels\",\"Erik\",\"Grietje\",\"Arjan T.\",\"Charlotte\",\"Michiel\",\"Emily\",\"Rodi\",\"Arjan Z.\",\"Hans\",\"Kitty\",\"Stan\",\"Erwin\",\"Mees\",\"Jordi\",\"Wietse\",\"Isolde\",\"Chiel\",\"Marco\",\"Corine\",\"Casper\",\"Raymond\",\"Niels\",\"Erik\",\"Grietje\",\"Arjan T.\",\"Charlotte\",\"Michiel\",\"Emily\",\"Rodi\",\"Arjan Z.\",\"Hans\",\"Kitty\",\"Stan\",\"Erwin\",\"Mees\",\"Jordi\",\"Wietse\",\"Isolde\"],\"xaxis\":\"x\",\"y\":[1.5999999999999999,6.45,6.45,6.45,1.5999999999999999,6.45,6.45,3.0,6.45,1.5999999999999999,1.5999999999999999,3.0,3.0,3.0,1.5999999999999999,1.5999999999999999,3.0,6.45,3.0,1.5999999999999999,0.6,1.5999999999999999,1.5,6.6,6.6,6.6,1.5,6.6,6.6,2.775,6.6,1.5,1.5,2.775,2.775,2.775,1.5,1.5,2.775,6.6,2.775,1.5,1.7999999999999998,1.5,0.7999999999999999,5.55,5.55,5.55,0.7999999999999999,5.55,5.55,4.2749999999999995,5.55,0.7999999999999999,0.7999999999999999,4.2749999999999995,4.2749999999999995,4.2749999999999995,0.7999999999999999,0.7999999999999999,4.2749999999999995,5.55,4.2749999999999995,0.7999999999999999,0.0,0.7999999999999999],\"yaxis\":\"y\",\"type\":\"histogram\"}],                        {\"template\":{\"data\":{\"barpolar\":[{\"marker\":{\"line\":{\"color\":\"white\",\"width\":0.5},\"pattern\":{\"fillmode\":\"overlay\",\"size\":10,\"solidity\":0.2}},\"type\":\"barpolar\"}],\"bar\":[{\"error_x\":{\"color\":\"rgb(36,36,36)\"},\"error_y\":{\"color\":\"rgb(36,36,36)\"},\"marker\":{\"line\":{\"color\":\"white\",\"width\":0.5},\"pattern\":{\"fillmode\":\"overlay\",\"size\":10,\"solidity\":0.2}},\"type\":\"bar\"}],\"carpet\":[{\"aaxis\":{\"endlinecolor\":\"rgb(36,36,36)\",\"gridcolor\":\"white\",\"linecolor\":\"white\",\"minorgridcolor\":\"white\",\"startlinecolor\":\"rgb(36,36,36)\"},\"baxis\":{\"endlinecolor\":\"rgb(36,36,36)\",\"gridcolor\":\"white\",\"linecolor\":\"white\",\"minorgridcolor\":\"white\",\"startlinecolor\":\"rgb(36,36,36)\"},\"type\":\"carpet\"}],\"choropleth\":[{\"colorbar\":{\"outlinewidth\":1,\"tickcolor\":\"rgb(36,36,36)\",\"ticks\":\"outside\"},\"type\":\"choropleth\"}],\"contourcarpet\":[{\"colorbar\":{\"outlinewidth\":1,\"tickcolor\":\"rgb(36,36,36)\",\"ticks\":\"outside\"},\"type\":\"contourcarpet\"}],\"contour\":[{\"colorbar\":{\"outlinewidth\":1,\"tickcolor\":\"rgb(36,36,36)\",\"ticks\":\"outside\"},\"colorscale\":[[0.0,\"#440154\"],[0.1111111111111111,\"#482878\"],[0.2222222222222222,\"#3e4989\"],[0.3333333333333333,\"#31688e\"],[0.4444444444444444,\"#26828e\"],[0.5555555555555556,\"#1f9e89\"],[0.6666666666666666,\"#35b779\"],[0.7777777777777778,\"#6ece58\"],[0.8888888888888888,\"#b5de2b\"],[1.0,\"#fde725\"]],\"type\":\"contour\"}],\"heatmapgl\":[{\"colorbar\":{\"outlinewidth\":1,\"tickcolor\":\"rgb(36,36,36)\",\"ticks\":\"outside\"},\"colorscale\":[[0.0,\"#440154\"],[0.1111111111111111,\"#482878\"],[0.2222222222222222,\"#3e4989\"],[0.3333333333333333,\"#31688e\"],[0.4444444444444444,\"#26828e\"],[0.5555555555555556,\"#1f9e89\"],[0.6666666666666666,\"#35b779\"],[0.7777777777777778,\"#6ece58\"],[0.8888888888888888,\"#b5de2b\"],[1.0,\"#fde725\"]],\"type\":\"heatmapgl\"}],\"heatmap\":[{\"colorbar\":{\"outlinewidth\":1,\"tickcolor\":\"rgb(36,36,36)\",\"ticks\":\"outside\"},\"colorscale\":[[0.0,\"#440154\"],[0.1111111111111111,\"#482878\"],[0.2222222222222222,\"#3e4989\"],[0.3333333333333333,\"#31688e\"],[0.4444444444444444,\"#26828e\"],[0.5555555555555556,\"#1f9e89\"],[0.6666666666666666,\"#35b779\"],[0.7777777777777778,\"#6ece58\"],[0.8888888888888888,\"#b5de2b\"],[1.0,\"#fde725\"]],\"type\":\"heatmap\"}],\"histogram2dcontour\":[{\"colorbar\":{\"outlinewidth\":1,\"tickcolor\":\"rgb(36,36,36)\",\"ticks\":\"outside\"},\"colorscale\":[[0.0,\"#440154\"],[0.1111111111111111,\"#482878\"],[0.2222222222222222,\"#3e4989\"],[0.3333333333333333,\"#31688e\"],[0.4444444444444444,\"#26828e\"],[0.5555555555555556,\"#1f9e89\"],[0.6666666666666666,\"#35b779\"],[0.7777777777777778,\"#6ece58\"],[0.8888888888888888,\"#b5de2b\"],[1.0,\"#fde725\"]],\"type\":\"histogram2dcontour\"}],\"histogram2d\":[{\"colorbar\":{\"outlinewidth\":1,\"tickcolor\":\"rgb(36,36,36)\",\"ticks\":\"outside\"},\"colorscale\":[[0.0,\"#440154\"],[0.1111111111111111,\"#482878\"],[0.2222222222222222,\"#3e4989\"],[0.3333333333333333,\"#31688e\"],[0.4444444444444444,\"#26828e\"],[0.5555555555555556,\"#1f9e89\"],[0.6666666666666666,\"#35b779\"],[0.7777777777777778,\"#6ece58\"],[0.8888888888888888,\"#b5de2b\"],[1.0,\"#fde725\"]],\"type\":\"histogram2d\"}],\"histogram\":[{\"marker\":{\"line\":{\"color\":\"white\",\"width\":0.6}},\"type\":\"histogram\"}],\"mesh3d\":[{\"colorbar\":{\"outlinewidth\":1,\"tickcolor\":\"rgb(36,36,36)\",\"ticks\":\"outside\"},\"type\":\"mesh3d\"}],\"parcoords\":[{\"line\":{\"colorbar\":{\"outlinewidth\":1,\"tickcolor\":\"rgb(36,36,36)\",\"ticks\":\"outside\"}},\"type\":\"parcoords\"}],\"pie\":[{\"automargin\":true,\"type\":\"pie\"}],\"scatter3d\":[{\"line\":{\"colorbar\":{\"outlinewidth\":1,\"tickcolor\":\"rgb(36,36,36)\",\"ticks\":\"outside\"}},\"marker\":{\"colorbar\":{\"outlinewidth\":1,\"tickcolor\":\"rgb(36,36,36)\",\"ticks\":\"outside\"}},\"type\":\"scatter3d\"}],\"scattercarpet\":[{\"marker\":{\"colorbar\":{\"outlinewidth\":1,\"tickcolor\":\"rgb(36,36,36)\",\"ticks\":\"outside\"}},\"type\":\"scattercarpet\"}],\"scattergeo\":[{\"marker\":{\"colorbar\":{\"outlinewidth\":1,\"tickcolor\":\"rgb(36,36,36)\",\"ticks\":\"outside\"}},\"type\":\"scattergeo\"}],\"scattergl\":[{\"marker\":{\"colorbar\":{\"outlinewidth\":1,\"tickcolor\":\"rgb(36,36,36)\",\"ticks\":\"outside\"}},\"type\":\"scattergl\"}],\"scattermapbox\":[{\"marker\":{\"colorbar\":{\"outlinewidth\":1,\"tickcolor\":\"rgb(36,36,36)\",\"ticks\":\"outside\"}},\"type\":\"scattermapbox\"}],\"scatterpolargl\":[{\"marker\":{\"colorbar\":{\"outlinewidth\":1,\"tickcolor\":\"rgb(36,36,36)\",\"ticks\":\"outside\"}},\"type\":\"scatterpolargl\"}],\"scatterpolar\":[{\"marker\":{\"colorbar\":{\"outlinewidth\":1,\"tickcolor\":\"rgb(36,36,36)\",\"ticks\":\"outside\"}},\"type\":\"scatterpolar\"}],\"scatter\":[{\"fillpattern\":{\"fillmode\":\"overlay\",\"size\":10,\"solidity\":0.2},\"type\":\"scatter\"}],\"scatterternary\":[{\"marker\":{\"colorbar\":{\"outlinewidth\":1,\"tickcolor\":\"rgb(36,36,36)\",\"ticks\":\"outside\"}},\"type\":\"scatterternary\"}],\"surface\":[{\"colorbar\":{\"outlinewidth\":1,\"tickcolor\":\"rgb(36,36,36)\",\"ticks\":\"outside\"},\"colorscale\":[[0.0,\"#440154\"],[0.1111111111111111,\"#482878\"],[0.2222222222222222,\"#3e4989\"],[0.3333333333333333,\"#31688e\"],[0.4444444444444444,\"#26828e\"],[0.5555555555555556,\"#1f9e89\"],[0.6666666666666666,\"#35b779\"],[0.7777777777777778,\"#6ece58\"],[0.8888888888888888,\"#b5de2b\"],[1.0,\"#fde725\"]],\"type\":\"surface\"}],\"table\":[{\"cells\":{\"fill\":{\"color\":\"rgb(237,237,237)\"},\"line\":{\"color\":\"white\"}},\"header\":{\"fill\":{\"color\":\"rgb(217,217,217)\"},\"line\":{\"color\":\"white\"}},\"type\":\"table\"}]},\"layout\":{\"annotationdefaults\":{\"arrowhead\":0,\"arrowwidth\":1},\"autotypenumbers\":\"strict\",\"coloraxis\":{\"colorbar\":{\"outlinewidth\":1,\"tickcolor\":\"rgb(36,36,36)\",\"ticks\":\"outside\"}},\"colorscale\":{\"diverging\":[[0.0,\"rgb(103,0,31)\"],[0.1,\"rgb(178,24,43)\"],[0.2,\"rgb(214,96,77)\"],[0.3,\"rgb(244,165,130)\"],[0.4,\"rgb(253,219,199)\"],[0.5,\"rgb(247,247,247)\"],[0.6,\"rgb(209,229,240)\"],[0.7,\"rgb(146,197,222)\"],[0.8,\"rgb(67,147,195)\"],[0.9,\"rgb(33,102,172)\"],[1.0,\"rgb(5,48,97)\"]],\"sequential\":[[0.0,\"#440154\"],[0.1111111111111111,\"#482878\"],[0.2222222222222222,\"#3e4989\"],[0.3333333333333333,\"#31688e\"],[0.4444444444444444,\"#26828e\"],[0.5555555555555556,\"#1f9e89\"],[0.6666666666666666,\"#35b779\"],[0.7777777777777778,\"#6ece58\"],[0.8888888888888888,\"#b5de2b\"],[1.0,\"#fde725\"]],\"sequentialminus\":[[0.0,\"#440154\"],[0.1111111111111111,\"#482878\"],[0.2222222222222222,\"#3e4989\"],[0.3333333333333333,\"#31688e\"],[0.4444444444444444,\"#26828e\"],[0.5555555555555556,\"#1f9e89\"],[0.6666666666666666,\"#35b779\"],[0.7777777777777778,\"#6ece58\"],[0.8888888888888888,\"#b5de2b\"],[1.0,\"#fde725\"]]},\"colorway\":[\"#1F77B4\",\"#FF7F0E\",\"#2CA02C\",\"#D62728\",\"#9467BD\",\"#8C564B\",\"#E377C2\",\"#7F7F7F\",\"#BCBD22\",\"#17BECF\"],\"font\":{\"color\":\"rgb(36,36,36)\"},\"geo\":{\"bgcolor\":\"white\",\"lakecolor\":\"white\",\"landcolor\":\"white\",\"showlakes\":true,\"showland\":true,\"subunitcolor\":\"white\"},\"hoverlabel\":{\"align\":\"left\"},\"hovermode\":\"closest\",\"mapbox\":{\"style\":\"light\"},\"paper_bgcolor\":\"white\",\"plot_bgcolor\":\"white\",\"polar\":{\"angularaxis\":{\"gridcolor\":\"rgb(232,232,232)\",\"linecolor\":\"rgb(36,36,36)\",\"showgrid\":false,\"showline\":true,\"ticks\":\"outside\"},\"bgcolor\":\"white\",\"radialaxis\":{\"gridcolor\":\"rgb(232,232,232)\",\"linecolor\":\"rgb(36,36,36)\",\"showgrid\":false,\"showline\":true,\"ticks\":\"outside\"}},\"scene\":{\"xaxis\":{\"backgroundcolor\":\"white\",\"gridcolor\":\"rgb(232,232,232)\",\"gridwidth\":2,\"linecolor\":\"rgb(36,36,36)\",\"showbackground\":true,\"showgrid\":false,\"showline\":true,\"ticks\":\"outside\",\"zeroline\":false,\"zerolinecolor\":\"rgb(36,36,36)\"},\"yaxis\":{\"backgroundcolor\":\"white\",\"gridcolor\":\"rgb(232,232,232)\",\"gridwidth\":2,\"linecolor\":\"rgb(36,36,36)\",\"showbackground\":true,\"showgrid\":false,\"showline\":true,\"ticks\":\"outside\",\"zeroline\":false,\"zerolinecolor\":\"rgb(36,36,36)\"},\"zaxis\":{\"backgroundcolor\":\"white\",\"gridcolor\":\"rgb(232,232,232)\",\"gridwidth\":2,\"linecolor\":\"rgb(36,36,36)\",\"showbackground\":true,\"showgrid\":false,\"showline\":true,\"ticks\":\"outside\",\"zeroline\":false,\"zerolinecolor\":\"rgb(36,36,36)\"}},\"shapedefaults\":{\"fillcolor\":\"black\",\"line\":{\"width\":0},\"opacity\":0.3},\"ternary\":{\"aaxis\":{\"gridcolor\":\"rgb(232,232,232)\",\"linecolor\":\"rgb(36,36,36)\",\"showgrid\":false,\"showline\":true,\"ticks\":\"outside\"},\"baxis\":{\"gridcolor\":\"rgb(232,232,232)\",\"linecolor\":\"rgb(36,36,36)\",\"showgrid\":false,\"showline\":true,\"ticks\":\"outside\"},\"bgcolor\":\"white\",\"caxis\":{\"gridcolor\":\"rgb(232,232,232)\",\"linecolor\":\"rgb(36,36,36)\",\"showgrid\":false,\"showline\":true,\"ticks\":\"outside\"}},\"title\":{\"x\":0.05},\"xaxis\":{\"automargin\":true,\"gridcolor\":\"rgb(232,232,232)\",\"linecolor\":\"rgb(36,36,36)\",\"showgrid\":false,\"showline\":true,\"ticks\":\"outside\",\"title\":{\"standoff\":15},\"zeroline\":false,\"zerolinecolor\":\"rgb(36,36,36)\"},\"yaxis\":{\"automargin\":true,\"gridcolor\":\"rgb(232,232,232)\",\"linecolor\":\"rgb(36,36,36)\",\"showgrid\":false,\"showline\":true,\"ticks\":\"outside\",\"title\":{\"standoff\":15},\"zeroline\":false,\"zerolinecolor\":\"rgb(36,36,36)\"}}},\"xaxis\":{\"anchor\":\"y\",\"domain\":[0.0,1.0],\"title\":{\"text\":\"Teams\"},\"categoryorder\":\"array\",\"categoryarray\":[\"Marco\",\"Casper\",\"Chiel\",\"Corine\",\"Raymond\",\"Niels\",\"Erik\",\"Arjan T.\",\"Grietje\",\"Arjan Z.\",\"Michiel\",\"Rodi\",\"Charlotte\",\"Hans\",\"Kitty\",\"Emily\",\"Stan\",\"Erwin\",\"Mees\",\"Jordi\",\"Isolde\",\"Wietse\"]},\"yaxis\":{\"anchor\":\"x\",\"domain\":[0.0,1.0],\"title\":{\"text\":\"Puntentotaal\"},\"showgrid\":true},\"legend\":{\"title\":{\"text\":\"Categorie\"},\"tracegroupgap\":0},\"title\":{\"text\":\"Stand\",\"font\":{\"color\":\"#ff7f00\",\"size\":15,\"family\":\"Arial Bold Italic\"}},\"barmode\":\"relative\",\"height\":660,\"width\":960,\"plot_bgcolor\":\"rgba(224, 224, 224, 1)\",\"paper_bgcolor\":\"rgba(224, 224, 224, 1)\",\"font\":{\"size\":11}},                        {\"responsive\": true}                    ).then(function(){\n",
       "                            \n",
       "var gd = document.getElementById('407e2016-a149-41f3-b7dd-d0c7206bb8d5');\n",
       "var x = new MutationObserver(function (mutations, observer) {{\n",
       "        var display = window.getComputedStyle(gd).display;\n",
       "        if (!display || display === 'none') {{\n",
       "            console.log([gd, 'removed!']);\n",
       "            Plotly.purge(gd);\n",
       "            observer.disconnect();\n",
       "        }}\n",
       "}});\n",
       "\n",
       "// Listen for the removal of the full notebook cells\n",
       "var notebookContainer = gd.closest('#notebook-container');\n",
       "if (notebookContainer) {{\n",
       "    x.observe(notebookContainer, {childList: true});\n",
       "}}\n",
       "\n",
       "// Listen for the clearing of the current output cell\n",
       "var outputEl = gd.closest('.output');\n",
       "if (outputEl) {{\n",
       "    x.observe(outputEl, {childList: true});\n",
       "}}\n",
       "\n",
       "                        })                };                });            </script>        </div>"
      ]
     },
     "metadata": {},
     "output_type": "display_data"
    }
   ],
   "source": [
    "team_names = df_total_score['team']\n",
    "\n",
    "fig = px.histogram(df, x=\"team\", y=\"score\", color=\"cat\",\n",
    "            title=\"Stand\",\n",
    "            width=fig_width, height=660,\n",
    "            labels={ \"cat\" : \"Categorie\" },\n",
    "            template=\"simple_white\"\n",
    "            )\n",
    "\n",
    "fig.update_layout(xaxis_title=\"Teams\") \n",
    "fig.update_layout(yaxis_title=\"Puntentotaal\")\n",
    "\n",
    "fig.update_xaxes(categoryorder='array', categoryarray=team_names)\n",
    "\n",
    "make_acwef1_proof(fig)\n",
    "\n",
    "fig.update_layout(\n",
    "    font_size = 11,\n",
    "    title_font_color = '#ff7f00',\n",
    "    title_font_size = 15,\n",
    "    title_font_family = 'Arial Bold Italic')\n",
    "\n",
    "for idx, name in enumerate(['Coureur 1', 'Coureur 2', 'Chassis', 'Motor']):\n",
    "    fig.data[idx].name = name\n",
    "    fig.data[idx].hovertemplate = name + \"<br>Punten = %{y}<extra></extra>\"       \n",
    "                 \n",
    "if fig_write:\n",
    "    fig.write_html(\"totale_punten_staaf_cat.html\", full_html=False, include_plotlyjs='cdn')\n",
    "fig.show()"
   ]
  },
  {
   "cell_type": "code",
   "execution_count": null,
   "id": "bef792e9",
   "metadata": {},
   "outputs": [],
   "source": []
  },
  {
   "cell_type": "code",
   "execution_count": null,
   "id": "cc884d6b",
   "metadata": {},
   "outputs": [],
   "source": []
  }
 ],
 "metadata": {
  "kernelspec": {
   "display_name": "Python 3 (ipykernel)",
   "language": "python",
   "name": "python3"
  },
  "language_info": {
   "codemirror_mode": {
    "name": "ipython",
    "version": 3
   },
   "file_extension": ".py",
   "mimetype": "text/x-python",
   "name": "python",
   "nbconvert_exporter": "python",
   "pygments_lexer": "ipython3",
   "version": "3.11.2"
  }
 },
 "nbformat": 4,
 "nbformat_minor": 5
}
