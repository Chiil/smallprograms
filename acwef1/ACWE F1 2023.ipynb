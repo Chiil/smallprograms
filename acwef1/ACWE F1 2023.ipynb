{
 "cells": [
  {
   "cell_type": "code",
   "execution_count": 1,
   "id": "340b6986",
   "metadata": {},
   "outputs": [],
   "source": [
    "import pandas as pd\n",
    "import numpy as np\n",
    "import plotly.express as px\n",
    "\n",
    "fig_width = 960\n",
    "fig_write = True"
   ]
  },
  {
   "cell_type": "code",
   "execution_count": 2,
   "id": "32dbae3b",
   "metadata": {},
   "outputs": [],
   "source": [
    "coureurs = pd.read_excel(\"acwe2023.xlsx\", index_col=\"id\", sheet_name=\"Coureurs\")\n",
    "motor = pd.read_excel(\"acwe2023.xlsx\", index_col=\"id\", sheet_name=\"Motor\")\n",
    "chassis = pd.read_excel(\"acwe2023.xlsx\", index_col=\"id\", sheet_name=\"Chassis\")\n",
    "teams = pd.read_excel(\"acwe2023.xlsx\", index_col=\"id\", sheet_name=\"Teams\")\n",
    "\n",
    "races = list(coureurs.columns[4:])"
   ]
  },
  {
   "cell_type": "code",
   "execution_count": 3,
   "id": "e3bccf34",
   "metadata": {},
   "outputs": [],
   "source": [
    "def calc_score_coureur(i, race):\n",
    "    score = coureurs.loc[coureurs.index == i][race] * 0.5\n",
    "    return score.values[0]\n",
    "\n",
    "def calc_score_chassis(i, race):\n",
    "    score = coureurs.loc[coureurs['chassis'] == i][race]\n",
    "    return score.sum() * 0.2\n",
    "    \n",
    "def calc_score_motor(i, race):\n",
    "    score = coureurs.loc[coureurs['motor'] == i][race]\n",
    "    return score.sum() / (0.5*score.count()) * 0.3"
   ]
  },
  {
   "cell_type": "code",
   "execution_count": 4,
   "id": "d18ab562",
   "metadata": {},
   "outputs": [],
   "source": [
    "df = pd.DataFrame(columns=['team', 'race', 'cat', 'score'])\n",
    "\n",
    "for race in races:\n",
    "    score_coureur1 = pd.Series([ calc_score_coureur(i, race) for i in teams['coureur1'] ])\n",
    "    score_coureur2 = pd.Series([ calc_score_coureur(i, race) for i in teams['coureur2'] ])\n",
    "    score_chassis  = pd.Series([ calc_score_chassis(i, race) for i in teams['chassis' ] ])\n",
    "    score_motor    = pd.Series([ calc_score_motor  (i, race) for i in teams['motor'   ] ])\n",
    "    \n",
    "    df_coureur1 = pd.DataFrame({'team' : teams['naam'], 'race' : race, 'cat' : 'coureur1', 'score' : score_coureur1})\n",
    "    df_coureur2 = pd.DataFrame({'team' : teams['naam'], 'race' : race, 'cat' : 'coureur2', 'score' : score_coureur2})\n",
    "    df_chassis = pd.DataFrame({'team' : teams['naam'], 'race' : race, 'cat' : 'chassis', 'score' : score_chassis})\n",
    "    df_motor = pd.DataFrame({'team' : teams['naam'], 'race' : race, 'cat' : 'motor', 'score' : score_motor})\n",
    "    \n",
    "    df = pd.concat([df, df_coureur1, df_coureur2, df_chassis, df_motor])"
   ]
  },
  {
   "cell_type": "code",
   "execution_count": 31,
   "id": "12a1ae69",
   "metadata": {},
   "outputs": [
    {
     "data": {
      "application/vnd.plotly.v1+json": {
       "config": {
        "plotlyServerURL": "https://plot.ly"
       },
       "data": [
        {
         "alignmentgroup": "True",
         "bingroup": "x",
         "histfunc": "sum",
         "hovertemplate": "Coureur 1<br>Punten = %{y}<extra></extra>",
         "legendgroup": "coureur1",
         "marker": {
          "color": "#1F77B4",
          "pattern": {
           "shape": ""
          }
         },
         "name": "Coureur 1",
         "offsetgroup": "coureur1",
         "orientation": "v",
         "showlegend": true,
         "type": "histogram",
         "x": [
          "Arjan T.",
          "Arjan Z.",
          "Casper",
          "Charlotte",
          "Chiel",
          "Corine",
          "Emily",
          "Erik",
          "Erwin",
          "Grietje",
          "Hans",
          "Isolde",
          "Jordi",
          "Kitty",
          "Marco",
          "Mees",
          "Michiel",
          "Niels",
          "Raymond",
          "Rodi",
          "Stan",
          "Wietse"
         ],
         "xaxis": "x",
         "y": [
          0,
          0,
          5,
          9,
          7.5,
          9,
          6,
          6,
          0,
          0,
          5,
          0,
          0,
          5,
          3,
          3,
          9,
          0,
          9,
          0,
          0,
          0
         ],
         "yaxis": "y"
        },
        {
         "alignmentgroup": "True",
         "bingroup": "x",
         "histfunc": "sum",
         "hovertemplate": "Coureur 2<br>Punten = %{y}<extra></extra>",
         "legendgroup": "motor",
         "marker": {
          "color": "#FF7F0E",
          "pattern": {
           "shape": ""
          }
         },
         "name": "Coureur 2",
         "offsetgroup": "motor",
         "orientation": "v",
         "showlegend": true,
         "type": "histogram",
         "x": [
          "Arjan T.",
          "Arjan Z.",
          "Casper",
          "Charlotte",
          "Chiel",
          "Corine",
          "Emily",
          "Erik",
          "Erwin",
          "Grietje",
          "Hans",
          "Isolde",
          "Jordi",
          "Kitty",
          "Marco",
          "Mees",
          "Michiel",
          "Niels",
          "Raymond",
          "Rodi",
          "Stan",
          "Wietse"
         ],
         "xaxis": "x",
         "y": [
          6.45,
          3,
          6.45,
          1.5999999999999999,
          1.5999999999999999,
          6.45,
          3,
          6.45,
          6.45,
          3,
          1.5999999999999999,
          1.5999999999999999,
          1.5999999999999999,
          1.5999999999999999,
          6.45,
          3,
          1.5999999999999999,
          6.45,
          1.5999999999999999,
          3,
          3,
          0.6
         ],
         "yaxis": "y"
        },
        {
         "alignmentgroup": "True",
         "bingroup": "x",
         "histfunc": "sum",
         "hovertemplate": "Chassis<br>Punten = %{y}<extra></extra>",
         "legendgroup": "chassis",
         "marker": {
          "color": "#2CA02C",
          "pattern": {
           "shape": ""
          }
         },
         "name": "Chassis",
         "offsetgroup": "chassis",
         "orientation": "v",
         "showlegend": true,
         "type": "histogram",
         "x": [
          "Arjan T.",
          "Arjan Z.",
          "Casper",
          "Charlotte",
          "Chiel",
          "Corine",
          "Emily",
          "Erik",
          "Erwin",
          "Grietje",
          "Hans",
          "Isolde",
          "Jordi",
          "Kitty",
          "Marco",
          "Mees",
          "Michiel",
          "Niels",
          "Raymond",
          "Rodi",
          "Stan",
          "Wietse"
         ],
         "xaxis": "x",
         "y": [
          0,
          0,
          0.8,
          0.4,
          8.6,
          4.6000000000000005,
          0,
          4.6000000000000005,
          0.4,
          8.6,
          0,
          0,
          0,
          0.4,
          4.6000000000000005,
          0.4,
          0,
          3.2,
          0.4,
          0.4,
          0.8,
          0
         ],
         "yaxis": "y"
        },
        {
         "alignmentgroup": "True",
         "bingroup": "x",
         "histfunc": "sum",
         "hovertemplate": "Motor<br>Punten = %{y}<extra></extra>",
         "legendgroup": "coureur2",
         "marker": {
          "color": "#D62728",
          "pattern": {
           "shape": ""
          }
         },
         "name": "Motor",
         "offsetgroup": "coureur2",
         "orientation": "v",
         "showlegend": true,
         "type": "histogram",
         "x": [
          "Arjan T.",
          "Arjan Z.",
          "Casper",
          "Charlotte",
          "Chiel",
          "Corine",
          "Emily",
          "Erik",
          "Erwin",
          "Grietje",
          "Hans",
          "Isolde",
          "Jordi",
          "Kitty",
          "Marco",
          "Mees",
          "Michiel",
          "Niels",
          "Raymond",
          "Rodi",
          "Stan",
          "Wietse"
         ],
         "xaxis": "x",
         "y": [
          5,
          5,
          7.5,
          0,
          4,
          0.5,
          0,
          0,
          0,
          0,
          1,
          0,
          0,
          0,
          7.5,
          0,
          0,
          7.5,
          7.5,
          5,
          3,
          1
         ],
         "yaxis": "y"
        }
       ],
       "layout": {
        "barmode": "relative",
        "height": 400,
        "legend": {
         "title": {
          "text": "Categorie"
         },
         "tracegroupgap": 0
        },
        "template": {
         "data": {
          "bar": [
           {
            "error_x": {
             "color": "rgb(36,36,36)"
            },
            "error_y": {
             "color": "rgb(36,36,36)"
            },
            "marker": {
             "line": {
              "color": "white",
              "width": 0.5
             },
             "pattern": {
              "fillmode": "overlay",
              "size": 10,
              "solidity": 0.2
             }
            },
            "type": "bar"
           }
          ],
          "barpolar": [
           {
            "marker": {
             "line": {
              "color": "white",
              "width": 0.5
             },
             "pattern": {
              "fillmode": "overlay",
              "size": 10,
              "solidity": 0.2
             }
            },
            "type": "barpolar"
           }
          ],
          "carpet": [
           {
            "aaxis": {
             "endlinecolor": "rgb(36,36,36)",
             "gridcolor": "white",
             "linecolor": "white",
             "minorgridcolor": "white",
             "startlinecolor": "rgb(36,36,36)"
            },
            "baxis": {
             "endlinecolor": "rgb(36,36,36)",
             "gridcolor": "white",
             "linecolor": "white",
             "minorgridcolor": "white",
             "startlinecolor": "rgb(36,36,36)"
            },
            "type": "carpet"
           }
          ],
          "choropleth": [
           {
            "colorbar": {
             "outlinewidth": 1,
             "tickcolor": "rgb(36,36,36)",
             "ticks": "outside"
            },
            "type": "choropleth"
           }
          ],
          "contour": [
           {
            "colorbar": {
             "outlinewidth": 1,
             "tickcolor": "rgb(36,36,36)",
             "ticks": "outside"
            },
            "colorscale": [
             [
              0,
              "#440154"
             ],
             [
              0.1111111111111111,
              "#482878"
             ],
             [
              0.2222222222222222,
              "#3e4989"
             ],
             [
              0.3333333333333333,
              "#31688e"
             ],
             [
              0.4444444444444444,
              "#26828e"
             ],
             [
              0.5555555555555556,
              "#1f9e89"
             ],
             [
              0.6666666666666666,
              "#35b779"
             ],
             [
              0.7777777777777778,
              "#6ece58"
             ],
             [
              0.8888888888888888,
              "#b5de2b"
             ],
             [
              1,
              "#fde725"
             ]
            ],
            "type": "contour"
           }
          ],
          "contourcarpet": [
           {
            "colorbar": {
             "outlinewidth": 1,
             "tickcolor": "rgb(36,36,36)",
             "ticks": "outside"
            },
            "type": "contourcarpet"
           }
          ],
          "heatmap": [
           {
            "colorbar": {
             "outlinewidth": 1,
             "tickcolor": "rgb(36,36,36)",
             "ticks": "outside"
            },
            "colorscale": [
             [
              0,
              "#440154"
             ],
             [
              0.1111111111111111,
              "#482878"
             ],
             [
              0.2222222222222222,
              "#3e4989"
             ],
             [
              0.3333333333333333,
              "#31688e"
             ],
             [
              0.4444444444444444,
              "#26828e"
             ],
             [
              0.5555555555555556,
              "#1f9e89"
             ],
             [
              0.6666666666666666,
              "#35b779"
             ],
             [
              0.7777777777777778,
              "#6ece58"
             ],
             [
              0.8888888888888888,
              "#b5de2b"
             ],
             [
              1,
              "#fde725"
             ]
            ],
            "type": "heatmap"
           }
          ],
          "heatmapgl": [
           {
            "colorbar": {
             "outlinewidth": 1,
             "tickcolor": "rgb(36,36,36)",
             "ticks": "outside"
            },
            "colorscale": [
             [
              0,
              "#440154"
             ],
             [
              0.1111111111111111,
              "#482878"
             ],
             [
              0.2222222222222222,
              "#3e4989"
             ],
             [
              0.3333333333333333,
              "#31688e"
             ],
             [
              0.4444444444444444,
              "#26828e"
             ],
             [
              0.5555555555555556,
              "#1f9e89"
             ],
             [
              0.6666666666666666,
              "#35b779"
             ],
             [
              0.7777777777777778,
              "#6ece58"
             ],
             [
              0.8888888888888888,
              "#b5de2b"
             ],
             [
              1,
              "#fde725"
             ]
            ],
            "type": "heatmapgl"
           }
          ],
          "histogram": [
           {
            "marker": {
             "line": {
              "color": "white",
              "width": 0.6
             }
            },
            "type": "histogram"
           }
          ],
          "histogram2d": [
           {
            "colorbar": {
             "outlinewidth": 1,
             "tickcolor": "rgb(36,36,36)",
             "ticks": "outside"
            },
            "colorscale": [
             [
              0,
              "#440154"
             ],
             [
              0.1111111111111111,
              "#482878"
             ],
             [
              0.2222222222222222,
              "#3e4989"
             ],
             [
              0.3333333333333333,
              "#31688e"
             ],
             [
              0.4444444444444444,
              "#26828e"
             ],
             [
              0.5555555555555556,
              "#1f9e89"
             ],
             [
              0.6666666666666666,
              "#35b779"
             ],
             [
              0.7777777777777778,
              "#6ece58"
             ],
             [
              0.8888888888888888,
              "#b5de2b"
             ],
             [
              1,
              "#fde725"
             ]
            ],
            "type": "histogram2d"
           }
          ],
          "histogram2dcontour": [
           {
            "colorbar": {
             "outlinewidth": 1,
             "tickcolor": "rgb(36,36,36)",
             "ticks": "outside"
            },
            "colorscale": [
             [
              0,
              "#440154"
             ],
             [
              0.1111111111111111,
              "#482878"
             ],
             [
              0.2222222222222222,
              "#3e4989"
             ],
             [
              0.3333333333333333,
              "#31688e"
             ],
             [
              0.4444444444444444,
              "#26828e"
             ],
             [
              0.5555555555555556,
              "#1f9e89"
             ],
             [
              0.6666666666666666,
              "#35b779"
             ],
             [
              0.7777777777777778,
              "#6ece58"
             ],
             [
              0.8888888888888888,
              "#b5de2b"
             ],
             [
              1,
              "#fde725"
             ]
            ],
            "type": "histogram2dcontour"
           }
          ],
          "mesh3d": [
           {
            "colorbar": {
             "outlinewidth": 1,
             "tickcolor": "rgb(36,36,36)",
             "ticks": "outside"
            },
            "type": "mesh3d"
           }
          ],
          "parcoords": [
           {
            "line": {
             "colorbar": {
              "outlinewidth": 1,
              "tickcolor": "rgb(36,36,36)",
              "ticks": "outside"
             }
            },
            "type": "parcoords"
           }
          ],
          "pie": [
           {
            "automargin": true,
            "type": "pie"
           }
          ],
          "scatter": [
           {
            "fillpattern": {
             "fillmode": "overlay",
             "size": 10,
             "solidity": 0.2
            },
            "type": "scatter"
           }
          ],
          "scatter3d": [
           {
            "line": {
             "colorbar": {
              "outlinewidth": 1,
              "tickcolor": "rgb(36,36,36)",
              "ticks": "outside"
             }
            },
            "marker": {
             "colorbar": {
              "outlinewidth": 1,
              "tickcolor": "rgb(36,36,36)",
              "ticks": "outside"
             }
            },
            "type": "scatter3d"
           }
          ],
          "scattercarpet": [
           {
            "marker": {
             "colorbar": {
              "outlinewidth": 1,
              "tickcolor": "rgb(36,36,36)",
              "ticks": "outside"
             }
            },
            "type": "scattercarpet"
           }
          ],
          "scattergeo": [
           {
            "marker": {
             "colorbar": {
              "outlinewidth": 1,
              "tickcolor": "rgb(36,36,36)",
              "ticks": "outside"
             }
            },
            "type": "scattergeo"
           }
          ],
          "scattergl": [
           {
            "marker": {
             "colorbar": {
              "outlinewidth": 1,
              "tickcolor": "rgb(36,36,36)",
              "ticks": "outside"
             }
            },
            "type": "scattergl"
           }
          ],
          "scattermapbox": [
           {
            "marker": {
             "colorbar": {
              "outlinewidth": 1,
              "tickcolor": "rgb(36,36,36)",
              "ticks": "outside"
             }
            },
            "type": "scattermapbox"
           }
          ],
          "scatterpolar": [
           {
            "marker": {
             "colorbar": {
              "outlinewidth": 1,
              "tickcolor": "rgb(36,36,36)",
              "ticks": "outside"
             }
            },
            "type": "scatterpolar"
           }
          ],
          "scatterpolargl": [
           {
            "marker": {
             "colorbar": {
              "outlinewidth": 1,
              "tickcolor": "rgb(36,36,36)",
              "ticks": "outside"
             }
            },
            "type": "scatterpolargl"
           }
          ],
          "scatterternary": [
           {
            "marker": {
             "colorbar": {
              "outlinewidth": 1,
              "tickcolor": "rgb(36,36,36)",
              "ticks": "outside"
             }
            },
            "type": "scatterternary"
           }
          ],
          "surface": [
           {
            "colorbar": {
             "outlinewidth": 1,
             "tickcolor": "rgb(36,36,36)",
             "ticks": "outside"
            },
            "colorscale": [
             [
              0,
              "#440154"
             ],
             [
              0.1111111111111111,
              "#482878"
             ],
             [
              0.2222222222222222,
              "#3e4989"
             ],
             [
              0.3333333333333333,
              "#31688e"
             ],
             [
              0.4444444444444444,
              "#26828e"
             ],
             [
              0.5555555555555556,
              "#1f9e89"
             ],
             [
              0.6666666666666666,
              "#35b779"
             ],
             [
              0.7777777777777778,
              "#6ece58"
             ],
             [
              0.8888888888888888,
              "#b5de2b"
             ],
             [
              1,
              "#fde725"
             ]
            ],
            "type": "surface"
           }
          ],
          "table": [
           {
            "cells": {
             "fill": {
              "color": "rgb(237,237,237)"
             },
             "line": {
              "color": "white"
             }
            },
            "header": {
             "fill": {
              "color": "rgb(217,217,217)"
             },
             "line": {
              "color": "white"
             }
            },
            "type": "table"
           }
          ]
         },
         "layout": {
          "annotationdefaults": {
           "arrowhead": 0,
           "arrowwidth": 1
          },
          "autotypenumbers": "strict",
          "coloraxis": {
           "colorbar": {
            "outlinewidth": 1,
            "tickcolor": "rgb(36,36,36)",
            "ticks": "outside"
           }
          },
          "colorscale": {
           "diverging": [
            [
             0,
             "rgb(103,0,31)"
            ],
            [
             0.1,
             "rgb(178,24,43)"
            ],
            [
             0.2,
             "rgb(214,96,77)"
            ],
            [
             0.3,
             "rgb(244,165,130)"
            ],
            [
             0.4,
             "rgb(253,219,199)"
            ],
            [
             0.5,
             "rgb(247,247,247)"
            ],
            [
             0.6,
             "rgb(209,229,240)"
            ],
            [
             0.7,
             "rgb(146,197,222)"
            ],
            [
             0.8,
             "rgb(67,147,195)"
            ],
            [
             0.9,
             "rgb(33,102,172)"
            ],
            [
             1,
             "rgb(5,48,97)"
            ]
           ],
           "sequential": [
            [
             0,
             "#440154"
            ],
            [
             0.1111111111111111,
             "#482878"
            ],
            [
             0.2222222222222222,
             "#3e4989"
            ],
            [
             0.3333333333333333,
             "#31688e"
            ],
            [
             0.4444444444444444,
             "#26828e"
            ],
            [
             0.5555555555555556,
             "#1f9e89"
            ],
            [
             0.6666666666666666,
             "#35b779"
            ],
            [
             0.7777777777777778,
             "#6ece58"
            ],
            [
             0.8888888888888888,
             "#b5de2b"
            ],
            [
             1,
             "#fde725"
            ]
           ],
           "sequentialminus": [
            [
             0,
             "#440154"
            ],
            [
             0.1111111111111111,
             "#482878"
            ],
            [
             0.2222222222222222,
             "#3e4989"
            ],
            [
             0.3333333333333333,
             "#31688e"
            ],
            [
             0.4444444444444444,
             "#26828e"
            ],
            [
             0.5555555555555556,
             "#1f9e89"
            ],
            [
             0.6666666666666666,
             "#35b779"
            ],
            [
             0.7777777777777778,
             "#6ece58"
            ],
            [
             0.8888888888888888,
             "#b5de2b"
            ],
            [
             1,
             "#fde725"
            ]
           ]
          },
          "colorway": [
           "#1F77B4",
           "#FF7F0E",
           "#2CA02C",
           "#D62728",
           "#9467BD",
           "#8C564B",
           "#E377C2",
           "#7F7F7F",
           "#BCBD22",
           "#17BECF"
          ],
          "font": {
           "color": "rgb(36,36,36)"
          },
          "geo": {
           "bgcolor": "white",
           "lakecolor": "white",
           "landcolor": "white",
           "showlakes": true,
           "showland": true,
           "subunitcolor": "white"
          },
          "hoverlabel": {
           "align": "left"
          },
          "hovermode": "closest",
          "mapbox": {
           "style": "light"
          },
          "paper_bgcolor": "white",
          "plot_bgcolor": "white",
          "polar": {
           "angularaxis": {
            "gridcolor": "rgb(232,232,232)",
            "linecolor": "rgb(36,36,36)",
            "showgrid": false,
            "showline": true,
            "ticks": "outside"
           },
           "bgcolor": "white",
           "radialaxis": {
            "gridcolor": "rgb(232,232,232)",
            "linecolor": "rgb(36,36,36)",
            "showgrid": false,
            "showline": true,
            "ticks": "outside"
           }
          },
          "scene": {
           "xaxis": {
            "backgroundcolor": "white",
            "gridcolor": "rgb(232,232,232)",
            "gridwidth": 2,
            "linecolor": "rgb(36,36,36)",
            "showbackground": true,
            "showgrid": false,
            "showline": true,
            "ticks": "outside",
            "zeroline": false,
            "zerolinecolor": "rgb(36,36,36)"
           },
           "yaxis": {
            "backgroundcolor": "white",
            "gridcolor": "rgb(232,232,232)",
            "gridwidth": 2,
            "linecolor": "rgb(36,36,36)",
            "showbackground": true,
            "showgrid": false,
            "showline": true,
            "ticks": "outside",
            "zeroline": false,
            "zerolinecolor": "rgb(36,36,36)"
           },
           "zaxis": {
            "backgroundcolor": "white",
            "gridcolor": "rgb(232,232,232)",
            "gridwidth": 2,
            "linecolor": "rgb(36,36,36)",
            "showbackground": true,
            "showgrid": false,
            "showline": true,
            "ticks": "outside",
            "zeroline": false,
            "zerolinecolor": "rgb(36,36,36)"
           }
          },
          "shapedefaults": {
           "fillcolor": "black",
           "line": {
            "width": 0
           },
           "opacity": 0.3
          },
          "ternary": {
           "aaxis": {
            "gridcolor": "rgb(232,232,232)",
            "linecolor": "rgb(36,36,36)",
            "showgrid": false,
            "showline": true,
            "ticks": "outside"
           },
           "baxis": {
            "gridcolor": "rgb(232,232,232)",
            "linecolor": "rgb(36,36,36)",
            "showgrid": false,
            "showline": true,
            "ticks": "outside"
           },
           "bgcolor": "white",
           "caxis": {
            "gridcolor": "rgb(232,232,232)",
            "linecolor": "rgb(36,36,36)",
            "showgrid": false,
            "showline": true,
            "ticks": "outside"
           }
          },
          "title": {
           "x": 0.05
          },
          "xaxis": {
           "automargin": true,
           "gridcolor": "rgb(232,232,232)",
           "linecolor": "rgb(36,36,36)",
           "showgrid": false,
           "showline": true,
           "ticks": "outside",
           "title": {
            "standoff": 15
           },
           "zeroline": false,
           "zerolinecolor": "rgb(36,36,36)"
          },
          "yaxis": {
           "automargin": true,
           "gridcolor": "rgb(232,232,232)",
           "linecolor": "rgb(36,36,36)",
           "showgrid": false,
           "showline": true,
           "ticks": "outside",
           "title": {
            "standoff": 15
           },
           "zeroline": false,
           "zerolinecolor": "rgb(36,36,36)"
          }
         }
        },
        "title": {
         "text": "Resultaten Bahrein"
        },
        "width": 960,
        "xaxis": {
         "anchor": "y",
         "domain": [
          0,
          1
         ],
         "title": {
          "text": "Teams"
         }
        },
        "yaxis": {
         "anchor": "x",
         "domain": [
          0,
          1
         ],
         "showgrid": true,
         "title": {
          "text": "Punten"
         }
        }
       }
      },
      "text/html": [
       "<div>                            <div id=\"a9fde872-1561-4c77-a080-eeca862ba126\" class=\"plotly-graph-div\" style=\"height:400px; width:960px;\"></div>            <script type=\"text/javascript\">                require([\"plotly\"], function(Plotly) {                    window.PLOTLYENV=window.PLOTLYENV || {};                                    if (document.getElementById(\"a9fde872-1561-4c77-a080-eeca862ba126\")) {                    Plotly.newPlot(                        \"a9fde872-1561-4c77-a080-eeca862ba126\",                        [{\"alignmentgroup\":\"True\",\"bingroup\":\"x\",\"histfunc\":\"sum\",\"hovertemplate\":\"Coureur 1<br>Punten = %{y}<extra></extra>\",\"legendgroup\":\"coureur1\",\"marker\":{\"color\":\"#1F77B4\",\"pattern\":{\"shape\":\"\"}},\"name\":\"Coureur 1\",\"offsetgroup\":\"coureur1\",\"orientation\":\"v\",\"showlegend\":true,\"x\":[\"Arjan T.\",\"Arjan Z.\",\"Casper\",\"Charlotte\",\"Chiel\",\"Corine\",\"Emily\",\"Erik\",\"Erwin\",\"Grietje\",\"Hans\",\"Isolde\",\"Jordi\",\"Kitty\",\"Marco\",\"Mees\",\"Michiel\",\"Niels\",\"Raymond\",\"Rodi\",\"Stan\",\"Wietse\"],\"xaxis\":\"x\",\"y\":[0.0,0.0,5.0,9.0,7.5,9.0,6.0,6.0,0.0,0.0,5.0,0.0,0.0,5.0,3.0,3.0,9.0,0.0,9.0,0.0,0.0,0.0],\"yaxis\":\"y\",\"type\":\"histogram\"},{\"alignmentgroup\":\"True\",\"bingroup\":\"x\",\"histfunc\":\"sum\",\"hovertemplate\":\"Coureur 2<br>Punten = %{y}<extra></extra>\",\"legendgroup\":\"motor\",\"marker\":{\"color\":\"#FF7F0E\",\"pattern\":{\"shape\":\"\"}},\"name\":\"Coureur 2\",\"offsetgroup\":\"motor\",\"orientation\":\"v\",\"showlegend\":true,\"x\":[\"Arjan T.\",\"Arjan Z.\",\"Casper\",\"Charlotte\",\"Chiel\",\"Corine\",\"Emily\",\"Erik\",\"Erwin\",\"Grietje\",\"Hans\",\"Isolde\",\"Jordi\",\"Kitty\",\"Marco\",\"Mees\",\"Michiel\",\"Niels\",\"Raymond\",\"Rodi\",\"Stan\",\"Wietse\"],\"xaxis\":\"x\",\"y\":[6.45,3.0,6.45,1.5999999999999999,1.5999999999999999,6.45,3.0,6.45,6.45,3.0,1.5999999999999999,1.5999999999999999,1.5999999999999999,1.5999999999999999,6.45,3.0,1.5999999999999999,6.45,1.5999999999999999,3.0,3.0,0.6],\"yaxis\":\"y\",\"type\":\"histogram\"},{\"alignmentgroup\":\"True\",\"bingroup\":\"x\",\"histfunc\":\"sum\",\"hovertemplate\":\"Chassis<br>Punten = %{y}<extra></extra>\",\"legendgroup\":\"chassis\",\"marker\":{\"color\":\"#2CA02C\",\"pattern\":{\"shape\":\"\"}},\"name\":\"Chassis\",\"offsetgroup\":\"chassis\",\"orientation\":\"v\",\"showlegend\":true,\"x\":[\"Arjan T.\",\"Arjan Z.\",\"Casper\",\"Charlotte\",\"Chiel\",\"Corine\",\"Emily\",\"Erik\",\"Erwin\",\"Grietje\",\"Hans\",\"Isolde\",\"Jordi\",\"Kitty\",\"Marco\",\"Mees\",\"Michiel\",\"Niels\",\"Raymond\",\"Rodi\",\"Stan\",\"Wietse\"],\"xaxis\":\"x\",\"y\":[0.0,0.0,0.8,0.4,8.6,4.6000000000000005,0.0,4.6000000000000005,0.4,8.6,0.0,0.0,0.0,0.4,4.6000000000000005,0.4,0.0,3.2,0.4,0.4,0.8,0.0],\"yaxis\":\"y\",\"type\":\"histogram\"},{\"alignmentgroup\":\"True\",\"bingroup\":\"x\",\"histfunc\":\"sum\",\"hovertemplate\":\"Motor<br>Punten = %{y}<extra></extra>\",\"legendgroup\":\"coureur2\",\"marker\":{\"color\":\"#D62728\",\"pattern\":{\"shape\":\"\"}},\"name\":\"Motor\",\"offsetgroup\":\"coureur2\",\"orientation\":\"v\",\"showlegend\":true,\"x\":[\"Arjan T.\",\"Arjan Z.\",\"Casper\",\"Charlotte\",\"Chiel\",\"Corine\",\"Emily\",\"Erik\",\"Erwin\",\"Grietje\",\"Hans\",\"Isolde\",\"Jordi\",\"Kitty\",\"Marco\",\"Mees\",\"Michiel\",\"Niels\",\"Raymond\",\"Rodi\",\"Stan\",\"Wietse\"],\"xaxis\":\"x\",\"y\":[5.0,5.0,7.5,0.0,4.0,0.5,0.0,0.0,0.0,0.0,1.0,0.0,0.0,0.0,7.5,0.0,0.0,7.5,7.5,5.0,3.0,1.0],\"yaxis\":\"y\",\"type\":\"histogram\"}],                        {\"template\":{\"data\":{\"barpolar\":[{\"marker\":{\"line\":{\"color\":\"white\",\"width\":0.5},\"pattern\":{\"fillmode\":\"overlay\",\"size\":10,\"solidity\":0.2}},\"type\":\"barpolar\"}],\"bar\":[{\"error_x\":{\"color\":\"rgb(36,36,36)\"},\"error_y\":{\"color\":\"rgb(36,36,36)\"},\"marker\":{\"line\":{\"color\":\"white\",\"width\":0.5},\"pattern\":{\"fillmode\":\"overlay\",\"size\":10,\"solidity\":0.2}},\"type\":\"bar\"}],\"carpet\":[{\"aaxis\":{\"endlinecolor\":\"rgb(36,36,36)\",\"gridcolor\":\"white\",\"linecolor\":\"white\",\"minorgridcolor\":\"white\",\"startlinecolor\":\"rgb(36,36,36)\"},\"baxis\":{\"endlinecolor\":\"rgb(36,36,36)\",\"gridcolor\":\"white\",\"linecolor\":\"white\",\"minorgridcolor\":\"white\",\"startlinecolor\":\"rgb(36,36,36)\"},\"type\":\"carpet\"}],\"choropleth\":[{\"colorbar\":{\"outlinewidth\":1,\"tickcolor\":\"rgb(36,36,36)\",\"ticks\":\"outside\"},\"type\":\"choropleth\"}],\"contourcarpet\":[{\"colorbar\":{\"outlinewidth\":1,\"tickcolor\":\"rgb(36,36,36)\",\"ticks\":\"outside\"},\"type\":\"contourcarpet\"}],\"contour\":[{\"colorbar\":{\"outlinewidth\":1,\"tickcolor\":\"rgb(36,36,36)\",\"ticks\":\"outside\"},\"colorscale\":[[0.0,\"#440154\"],[0.1111111111111111,\"#482878\"],[0.2222222222222222,\"#3e4989\"],[0.3333333333333333,\"#31688e\"],[0.4444444444444444,\"#26828e\"],[0.5555555555555556,\"#1f9e89\"],[0.6666666666666666,\"#35b779\"],[0.7777777777777778,\"#6ece58\"],[0.8888888888888888,\"#b5de2b\"],[1.0,\"#fde725\"]],\"type\":\"contour\"}],\"heatmapgl\":[{\"colorbar\":{\"outlinewidth\":1,\"tickcolor\":\"rgb(36,36,36)\",\"ticks\":\"outside\"},\"colorscale\":[[0.0,\"#440154\"],[0.1111111111111111,\"#482878\"],[0.2222222222222222,\"#3e4989\"],[0.3333333333333333,\"#31688e\"],[0.4444444444444444,\"#26828e\"],[0.5555555555555556,\"#1f9e89\"],[0.6666666666666666,\"#35b779\"],[0.7777777777777778,\"#6ece58\"],[0.8888888888888888,\"#b5de2b\"],[1.0,\"#fde725\"]],\"type\":\"heatmapgl\"}],\"heatmap\":[{\"colorbar\":{\"outlinewidth\":1,\"tickcolor\":\"rgb(36,36,36)\",\"ticks\":\"outside\"},\"colorscale\":[[0.0,\"#440154\"],[0.1111111111111111,\"#482878\"],[0.2222222222222222,\"#3e4989\"],[0.3333333333333333,\"#31688e\"],[0.4444444444444444,\"#26828e\"],[0.5555555555555556,\"#1f9e89\"],[0.6666666666666666,\"#35b779\"],[0.7777777777777778,\"#6ece58\"],[0.8888888888888888,\"#b5de2b\"],[1.0,\"#fde725\"]],\"type\":\"heatmap\"}],\"histogram2dcontour\":[{\"colorbar\":{\"outlinewidth\":1,\"tickcolor\":\"rgb(36,36,36)\",\"ticks\":\"outside\"},\"colorscale\":[[0.0,\"#440154\"],[0.1111111111111111,\"#482878\"],[0.2222222222222222,\"#3e4989\"],[0.3333333333333333,\"#31688e\"],[0.4444444444444444,\"#26828e\"],[0.5555555555555556,\"#1f9e89\"],[0.6666666666666666,\"#35b779\"],[0.7777777777777778,\"#6ece58\"],[0.8888888888888888,\"#b5de2b\"],[1.0,\"#fde725\"]],\"type\":\"histogram2dcontour\"}],\"histogram2d\":[{\"colorbar\":{\"outlinewidth\":1,\"tickcolor\":\"rgb(36,36,36)\",\"ticks\":\"outside\"},\"colorscale\":[[0.0,\"#440154\"],[0.1111111111111111,\"#482878\"],[0.2222222222222222,\"#3e4989\"],[0.3333333333333333,\"#31688e\"],[0.4444444444444444,\"#26828e\"],[0.5555555555555556,\"#1f9e89\"],[0.6666666666666666,\"#35b779\"],[0.7777777777777778,\"#6ece58\"],[0.8888888888888888,\"#b5de2b\"],[1.0,\"#fde725\"]],\"type\":\"histogram2d\"}],\"histogram\":[{\"marker\":{\"line\":{\"color\":\"white\",\"width\":0.6}},\"type\":\"histogram\"}],\"mesh3d\":[{\"colorbar\":{\"outlinewidth\":1,\"tickcolor\":\"rgb(36,36,36)\",\"ticks\":\"outside\"},\"type\":\"mesh3d\"}],\"parcoords\":[{\"line\":{\"colorbar\":{\"outlinewidth\":1,\"tickcolor\":\"rgb(36,36,36)\",\"ticks\":\"outside\"}},\"type\":\"parcoords\"}],\"pie\":[{\"automargin\":true,\"type\":\"pie\"}],\"scatter3d\":[{\"line\":{\"colorbar\":{\"outlinewidth\":1,\"tickcolor\":\"rgb(36,36,36)\",\"ticks\":\"outside\"}},\"marker\":{\"colorbar\":{\"outlinewidth\":1,\"tickcolor\":\"rgb(36,36,36)\",\"ticks\":\"outside\"}},\"type\":\"scatter3d\"}],\"scattercarpet\":[{\"marker\":{\"colorbar\":{\"outlinewidth\":1,\"tickcolor\":\"rgb(36,36,36)\",\"ticks\":\"outside\"}},\"type\":\"scattercarpet\"}],\"scattergeo\":[{\"marker\":{\"colorbar\":{\"outlinewidth\":1,\"tickcolor\":\"rgb(36,36,36)\",\"ticks\":\"outside\"}},\"type\":\"scattergeo\"}],\"scattergl\":[{\"marker\":{\"colorbar\":{\"outlinewidth\":1,\"tickcolor\":\"rgb(36,36,36)\",\"ticks\":\"outside\"}},\"type\":\"scattergl\"}],\"scattermapbox\":[{\"marker\":{\"colorbar\":{\"outlinewidth\":1,\"tickcolor\":\"rgb(36,36,36)\",\"ticks\":\"outside\"}},\"type\":\"scattermapbox\"}],\"scatterpolargl\":[{\"marker\":{\"colorbar\":{\"outlinewidth\":1,\"tickcolor\":\"rgb(36,36,36)\",\"ticks\":\"outside\"}},\"type\":\"scatterpolargl\"}],\"scatterpolar\":[{\"marker\":{\"colorbar\":{\"outlinewidth\":1,\"tickcolor\":\"rgb(36,36,36)\",\"ticks\":\"outside\"}},\"type\":\"scatterpolar\"}],\"scatter\":[{\"fillpattern\":{\"fillmode\":\"overlay\",\"size\":10,\"solidity\":0.2},\"type\":\"scatter\"}],\"scatterternary\":[{\"marker\":{\"colorbar\":{\"outlinewidth\":1,\"tickcolor\":\"rgb(36,36,36)\",\"ticks\":\"outside\"}},\"type\":\"scatterternary\"}],\"surface\":[{\"colorbar\":{\"outlinewidth\":1,\"tickcolor\":\"rgb(36,36,36)\",\"ticks\":\"outside\"},\"colorscale\":[[0.0,\"#440154\"],[0.1111111111111111,\"#482878\"],[0.2222222222222222,\"#3e4989\"],[0.3333333333333333,\"#31688e\"],[0.4444444444444444,\"#26828e\"],[0.5555555555555556,\"#1f9e89\"],[0.6666666666666666,\"#35b779\"],[0.7777777777777778,\"#6ece58\"],[0.8888888888888888,\"#b5de2b\"],[1.0,\"#fde725\"]],\"type\":\"surface\"}],\"table\":[{\"cells\":{\"fill\":{\"color\":\"rgb(237,237,237)\"},\"line\":{\"color\":\"white\"}},\"header\":{\"fill\":{\"color\":\"rgb(217,217,217)\"},\"line\":{\"color\":\"white\"}},\"type\":\"table\"}]},\"layout\":{\"annotationdefaults\":{\"arrowhead\":0,\"arrowwidth\":1},\"autotypenumbers\":\"strict\",\"coloraxis\":{\"colorbar\":{\"outlinewidth\":1,\"tickcolor\":\"rgb(36,36,36)\",\"ticks\":\"outside\"}},\"colorscale\":{\"diverging\":[[0.0,\"rgb(103,0,31)\"],[0.1,\"rgb(178,24,43)\"],[0.2,\"rgb(214,96,77)\"],[0.3,\"rgb(244,165,130)\"],[0.4,\"rgb(253,219,199)\"],[0.5,\"rgb(247,247,247)\"],[0.6,\"rgb(209,229,240)\"],[0.7,\"rgb(146,197,222)\"],[0.8,\"rgb(67,147,195)\"],[0.9,\"rgb(33,102,172)\"],[1.0,\"rgb(5,48,97)\"]],\"sequential\":[[0.0,\"#440154\"],[0.1111111111111111,\"#482878\"],[0.2222222222222222,\"#3e4989\"],[0.3333333333333333,\"#31688e\"],[0.4444444444444444,\"#26828e\"],[0.5555555555555556,\"#1f9e89\"],[0.6666666666666666,\"#35b779\"],[0.7777777777777778,\"#6ece58\"],[0.8888888888888888,\"#b5de2b\"],[1.0,\"#fde725\"]],\"sequentialminus\":[[0.0,\"#440154\"],[0.1111111111111111,\"#482878\"],[0.2222222222222222,\"#3e4989\"],[0.3333333333333333,\"#31688e\"],[0.4444444444444444,\"#26828e\"],[0.5555555555555556,\"#1f9e89\"],[0.6666666666666666,\"#35b779\"],[0.7777777777777778,\"#6ece58\"],[0.8888888888888888,\"#b5de2b\"],[1.0,\"#fde725\"]]},\"colorway\":[\"#1F77B4\",\"#FF7F0E\",\"#2CA02C\",\"#D62728\",\"#9467BD\",\"#8C564B\",\"#E377C2\",\"#7F7F7F\",\"#BCBD22\",\"#17BECF\"],\"font\":{\"color\":\"rgb(36,36,36)\"},\"geo\":{\"bgcolor\":\"white\",\"lakecolor\":\"white\",\"landcolor\":\"white\",\"showlakes\":true,\"showland\":true,\"subunitcolor\":\"white\"},\"hoverlabel\":{\"align\":\"left\"},\"hovermode\":\"closest\",\"mapbox\":{\"style\":\"light\"},\"paper_bgcolor\":\"white\",\"plot_bgcolor\":\"white\",\"polar\":{\"angularaxis\":{\"gridcolor\":\"rgb(232,232,232)\",\"linecolor\":\"rgb(36,36,36)\",\"showgrid\":false,\"showline\":true,\"ticks\":\"outside\"},\"bgcolor\":\"white\",\"radialaxis\":{\"gridcolor\":\"rgb(232,232,232)\",\"linecolor\":\"rgb(36,36,36)\",\"showgrid\":false,\"showline\":true,\"ticks\":\"outside\"}},\"scene\":{\"xaxis\":{\"backgroundcolor\":\"white\",\"gridcolor\":\"rgb(232,232,232)\",\"gridwidth\":2,\"linecolor\":\"rgb(36,36,36)\",\"showbackground\":true,\"showgrid\":false,\"showline\":true,\"ticks\":\"outside\",\"zeroline\":false,\"zerolinecolor\":\"rgb(36,36,36)\"},\"yaxis\":{\"backgroundcolor\":\"white\",\"gridcolor\":\"rgb(232,232,232)\",\"gridwidth\":2,\"linecolor\":\"rgb(36,36,36)\",\"showbackground\":true,\"showgrid\":false,\"showline\":true,\"ticks\":\"outside\",\"zeroline\":false,\"zerolinecolor\":\"rgb(36,36,36)\"},\"zaxis\":{\"backgroundcolor\":\"white\",\"gridcolor\":\"rgb(232,232,232)\",\"gridwidth\":2,\"linecolor\":\"rgb(36,36,36)\",\"showbackground\":true,\"showgrid\":false,\"showline\":true,\"ticks\":\"outside\",\"zeroline\":false,\"zerolinecolor\":\"rgb(36,36,36)\"}},\"shapedefaults\":{\"fillcolor\":\"black\",\"line\":{\"width\":0},\"opacity\":0.3},\"ternary\":{\"aaxis\":{\"gridcolor\":\"rgb(232,232,232)\",\"linecolor\":\"rgb(36,36,36)\",\"showgrid\":false,\"showline\":true,\"ticks\":\"outside\"},\"baxis\":{\"gridcolor\":\"rgb(232,232,232)\",\"linecolor\":\"rgb(36,36,36)\",\"showgrid\":false,\"showline\":true,\"ticks\":\"outside\"},\"bgcolor\":\"white\",\"caxis\":{\"gridcolor\":\"rgb(232,232,232)\",\"linecolor\":\"rgb(36,36,36)\",\"showgrid\":false,\"showline\":true,\"ticks\":\"outside\"}},\"title\":{\"x\":0.05},\"xaxis\":{\"automargin\":true,\"gridcolor\":\"rgb(232,232,232)\",\"linecolor\":\"rgb(36,36,36)\",\"showgrid\":false,\"showline\":true,\"ticks\":\"outside\",\"title\":{\"standoff\":15},\"zeroline\":false,\"zerolinecolor\":\"rgb(36,36,36)\"},\"yaxis\":{\"automargin\":true,\"gridcolor\":\"rgb(232,232,232)\",\"linecolor\":\"rgb(36,36,36)\",\"showgrid\":false,\"showline\":true,\"ticks\":\"outside\",\"title\":{\"standoff\":15},\"zeroline\":false,\"zerolinecolor\":\"rgb(36,36,36)\"}}},\"xaxis\":{\"anchor\":\"y\",\"domain\":[0.0,1.0],\"title\":{\"text\":\"Teams\"}},\"yaxis\":{\"anchor\":\"x\",\"domain\":[0.0,1.0],\"title\":{\"text\":\"Punten\"},\"showgrid\":true},\"legend\":{\"title\":{\"text\":\"Categorie\"},\"tracegroupgap\":0},\"title\":{\"text\":\"Resultaten Bahrein\"},\"barmode\":\"relative\",\"height\":400,\"width\":960},                        {\"responsive\": true}                    ).then(function(){\n",
       "                            \n",
       "var gd = document.getElementById('a9fde872-1561-4c77-a080-eeca862ba126');\n",
       "var x = new MutationObserver(function (mutations, observer) {{\n",
       "        var display = window.getComputedStyle(gd).display;\n",
       "        if (!display || display === 'none') {{\n",
       "            console.log([gd, 'removed!']);\n",
       "            Plotly.purge(gd);\n",
       "            observer.disconnect();\n",
       "        }}\n",
       "}});\n",
       "\n",
       "// Listen for the removal of the full notebook cells\n",
       "var notebookContainer = gd.closest('#notebook-container');\n",
       "if (notebookContainer) {{\n",
       "    x.observe(notebookContainer, {childList: true});\n",
       "}}\n",
       "\n",
       "// Listen for the clearing of the current output cell\n",
       "var outputEl = gd.closest('.output');\n",
       "if (outputEl) {{\n",
       "    x.observe(outputEl, {childList: true});\n",
       "}}\n",
       "\n",
       "                        })                };                });            </script>        </div>"
      ]
     },
     "metadata": {},
     "output_type": "display_data"
    }
   ],
   "source": [
    "df_bahrein = df.loc[df['race']=='Bahrein']\n",
    "df_bahrein = df_bahrein.sort_values(by=\"team\")\n",
    "fig = px.histogram(df_bahrein, x=\"team\", y=\"score\", color=\"cat\",\n",
    "            title=\"Resultaten Bahrein\",\n",
    "            width=fig_width, height=400,\n",
    "            labels={ \"score\" : \"Score\", \"cat\" : \"Categorie\", \"team\" : \"Teams\" },\n",
    "            template=\"simple_white\")\n",
    "\n",
    "fig.update_yaxes(showgrid=True)\n",
    "fig.update_layout(yaxis_title=\"Punten\")\n",
    "\n",
    "series_name = [\"Coureur 1\", \"Coureur 2\", \"Chassis\", \"Motor\"]\n",
    "for idx, name in enumerate(series_name):\n",
    "    fig.data[idx].name = name\n",
    "    fig.data[idx].hovertemplate=name + \"<br>Punten = %{y}<extra></extra>\"\n",
    "#    fig.data[idx].hovertemplate = name\n",
    "\n",
    "if fig_write:\n",
    "    fig.write_html(\"resultaten_bahrein.html\")\n",
    "fig.show()"
   ]
  },
  {
   "cell_type": "code",
   "execution_count": 6,
   "id": "ce741466",
   "metadata": {},
   "outputs": [
    {
     "data": {
      "text/html": [
       "<div>\n",
       "<style scoped>\n",
       "    .dataframe tbody tr th:only-of-type {\n",
       "        vertical-align: middle;\n",
       "    }\n",
       "\n",
       "    .dataframe tbody tr th {\n",
       "        vertical-align: top;\n",
       "    }\n",
       "\n",
       "    .dataframe thead th {\n",
       "        text-align: right;\n",
       "    }\n",
       "</style>\n",
       "<table border=\"1\" class=\"dataframe\">\n",
       "  <thead>\n",
       "    <tr style=\"text-align: right;\">\n",
       "      <th></th>\n",
       "      <th>team</th>\n",
       "      <th>race</th>\n",
       "      <th>cat</th>\n",
       "      <th>score</th>\n",
       "    </tr>\n",
       "  </thead>\n",
       "  <tbody>\n",
       "    <tr>\n",
       "      <th>0</th>\n",
       "      <td>Chiel</td>\n",
       "      <td>Bahrein</td>\n",
       "      <td>coureur1</td>\n",
       "      <td>7.50</td>\n",
       "    </tr>\n",
       "    <tr>\n",
       "      <th>1</th>\n",
       "      <td>Marco</td>\n",
       "      <td>Bahrein</td>\n",
       "      <td>coureur1</td>\n",
       "      <td>3.00</td>\n",
       "    </tr>\n",
       "    <tr>\n",
       "      <th>2</th>\n",
       "      <td>Corine</td>\n",
       "      <td>Bahrein</td>\n",
       "      <td>coureur1</td>\n",
       "      <td>9.00</td>\n",
       "    </tr>\n",
       "    <tr>\n",
       "      <th>3</th>\n",
       "      <td>Casper</td>\n",
       "      <td>Bahrein</td>\n",
       "      <td>coureur1</td>\n",
       "      <td>5.00</td>\n",
       "    </tr>\n",
       "    <tr>\n",
       "      <th>4</th>\n",
       "      <td>Raymond</td>\n",
       "      <td>Bahrein</td>\n",
       "      <td>coureur1</td>\n",
       "      <td>9.00</td>\n",
       "    </tr>\n",
       "    <tr>\n",
       "      <th>...</th>\n",
       "      <td>...</td>\n",
       "      <td>...</td>\n",
       "      <td>...</td>\n",
       "      <td>...</td>\n",
       "    </tr>\n",
       "    <tr>\n",
       "      <th>17</th>\n",
       "      <td>Erwin</td>\n",
       "      <td>Bahrein</td>\n",
       "      <td>motor</td>\n",
       "      <td>6.45</td>\n",
       "    </tr>\n",
       "    <tr>\n",
       "      <th>18</th>\n",
       "      <td>Mees</td>\n",
       "      <td>Bahrein</td>\n",
       "      <td>motor</td>\n",
       "      <td>3.00</td>\n",
       "    </tr>\n",
       "    <tr>\n",
       "      <th>19</th>\n",
       "      <td>Jordi</td>\n",
       "      <td>Bahrein</td>\n",
       "      <td>motor</td>\n",
       "      <td>1.60</td>\n",
       "    </tr>\n",
       "    <tr>\n",
       "      <th>20</th>\n",
       "      <td>Wietse</td>\n",
       "      <td>Bahrein</td>\n",
       "      <td>motor</td>\n",
       "      <td>0.60</td>\n",
       "    </tr>\n",
       "    <tr>\n",
       "      <th>21</th>\n",
       "      <td>Isolde</td>\n",
       "      <td>Bahrein</td>\n",
       "      <td>motor</td>\n",
       "      <td>1.60</td>\n",
       "    </tr>\n",
       "  </tbody>\n",
       "</table>\n",
       "<p>88 rows × 4 columns</p>\n",
       "</div>"
      ],
      "text/plain": [
       "       team     race       cat  score\n",
       "0     Chiel  Bahrein  coureur1   7.50\n",
       "1     Marco  Bahrein  coureur1   3.00\n",
       "2    Corine  Bahrein  coureur1   9.00\n",
       "3    Casper  Bahrein  coureur1   5.00\n",
       "4   Raymond  Bahrein  coureur1   9.00\n",
       "..      ...      ...       ...    ...\n",
       "17    Erwin  Bahrein     motor   6.45\n",
       "18     Mees  Bahrein     motor   3.00\n",
       "19    Jordi  Bahrein     motor   1.60\n",
       "20   Wietse  Bahrein     motor   0.60\n",
       "21   Isolde  Bahrein     motor   1.60\n",
       "\n",
       "[88 rows x 4 columns]"
      ]
     },
     "execution_count": 6,
     "metadata": {},
     "output_type": "execute_result"
    }
   ],
   "source": [
    "df.loc[df['race']=='Bahrein']"
   ]
  },
  {
   "cell_type": "code",
   "execution_count": 7,
   "id": "21d588bd",
   "metadata": {},
   "outputs": [],
   "source": [
    "df_score_per_race = df.groupby(['race', 'team'])['score'].sum(numeric_only=True).unstack()#.reset_index()#.rename_axis(None, axis=1)\n",
    "# df_score_per_race.transpose()\n",
    "df_score_per_race = df_score_per_race.reindex(races)\n",
    "df_score_cumsum = df_score_per_race.cumsum()"
   ]
  },
  {
   "cell_type": "code",
   "execution_count": 8,
   "id": "f181e9da",
   "metadata": {
    "scrolled": false
   },
   "outputs": [
    {
     "name": "stdout",
     "output_type": "stream",
     "text": [
      "['rgb(6, 0, 249)', 'rgb(17, 0, 238)', 'rgb(29, 0, 226)', 'rgb(41, 0, 214)', 'rgb(52, 0, 203)', 'rgb(64, 0, 191)', 'rgb(75, 0, 180)', 'rgb(87, 0, 168)', 'rgb(99, 0, 156)', 'rgb(110, 0, 145)', 'rgb(122, 0, 133)', 'rgb(133, 0, 122)', 'rgb(145, 0, 110)', 'rgb(156, 0, 99)', 'rgb(168, 0, 87)', 'rgb(180, 0, 75)', 'rgb(191, 0, 64)', 'rgb(203, 0, 52)', 'rgb(214, 0, 41)', 'rgb(226, 0, 29)', 'rgb(238, 0, 17)']\n"
     ]
    },
    {
     "data": {
      "application/vnd.plotly.v1+json": {
       "config": {
        "plotlyServerURL": "https://plot.ly"
       },
       "data": [
        {
         "hovertemplate": "Teams=Arjan T.<br>race=%{x}<br>value=%{y}<extra></extra>",
         "legendgroup": "Arjan T.",
         "line": {
          "color": "#1F77B4",
          "dash": "solid"
         },
         "marker": {
          "symbol": "circle"
         },
         "mode": "lines",
         "name": "Arjan T.",
         "orientation": "v",
         "showlegend": true,
         "type": "scatter",
         "x": [
          "Bahrein",
          "Saudi-Arabië",
          "Australië",
          "Azerbeidzjan",
          "Miami",
          "Emilia-Romagna",
          "Monaco",
          "Spanje",
          "Canada",
          "Oostenrijk",
          "Groot-Brittanië",
          "Hongarije",
          "België",
          "Nederland",
          "Italië",
          "Singapore",
          "Japan",
          "Qatar",
          "Verenigde Staten",
          "Mexico",
          "Brazilië",
          "Las Vegas",
          "Abu Dhabi"
         ],
         "xaxis": "x",
         "y": [
          11.45,
          11.45,
          11.45,
          11.45,
          11.45,
          11.45,
          11.45,
          11.45,
          11.45,
          11.45,
          11.45,
          11.45,
          11.45,
          11.45,
          11.45,
          11.45,
          11.45,
          11.45,
          11.45,
          11.45,
          11.45,
          11.45,
          11.45
         ],
         "yaxis": "y"
        },
        {
         "hovertemplate": "Teams=Arjan Z.<br>race=%{x}<br>value=%{y}<extra></extra>",
         "legendgroup": "Arjan Z.",
         "line": {
          "color": "#FF7F0E",
          "dash": "solid"
         },
         "marker": {
          "symbol": "circle"
         },
         "mode": "lines",
         "name": "Arjan Z.",
         "orientation": "v",
         "showlegend": true,
         "type": "scatter",
         "x": [
          "Bahrein",
          "Saudi-Arabië",
          "Australië",
          "Azerbeidzjan",
          "Miami",
          "Emilia-Romagna",
          "Monaco",
          "Spanje",
          "Canada",
          "Oostenrijk",
          "Groot-Brittanië",
          "Hongarije",
          "België",
          "Nederland",
          "Italië",
          "Singapore",
          "Japan",
          "Qatar",
          "Verenigde Staten",
          "Mexico",
          "Brazilië",
          "Las Vegas",
          "Abu Dhabi"
         ],
         "xaxis": "x",
         "y": [
          8,
          8,
          8,
          8,
          8,
          8,
          8,
          8,
          8,
          8,
          8,
          8,
          8,
          8,
          8,
          8,
          8,
          8,
          8,
          8,
          8,
          8,
          8
         ],
         "yaxis": "y"
        },
        {
         "hovertemplate": "Teams=Casper<br>race=%{x}<br>value=%{y}<extra></extra>",
         "legendgroup": "Casper",
         "line": {
          "color": "#2CA02C",
          "dash": "solid"
         },
         "marker": {
          "symbol": "circle"
         },
         "mode": "lines",
         "name": "Casper",
         "orientation": "v",
         "showlegend": true,
         "type": "scatter",
         "x": [
          "Bahrein",
          "Saudi-Arabië",
          "Australië",
          "Azerbeidzjan",
          "Miami",
          "Emilia-Romagna",
          "Monaco",
          "Spanje",
          "Canada",
          "Oostenrijk",
          "Groot-Brittanië",
          "Hongarije",
          "België",
          "Nederland",
          "Italië",
          "Singapore",
          "Japan",
          "Qatar",
          "Verenigde Staten",
          "Mexico",
          "Brazilië",
          "Las Vegas",
          "Abu Dhabi"
         ],
         "xaxis": "x",
         "y": [
          19.75,
          19.75,
          19.75,
          19.75,
          19.75,
          19.75,
          19.75,
          19.75,
          19.75,
          19.75,
          19.75,
          19.75,
          19.75,
          19.75,
          19.75,
          19.75,
          19.75,
          19.75,
          19.75,
          19.75,
          19.75,
          19.75,
          19.75
         ],
         "yaxis": "y"
        },
        {
         "hovertemplate": "Teams=Charlotte<br>race=%{x}<br>value=%{y}<extra></extra>",
         "legendgroup": "Charlotte",
         "line": {
          "color": "#D62728",
          "dash": "solid"
         },
         "marker": {
          "symbol": "circle"
         },
         "mode": "lines",
         "name": "Charlotte",
         "orientation": "v",
         "showlegend": true,
         "type": "scatter",
         "x": [
          "Bahrein",
          "Saudi-Arabië",
          "Australië",
          "Azerbeidzjan",
          "Miami",
          "Emilia-Romagna",
          "Monaco",
          "Spanje",
          "Canada",
          "Oostenrijk",
          "Groot-Brittanië",
          "Hongarije",
          "België",
          "Nederland",
          "Italië",
          "Singapore",
          "Japan",
          "Qatar",
          "Verenigde Staten",
          "Mexico",
          "Brazilië",
          "Las Vegas",
          "Abu Dhabi"
         ],
         "xaxis": "x",
         "y": [
          11,
          11,
          11,
          11,
          11,
          11,
          11,
          11,
          11,
          11,
          11,
          11,
          11,
          11,
          11,
          11,
          11,
          11,
          11,
          11,
          11,
          11,
          11
         ],
         "yaxis": "y"
        },
        {
         "hovertemplate": "Teams=Chiel<br>race=%{x}<br>value=%{y}<extra></extra>",
         "legendgroup": "Chiel",
         "line": {
          "color": "#9467BD",
          "dash": "solid"
         },
         "marker": {
          "symbol": "circle"
         },
         "mode": "lines",
         "name": "Chiel",
         "orientation": "v",
         "showlegend": true,
         "type": "scatter",
         "x": [
          "Bahrein",
          "Saudi-Arabië",
          "Australië",
          "Azerbeidzjan",
          "Miami",
          "Emilia-Romagna",
          "Monaco",
          "Spanje",
          "Canada",
          "Oostenrijk",
          "Groot-Brittanië",
          "Hongarije",
          "België",
          "Nederland",
          "Italië",
          "Singapore",
          "Japan",
          "Qatar",
          "Verenigde Staten",
          "Mexico",
          "Brazilië",
          "Las Vegas",
          "Abu Dhabi"
         ],
         "xaxis": "x",
         "y": [
          21.7,
          21.7,
          21.7,
          21.7,
          21.7,
          21.7,
          21.7,
          21.7,
          21.7,
          21.7,
          21.7,
          21.7,
          21.7,
          21.7,
          21.7,
          21.7,
          21.7,
          21.7,
          21.7,
          21.7,
          21.7,
          21.7,
          21.7
         ],
         "yaxis": "y"
        },
        {
         "hovertemplate": "Teams=Corine<br>race=%{x}<br>value=%{y}<extra></extra>",
         "legendgroup": "Corine",
         "line": {
          "color": "#8C564B",
          "dash": "solid"
         },
         "marker": {
          "symbol": "circle"
         },
         "mode": "lines",
         "name": "Corine",
         "orientation": "v",
         "showlegend": true,
         "type": "scatter",
         "x": [
          "Bahrein",
          "Saudi-Arabië",
          "Australië",
          "Azerbeidzjan",
          "Miami",
          "Emilia-Romagna",
          "Monaco",
          "Spanje",
          "Canada",
          "Oostenrijk",
          "Groot-Brittanië",
          "Hongarije",
          "België",
          "Nederland",
          "Italië",
          "Singapore",
          "Japan",
          "Qatar",
          "Verenigde Staten",
          "Mexico",
          "Brazilië",
          "Las Vegas",
          "Abu Dhabi"
         ],
         "xaxis": "x",
         "y": [
          20.55,
          20.55,
          20.55,
          20.55,
          20.55,
          20.55,
          20.55,
          20.55,
          20.55,
          20.55,
          20.55,
          20.55,
          20.55,
          20.55,
          20.55,
          20.55,
          20.55,
          20.55,
          20.55,
          20.55,
          20.55,
          20.55,
          20.55
         ],
         "yaxis": "y"
        },
        {
         "hovertemplate": "Teams=Emily<br>race=%{x}<br>value=%{y}<extra></extra>",
         "legendgroup": "Emily",
         "line": {
          "color": "#E377C2",
          "dash": "solid"
         },
         "marker": {
          "symbol": "circle"
         },
         "mode": "lines",
         "name": "Emily",
         "orientation": "v",
         "showlegend": true,
         "type": "scatter",
         "x": [
          "Bahrein",
          "Saudi-Arabië",
          "Australië",
          "Azerbeidzjan",
          "Miami",
          "Emilia-Romagna",
          "Monaco",
          "Spanje",
          "Canada",
          "Oostenrijk",
          "Groot-Brittanië",
          "Hongarije",
          "België",
          "Nederland",
          "Italië",
          "Singapore",
          "Japan",
          "Qatar",
          "Verenigde Staten",
          "Mexico",
          "Brazilië",
          "Las Vegas",
          "Abu Dhabi"
         ],
         "xaxis": "x",
         "y": [
          9,
          9,
          9,
          9,
          9,
          9,
          9,
          9,
          9,
          9,
          9,
          9,
          9,
          9,
          9,
          9,
          9,
          9,
          9,
          9,
          9,
          9,
          9
         ],
         "yaxis": "y"
        },
        {
         "hovertemplate": "Teams=Erik<br>race=%{x}<br>value=%{y}<extra></extra>",
         "legendgroup": "Erik",
         "line": {
          "color": "#7F7F7F",
          "dash": "solid"
         },
         "marker": {
          "symbol": "circle"
         },
         "mode": "lines",
         "name": "Erik",
         "orientation": "v",
         "showlegend": true,
         "type": "scatter",
         "x": [
          "Bahrein",
          "Saudi-Arabië",
          "Australië",
          "Azerbeidzjan",
          "Miami",
          "Emilia-Romagna",
          "Monaco",
          "Spanje",
          "Canada",
          "Oostenrijk",
          "Groot-Brittanië",
          "Hongarije",
          "België",
          "Nederland",
          "Italië",
          "Singapore",
          "Japan",
          "Qatar",
          "Verenigde Staten",
          "Mexico",
          "Brazilië",
          "Las Vegas",
          "Abu Dhabi"
         ],
         "xaxis": "x",
         "y": [
          17.05,
          17.05,
          17.05,
          17.05,
          17.05,
          17.05,
          17.05,
          17.05,
          17.05,
          17.05,
          17.05,
          17.05,
          17.05,
          17.05,
          17.05,
          17.05,
          17.05,
          17.05,
          17.05,
          17.05,
          17.05,
          17.05,
          17.05
         ],
         "yaxis": "y"
        },
        {
         "hovertemplate": "Teams=Erwin<br>race=%{x}<br>value=%{y}<extra></extra>",
         "legendgroup": "Erwin",
         "line": {
          "color": "#BCBD22",
          "dash": "solid"
         },
         "marker": {
          "symbol": "circle"
         },
         "mode": "lines",
         "name": "Erwin",
         "orientation": "v",
         "showlegend": true,
         "type": "scatter",
         "x": [
          "Bahrein",
          "Saudi-Arabië",
          "Australië",
          "Azerbeidzjan",
          "Miami",
          "Emilia-Romagna",
          "Monaco",
          "Spanje",
          "Canada",
          "Oostenrijk",
          "Groot-Brittanië",
          "Hongarije",
          "België",
          "Nederland",
          "Italië",
          "Singapore",
          "Japan",
          "Qatar",
          "Verenigde Staten",
          "Mexico",
          "Brazilië",
          "Las Vegas",
          "Abu Dhabi"
         ],
         "xaxis": "x",
         "y": [
          6.8500000000000005,
          6.8500000000000005,
          6.8500000000000005,
          6.8500000000000005,
          6.8500000000000005,
          6.8500000000000005,
          6.8500000000000005,
          6.8500000000000005,
          6.8500000000000005,
          6.8500000000000005,
          6.8500000000000005,
          6.8500000000000005,
          6.8500000000000005,
          6.8500000000000005,
          6.8500000000000005,
          6.8500000000000005,
          6.8500000000000005,
          6.8500000000000005,
          6.8500000000000005,
          6.8500000000000005,
          6.8500000000000005,
          6.8500000000000005,
          6.8500000000000005
         ],
         "yaxis": "y"
        },
        {
         "hovertemplate": "Teams=Grietje<br>race=%{x}<br>value=%{y}<extra></extra>",
         "legendgroup": "Grietje",
         "line": {
          "color": "#17BECF",
          "dash": "solid"
         },
         "marker": {
          "symbol": "circle"
         },
         "mode": "lines",
         "name": "Grietje",
         "orientation": "v",
         "showlegend": true,
         "type": "scatter",
         "x": [
          "Bahrein",
          "Saudi-Arabië",
          "Australië",
          "Azerbeidzjan",
          "Miami",
          "Emilia-Romagna",
          "Monaco",
          "Spanje",
          "Canada",
          "Oostenrijk",
          "Groot-Brittanië",
          "Hongarije",
          "België",
          "Nederland",
          "Italië",
          "Singapore",
          "Japan",
          "Qatar",
          "Verenigde Staten",
          "Mexico",
          "Brazilië",
          "Las Vegas",
          "Abu Dhabi"
         ],
         "xaxis": "x",
         "y": [
          11.6,
          11.6,
          11.6,
          11.6,
          11.6,
          11.6,
          11.6,
          11.6,
          11.6,
          11.6,
          11.6,
          11.6,
          11.6,
          11.6,
          11.6,
          11.6,
          11.6,
          11.6,
          11.6,
          11.6,
          11.6,
          11.6,
          11.6
         ],
         "yaxis": "y"
        },
        {
         "hovertemplate": "Teams=Hans<br>race=%{x}<br>value=%{y}<extra></extra>",
         "legendgroup": "Hans",
         "line": {
          "color": "#1F77B4",
          "dash": "solid"
         },
         "marker": {
          "symbol": "circle"
         },
         "mode": "lines",
         "name": "Hans",
         "orientation": "v",
         "showlegend": true,
         "type": "scatter",
         "x": [
          "Bahrein",
          "Saudi-Arabië",
          "Australië",
          "Azerbeidzjan",
          "Miami",
          "Emilia-Romagna",
          "Monaco",
          "Spanje",
          "Canada",
          "Oostenrijk",
          "Groot-Brittanië",
          "Hongarije",
          "België",
          "Nederland",
          "Italië",
          "Singapore",
          "Japan",
          "Qatar",
          "Verenigde Staten",
          "Mexico",
          "Brazilië",
          "Las Vegas",
          "Abu Dhabi"
         ],
         "xaxis": "x",
         "y": [
          7.6,
          7.6,
          7.6,
          7.6,
          7.6,
          7.6,
          7.6,
          7.6,
          7.6,
          7.6,
          7.6,
          7.6,
          7.6,
          7.6,
          7.6,
          7.6,
          7.6,
          7.6,
          7.6,
          7.6,
          7.6,
          7.6,
          7.6
         ],
         "yaxis": "y"
        },
        {
         "hovertemplate": "Teams=Isolde<br>race=%{x}<br>value=%{y}<extra></extra>",
         "legendgroup": "Isolde",
         "line": {
          "color": "#FF7F0E",
          "dash": "solid"
         },
         "marker": {
          "symbol": "circle"
         },
         "mode": "lines",
         "name": "Isolde",
         "orientation": "v",
         "showlegend": true,
         "type": "scatter",
         "x": [
          "Bahrein",
          "Saudi-Arabië",
          "Australië",
          "Azerbeidzjan",
          "Miami",
          "Emilia-Romagna",
          "Monaco",
          "Spanje",
          "Canada",
          "Oostenrijk",
          "Groot-Brittanië",
          "Hongarije",
          "België",
          "Nederland",
          "Italië",
          "Singapore",
          "Japan",
          "Qatar",
          "Verenigde Staten",
          "Mexico",
          "Brazilië",
          "Las Vegas",
          "Abu Dhabi"
         ],
         "xaxis": "x",
         "y": [
          1.5999999999999999,
          1.5999999999999999,
          1.5999999999999999,
          1.5999999999999999,
          1.5999999999999999,
          1.5999999999999999,
          1.5999999999999999,
          1.5999999999999999,
          1.5999999999999999,
          1.5999999999999999,
          1.5999999999999999,
          1.5999999999999999,
          1.5999999999999999,
          1.5999999999999999,
          1.5999999999999999,
          1.5999999999999999,
          1.5999999999999999,
          1.5999999999999999,
          1.5999999999999999,
          1.5999999999999999,
          1.5999999999999999,
          1.5999999999999999,
          1.5999999999999999
         ],
         "yaxis": "y"
        },
        {
         "hovertemplate": "Teams=Jordi<br>race=%{x}<br>value=%{y}<extra></extra>",
         "legendgroup": "Jordi",
         "line": {
          "color": "#2CA02C",
          "dash": "solid"
         },
         "marker": {
          "symbol": "circle"
         },
         "mode": "lines",
         "name": "Jordi",
         "orientation": "v",
         "showlegend": true,
         "type": "scatter",
         "x": [
          "Bahrein",
          "Saudi-Arabië",
          "Australië",
          "Azerbeidzjan",
          "Miami",
          "Emilia-Romagna",
          "Monaco",
          "Spanje",
          "Canada",
          "Oostenrijk",
          "Groot-Brittanië",
          "Hongarije",
          "België",
          "Nederland",
          "Italië",
          "Singapore",
          "Japan",
          "Qatar",
          "Verenigde Staten",
          "Mexico",
          "Brazilië",
          "Las Vegas",
          "Abu Dhabi"
         ],
         "xaxis": "x",
         "y": [
          1.5999999999999999,
          1.5999999999999999,
          1.5999999999999999,
          1.5999999999999999,
          1.5999999999999999,
          1.5999999999999999,
          1.5999999999999999,
          1.5999999999999999,
          1.5999999999999999,
          1.5999999999999999,
          1.5999999999999999,
          1.5999999999999999,
          1.5999999999999999,
          1.5999999999999999,
          1.5999999999999999,
          1.5999999999999999,
          1.5999999999999999,
          1.5999999999999999,
          1.5999999999999999,
          1.5999999999999999,
          1.5999999999999999,
          1.5999999999999999,
          1.5999999999999999
         ],
         "yaxis": "y"
        },
        {
         "hovertemplate": "Teams=Kitty<br>race=%{x}<br>value=%{y}<extra></extra>",
         "legendgroup": "Kitty",
         "line": {
          "color": "#D62728",
          "dash": "solid"
         },
         "marker": {
          "symbol": "circle"
         },
         "mode": "lines",
         "name": "Kitty",
         "orientation": "v",
         "showlegend": true,
         "type": "scatter",
         "x": [
          "Bahrein",
          "Saudi-Arabië",
          "Australië",
          "Azerbeidzjan",
          "Miami",
          "Emilia-Romagna",
          "Monaco",
          "Spanje",
          "Canada",
          "Oostenrijk",
          "Groot-Brittanië",
          "Hongarije",
          "België",
          "Nederland",
          "Italië",
          "Singapore",
          "Japan",
          "Qatar",
          "Verenigde Staten",
          "Mexico",
          "Brazilië",
          "Las Vegas",
          "Abu Dhabi"
         ],
         "xaxis": "x",
         "y": [
          7,
          7,
          7,
          7,
          7,
          7,
          7,
          7,
          7,
          7,
          7,
          7,
          7,
          7,
          7,
          7,
          7,
          7,
          7,
          7,
          7,
          7,
          7
         ],
         "yaxis": "y"
        },
        {
         "hovertemplate": "Teams=Marco<br>race=%{x}<br>value=%{y}<extra></extra>",
         "legendgroup": "Marco",
         "line": {
          "color": "#9467BD",
          "dash": "solid"
         },
         "marker": {
          "symbol": "circle"
         },
         "mode": "lines",
         "name": "Marco",
         "orientation": "v",
         "showlegend": true,
         "type": "scatter",
         "x": [
          "Bahrein",
          "Saudi-Arabië",
          "Australië",
          "Azerbeidzjan",
          "Miami",
          "Emilia-Romagna",
          "Monaco",
          "Spanje",
          "Canada",
          "Oostenrijk",
          "Groot-Brittanië",
          "Hongarije",
          "België",
          "Nederland",
          "Italië",
          "Singapore",
          "Japan",
          "Qatar",
          "Verenigde Staten",
          "Mexico",
          "Brazilië",
          "Las Vegas",
          "Abu Dhabi"
         ],
         "xaxis": "x",
         "y": [
          21.55,
          21.55,
          21.55,
          21.55,
          21.55,
          21.55,
          21.55,
          21.55,
          21.55,
          21.55,
          21.55,
          21.55,
          21.55,
          21.55,
          21.55,
          21.55,
          21.55,
          21.55,
          21.55,
          21.55,
          21.55,
          21.55,
          21.55
         ],
         "yaxis": "y"
        },
        {
         "hovertemplate": "Teams=Mees<br>race=%{x}<br>value=%{y}<extra></extra>",
         "legendgroup": "Mees",
         "line": {
          "color": "#8C564B",
          "dash": "solid"
         },
         "marker": {
          "symbol": "circle"
         },
         "mode": "lines",
         "name": "Mees",
         "orientation": "v",
         "showlegend": true,
         "type": "scatter",
         "x": [
          "Bahrein",
          "Saudi-Arabië",
          "Australië",
          "Azerbeidzjan",
          "Miami",
          "Emilia-Romagna",
          "Monaco",
          "Spanje",
          "Canada",
          "Oostenrijk",
          "Groot-Brittanië",
          "Hongarije",
          "België",
          "Nederland",
          "Italië",
          "Singapore",
          "Japan",
          "Qatar",
          "Verenigde Staten",
          "Mexico",
          "Brazilië",
          "Las Vegas",
          "Abu Dhabi"
         ],
         "xaxis": "x",
         "y": [
          6.4,
          6.4,
          6.4,
          6.4,
          6.4,
          6.4,
          6.4,
          6.4,
          6.4,
          6.4,
          6.4,
          6.4,
          6.4,
          6.4,
          6.4,
          6.4,
          6.4,
          6.4,
          6.4,
          6.4,
          6.4,
          6.4,
          6.4
         ],
         "yaxis": "y"
        },
        {
         "hovertemplate": "Teams=Michiel<br>race=%{x}<br>value=%{y}<extra></extra>",
         "legendgroup": "Michiel",
         "line": {
          "color": "#E377C2",
          "dash": "solid"
         },
         "marker": {
          "symbol": "circle"
         },
         "mode": "lines",
         "name": "Michiel",
         "orientation": "v",
         "showlegend": true,
         "type": "scatter",
         "x": [
          "Bahrein",
          "Saudi-Arabië",
          "Australië",
          "Azerbeidzjan",
          "Miami",
          "Emilia-Romagna",
          "Monaco",
          "Spanje",
          "Canada",
          "Oostenrijk",
          "Groot-Brittanië",
          "Hongarije",
          "België",
          "Nederland",
          "Italië",
          "Singapore",
          "Japan",
          "Qatar",
          "Verenigde Staten",
          "Mexico",
          "Brazilië",
          "Las Vegas",
          "Abu Dhabi"
         ],
         "xaxis": "x",
         "y": [
          10.6,
          10.6,
          10.6,
          10.6,
          10.6,
          10.6,
          10.6,
          10.6,
          10.6,
          10.6,
          10.6,
          10.6,
          10.6,
          10.6,
          10.6,
          10.6,
          10.6,
          10.6,
          10.6,
          10.6,
          10.6,
          10.6,
          10.6
         ],
         "yaxis": "y"
        },
        {
         "hovertemplate": "Teams=Niels<br>race=%{x}<br>value=%{y}<extra></extra>",
         "legendgroup": "Niels",
         "line": {
          "color": "#7F7F7F",
          "dash": "solid"
         },
         "marker": {
          "symbol": "circle"
         },
         "mode": "lines",
         "name": "Niels",
         "orientation": "v",
         "showlegend": true,
         "type": "scatter",
         "x": [
          "Bahrein",
          "Saudi-Arabië",
          "Australië",
          "Azerbeidzjan",
          "Miami",
          "Emilia-Romagna",
          "Monaco",
          "Spanje",
          "Canada",
          "Oostenrijk",
          "Groot-Brittanië",
          "Hongarije",
          "België",
          "Nederland",
          "Italië",
          "Singapore",
          "Japan",
          "Qatar",
          "Verenigde Staten",
          "Mexico",
          "Brazilië",
          "Las Vegas",
          "Abu Dhabi"
         ],
         "xaxis": "x",
         "y": [
          17.15,
          17.15,
          17.15,
          17.15,
          17.15,
          17.15,
          17.15,
          17.15,
          17.15,
          17.15,
          17.15,
          17.15,
          17.15,
          17.15,
          17.15,
          17.15,
          17.15,
          17.15,
          17.15,
          17.15,
          17.15,
          17.15,
          17.15
         ],
         "yaxis": "y"
        },
        {
         "hovertemplate": "Teams=Raymond<br>race=%{x}<br>value=%{y}<extra></extra>",
         "legendgroup": "Raymond",
         "line": {
          "color": "#BCBD22",
          "dash": "solid"
         },
         "marker": {
          "symbol": "circle"
         },
         "mode": "lines",
         "name": "Raymond",
         "orientation": "v",
         "showlegend": true,
         "type": "scatter",
         "x": [
          "Bahrein",
          "Saudi-Arabië",
          "Australië",
          "Azerbeidzjan",
          "Miami",
          "Emilia-Romagna",
          "Monaco",
          "Spanje",
          "Canada",
          "Oostenrijk",
          "Groot-Brittanië",
          "Hongarije",
          "België",
          "Nederland",
          "Italië",
          "Singapore",
          "Japan",
          "Qatar",
          "Verenigde Staten",
          "Mexico",
          "Brazilië",
          "Las Vegas",
          "Abu Dhabi"
         ],
         "xaxis": "x",
         "y": [
          18.5,
          18.5,
          18.5,
          18.5,
          18.5,
          18.5,
          18.5,
          18.5,
          18.5,
          18.5,
          18.5,
          18.5,
          18.5,
          18.5,
          18.5,
          18.5,
          18.5,
          18.5,
          18.5,
          18.5,
          18.5,
          18.5,
          18.5
         ],
         "yaxis": "y"
        },
        {
         "hovertemplate": "Teams=Rodi<br>race=%{x}<br>value=%{y}<extra></extra>",
         "legendgroup": "Rodi",
         "line": {
          "color": "#17BECF",
          "dash": "solid"
         },
         "marker": {
          "symbol": "circle"
         },
         "mode": "lines",
         "name": "Rodi",
         "orientation": "v",
         "showlegend": true,
         "type": "scatter",
         "x": [
          "Bahrein",
          "Saudi-Arabië",
          "Australië",
          "Azerbeidzjan",
          "Miami",
          "Emilia-Romagna",
          "Monaco",
          "Spanje",
          "Canada",
          "Oostenrijk",
          "Groot-Brittanië",
          "Hongarije",
          "België",
          "Nederland",
          "Italië",
          "Singapore",
          "Japan",
          "Qatar",
          "Verenigde Staten",
          "Mexico",
          "Brazilië",
          "Las Vegas",
          "Abu Dhabi"
         ],
         "xaxis": "x",
         "y": [
          8.4,
          8.4,
          8.4,
          8.4,
          8.4,
          8.4,
          8.4,
          8.4,
          8.4,
          8.4,
          8.4,
          8.4,
          8.4,
          8.4,
          8.4,
          8.4,
          8.4,
          8.4,
          8.4,
          8.4,
          8.4,
          8.4,
          8.4
         ],
         "yaxis": "y"
        },
        {
         "hovertemplate": "Teams=Stan<br>race=%{x}<br>value=%{y}<extra></extra>",
         "legendgroup": "Stan",
         "line": {
          "color": "#1F77B4",
          "dash": "solid"
         },
         "marker": {
          "symbol": "circle"
         },
         "mode": "lines",
         "name": "Stan",
         "orientation": "v",
         "showlegend": true,
         "type": "scatter",
         "x": [
          "Bahrein",
          "Saudi-Arabië",
          "Australië",
          "Azerbeidzjan",
          "Miami",
          "Emilia-Romagna",
          "Monaco",
          "Spanje",
          "Canada",
          "Oostenrijk",
          "Groot-Brittanië",
          "Hongarije",
          "België",
          "Nederland",
          "Italië",
          "Singapore",
          "Japan",
          "Qatar",
          "Verenigde Staten",
          "Mexico",
          "Brazilië",
          "Las Vegas",
          "Abu Dhabi"
         ],
         "xaxis": "x",
         "y": [
          6.8,
          6.8,
          6.8,
          6.8,
          6.8,
          6.8,
          6.8,
          6.8,
          6.8,
          6.8,
          6.8,
          6.8,
          6.8,
          6.8,
          6.8,
          6.8,
          6.8,
          6.8,
          6.8,
          6.8,
          6.8,
          6.8,
          6.8
         ],
         "yaxis": "y"
        },
        {
         "hovertemplate": "Teams=Wietse<br>race=%{x}<br>value=%{y}<extra></extra>",
         "legendgroup": "Wietse",
         "line": {
          "color": "#FF7F0E",
          "dash": "solid"
         },
         "marker": {
          "symbol": "circle"
         },
         "mode": "lines",
         "name": "Wietse",
         "orientation": "v",
         "showlegend": true,
         "type": "scatter",
         "x": [
          "Bahrein",
          "Saudi-Arabië",
          "Australië",
          "Azerbeidzjan",
          "Miami",
          "Emilia-Romagna",
          "Monaco",
          "Spanje",
          "Canada",
          "Oostenrijk",
          "Groot-Brittanië",
          "Hongarije",
          "België",
          "Nederland",
          "Italië",
          "Singapore",
          "Japan",
          "Qatar",
          "Verenigde Staten",
          "Mexico",
          "Brazilië",
          "Las Vegas",
          "Abu Dhabi"
         ],
         "xaxis": "x",
         "y": [
          1.6,
          1.6,
          1.6,
          1.6,
          1.6,
          1.6,
          1.6,
          1.6,
          1.6,
          1.6,
          1.6,
          1.6,
          1.6,
          1.6,
          1.6,
          1.6,
          1.6,
          1.6,
          1.6,
          1.6,
          1.6,
          1.6,
          1.6
         ],
         "yaxis": "y"
        }
       ],
       "layout": {
        "height": 660,
        "legend": {
         "title": {
          "text": "Teams"
         },
         "tracegroupgap": 0
        },
        "template": {
         "data": {
          "bar": [
           {
            "error_x": {
             "color": "rgb(36,36,36)"
            },
            "error_y": {
             "color": "rgb(36,36,36)"
            },
            "marker": {
             "line": {
              "color": "white",
              "width": 0.5
             },
             "pattern": {
              "fillmode": "overlay",
              "size": 10,
              "solidity": 0.2
             }
            },
            "type": "bar"
           }
          ],
          "barpolar": [
           {
            "marker": {
             "line": {
              "color": "white",
              "width": 0.5
             },
             "pattern": {
              "fillmode": "overlay",
              "size": 10,
              "solidity": 0.2
             }
            },
            "type": "barpolar"
           }
          ],
          "carpet": [
           {
            "aaxis": {
             "endlinecolor": "rgb(36,36,36)",
             "gridcolor": "white",
             "linecolor": "white",
             "minorgridcolor": "white",
             "startlinecolor": "rgb(36,36,36)"
            },
            "baxis": {
             "endlinecolor": "rgb(36,36,36)",
             "gridcolor": "white",
             "linecolor": "white",
             "minorgridcolor": "white",
             "startlinecolor": "rgb(36,36,36)"
            },
            "type": "carpet"
           }
          ],
          "choropleth": [
           {
            "colorbar": {
             "outlinewidth": 1,
             "tickcolor": "rgb(36,36,36)",
             "ticks": "outside"
            },
            "type": "choropleth"
           }
          ],
          "contour": [
           {
            "colorbar": {
             "outlinewidth": 1,
             "tickcolor": "rgb(36,36,36)",
             "ticks": "outside"
            },
            "colorscale": [
             [
              0,
              "#440154"
             ],
             [
              0.1111111111111111,
              "#482878"
             ],
             [
              0.2222222222222222,
              "#3e4989"
             ],
             [
              0.3333333333333333,
              "#31688e"
             ],
             [
              0.4444444444444444,
              "#26828e"
             ],
             [
              0.5555555555555556,
              "#1f9e89"
             ],
             [
              0.6666666666666666,
              "#35b779"
             ],
             [
              0.7777777777777778,
              "#6ece58"
             ],
             [
              0.8888888888888888,
              "#b5de2b"
             ],
             [
              1,
              "#fde725"
             ]
            ],
            "type": "contour"
           }
          ],
          "contourcarpet": [
           {
            "colorbar": {
             "outlinewidth": 1,
             "tickcolor": "rgb(36,36,36)",
             "ticks": "outside"
            },
            "type": "contourcarpet"
           }
          ],
          "heatmap": [
           {
            "colorbar": {
             "outlinewidth": 1,
             "tickcolor": "rgb(36,36,36)",
             "ticks": "outside"
            },
            "colorscale": [
             [
              0,
              "#440154"
             ],
             [
              0.1111111111111111,
              "#482878"
             ],
             [
              0.2222222222222222,
              "#3e4989"
             ],
             [
              0.3333333333333333,
              "#31688e"
             ],
             [
              0.4444444444444444,
              "#26828e"
             ],
             [
              0.5555555555555556,
              "#1f9e89"
             ],
             [
              0.6666666666666666,
              "#35b779"
             ],
             [
              0.7777777777777778,
              "#6ece58"
             ],
             [
              0.8888888888888888,
              "#b5de2b"
             ],
             [
              1,
              "#fde725"
             ]
            ],
            "type": "heatmap"
           }
          ],
          "heatmapgl": [
           {
            "colorbar": {
             "outlinewidth": 1,
             "tickcolor": "rgb(36,36,36)",
             "ticks": "outside"
            },
            "colorscale": [
             [
              0,
              "#440154"
             ],
             [
              0.1111111111111111,
              "#482878"
             ],
             [
              0.2222222222222222,
              "#3e4989"
             ],
             [
              0.3333333333333333,
              "#31688e"
             ],
             [
              0.4444444444444444,
              "#26828e"
             ],
             [
              0.5555555555555556,
              "#1f9e89"
             ],
             [
              0.6666666666666666,
              "#35b779"
             ],
             [
              0.7777777777777778,
              "#6ece58"
             ],
             [
              0.8888888888888888,
              "#b5de2b"
             ],
             [
              1,
              "#fde725"
             ]
            ],
            "type": "heatmapgl"
           }
          ],
          "histogram": [
           {
            "marker": {
             "line": {
              "color": "white",
              "width": 0.6
             }
            },
            "type": "histogram"
           }
          ],
          "histogram2d": [
           {
            "colorbar": {
             "outlinewidth": 1,
             "tickcolor": "rgb(36,36,36)",
             "ticks": "outside"
            },
            "colorscale": [
             [
              0,
              "#440154"
             ],
             [
              0.1111111111111111,
              "#482878"
             ],
             [
              0.2222222222222222,
              "#3e4989"
             ],
             [
              0.3333333333333333,
              "#31688e"
             ],
             [
              0.4444444444444444,
              "#26828e"
             ],
             [
              0.5555555555555556,
              "#1f9e89"
             ],
             [
              0.6666666666666666,
              "#35b779"
             ],
             [
              0.7777777777777778,
              "#6ece58"
             ],
             [
              0.8888888888888888,
              "#b5de2b"
             ],
             [
              1,
              "#fde725"
             ]
            ],
            "type": "histogram2d"
           }
          ],
          "histogram2dcontour": [
           {
            "colorbar": {
             "outlinewidth": 1,
             "tickcolor": "rgb(36,36,36)",
             "ticks": "outside"
            },
            "colorscale": [
             [
              0,
              "#440154"
             ],
             [
              0.1111111111111111,
              "#482878"
             ],
             [
              0.2222222222222222,
              "#3e4989"
             ],
             [
              0.3333333333333333,
              "#31688e"
             ],
             [
              0.4444444444444444,
              "#26828e"
             ],
             [
              0.5555555555555556,
              "#1f9e89"
             ],
             [
              0.6666666666666666,
              "#35b779"
             ],
             [
              0.7777777777777778,
              "#6ece58"
             ],
             [
              0.8888888888888888,
              "#b5de2b"
             ],
             [
              1,
              "#fde725"
             ]
            ],
            "type": "histogram2dcontour"
           }
          ],
          "mesh3d": [
           {
            "colorbar": {
             "outlinewidth": 1,
             "tickcolor": "rgb(36,36,36)",
             "ticks": "outside"
            },
            "type": "mesh3d"
           }
          ],
          "parcoords": [
           {
            "line": {
             "colorbar": {
              "outlinewidth": 1,
              "tickcolor": "rgb(36,36,36)",
              "ticks": "outside"
             }
            },
            "type": "parcoords"
           }
          ],
          "pie": [
           {
            "automargin": true,
            "type": "pie"
           }
          ],
          "scatter": [
           {
            "fillpattern": {
             "fillmode": "overlay",
             "size": 10,
             "solidity": 0.2
            },
            "type": "scatter"
           }
          ],
          "scatter3d": [
           {
            "line": {
             "colorbar": {
              "outlinewidth": 1,
              "tickcolor": "rgb(36,36,36)",
              "ticks": "outside"
             }
            },
            "marker": {
             "colorbar": {
              "outlinewidth": 1,
              "tickcolor": "rgb(36,36,36)",
              "ticks": "outside"
             }
            },
            "type": "scatter3d"
           }
          ],
          "scattercarpet": [
           {
            "marker": {
             "colorbar": {
              "outlinewidth": 1,
              "tickcolor": "rgb(36,36,36)",
              "ticks": "outside"
             }
            },
            "type": "scattercarpet"
           }
          ],
          "scattergeo": [
           {
            "marker": {
             "colorbar": {
              "outlinewidth": 1,
              "tickcolor": "rgb(36,36,36)",
              "ticks": "outside"
             }
            },
            "type": "scattergeo"
           }
          ],
          "scattergl": [
           {
            "marker": {
             "colorbar": {
              "outlinewidth": 1,
              "tickcolor": "rgb(36,36,36)",
              "ticks": "outside"
             }
            },
            "type": "scattergl"
           }
          ],
          "scattermapbox": [
           {
            "marker": {
             "colorbar": {
              "outlinewidth": 1,
              "tickcolor": "rgb(36,36,36)",
              "ticks": "outside"
             }
            },
            "type": "scattermapbox"
           }
          ],
          "scatterpolar": [
           {
            "marker": {
             "colorbar": {
              "outlinewidth": 1,
              "tickcolor": "rgb(36,36,36)",
              "ticks": "outside"
             }
            },
            "type": "scatterpolar"
           }
          ],
          "scatterpolargl": [
           {
            "marker": {
             "colorbar": {
              "outlinewidth": 1,
              "tickcolor": "rgb(36,36,36)",
              "ticks": "outside"
             }
            },
            "type": "scatterpolargl"
           }
          ],
          "scatterternary": [
           {
            "marker": {
             "colorbar": {
              "outlinewidth": 1,
              "tickcolor": "rgb(36,36,36)",
              "ticks": "outside"
             }
            },
            "type": "scatterternary"
           }
          ],
          "surface": [
           {
            "colorbar": {
             "outlinewidth": 1,
             "tickcolor": "rgb(36,36,36)",
             "ticks": "outside"
            },
            "colorscale": [
             [
              0,
              "#440154"
             ],
             [
              0.1111111111111111,
              "#482878"
             ],
             [
              0.2222222222222222,
              "#3e4989"
             ],
             [
              0.3333333333333333,
              "#31688e"
             ],
             [
              0.4444444444444444,
              "#26828e"
             ],
             [
              0.5555555555555556,
              "#1f9e89"
             ],
             [
              0.6666666666666666,
              "#35b779"
             ],
             [
              0.7777777777777778,
              "#6ece58"
             ],
             [
              0.8888888888888888,
              "#b5de2b"
             ],
             [
              1,
              "#fde725"
             ]
            ],
            "type": "surface"
           }
          ],
          "table": [
           {
            "cells": {
             "fill": {
              "color": "rgb(237,237,237)"
             },
             "line": {
              "color": "white"
             }
            },
            "header": {
             "fill": {
              "color": "rgb(217,217,217)"
             },
             "line": {
              "color": "white"
             }
            },
            "type": "table"
           }
          ]
         },
         "layout": {
          "annotationdefaults": {
           "arrowhead": 0,
           "arrowwidth": 1
          },
          "autotypenumbers": "strict",
          "coloraxis": {
           "colorbar": {
            "outlinewidth": 1,
            "tickcolor": "rgb(36,36,36)",
            "ticks": "outside"
           }
          },
          "colorscale": {
           "diverging": [
            [
             0,
             "rgb(103,0,31)"
            ],
            [
             0.1,
             "rgb(178,24,43)"
            ],
            [
             0.2,
             "rgb(214,96,77)"
            ],
            [
             0.3,
             "rgb(244,165,130)"
            ],
            [
             0.4,
             "rgb(253,219,199)"
            ],
            [
             0.5,
             "rgb(247,247,247)"
            ],
            [
             0.6,
             "rgb(209,229,240)"
            ],
            [
             0.7,
             "rgb(146,197,222)"
            ],
            [
             0.8,
             "rgb(67,147,195)"
            ],
            [
             0.9,
             "rgb(33,102,172)"
            ],
            [
             1,
             "rgb(5,48,97)"
            ]
           ],
           "sequential": [
            [
             0,
             "#440154"
            ],
            [
             0.1111111111111111,
             "#482878"
            ],
            [
             0.2222222222222222,
             "#3e4989"
            ],
            [
             0.3333333333333333,
             "#31688e"
            ],
            [
             0.4444444444444444,
             "#26828e"
            ],
            [
             0.5555555555555556,
             "#1f9e89"
            ],
            [
             0.6666666666666666,
             "#35b779"
            ],
            [
             0.7777777777777778,
             "#6ece58"
            ],
            [
             0.8888888888888888,
             "#b5de2b"
            ],
            [
             1,
             "#fde725"
            ]
           ],
           "sequentialminus": [
            [
             0,
             "#440154"
            ],
            [
             0.1111111111111111,
             "#482878"
            ],
            [
             0.2222222222222222,
             "#3e4989"
            ],
            [
             0.3333333333333333,
             "#31688e"
            ],
            [
             0.4444444444444444,
             "#26828e"
            ],
            [
             0.5555555555555556,
             "#1f9e89"
            ],
            [
             0.6666666666666666,
             "#35b779"
            ],
            [
             0.7777777777777778,
             "#6ece58"
            ],
            [
             0.8888888888888888,
             "#b5de2b"
            ],
            [
             1,
             "#fde725"
            ]
           ]
          },
          "colorway": [
           "#1F77B4",
           "#FF7F0E",
           "#2CA02C",
           "#D62728",
           "#9467BD",
           "#8C564B",
           "#E377C2",
           "#7F7F7F",
           "#BCBD22",
           "#17BECF"
          ],
          "font": {
           "color": "rgb(36,36,36)"
          },
          "geo": {
           "bgcolor": "white",
           "lakecolor": "white",
           "landcolor": "white",
           "showlakes": true,
           "showland": true,
           "subunitcolor": "white"
          },
          "hoverlabel": {
           "align": "left"
          },
          "hovermode": "closest",
          "mapbox": {
           "style": "light"
          },
          "paper_bgcolor": "white",
          "plot_bgcolor": "white",
          "polar": {
           "angularaxis": {
            "gridcolor": "rgb(232,232,232)",
            "linecolor": "rgb(36,36,36)",
            "showgrid": false,
            "showline": true,
            "ticks": "outside"
           },
           "bgcolor": "white",
           "radialaxis": {
            "gridcolor": "rgb(232,232,232)",
            "linecolor": "rgb(36,36,36)",
            "showgrid": false,
            "showline": true,
            "ticks": "outside"
           }
          },
          "scene": {
           "xaxis": {
            "backgroundcolor": "white",
            "gridcolor": "rgb(232,232,232)",
            "gridwidth": 2,
            "linecolor": "rgb(36,36,36)",
            "showbackground": true,
            "showgrid": false,
            "showline": true,
            "ticks": "outside",
            "zeroline": false,
            "zerolinecolor": "rgb(36,36,36)"
           },
           "yaxis": {
            "backgroundcolor": "white",
            "gridcolor": "rgb(232,232,232)",
            "gridwidth": 2,
            "linecolor": "rgb(36,36,36)",
            "showbackground": true,
            "showgrid": false,
            "showline": true,
            "ticks": "outside",
            "zeroline": false,
            "zerolinecolor": "rgb(36,36,36)"
           },
           "zaxis": {
            "backgroundcolor": "white",
            "gridcolor": "rgb(232,232,232)",
            "gridwidth": 2,
            "linecolor": "rgb(36,36,36)",
            "showbackground": true,
            "showgrid": false,
            "showline": true,
            "ticks": "outside",
            "zeroline": false,
            "zerolinecolor": "rgb(36,36,36)"
           }
          },
          "shapedefaults": {
           "fillcolor": "black",
           "line": {
            "width": 0
           },
           "opacity": 0.3
          },
          "ternary": {
           "aaxis": {
            "gridcolor": "rgb(232,232,232)",
            "linecolor": "rgb(36,36,36)",
            "showgrid": false,
            "showline": true,
            "ticks": "outside"
           },
           "baxis": {
            "gridcolor": "rgb(232,232,232)",
            "linecolor": "rgb(36,36,36)",
            "showgrid": false,
            "showline": true,
            "ticks": "outside"
           },
           "bgcolor": "white",
           "caxis": {
            "gridcolor": "rgb(232,232,232)",
            "linecolor": "rgb(36,36,36)",
            "showgrid": false,
            "showline": true,
            "ticks": "outside"
           }
          },
          "title": {
           "x": 0.05
          },
          "xaxis": {
           "automargin": true,
           "gridcolor": "rgb(232,232,232)",
           "linecolor": "rgb(36,36,36)",
           "showgrid": false,
           "showline": true,
           "ticks": "outside",
           "title": {
            "standoff": 15
           },
           "zeroline": false,
           "zerolinecolor": "rgb(36,36,36)"
          },
          "yaxis": {
           "automargin": true,
           "gridcolor": "rgb(232,232,232)",
           "linecolor": "rgb(36,36,36)",
           "showgrid": false,
           "showline": true,
           "ticks": "outside",
           "title": {
            "standoff": 15
           },
           "zeroline": false,
           "zerolinecolor": "rgb(36,36,36)"
          }
         }
        },
        "title": {
         "text": "Stand"
        },
        "width": 960,
        "xaxis": {
         "anchor": "y",
         "domain": [
          0,
          1
         ],
         "title": {
          "text": "Races"
         }
        },
        "yaxis": {
         "anchor": "x",
         "domain": [
          0,
          1
         ],
         "showgrid": true,
         "title": {
          "text": "Totale punten"
         }
        }
       }
      },
      "text/html": [
       "<div>                            <div id=\"88a0bc69-ad3e-4027-9393-820aeb9661a3\" class=\"plotly-graph-div\" style=\"height:660px; width:960px;\"></div>            <script type=\"text/javascript\">                require([\"plotly\"], function(Plotly) {                    window.PLOTLYENV=window.PLOTLYENV || {};                                    if (document.getElementById(\"88a0bc69-ad3e-4027-9393-820aeb9661a3\")) {                    Plotly.newPlot(                        \"88a0bc69-ad3e-4027-9393-820aeb9661a3\",                        [{\"hovertemplate\":\"Teams=Arjan T.<br>race=%{x}<br>value=%{y}<extra></extra>\",\"legendgroup\":\"Arjan T.\",\"line\":{\"color\":\"#1F77B4\",\"dash\":\"solid\"},\"marker\":{\"symbol\":\"circle\"},\"mode\":\"lines\",\"name\":\"Arjan T.\",\"orientation\":\"v\",\"showlegend\":true,\"x\":[\"Bahrein\",\"Saudi-Arabi\\u00eb\",\"Australi\\u00eb\",\"Azerbeidzjan\",\"Miami\",\"Emilia-Romagna\",\"Monaco\",\"Spanje\",\"Canada\",\"Oostenrijk\",\"Groot-Brittani\\u00eb\",\"Hongarije\",\"Belgi\\u00eb\",\"Nederland\",\"Itali\\u00eb\",\"Singapore\",\"Japan\",\"Qatar\",\"Verenigde Staten\",\"Mexico\",\"Brazili\\u00eb\",\"Las Vegas\",\"Abu Dhabi\"],\"xaxis\":\"x\",\"y\":[11.45,11.45,11.45,11.45,11.45,11.45,11.45,11.45,11.45,11.45,11.45,11.45,11.45,11.45,11.45,11.45,11.45,11.45,11.45,11.45,11.45,11.45,11.45],\"yaxis\":\"y\",\"type\":\"scatter\"},{\"hovertemplate\":\"Teams=Arjan Z.<br>race=%{x}<br>value=%{y}<extra></extra>\",\"legendgroup\":\"Arjan Z.\",\"line\":{\"color\":\"#FF7F0E\",\"dash\":\"solid\"},\"marker\":{\"symbol\":\"circle\"},\"mode\":\"lines\",\"name\":\"Arjan Z.\",\"orientation\":\"v\",\"showlegend\":true,\"x\":[\"Bahrein\",\"Saudi-Arabi\\u00eb\",\"Australi\\u00eb\",\"Azerbeidzjan\",\"Miami\",\"Emilia-Romagna\",\"Monaco\",\"Spanje\",\"Canada\",\"Oostenrijk\",\"Groot-Brittani\\u00eb\",\"Hongarije\",\"Belgi\\u00eb\",\"Nederland\",\"Itali\\u00eb\",\"Singapore\",\"Japan\",\"Qatar\",\"Verenigde Staten\",\"Mexico\",\"Brazili\\u00eb\",\"Las Vegas\",\"Abu Dhabi\"],\"xaxis\":\"x\",\"y\":[8.0,8.0,8.0,8.0,8.0,8.0,8.0,8.0,8.0,8.0,8.0,8.0,8.0,8.0,8.0,8.0,8.0,8.0,8.0,8.0,8.0,8.0,8.0],\"yaxis\":\"y\",\"type\":\"scatter\"},{\"hovertemplate\":\"Teams=Casper<br>race=%{x}<br>value=%{y}<extra></extra>\",\"legendgroup\":\"Casper\",\"line\":{\"color\":\"#2CA02C\",\"dash\":\"solid\"},\"marker\":{\"symbol\":\"circle\"},\"mode\":\"lines\",\"name\":\"Casper\",\"orientation\":\"v\",\"showlegend\":true,\"x\":[\"Bahrein\",\"Saudi-Arabi\\u00eb\",\"Australi\\u00eb\",\"Azerbeidzjan\",\"Miami\",\"Emilia-Romagna\",\"Monaco\",\"Spanje\",\"Canada\",\"Oostenrijk\",\"Groot-Brittani\\u00eb\",\"Hongarije\",\"Belgi\\u00eb\",\"Nederland\",\"Itali\\u00eb\",\"Singapore\",\"Japan\",\"Qatar\",\"Verenigde Staten\",\"Mexico\",\"Brazili\\u00eb\",\"Las Vegas\",\"Abu Dhabi\"],\"xaxis\":\"x\",\"y\":[19.75,19.75,19.75,19.75,19.75,19.75,19.75,19.75,19.75,19.75,19.75,19.75,19.75,19.75,19.75,19.75,19.75,19.75,19.75,19.75,19.75,19.75,19.75],\"yaxis\":\"y\",\"type\":\"scatter\"},{\"hovertemplate\":\"Teams=Charlotte<br>race=%{x}<br>value=%{y}<extra></extra>\",\"legendgroup\":\"Charlotte\",\"line\":{\"color\":\"#D62728\",\"dash\":\"solid\"},\"marker\":{\"symbol\":\"circle\"},\"mode\":\"lines\",\"name\":\"Charlotte\",\"orientation\":\"v\",\"showlegend\":true,\"x\":[\"Bahrein\",\"Saudi-Arabi\\u00eb\",\"Australi\\u00eb\",\"Azerbeidzjan\",\"Miami\",\"Emilia-Romagna\",\"Monaco\",\"Spanje\",\"Canada\",\"Oostenrijk\",\"Groot-Brittani\\u00eb\",\"Hongarije\",\"Belgi\\u00eb\",\"Nederland\",\"Itali\\u00eb\",\"Singapore\",\"Japan\",\"Qatar\",\"Verenigde Staten\",\"Mexico\",\"Brazili\\u00eb\",\"Las Vegas\",\"Abu Dhabi\"],\"xaxis\":\"x\",\"y\":[11.0,11.0,11.0,11.0,11.0,11.0,11.0,11.0,11.0,11.0,11.0,11.0,11.0,11.0,11.0,11.0,11.0,11.0,11.0,11.0,11.0,11.0,11.0],\"yaxis\":\"y\",\"type\":\"scatter\"},{\"hovertemplate\":\"Teams=Chiel<br>race=%{x}<br>value=%{y}<extra></extra>\",\"legendgroup\":\"Chiel\",\"line\":{\"color\":\"#9467BD\",\"dash\":\"solid\"},\"marker\":{\"symbol\":\"circle\"},\"mode\":\"lines\",\"name\":\"Chiel\",\"orientation\":\"v\",\"showlegend\":true,\"x\":[\"Bahrein\",\"Saudi-Arabi\\u00eb\",\"Australi\\u00eb\",\"Azerbeidzjan\",\"Miami\",\"Emilia-Romagna\",\"Monaco\",\"Spanje\",\"Canada\",\"Oostenrijk\",\"Groot-Brittani\\u00eb\",\"Hongarije\",\"Belgi\\u00eb\",\"Nederland\",\"Itali\\u00eb\",\"Singapore\",\"Japan\",\"Qatar\",\"Verenigde Staten\",\"Mexico\",\"Brazili\\u00eb\",\"Las Vegas\",\"Abu Dhabi\"],\"xaxis\":\"x\",\"y\":[21.7,21.7,21.7,21.7,21.7,21.7,21.7,21.7,21.7,21.7,21.7,21.7,21.7,21.7,21.7,21.7,21.7,21.7,21.7,21.7,21.7,21.7,21.7],\"yaxis\":\"y\",\"type\":\"scatter\"},{\"hovertemplate\":\"Teams=Corine<br>race=%{x}<br>value=%{y}<extra></extra>\",\"legendgroup\":\"Corine\",\"line\":{\"color\":\"#8C564B\",\"dash\":\"solid\"},\"marker\":{\"symbol\":\"circle\"},\"mode\":\"lines\",\"name\":\"Corine\",\"orientation\":\"v\",\"showlegend\":true,\"x\":[\"Bahrein\",\"Saudi-Arabi\\u00eb\",\"Australi\\u00eb\",\"Azerbeidzjan\",\"Miami\",\"Emilia-Romagna\",\"Monaco\",\"Spanje\",\"Canada\",\"Oostenrijk\",\"Groot-Brittani\\u00eb\",\"Hongarije\",\"Belgi\\u00eb\",\"Nederland\",\"Itali\\u00eb\",\"Singapore\",\"Japan\",\"Qatar\",\"Verenigde Staten\",\"Mexico\",\"Brazili\\u00eb\",\"Las Vegas\",\"Abu Dhabi\"],\"xaxis\":\"x\",\"y\":[20.55,20.55,20.55,20.55,20.55,20.55,20.55,20.55,20.55,20.55,20.55,20.55,20.55,20.55,20.55,20.55,20.55,20.55,20.55,20.55,20.55,20.55,20.55],\"yaxis\":\"y\",\"type\":\"scatter\"},{\"hovertemplate\":\"Teams=Emily<br>race=%{x}<br>value=%{y}<extra></extra>\",\"legendgroup\":\"Emily\",\"line\":{\"color\":\"#E377C2\",\"dash\":\"solid\"},\"marker\":{\"symbol\":\"circle\"},\"mode\":\"lines\",\"name\":\"Emily\",\"orientation\":\"v\",\"showlegend\":true,\"x\":[\"Bahrein\",\"Saudi-Arabi\\u00eb\",\"Australi\\u00eb\",\"Azerbeidzjan\",\"Miami\",\"Emilia-Romagna\",\"Monaco\",\"Spanje\",\"Canada\",\"Oostenrijk\",\"Groot-Brittani\\u00eb\",\"Hongarije\",\"Belgi\\u00eb\",\"Nederland\",\"Itali\\u00eb\",\"Singapore\",\"Japan\",\"Qatar\",\"Verenigde Staten\",\"Mexico\",\"Brazili\\u00eb\",\"Las Vegas\",\"Abu Dhabi\"],\"xaxis\":\"x\",\"y\":[9.0,9.0,9.0,9.0,9.0,9.0,9.0,9.0,9.0,9.0,9.0,9.0,9.0,9.0,9.0,9.0,9.0,9.0,9.0,9.0,9.0,9.0,9.0],\"yaxis\":\"y\",\"type\":\"scatter\"},{\"hovertemplate\":\"Teams=Erik<br>race=%{x}<br>value=%{y}<extra></extra>\",\"legendgroup\":\"Erik\",\"line\":{\"color\":\"#7F7F7F\",\"dash\":\"solid\"},\"marker\":{\"symbol\":\"circle\"},\"mode\":\"lines\",\"name\":\"Erik\",\"orientation\":\"v\",\"showlegend\":true,\"x\":[\"Bahrein\",\"Saudi-Arabi\\u00eb\",\"Australi\\u00eb\",\"Azerbeidzjan\",\"Miami\",\"Emilia-Romagna\",\"Monaco\",\"Spanje\",\"Canada\",\"Oostenrijk\",\"Groot-Brittani\\u00eb\",\"Hongarije\",\"Belgi\\u00eb\",\"Nederland\",\"Itali\\u00eb\",\"Singapore\",\"Japan\",\"Qatar\",\"Verenigde Staten\",\"Mexico\",\"Brazili\\u00eb\",\"Las Vegas\",\"Abu Dhabi\"],\"xaxis\":\"x\",\"y\":[17.05,17.05,17.05,17.05,17.05,17.05,17.05,17.05,17.05,17.05,17.05,17.05,17.05,17.05,17.05,17.05,17.05,17.05,17.05,17.05,17.05,17.05,17.05],\"yaxis\":\"y\",\"type\":\"scatter\"},{\"hovertemplate\":\"Teams=Erwin<br>race=%{x}<br>value=%{y}<extra></extra>\",\"legendgroup\":\"Erwin\",\"line\":{\"color\":\"#BCBD22\",\"dash\":\"solid\"},\"marker\":{\"symbol\":\"circle\"},\"mode\":\"lines\",\"name\":\"Erwin\",\"orientation\":\"v\",\"showlegend\":true,\"x\":[\"Bahrein\",\"Saudi-Arabi\\u00eb\",\"Australi\\u00eb\",\"Azerbeidzjan\",\"Miami\",\"Emilia-Romagna\",\"Monaco\",\"Spanje\",\"Canada\",\"Oostenrijk\",\"Groot-Brittani\\u00eb\",\"Hongarije\",\"Belgi\\u00eb\",\"Nederland\",\"Itali\\u00eb\",\"Singapore\",\"Japan\",\"Qatar\",\"Verenigde Staten\",\"Mexico\",\"Brazili\\u00eb\",\"Las Vegas\",\"Abu Dhabi\"],\"xaxis\":\"x\",\"y\":[6.8500000000000005,6.8500000000000005,6.8500000000000005,6.8500000000000005,6.8500000000000005,6.8500000000000005,6.8500000000000005,6.8500000000000005,6.8500000000000005,6.8500000000000005,6.8500000000000005,6.8500000000000005,6.8500000000000005,6.8500000000000005,6.8500000000000005,6.8500000000000005,6.8500000000000005,6.8500000000000005,6.8500000000000005,6.8500000000000005,6.8500000000000005,6.8500000000000005,6.8500000000000005],\"yaxis\":\"y\",\"type\":\"scatter\"},{\"hovertemplate\":\"Teams=Grietje<br>race=%{x}<br>value=%{y}<extra></extra>\",\"legendgroup\":\"Grietje\",\"line\":{\"color\":\"#17BECF\",\"dash\":\"solid\"},\"marker\":{\"symbol\":\"circle\"},\"mode\":\"lines\",\"name\":\"Grietje\",\"orientation\":\"v\",\"showlegend\":true,\"x\":[\"Bahrein\",\"Saudi-Arabi\\u00eb\",\"Australi\\u00eb\",\"Azerbeidzjan\",\"Miami\",\"Emilia-Romagna\",\"Monaco\",\"Spanje\",\"Canada\",\"Oostenrijk\",\"Groot-Brittani\\u00eb\",\"Hongarije\",\"Belgi\\u00eb\",\"Nederland\",\"Itali\\u00eb\",\"Singapore\",\"Japan\",\"Qatar\",\"Verenigde Staten\",\"Mexico\",\"Brazili\\u00eb\",\"Las Vegas\",\"Abu Dhabi\"],\"xaxis\":\"x\",\"y\":[11.6,11.6,11.6,11.6,11.6,11.6,11.6,11.6,11.6,11.6,11.6,11.6,11.6,11.6,11.6,11.6,11.6,11.6,11.6,11.6,11.6,11.6,11.6],\"yaxis\":\"y\",\"type\":\"scatter\"},{\"hovertemplate\":\"Teams=Hans<br>race=%{x}<br>value=%{y}<extra></extra>\",\"legendgroup\":\"Hans\",\"line\":{\"color\":\"#1F77B4\",\"dash\":\"solid\"},\"marker\":{\"symbol\":\"circle\"},\"mode\":\"lines\",\"name\":\"Hans\",\"orientation\":\"v\",\"showlegend\":true,\"x\":[\"Bahrein\",\"Saudi-Arabi\\u00eb\",\"Australi\\u00eb\",\"Azerbeidzjan\",\"Miami\",\"Emilia-Romagna\",\"Monaco\",\"Spanje\",\"Canada\",\"Oostenrijk\",\"Groot-Brittani\\u00eb\",\"Hongarije\",\"Belgi\\u00eb\",\"Nederland\",\"Itali\\u00eb\",\"Singapore\",\"Japan\",\"Qatar\",\"Verenigde Staten\",\"Mexico\",\"Brazili\\u00eb\",\"Las Vegas\",\"Abu Dhabi\"],\"xaxis\":\"x\",\"y\":[7.6,7.6,7.6,7.6,7.6,7.6,7.6,7.6,7.6,7.6,7.6,7.6,7.6,7.6,7.6,7.6,7.6,7.6,7.6,7.6,7.6,7.6,7.6],\"yaxis\":\"y\",\"type\":\"scatter\"},{\"hovertemplate\":\"Teams=Isolde<br>race=%{x}<br>value=%{y}<extra></extra>\",\"legendgroup\":\"Isolde\",\"line\":{\"color\":\"#FF7F0E\",\"dash\":\"solid\"},\"marker\":{\"symbol\":\"circle\"},\"mode\":\"lines\",\"name\":\"Isolde\",\"orientation\":\"v\",\"showlegend\":true,\"x\":[\"Bahrein\",\"Saudi-Arabi\\u00eb\",\"Australi\\u00eb\",\"Azerbeidzjan\",\"Miami\",\"Emilia-Romagna\",\"Monaco\",\"Spanje\",\"Canada\",\"Oostenrijk\",\"Groot-Brittani\\u00eb\",\"Hongarije\",\"Belgi\\u00eb\",\"Nederland\",\"Itali\\u00eb\",\"Singapore\",\"Japan\",\"Qatar\",\"Verenigde Staten\",\"Mexico\",\"Brazili\\u00eb\",\"Las Vegas\",\"Abu Dhabi\"],\"xaxis\":\"x\",\"y\":[1.5999999999999999,1.5999999999999999,1.5999999999999999,1.5999999999999999,1.5999999999999999,1.5999999999999999,1.5999999999999999,1.5999999999999999,1.5999999999999999,1.5999999999999999,1.5999999999999999,1.5999999999999999,1.5999999999999999,1.5999999999999999,1.5999999999999999,1.5999999999999999,1.5999999999999999,1.5999999999999999,1.5999999999999999,1.5999999999999999,1.5999999999999999,1.5999999999999999,1.5999999999999999],\"yaxis\":\"y\",\"type\":\"scatter\"},{\"hovertemplate\":\"Teams=Jordi<br>race=%{x}<br>value=%{y}<extra></extra>\",\"legendgroup\":\"Jordi\",\"line\":{\"color\":\"#2CA02C\",\"dash\":\"solid\"},\"marker\":{\"symbol\":\"circle\"},\"mode\":\"lines\",\"name\":\"Jordi\",\"orientation\":\"v\",\"showlegend\":true,\"x\":[\"Bahrein\",\"Saudi-Arabi\\u00eb\",\"Australi\\u00eb\",\"Azerbeidzjan\",\"Miami\",\"Emilia-Romagna\",\"Monaco\",\"Spanje\",\"Canada\",\"Oostenrijk\",\"Groot-Brittani\\u00eb\",\"Hongarije\",\"Belgi\\u00eb\",\"Nederland\",\"Itali\\u00eb\",\"Singapore\",\"Japan\",\"Qatar\",\"Verenigde Staten\",\"Mexico\",\"Brazili\\u00eb\",\"Las Vegas\",\"Abu Dhabi\"],\"xaxis\":\"x\",\"y\":[1.5999999999999999,1.5999999999999999,1.5999999999999999,1.5999999999999999,1.5999999999999999,1.5999999999999999,1.5999999999999999,1.5999999999999999,1.5999999999999999,1.5999999999999999,1.5999999999999999,1.5999999999999999,1.5999999999999999,1.5999999999999999,1.5999999999999999,1.5999999999999999,1.5999999999999999,1.5999999999999999,1.5999999999999999,1.5999999999999999,1.5999999999999999,1.5999999999999999,1.5999999999999999],\"yaxis\":\"y\",\"type\":\"scatter\"},{\"hovertemplate\":\"Teams=Kitty<br>race=%{x}<br>value=%{y}<extra></extra>\",\"legendgroup\":\"Kitty\",\"line\":{\"color\":\"#D62728\",\"dash\":\"solid\"},\"marker\":{\"symbol\":\"circle\"},\"mode\":\"lines\",\"name\":\"Kitty\",\"orientation\":\"v\",\"showlegend\":true,\"x\":[\"Bahrein\",\"Saudi-Arabi\\u00eb\",\"Australi\\u00eb\",\"Azerbeidzjan\",\"Miami\",\"Emilia-Romagna\",\"Monaco\",\"Spanje\",\"Canada\",\"Oostenrijk\",\"Groot-Brittani\\u00eb\",\"Hongarije\",\"Belgi\\u00eb\",\"Nederland\",\"Itali\\u00eb\",\"Singapore\",\"Japan\",\"Qatar\",\"Verenigde Staten\",\"Mexico\",\"Brazili\\u00eb\",\"Las Vegas\",\"Abu Dhabi\"],\"xaxis\":\"x\",\"y\":[7.0,7.0,7.0,7.0,7.0,7.0,7.0,7.0,7.0,7.0,7.0,7.0,7.0,7.0,7.0,7.0,7.0,7.0,7.0,7.0,7.0,7.0,7.0],\"yaxis\":\"y\",\"type\":\"scatter\"},{\"hovertemplate\":\"Teams=Marco<br>race=%{x}<br>value=%{y}<extra></extra>\",\"legendgroup\":\"Marco\",\"line\":{\"color\":\"#9467BD\",\"dash\":\"solid\"},\"marker\":{\"symbol\":\"circle\"},\"mode\":\"lines\",\"name\":\"Marco\",\"orientation\":\"v\",\"showlegend\":true,\"x\":[\"Bahrein\",\"Saudi-Arabi\\u00eb\",\"Australi\\u00eb\",\"Azerbeidzjan\",\"Miami\",\"Emilia-Romagna\",\"Monaco\",\"Spanje\",\"Canada\",\"Oostenrijk\",\"Groot-Brittani\\u00eb\",\"Hongarije\",\"Belgi\\u00eb\",\"Nederland\",\"Itali\\u00eb\",\"Singapore\",\"Japan\",\"Qatar\",\"Verenigde Staten\",\"Mexico\",\"Brazili\\u00eb\",\"Las Vegas\",\"Abu Dhabi\"],\"xaxis\":\"x\",\"y\":[21.55,21.55,21.55,21.55,21.55,21.55,21.55,21.55,21.55,21.55,21.55,21.55,21.55,21.55,21.55,21.55,21.55,21.55,21.55,21.55,21.55,21.55,21.55],\"yaxis\":\"y\",\"type\":\"scatter\"},{\"hovertemplate\":\"Teams=Mees<br>race=%{x}<br>value=%{y}<extra></extra>\",\"legendgroup\":\"Mees\",\"line\":{\"color\":\"#8C564B\",\"dash\":\"solid\"},\"marker\":{\"symbol\":\"circle\"},\"mode\":\"lines\",\"name\":\"Mees\",\"orientation\":\"v\",\"showlegend\":true,\"x\":[\"Bahrein\",\"Saudi-Arabi\\u00eb\",\"Australi\\u00eb\",\"Azerbeidzjan\",\"Miami\",\"Emilia-Romagna\",\"Monaco\",\"Spanje\",\"Canada\",\"Oostenrijk\",\"Groot-Brittani\\u00eb\",\"Hongarije\",\"Belgi\\u00eb\",\"Nederland\",\"Itali\\u00eb\",\"Singapore\",\"Japan\",\"Qatar\",\"Verenigde Staten\",\"Mexico\",\"Brazili\\u00eb\",\"Las Vegas\",\"Abu Dhabi\"],\"xaxis\":\"x\",\"y\":[6.4,6.4,6.4,6.4,6.4,6.4,6.4,6.4,6.4,6.4,6.4,6.4,6.4,6.4,6.4,6.4,6.4,6.4,6.4,6.4,6.4,6.4,6.4],\"yaxis\":\"y\",\"type\":\"scatter\"},{\"hovertemplate\":\"Teams=Michiel<br>race=%{x}<br>value=%{y}<extra></extra>\",\"legendgroup\":\"Michiel\",\"line\":{\"color\":\"#E377C2\",\"dash\":\"solid\"},\"marker\":{\"symbol\":\"circle\"},\"mode\":\"lines\",\"name\":\"Michiel\",\"orientation\":\"v\",\"showlegend\":true,\"x\":[\"Bahrein\",\"Saudi-Arabi\\u00eb\",\"Australi\\u00eb\",\"Azerbeidzjan\",\"Miami\",\"Emilia-Romagna\",\"Monaco\",\"Spanje\",\"Canada\",\"Oostenrijk\",\"Groot-Brittani\\u00eb\",\"Hongarije\",\"Belgi\\u00eb\",\"Nederland\",\"Itali\\u00eb\",\"Singapore\",\"Japan\",\"Qatar\",\"Verenigde Staten\",\"Mexico\",\"Brazili\\u00eb\",\"Las Vegas\",\"Abu Dhabi\"],\"xaxis\":\"x\",\"y\":[10.6,10.6,10.6,10.6,10.6,10.6,10.6,10.6,10.6,10.6,10.6,10.6,10.6,10.6,10.6,10.6,10.6,10.6,10.6,10.6,10.6,10.6,10.6],\"yaxis\":\"y\",\"type\":\"scatter\"},{\"hovertemplate\":\"Teams=Niels<br>race=%{x}<br>value=%{y}<extra></extra>\",\"legendgroup\":\"Niels\",\"line\":{\"color\":\"#7F7F7F\",\"dash\":\"solid\"},\"marker\":{\"symbol\":\"circle\"},\"mode\":\"lines\",\"name\":\"Niels\",\"orientation\":\"v\",\"showlegend\":true,\"x\":[\"Bahrein\",\"Saudi-Arabi\\u00eb\",\"Australi\\u00eb\",\"Azerbeidzjan\",\"Miami\",\"Emilia-Romagna\",\"Monaco\",\"Spanje\",\"Canada\",\"Oostenrijk\",\"Groot-Brittani\\u00eb\",\"Hongarije\",\"Belgi\\u00eb\",\"Nederland\",\"Itali\\u00eb\",\"Singapore\",\"Japan\",\"Qatar\",\"Verenigde Staten\",\"Mexico\",\"Brazili\\u00eb\",\"Las Vegas\",\"Abu Dhabi\"],\"xaxis\":\"x\",\"y\":[17.15,17.15,17.15,17.15,17.15,17.15,17.15,17.15,17.15,17.15,17.15,17.15,17.15,17.15,17.15,17.15,17.15,17.15,17.15,17.15,17.15,17.15,17.15],\"yaxis\":\"y\",\"type\":\"scatter\"},{\"hovertemplate\":\"Teams=Raymond<br>race=%{x}<br>value=%{y}<extra></extra>\",\"legendgroup\":\"Raymond\",\"line\":{\"color\":\"#BCBD22\",\"dash\":\"solid\"},\"marker\":{\"symbol\":\"circle\"},\"mode\":\"lines\",\"name\":\"Raymond\",\"orientation\":\"v\",\"showlegend\":true,\"x\":[\"Bahrein\",\"Saudi-Arabi\\u00eb\",\"Australi\\u00eb\",\"Azerbeidzjan\",\"Miami\",\"Emilia-Romagna\",\"Monaco\",\"Spanje\",\"Canada\",\"Oostenrijk\",\"Groot-Brittani\\u00eb\",\"Hongarije\",\"Belgi\\u00eb\",\"Nederland\",\"Itali\\u00eb\",\"Singapore\",\"Japan\",\"Qatar\",\"Verenigde Staten\",\"Mexico\",\"Brazili\\u00eb\",\"Las Vegas\",\"Abu Dhabi\"],\"xaxis\":\"x\",\"y\":[18.5,18.5,18.5,18.5,18.5,18.5,18.5,18.5,18.5,18.5,18.5,18.5,18.5,18.5,18.5,18.5,18.5,18.5,18.5,18.5,18.5,18.5,18.5],\"yaxis\":\"y\",\"type\":\"scatter\"},{\"hovertemplate\":\"Teams=Rodi<br>race=%{x}<br>value=%{y}<extra></extra>\",\"legendgroup\":\"Rodi\",\"line\":{\"color\":\"#17BECF\",\"dash\":\"solid\"},\"marker\":{\"symbol\":\"circle\"},\"mode\":\"lines\",\"name\":\"Rodi\",\"orientation\":\"v\",\"showlegend\":true,\"x\":[\"Bahrein\",\"Saudi-Arabi\\u00eb\",\"Australi\\u00eb\",\"Azerbeidzjan\",\"Miami\",\"Emilia-Romagna\",\"Monaco\",\"Spanje\",\"Canada\",\"Oostenrijk\",\"Groot-Brittani\\u00eb\",\"Hongarije\",\"Belgi\\u00eb\",\"Nederland\",\"Itali\\u00eb\",\"Singapore\",\"Japan\",\"Qatar\",\"Verenigde Staten\",\"Mexico\",\"Brazili\\u00eb\",\"Las Vegas\",\"Abu Dhabi\"],\"xaxis\":\"x\",\"y\":[8.4,8.4,8.4,8.4,8.4,8.4,8.4,8.4,8.4,8.4,8.4,8.4,8.4,8.4,8.4,8.4,8.4,8.4,8.4,8.4,8.4,8.4,8.4],\"yaxis\":\"y\",\"type\":\"scatter\"},{\"hovertemplate\":\"Teams=Stan<br>race=%{x}<br>value=%{y}<extra></extra>\",\"legendgroup\":\"Stan\",\"line\":{\"color\":\"#1F77B4\",\"dash\":\"solid\"},\"marker\":{\"symbol\":\"circle\"},\"mode\":\"lines\",\"name\":\"Stan\",\"orientation\":\"v\",\"showlegend\":true,\"x\":[\"Bahrein\",\"Saudi-Arabi\\u00eb\",\"Australi\\u00eb\",\"Azerbeidzjan\",\"Miami\",\"Emilia-Romagna\",\"Monaco\",\"Spanje\",\"Canada\",\"Oostenrijk\",\"Groot-Brittani\\u00eb\",\"Hongarije\",\"Belgi\\u00eb\",\"Nederland\",\"Itali\\u00eb\",\"Singapore\",\"Japan\",\"Qatar\",\"Verenigde Staten\",\"Mexico\",\"Brazili\\u00eb\",\"Las Vegas\",\"Abu Dhabi\"],\"xaxis\":\"x\",\"y\":[6.8,6.8,6.8,6.8,6.8,6.8,6.8,6.8,6.8,6.8,6.8,6.8,6.8,6.8,6.8,6.8,6.8,6.8,6.8,6.8,6.8,6.8,6.8],\"yaxis\":\"y\",\"type\":\"scatter\"},{\"hovertemplate\":\"Teams=Wietse<br>race=%{x}<br>value=%{y}<extra></extra>\",\"legendgroup\":\"Wietse\",\"line\":{\"color\":\"#FF7F0E\",\"dash\":\"solid\"},\"marker\":{\"symbol\":\"circle\"},\"mode\":\"lines\",\"name\":\"Wietse\",\"orientation\":\"v\",\"showlegend\":true,\"x\":[\"Bahrein\",\"Saudi-Arabi\\u00eb\",\"Australi\\u00eb\",\"Azerbeidzjan\",\"Miami\",\"Emilia-Romagna\",\"Monaco\",\"Spanje\",\"Canada\",\"Oostenrijk\",\"Groot-Brittani\\u00eb\",\"Hongarije\",\"Belgi\\u00eb\",\"Nederland\",\"Itali\\u00eb\",\"Singapore\",\"Japan\",\"Qatar\",\"Verenigde Staten\",\"Mexico\",\"Brazili\\u00eb\",\"Las Vegas\",\"Abu Dhabi\"],\"xaxis\":\"x\",\"y\":[1.6,1.6,1.6,1.6,1.6,1.6,1.6,1.6,1.6,1.6,1.6,1.6,1.6,1.6,1.6,1.6,1.6,1.6,1.6,1.6,1.6,1.6,1.6],\"yaxis\":\"y\",\"type\":\"scatter\"}],                        {\"template\":{\"data\":{\"barpolar\":[{\"marker\":{\"line\":{\"color\":\"white\",\"width\":0.5},\"pattern\":{\"fillmode\":\"overlay\",\"size\":10,\"solidity\":0.2}},\"type\":\"barpolar\"}],\"bar\":[{\"error_x\":{\"color\":\"rgb(36,36,36)\"},\"error_y\":{\"color\":\"rgb(36,36,36)\"},\"marker\":{\"line\":{\"color\":\"white\",\"width\":0.5},\"pattern\":{\"fillmode\":\"overlay\",\"size\":10,\"solidity\":0.2}},\"type\":\"bar\"}],\"carpet\":[{\"aaxis\":{\"endlinecolor\":\"rgb(36,36,36)\",\"gridcolor\":\"white\",\"linecolor\":\"white\",\"minorgridcolor\":\"white\",\"startlinecolor\":\"rgb(36,36,36)\"},\"baxis\":{\"endlinecolor\":\"rgb(36,36,36)\",\"gridcolor\":\"white\",\"linecolor\":\"white\",\"minorgridcolor\":\"white\",\"startlinecolor\":\"rgb(36,36,36)\"},\"type\":\"carpet\"}],\"choropleth\":[{\"colorbar\":{\"outlinewidth\":1,\"tickcolor\":\"rgb(36,36,36)\",\"ticks\":\"outside\"},\"type\":\"choropleth\"}],\"contourcarpet\":[{\"colorbar\":{\"outlinewidth\":1,\"tickcolor\":\"rgb(36,36,36)\",\"ticks\":\"outside\"},\"type\":\"contourcarpet\"}],\"contour\":[{\"colorbar\":{\"outlinewidth\":1,\"tickcolor\":\"rgb(36,36,36)\",\"ticks\":\"outside\"},\"colorscale\":[[0.0,\"#440154\"],[0.1111111111111111,\"#482878\"],[0.2222222222222222,\"#3e4989\"],[0.3333333333333333,\"#31688e\"],[0.4444444444444444,\"#26828e\"],[0.5555555555555556,\"#1f9e89\"],[0.6666666666666666,\"#35b779\"],[0.7777777777777778,\"#6ece58\"],[0.8888888888888888,\"#b5de2b\"],[1.0,\"#fde725\"]],\"type\":\"contour\"}],\"heatmapgl\":[{\"colorbar\":{\"outlinewidth\":1,\"tickcolor\":\"rgb(36,36,36)\",\"ticks\":\"outside\"},\"colorscale\":[[0.0,\"#440154\"],[0.1111111111111111,\"#482878\"],[0.2222222222222222,\"#3e4989\"],[0.3333333333333333,\"#31688e\"],[0.4444444444444444,\"#26828e\"],[0.5555555555555556,\"#1f9e89\"],[0.6666666666666666,\"#35b779\"],[0.7777777777777778,\"#6ece58\"],[0.8888888888888888,\"#b5de2b\"],[1.0,\"#fde725\"]],\"type\":\"heatmapgl\"}],\"heatmap\":[{\"colorbar\":{\"outlinewidth\":1,\"tickcolor\":\"rgb(36,36,36)\",\"ticks\":\"outside\"},\"colorscale\":[[0.0,\"#440154\"],[0.1111111111111111,\"#482878\"],[0.2222222222222222,\"#3e4989\"],[0.3333333333333333,\"#31688e\"],[0.4444444444444444,\"#26828e\"],[0.5555555555555556,\"#1f9e89\"],[0.6666666666666666,\"#35b779\"],[0.7777777777777778,\"#6ece58\"],[0.8888888888888888,\"#b5de2b\"],[1.0,\"#fde725\"]],\"type\":\"heatmap\"}],\"histogram2dcontour\":[{\"colorbar\":{\"outlinewidth\":1,\"tickcolor\":\"rgb(36,36,36)\",\"ticks\":\"outside\"},\"colorscale\":[[0.0,\"#440154\"],[0.1111111111111111,\"#482878\"],[0.2222222222222222,\"#3e4989\"],[0.3333333333333333,\"#31688e\"],[0.4444444444444444,\"#26828e\"],[0.5555555555555556,\"#1f9e89\"],[0.6666666666666666,\"#35b779\"],[0.7777777777777778,\"#6ece58\"],[0.8888888888888888,\"#b5de2b\"],[1.0,\"#fde725\"]],\"type\":\"histogram2dcontour\"}],\"histogram2d\":[{\"colorbar\":{\"outlinewidth\":1,\"tickcolor\":\"rgb(36,36,36)\",\"ticks\":\"outside\"},\"colorscale\":[[0.0,\"#440154\"],[0.1111111111111111,\"#482878\"],[0.2222222222222222,\"#3e4989\"],[0.3333333333333333,\"#31688e\"],[0.4444444444444444,\"#26828e\"],[0.5555555555555556,\"#1f9e89\"],[0.6666666666666666,\"#35b779\"],[0.7777777777777778,\"#6ece58\"],[0.8888888888888888,\"#b5de2b\"],[1.0,\"#fde725\"]],\"type\":\"histogram2d\"}],\"histogram\":[{\"marker\":{\"line\":{\"color\":\"white\",\"width\":0.6}},\"type\":\"histogram\"}],\"mesh3d\":[{\"colorbar\":{\"outlinewidth\":1,\"tickcolor\":\"rgb(36,36,36)\",\"ticks\":\"outside\"},\"type\":\"mesh3d\"}],\"parcoords\":[{\"line\":{\"colorbar\":{\"outlinewidth\":1,\"tickcolor\":\"rgb(36,36,36)\",\"ticks\":\"outside\"}},\"type\":\"parcoords\"}],\"pie\":[{\"automargin\":true,\"type\":\"pie\"}],\"scatter3d\":[{\"line\":{\"colorbar\":{\"outlinewidth\":1,\"tickcolor\":\"rgb(36,36,36)\",\"ticks\":\"outside\"}},\"marker\":{\"colorbar\":{\"outlinewidth\":1,\"tickcolor\":\"rgb(36,36,36)\",\"ticks\":\"outside\"}},\"type\":\"scatter3d\"}],\"scattercarpet\":[{\"marker\":{\"colorbar\":{\"outlinewidth\":1,\"tickcolor\":\"rgb(36,36,36)\",\"ticks\":\"outside\"}},\"type\":\"scattercarpet\"}],\"scattergeo\":[{\"marker\":{\"colorbar\":{\"outlinewidth\":1,\"tickcolor\":\"rgb(36,36,36)\",\"ticks\":\"outside\"}},\"type\":\"scattergeo\"}],\"scattergl\":[{\"marker\":{\"colorbar\":{\"outlinewidth\":1,\"tickcolor\":\"rgb(36,36,36)\",\"ticks\":\"outside\"}},\"type\":\"scattergl\"}],\"scattermapbox\":[{\"marker\":{\"colorbar\":{\"outlinewidth\":1,\"tickcolor\":\"rgb(36,36,36)\",\"ticks\":\"outside\"}},\"type\":\"scattermapbox\"}],\"scatterpolargl\":[{\"marker\":{\"colorbar\":{\"outlinewidth\":1,\"tickcolor\":\"rgb(36,36,36)\",\"ticks\":\"outside\"}},\"type\":\"scatterpolargl\"}],\"scatterpolar\":[{\"marker\":{\"colorbar\":{\"outlinewidth\":1,\"tickcolor\":\"rgb(36,36,36)\",\"ticks\":\"outside\"}},\"type\":\"scatterpolar\"}],\"scatter\":[{\"fillpattern\":{\"fillmode\":\"overlay\",\"size\":10,\"solidity\":0.2},\"type\":\"scatter\"}],\"scatterternary\":[{\"marker\":{\"colorbar\":{\"outlinewidth\":1,\"tickcolor\":\"rgb(36,36,36)\",\"ticks\":\"outside\"}},\"type\":\"scatterternary\"}],\"surface\":[{\"colorbar\":{\"outlinewidth\":1,\"tickcolor\":\"rgb(36,36,36)\",\"ticks\":\"outside\"},\"colorscale\":[[0.0,\"#440154\"],[0.1111111111111111,\"#482878\"],[0.2222222222222222,\"#3e4989\"],[0.3333333333333333,\"#31688e\"],[0.4444444444444444,\"#26828e\"],[0.5555555555555556,\"#1f9e89\"],[0.6666666666666666,\"#35b779\"],[0.7777777777777778,\"#6ece58\"],[0.8888888888888888,\"#b5de2b\"],[1.0,\"#fde725\"]],\"type\":\"surface\"}],\"table\":[{\"cells\":{\"fill\":{\"color\":\"rgb(237,237,237)\"},\"line\":{\"color\":\"white\"}},\"header\":{\"fill\":{\"color\":\"rgb(217,217,217)\"},\"line\":{\"color\":\"white\"}},\"type\":\"table\"}]},\"layout\":{\"annotationdefaults\":{\"arrowhead\":0,\"arrowwidth\":1},\"autotypenumbers\":\"strict\",\"coloraxis\":{\"colorbar\":{\"outlinewidth\":1,\"tickcolor\":\"rgb(36,36,36)\",\"ticks\":\"outside\"}},\"colorscale\":{\"diverging\":[[0.0,\"rgb(103,0,31)\"],[0.1,\"rgb(178,24,43)\"],[0.2,\"rgb(214,96,77)\"],[0.3,\"rgb(244,165,130)\"],[0.4,\"rgb(253,219,199)\"],[0.5,\"rgb(247,247,247)\"],[0.6,\"rgb(209,229,240)\"],[0.7,\"rgb(146,197,222)\"],[0.8,\"rgb(67,147,195)\"],[0.9,\"rgb(33,102,172)\"],[1.0,\"rgb(5,48,97)\"]],\"sequential\":[[0.0,\"#440154\"],[0.1111111111111111,\"#482878\"],[0.2222222222222222,\"#3e4989\"],[0.3333333333333333,\"#31688e\"],[0.4444444444444444,\"#26828e\"],[0.5555555555555556,\"#1f9e89\"],[0.6666666666666666,\"#35b779\"],[0.7777777777777778,\"#6ece58\"],[0.8888888888888888,\"#b5de2b\"],[1.0,\"#fde725\"]],\"sequentialminus\":[[0.0,\"#440154\"],[0.1111111111111111,\"#482878\"],[0.2222222222222222,\"#3e4989\"],[0.3333333333333333,\"#31688e\"],[0.4444444444444444,\"#26828e\"],[0.5555555555555556,\"#1f9e89\"],[0.6666666666666666,\"#35b779\"],[0.7777777777777778,\"#6ece58\"],[0.8888888888888888,\"#b5de2b\"],[1.0,\"#fde725\"]]},\"colorway\":[\"#1F77B4\",\"#FF7F0E\",\"#2CA02C\",\"#D62728\",\"#9467BD\",\"#8C564B\",\"#E377C2\",\"#7F7F7F\",\"#BCBD22\",\"#17BECF\"],\"font\":{\"color\":\"rgb(36,36,36)\"},\"geo\":{\"bgcolor\":\"white\",\"lakecolor\":\"white\",\"landcolor\":\"white\",\"showlakes\":true,\"showland\":true,\"subunitcolor\":\"white\"},\"hoverlabel\":{\"align\":\"left\"},\"hovermode\":\"closest\",\"mapbox\":{\"style\":\"light\"},\"paper_bgcolor\":\"white\",\"plot_bgcolor\":\"white\",\"polar\":{\"angularaxis\":{\"gridcolor\":\"rgb(232,232,232)\",\"linecolor\":\"rgb(36,36,36)\",\"showgrid\":false,\"showline\":true,\"ticks\":\"outside\"},\"bgcolor\":\"white\",\"radialaxis\":{\"gridcolor\":\"rgb(232,232,232)\",\"linecolor\":\"rgb(36,36,36)\",\"showgrid\":false,\"showline\":true,\"ticks\":\"outside\"}},\"scene\":{\"xaxis\":{\"backgroundcolor\":\"white\",\"gridcolor\":\"rgb(232,232,232)\",\"gridwidth\":2,\"linecolor\":\"rgb(36,36,36)\",\"showbackground\":true,\"showgrid\":false,\"showline\":true,\"ticks\":\"outside\",\"zeroline\":false,\"zerolinecolor\":\"rgb(36,36,36)\"},\"yaxis\":{\"backgroundcolor\":\"white\",\"gridcolor\":\"rgb(232,232,232)\",\"gridwidth\":2,\"linecolor\":\"rgb(36,36,36)\",\"showbackground\":true,\"showgrid\":false,\"showline\":true,\"ticks\":\"outside\",\"zeroline\":false,\"zerolinecolor\":\"rgb(36,36,36)\"},\"zaxis\":{\"backgroundcolor\":\"white\",\"gridcolor\":\"rgb(232,232,232)\",\"gridwidth\":2,\"linecolor\":\"rgb(36,36,36)\",\"showbackground\":true,\"showgrid\":false,\"showline\":true,\"ticks\":\"outside\",\"zeroline\":false,\"zerolinecolor\":\"rgb(36,36,36)\"}},\"shapedefaults\":{\"fillcolor\":\"black\",\"line\":{\"width\":0},\"opacity\":0.3},\"ternary\":{\"aaxis\":{\"gridcolor\":\"rgb(232,232,232)\",\"linecolor\":\"rgb(36,36,36)\",\"showgrid\":false,\"showline\":true,\"ticks\":\"outside\"},\"baxis\":{\"gridcolor\":\"rgb(232,232,232)\",\"linecolor\":\"rgb(36,36,36)\",\"showgrid\":false,\"showline\":true,\"ticks\":\"outside\"},\"bgcolor\":\"white\",\"caxis\":{\"gridcolor\":\"rgb(232,232,232)\",\"linecolor\":\"rgb(36,36,36)\",\"showgrid\":false,\"showline\":true,\"ticks\":\"outside\"}},\"title\":{\"x\":0.05},\"xaxis\":{\"automargin\":true,\"gridcolor\":\"rgb(232,232,232)\",\"linecolor\":\"rgb(36,36,36)\",\"showgrid\":false,\"showline\":true,\"ticks\":\"outside\",\"title\":{\"standoff\":15},\"zeroline\":false,\"zerolinecolor\":\"rgb(36,36,36)\"},\"yaxis\":{\"automargin\":true,\"gridcolor\":\"rgb(232,232,232)\",\"linecolor\":\"rgb(36,36,36)\",\"showgrid\":false,\"showline\":true,\"ticks\":\"outside\",\"title\":{\"standoff\":15},\"zeroline\":false,\"zerolinecolor\":\"rgb(36,36,36)\"}}},\"xaxis\":{\"anchor\":\"y\",\"domain\":[0.0,1.0],\"title\":{\"text\":\"Races\"}},\"yaxis\":{\"anchor\":\"x\",\"domain\":[0.0,1.0],\"title\":{\"text\":\"Totale punten\"},\"showgrid\":true},\"legend\":{\"title\":{\"text\":\"Teams\"},\"tracegroupgap\":0},\"title\":{\"text\":\"Stand\"},\"height\":660,\"width\":960},                        {\"responsive\": true}                    ).then(function(){\n",
       "                            \n",
       "var gd = document.getElementById('88a0bc69-ad3e-4027-9393-820aeb9661a3');\n",
       "var x = new MutationObserver(function (mutations, observer) {{\n",
       "        var display = window.getComputedStyle(gd).display;\n",
       "        if (!display || display === 'none') {{\n",
       "            console.log([gd, 'removed!']);\n",
       "            Plotly.purge(gd);\n",
       "            observer.disconnect();\n",
       "        }}\n",
       "}});\n",
       "\n",
       "// Listen for the removal of the full notebook cells\n",
       "var notebookContainer = gd.closest('#notebook-container');\n",
       "if (notebookContainer) {{\n",
       "    x.observe(notebookContainer, {childList: true});\n",
       "}}\n",
       "\n",
       "// Listen for the clearing of the current output cell\n",
       "var outputEl = gd.closest('.output');\n",
       "if (outputEl) {{\n",
       "    x.observe(outputEl, {childList: true});\n",
       "}}\n",
       "\n",
       "                        })                };                });            </script>        </div>"
      ]
     },
     "metadata": {},
     "output_type": "display_data"
    }
   ],
   "source": [
    "discrete_colors = px.colors.sample_colorscale('Bluered', np.arange(0.5, 21.5) / 22)\n",
    "print(discrete_colors)\n",
    "fig = px.line(\n",
    "    df_score_cumsum, template='simple_white',\n",
    "    title=\"Stand\",\n",
    "    labels={ \"team\" : \"Teams\" },\n",
    "    width=fig_width, height=660)#, color_discrete_map=discrete_colors)\n",
    "fig.update_layout(xaxis_title=\"Races\") \n",
    "fig.update_layout(yaxis_title=\"Totale punten\")\n",
    "fig.update_yaxes(showgrid=True)\n",
    "\n",
    "if fig_write:\n",
    "    fig.write_html(\"totale_punten_lijn.html\")\n",
    "fig.show()"
   ]
  },
  {
   "cell_type": "code",
   "execution_count": 27,
   "id": "8b079f6e",
   "metadata": {},
   "outputs": [
    {
     "data": {
      "text/html": [
       "<div>\n",
       "<style scoped>\n",
       "    .dataframe tbody tr th:only-of-type {\n",
       "        vertical-align: middle;\n",
       "    }\n",
       "\n",
       "    .dataframe tbody tr th {\n",
       "        vertical-align: top;\n",
       "    }\n",
       "\n",
       "    .dataframe thead th {\n",
       "        text-align: right;\n",
       "    }\n",
       "</style>\n",
       "<table border=\"1\" class=\"dataframe\">\n",
       "  <thead>\n",
       "    <tr style=\"text-align: right;\">\n",
       "      <th></th>\n",
       "      <th>team</th>\n",
       "      <th>score</th>\n",
       "    </tr>\n",
       "  </thead>\n",
       "  <tbody>\n",
       "    <tr>\n",
       "      <th>0</th>\n",
       "      <td>Arjan T.</td>\n",
       "      <td>11.45</td>\n",
       "    </tr>\n",
       "    <tr>\n",
       "      <th>1</th>\n",
       "      <td>Arjan Z.</td>\n",
       "      <td>8.00</td>\n",
       "    </tr>\n",
       "    <tr>\n",
       "      <th>2</th>\n",
       "      <td>Casper</td>\n",
       "      <td>19.75</td>\n",
       "    </tr>\n",
       "    <tr>\n",
       "      <th>3</th>\n",
       "      <td>Charlotte</td>\n",
       "      <td>11.00</td>\n",
       "    </tr>\n",
       "    <tr>\n",
       "      <th>4</th>\n",
       "      <td>Chiel</td>\n",
       "      <td>21.70</td>\n",
       "    </tr>\n",
       "    <tr>\n",
       "      <th>5</th>\n",
       "      <td>Corine</td>\n",
       "      <td>20.55</td>\n",
       "    </tr>\n",
       "    <tr>\n",
       "      <th>6</th>\n",
       "      <td>Emily</td>\n",
       "      <td>9.00</td>\n",
       "    </tr>\n",
       "    <tr>\n",
       "      <th>7</th>\n",
       "      <td>Erik</td>\n",
       "      <td>17.05</td>\n",
       "    </tr>\n",
       "    <tr>\n",
       "      <th>8</th>\n",
       "      <td>Erwin</td>\n",
       "      <td>6.85</td>\n",
       "    </tr>\n",
       "    <tr>\n",
       "      <th>9</th>\n",
       "      <td>Grietje</td>\n",
       "      <td>11.60</td>\n",
       "    </tr>\n",
       "    <tr>\n",
       "      <th>10</th>\n",
       "      <td>Hans</td>\n",
       "      <td>7.60</td>\n",
       "    </tr>\n",
       "    <tr>\n",
       "      <th>11</th>\n",
       "      <td>Isolde</td>\n",
       "      <td>1.60</td>\n",
       "    </tr>\n",
       "    <tr>\n",
       "      <th>12</th>\n",
       "      <td>Jordi</td>\n",
       "      <td>1.60</td>\n",
       "    </tr>\n",
       "    <tr>\n",
       "      <th>13</th>\n",
       "      <td>Kitty</td>\n",
       "      <td>7.00</td>\n",
       "    </tr>\n",
       "    <tr>\n",
       "      <th>14</th>\n",
       "      <td>Marco</td>\n",
       "      <td>21.55</td>\n",
       "    </tr>\n",
       "    <tr>\n",
       "      <th>15</th>\n",
       "      <td>Mees</td>\n",
       "      <td>6.40</td>\n",
       "    </tr>\n",
       "    <tr>\n",
       "      <th>16</th>\n",
       "      <td>Michiel</td>\n",
       "      <td>10.60</td>\n",
       "    </tr>\n",
       "    <tr>\n",
       "      <th>17</th>\n",
       "      <td>Niels</td>\n",
       "      <td>17.15</td>\n",
       "    </tr>\n",
       "    <tr>\n",
       "      <th>18</th>\n",
       "      <td>Raymond</td>\n",
       "      <td>18.50</td>\n",
       "    </tr>\n",
       "    <tr>\n",
       "      <th>19</th>\n",
       "      <td>Rodi</td>\n",
       "      <td>8.40</td>\n",
       "    </tr>\n",
       "    <tr>\n",
       "      <th>20</th>\n",
       "      <td>Stan</td>\n",
       "      <td>6.80</td>\n",
       "    </tr>\n",
       "    <tr>\n",
       "      <th>21</th>\n",
       "      <td>Wietse</td>\n",
       "      <td>1.60</td>\n",
       "    </tr>\n",
       "  </tbody>\n",
       "</table>\n",
       "</div>"
      ],
      "text/plain": [
       "         team  score\n",
       "0    Arjan T.  11.45\n",
       "1    Arjan Z.   8.00\n",
       "2      Casper  19.75\n",
       "3   Charlotte  11.00\n",
       "4       Chiel  21.70\n",
       "5      Corine  20.55\n",
       "6       Emily   9.00\n",
       "7        Erik  17.05\n",
       "8       Erwin   6.85\n",
       "9     Grietje  11.60\n",
       "10       Hans   7.60\n",
       "11     Isolde   1.60\n",
       "12      Jordi   1.60\n",
       "13      Kitty   7.00\n",
       "14      Marco  21.55\n",
       "15       Mees   6.40\n",
       "16    Michiel  10.60\n",
       "17      Niels  17.15\n",
       "18    Raymond  18.50\n",
       "19       Rodi   8.40\n",
       "20       Stan   6.80\n",
       "21     Wietse   1.60"
      ]
     },
     "execution_count": 27,
     "metadata": {},
     "output_type": "execute_result"
    }
   ],
   "source": [
    "# df_total_score = df.groupby(['team', 'race'], as_index=False)['score'].sum()\n",
    "df_total_score = df.groupby(['team'], as_index=False)['score'].sum()\n",
    "# df_total_score = df_total_score.sort_values(by='score', ascending=False)\n",
    "df_total_score = df_total_score.sort_values(by='team', ascending=True)\n",
    "df_total_score"
   ]
  },
  {
   "cell_type": "code",
   "execution_count": 28,
   "id": "e1293a57",
   "metadata": {},
   "outputs": [
    {
     "data": {
      "application/vnd.plotly.v1+json": {
       "config": {
        "plotlyServerURL": "https://plot.ly"
       },
       "data": [
        {
         "alignmentgroup": "True",
         "bingroup": "x",
         "histfunc": "sum",
         "hovertemplate": "Bahrein<br>Punten = %{y}<extra></extra>",
         "legendgroup": "Bahrein",
         "marker": {
          "color": "#1F77B4",
          "pattern": {
           "shape": ""
          }
         },
         "name": "Bahrein",
         "offsetgroup": "Bahrein",
         "orientation": "v",
         "showlegend": true,
         "type": "histogram",
         "x": [
          "Chiel",
          "Marco",
          "Corine",
          "Casper",
          "Raymond",
          "Niels",
          "Erik",
          "Grietje",
          "Arjan T.",
          "Charlotte",
          "Michiel",
          "Emily",
          "Rodi",
          "Arjan Z.",
          "Hans",
          "Kitty",
          "Stan",
          "Erwin",
          "Mees",
          "Jordi",
          "Wietse",
          "Isolde",
          "Chiel",
          "Marco",
          "Corine",
          "Casper",
          "Raymond",
          "Niels",
          "Erik",
          "Grietje",
          "Arjan T.",
          "Charlotte",
          "Michiel",
          "Emily",
          "Rodi",
          "Arjan Z.",
          "Hans",
          "Kitty",
          "Stan",
          "Erwin",
          "Mees",
          "Jordi",
          "Wietse",
          "Isolde",
          "Chiel",
          "Marco",
          "Corine",
          "Casper",
          "Raymond",
          "Niels",
          "Erik",
          "Grietje",
          "Arjan T.",
          "Charlotte",
          "Michiel",
          "Emily",
          "Rodi",
          "Arjan Z.",
          "Hans",
          "Kitty",
          "Stan",
          "Erwin",
          "Mees",
          "Jordi",
          "Wietse",
          "Isolde",
          "Chiel",
          "Marco",
          "Corine",
          "Casper",
          "Raymond",
          "Niels",
          "Erik",
          "Grietje",
          "Arjan T.",
          "Charlotte",
          "Michiel",
          "Emily",
          "Rodi",
          "Arjan Z.",
          "Hans",
          "Kitty",
          "Stan",
          "Erwin",
          "Mees",
          "Jordi",
          "Wietse",
          "Isolde"
         ],
         "xaxis": "x",
         "y": [
          7.5,
          3,
          9,
          5,
          9,
          0,
          6,
          0,
          0,
          9,
          9,
          6,
          0,
          0,
          5,
          5,
          0,
          0,
          3,
          0,
          0,
          0,
          4,
          7.5,
          0.5,
          7.5,
          7.5,
          7.5,
          0,
          0,
          5,
          0,
          0,
          0,
          5,
          5,
          1,
          0,
          3,
          0,
          0,
          0,
          1,
          0,
          8.6,
          4.6000000000000005,
          4.6000000000000005,
          0.8,
          0.4,
          3.2,
          4.6000000000000005,
          8.6,
          0,
          0.4,
          0,
          0,
          0.4,
          0,
          0,
          0.4,
          0.8,
          0.4,
          0.4,
          0,
          0,
          0,
          1.5999999999999999,
          6.45,
          6.45,
          6.45,
          1.5999999999999999,
          6.45,
          6.45,
          3,
          6.45,
          1.5999999999999999,
          1.5999999999999999,
          3,
          3,
          3,
          1.5999999999999999,
          1.5999999999999999,
          3,
          6.45,
          3,
          1.5999999999999999,
          0.6,
          1.5999999999999999
         ],
         "yaxis": "y"
        },
        {
         "alignmentgroup": "True",
         "bingroup": "x",
         "histfunc": "sum",
         "hovertemplate": "Saudi-Arabië<br>Punten = %{y}<extra></extra>",
         "legendgroup": "Saudi-Arabië",
         "marker": {
          "color": "#FF7F0E",
          "pattern": {
           "shape": ""
          }
         },
         "name": "Saudi-Arabië",
         "offsetgroup": "Saudi-Arabië",
         "orientation": "v",
         "showlegend": true,
         "type": "histogram",
         "x": [
          "Chiel",
          "Marco",
          "Corine",
          "Casper",
          "Raymond",
          "Niels",
          "Erik",
          "Grietje",
          "Arjan T.",
          "Charlotte",
          "Michiel",
          "Emily",
          "Rodi",
          "Arjan Z.",
          "Hans",
          "Kitty",
          "Stan",
          "Erwin",
          "Mees",
          "Jordi",
          "Wietse",
          "Isolde",
          "Chiel",
          "Marco",
          "Corine",
          "Casper",
          "Raymond",
          "Niels",
          "Erik",
          "Grietje",
          "Arjan T.",
          "Charlotte",
          "Michiel",
          "Emily",
          "Rodi",
          "Arjan Z.",
          "Hans",
          "Kitty",
          "Stan",
          "Erwin",
          "Mees",
          "Jordi",
          "Wietse",
          "Isolde",
          "Chiel",
          "Marco",
          "Corine",
          "Casper",
          "Raymond",
          "Niels",
          "Erik",
          "Grietje",
          "Arjan T.",
          "Charlotte",
          "Michiel",
          "Emily",
          "Rodi",
          "Arjan Z.",
          "Hans",
          "Kitty",
          "Stan",
          "Erwin",
          "Mees",
          "Jordi",
          "Wietse",
          "Isolde",
          "Chiel",
          "Marco",
          "Corine",
          "Casper",
          "Raymond",
          "Niels",
          "Erik",
          "Grietje",
          "Arjan T.",
          "Charlotte",
          "Michiel",
          "Emily",
          "Rodi",
          "Arjan Z.",
          "Hans",
          "Kitty",
          "Stan",
          "Erwin",
          "Mees",
          "Jordi",
          "Wietse",
          "Isolde"
         ],
         "xaxis": "x",
         "y": [
          0,
          0,
          0,
          0,
          0,
          0,
          0,
          0,
          0,
          0,
          0,
          0,
          0,
          0,
          0,
          0,
          0,
          0,
          0,
          0,
          0,
          0,
          0,
          0,
          0,
          0,
          0,
          0,
          0,
          0,
          0,
          0,
          0,
          0,
          0,
          0,
          0,
          0,
          0,
          0,
          0,
          0,
          0,
          0,
          0,
          0,
          0,
          0,
          0,
          0,
          0,
          0,
          0,
          0,
          0,
          0,
          0,
          0,
          0,
          0,
          0,
          0,
          0,
          0,
          0,
          0,
          0,
          0,
          0,
          0,
          0,
          0,
          0,
          0,
          0,
          0,
          0,
          0,
          0,
          0,
          0,
          0,
          0,
          0,
          0,
          0,
          0,
          0
         ],
         "yaxis": "y"
        },
        {
         "alignmentgroup": "True",
         "bingroup": "x",
         "histfunc": "sum",
         "hovertemplate": "Australië<br>Punten = %{y}<extra></extra>",
         "legendgroup": "Australië",
         "marker": {
          "color": "#2CA02C",
          "pattern": {
           "shape": ""
          }
         },
         "name": "Australië",
         "offsetgroup": "Australië",
         "orientation": "v",
         "showlegend": true,
         "type": "histogram",
         "x": [
          "Chiel",
          "Marco",
          "Corine",
          "Casper",
          "Raymond",
          "Niels",
          "Erik",
          "Grietje",
          "Arjan T.",
          "Charlotte",
          "Michiel",
          "Emily",
          "Rodi",
          "Arjan Z.",
          "Hans",
          "Kitty",
          "Stan",
          "Erwin",
          "Mees",
          "Jordi",
          "Wietse",
          "Isolde",
          "Chiel",
          "Marco",
          "Corine",
          "Casper",
          "Raymond",
          "Niels",
          "Erik",
          "Grietje",
          "Arjan T.",
          "Charlotte",
          "Michiel",
          "Emily",
          "Rodi",
          "Arjan Z.",
          "Hans",
          "Kitty",
          "Stan",
          "Erwin",
          "Mees",
          "Jordi",
          "Wietse",
          "Isolde",
          "Chiel",
          "Marco",
          "Corine",
          "Casper",
          "Raymond",
          "Niels",
          "Erik",
          "Grietje",
          "Arjan T.",
          "Charlotte",
          "Michiel",
          "Emily",
          "Rodi",
          "Arjan Z.",
          "Hans",
          "Kitty",
          "Stan",
          "Erwin",
          "Mees",
          "Jordi",
          "Wietse",
          "Isolde",
          "Chiel",
          "Marco",
          "Corine",
          "Casper",
          "Raymond",
          "Niels",
          "Erik",
          "Grietje",
          "Arjan T.",
          "Charlotte",
          "Michiel",
          "Emily",
          "Rodi",
          "Arjan Z.",
          "Hans",
          "Kitty",
          "Stan",
          "Erwin",
          "Mees",
          "Jordi",
          "Wietse",
          "Isolde"
         ],
         "xaxis": "x",
         "y": [
          0,
          0,
          0,
          0,
          0,
          0,
          0,
          0,
          0,
          0,
          0,
          0,
          0,
          0,
          0,
          0,
          0,
          0,
          0,
          0,
          0,
          0,
          0,
          0,
          0,
          0,
          0,
          0,
          0,
          0,
          0,
          0,
          0,
          0,
          0,
          0,
          0,
          0,
          0,
          0,
          0,
          0,
          0,
          0,
          0,
          0,
          0,
          0,
          0,
          0,
          0,
          0,
          0,
          0,
          0,
          0,
          0,
          0,
          0,
          0,
          0,
          0,
          0,
          0,
          0,
          0,
          0,
          0,
          0,
          0,
          0,
          0,
          0,
          0,
          0,
          0,
          0,
          0,
          0,
          0,
          0,
          0,
          0,
          0,
          0,
          0,
          0,
          0
         ],
         "yaxis": "y"
        },
        {
         "alignmentgroup": "True",
         "bingroup": "x",
         "histfunc": "sum",
         "hovertemplate": "Azerbeidzjan<br>Punten = %{y}<extra></extra>",
         "legendgroup": "Azerbeidzjan",
         "marker": {
          "color": "#D62728",
          "pattern": {
           "shape": ""
          }
         },
         "name": "Azerbeidzjan",
         "offsetgroup": "Azerbeidzjan",
         "orientation": "v",
         "showlegend": true,
         "type": "histogram",
         "x": [
          "Chiel",
          "Marco",
          "Corine",
          "Casper",
          "Raymond",
          "Niels",
          "Erik",
          "Grietje",
          "Arjan T.",
          "Charlotte",
          "Michiel",
          "Emily",
          "Rodi",
          "Arjan Z.",
          "Hans",
          "Kitty",
          "Stan",
          "Erwin",
          "Mees",
          "Jordi",
          "Wietse",
          "Isolde",
          "Chiel",
          "Marco",
          "Corine",
          "Casper",
          "Raymond",
          "Niels",
          "Erik",
          "Grietje",
          "Arjan T.",
          "Charlotte",
          "Michiel",
          "Emily",
          "Rodi",
          "Arjan Z.",
          "Hans",
          "Kitty",
          "Stan",
          "Erwin",
          "Mees",
          "Jordi",
          "Wietse",
          "Isolde",
          "Chiel",
          "Marco",
          "Corine",
          "Casper",
          "Raymond",
          "Niels",
          "Erik",
          "Grietje",
          "Arjan T.",
          "Charlotte",
          "Michiel",
          "Emily",
          "Rodi",
          "Arjan Z.",
          "Hans",
          "Kitty",
          "Stan",
          "Erwin",
          "Mees",
          "Jordi",
          "Wietse",
          "Isolde",
          "Chiel",
          "Marco",
          "Corine",
          "Casper",
          "Raymond",
          "Niels",
          "Erik",
          "Grietje",
          "Arjan T.",
          "Charlotte",
          "Michiel",
          "Emily",
          "Rodi",
          "Arjan Z.",
          "Hans",
          "Kitty",
          "Stan",
          "Erwin",
          "Mees",
          "Jordi",
          "Wietse",
          "Isolde"
         ],
         "xaxis": "x",
         "y": [
          0,
          0,
          0,
          0,
          0,
          0,
          0,
          0,
          0,
          0,
          0,
          0,
          0,
          0,
          0,
          0,
          0,
          0,
          0,
          0,
          0,
          0,
          0,
          0,
          0,
          0,
          0,
          0,
          0,
          0,
          0,
          0,
          0,
          0,
          0,
          0,
          0,
          0,
          0,
          0,
          0,
          0,
          0,
          0,
          0,
          0,
          0,
          0,
          0,
          0,
          0,
          0,
          0,
          0,
          0,
          0,
          0,
          0,
          0,
          0,
          0,
          0,
          0,
          0,
          0,
          0,
          0,
          0,
          0,
          0,
          0,
          0,
          0,
          0,
          0,
          0,
          0,
          0,
          0,
          0,
          0,
          0,
          0,
          0,
          0,
          0,
          0,
          0
         ],
         "yaxis": "y"
        },
        {
         "alignmentgroup": "True",
         "bingroup": "x",
         "histfunc": "sum",
         "hovertemplate": "Miami<br>Punten = %{y}<extra></extra>",
         "legendgroup": "Miami",
         "marker": {
          "color": "#9467BD",
          "pattern": {
           "shape": ""
          }
         },
         "name": "Miami",
         "offsetgroup": "Miami",
         "orientation": "v",
         "showlegend": true,
         "type": "histogram",
         "x": [
          "Chiel",
          "Marco",
          "Corine",
          "Casper",
          "Raymond",
          "Niels",
          "Erik",
          "Grietje",
          "Arjan T.",
          "Charlotte",
          "Michiel",
          "Emily",
          "Rodi",
          "Arjan Z.",
          "Hans",
          "Kitty",
          "Stan",
          "Erwin",
          "Mees",
          "Jordi",
          "Wietse",
          "Isolde",
          "Chiel",
          "Marco",
          "Corine",
          "Casper",
          "Raymond",
          "Niels",
          "Erik",
          "Grietje",
          "Arjan T.",
          "Charlotte",
          "Michiel",
          "Emily",
          "Rodi",
          "Arjan Z.",
          "Hans",
          "Kitty",
          "Stan",
          "Erwin",
          "Mees",
          "Jordi",
          "Wietse",
          "Isolde",
          "Chiel",
          "Marco",
          "Corine",
          "Casper",
          "Raymond",
          "Niels",
          "Erik",
          "Grietje",
          "Arjan T.",
          "Charlotte",
          "Michiel",
          "Emily",
          "Rodi",
          "Arjan Z.",
          "Hans",
          "Kitty",
          "Stan",
          "Erwin",
          "Mees",
          "Jordi",
          "Wietse",
          "Isolde",
          "Chiel",
          "Marco",
          "Corine",
          "Casper",
          "Raymond",
          "Niels",
          "Erik",
          "Grietje",
          "Arjan T.",
          "Charlotte",
          "Michiel",
          "Emily",
          "Rodi",
          "Arjan Z.",
          "Hans",
          "Kitty",
          "Stan",
          "Erwin",
          "Mees",
          "Jordi",
          "Wietse",
          "Isolde"
         ],
         "xaxis": "x",
         "y": [
          0,
          0,
          0,
          0,
          0,
          0,
          0,
          0,
          0,
          0,
          0,
          0,
          0,
          0,
          0,
          0,
          0,
          0,
          0,
          0,
          0,
          0,
          0,
          0,
          0,
          0,
          0,
          0,
          0,
          0,
          0,
          0,
          0,
          0,
          0,
          0,
          0,
          0,
          0,
          0,
          0,
          0,
          0,
          0,
          0,
          0,
          0,
          0,
          0,
          0,
          0,
          0,
          0,
          0,
          0,
          0,
          0,
          0,
          0,
          0,
          0,
          0,
          0,
          0,
          0,
          0,
          0,
          0,
          0,
          0,
          0,
          0,
          0,
          0,
          0,
          0,
          0,
          0,
          0,
          0,
          0,
          0,
          0,
          0,
          0,
          0,
          0,
          0
         ],
         "yaxis": "y"
        },
        {
         "alignmentgroup": "True",
         "bingroup": "x",
         "histfunc": "sum",
         "hovertemplate": "Emilia-Romagna<br>Punten = %{y}<extra></extra>",
         "legendgroup": "Emilia-Romagna",
         "marker": {
          "color": "#8C564B",
          "pattern": {
           "shape": ""
          }
         },
         "name": "Emilia-Romagna",
         "offsetgroup": "Emilia-Romagna",
         "orientation": "v",
         "showlegend": true,
         "type": "histogram",
         "x": [
          "Chiel",
          "Marco",
          "Corine",
          "Casper",
          "Raymond",
          "Niels",
          "Erik",
          "Grietje",
          "Arjan T.",
          "Charlotte",
          "Michiel",
          "Emily",
          "Rodi",
          "Arjan Z.",
          "Hans",
          "Kitty",
          "Stan",
          "Erwin",
          "Mees",
          "Jordi",
          "Wietse",
          "Isolde",
          "Chiel",
          "Marco",
          "Corine",
          "Casper",
          "Raymond",
          "Niels",
          "Erik",
          "Grietje",
          "Arjan T.",
          "Charlotte",
          "Michiel",
          "Emily",
          "Rodi",
          "Arjan Z.",
          "Hans",
          "Kitty",
          "Stan",
          "Erwin",
          "Mees",
          "Jordi",
          "Wietse",
          "Isolde",
          "Chiel",
          "Marco",
          "Corine",
          "Casper",
          "Raymond",
          "Niels",
          "Erik",
          "Grietje",
          "Arjan T.",
          "Charlotte",
          "Michiel",
          "Emily",
          "Rodi",
          "Arjan Z.",
          "Hans",
          "Kitty",
          "Stan",
          "Erwin",
          "Mees",
          "Jordi",
          "Wietse",
          "Isolde",
          "Chiel",
          "Marco",
          "Corine",
          "Casper",
          "Raymond",
          "Niels",
          "Erik",
          "Grietje",
          "Arjan T.",
          "Charlotte",
          "Michiel",
          "Emily",
          "Rodi",
          "Arjan Z.",
          "Hans",
          "Kitty",
          "Stan",
          "Erwin",
          "Mees",
          "Jordi",
          "Wietse",
          "Isolde"
         ],
         "xaxis": "x",
         "y": [
          0,
          0,
          0,
          0,
          0,
          0,
          0,
          0,
          0,
          0,
          0,
          0,
          0,
          0,
          0,
          0,
          0,
          0,
          0,
          0,
          0,
          0,
          0,
          0,
          0,
          0,
          0,
          0,
          0,
          0,
          0,
          0,
          0,
          0,
          0,
          0,
          0,
          0,
          0,
          0,
          0,
          0,
          0,
          0,
          0,
          0,
          0,
          0,
          0,
          0,
          0,
          0,
          0,
          0,
          0,
          0,
          0,
          0,
          0,
          0,
          0,
          0,
          0,
          0,
          0,
          0,
          0,
          0,
          0,
          0,
          0,
          0,
          0,
          0,
          0,
          0,
          0,
          0,
          0,
          0,
          0,
          0,
          0,
          0,
          0,
          0,
          0,
          0
         ],
         "yaxis": "y"
        },
        {
         "alignmentgroup": "True",
         "bingroup": "x",
         "histfunc": "sum",
         "hovertemplate": "Monaco<br>Punten = %{y}<extra></extra>",
         "legendgroup": "Monaco",
         "marker": {
          "color": "#E377C2",
          "pattern": {
           "shape": ""
          }
         },
         "name": "Monaco",
         "offsetgroup": "Monaco",
         "orientation": "v",
         "showlegend": true,
         "type": "histogram",
         "x": [
          "Chiel",
          "Marco",
          "Corine",
          "Casper",
          "Raymond",
          "Niels",
          "Erik",
          "Grietje",
          "Arjan T.",
          "Charlotte",
          "Michiel",
          "Emily",
          "Rodi",
          "Arjan Z.",
          "Hans",
          "Kitty",
          "Stan",
          "Erwin",
          "Mees",
          "Jordi",
          "Wietse",
          "Isolde",
          "Chiel",
          "Marco",
          "Corine",
          "Casper",
          "Raymond",
          "Niels",
          "Erik",
          "Grietje",
          "Arjan T.",
          "Charlotte",
          "Michiel",
          "Emily",
          "Rodi",
          "Arjan Z.",
          "Hans",
          "Kitty",
          "Stan",
          "Erwin",
          "Mees",
          "Jordi",
          "Wietse",
          "Isolde",
          "Chiel",
          "Marco",
          "Corine",
          "Casper",
          "Raymond",
          "Niels",
          "Erik",
          "Grietje",
          "Arjan T.",
          "Charlotte",
          "Michiel",
          "Emily",
          "Rodi",
          "Arjan Z.",
          "Hans",
          "Kitty",
          "Stan",
          "Erwin",
          "Mees",
          "Jordi",
          "Wietse",
          "Isolde",
          "Chiel",
          "Marco",
          "Corine",
          "Casper",
          "Raymond",
          "Niels",
          "Erik",
          "Grietje",
          "Arjan T.",
          "Charlotte",
          "Michiel",
          "Emily",
          "Rodi",
          "Arjan Z.",
          "Hans",
          "Kitty",
          "Stan",
          "Erwin",
          "Mees",
          "Jordi",
          "Wietse",
          "Isolde"
         ],
         "xaxis": "x",
         "y": [
          0,
          0,
          0,
          0,
          0,
          0,
          0,
          0,
          0,
          0,
          0,
          0,
          0,
          0,
          0,
          0,
          0,
          0,
          0,
          0,
          0,
          0,
          0,
          0,
          0,
          0,
          0,
          0,
          0,
          0,
          0,
          0,
          0,
          0,
          0,
          0,
          0,
          0,
          0,
          0,
          0,
          0,
          0,
          0,
          0,
          0,
          0,
          0,
          0,
          0,
          0,
          0,
          0,
          0,
          0,
          0,
          0,
          0,
          0,
          0,
          0,
          0,
          0,
          0,
          0,
          0,
          0,
          0,
          0,
          0,
          0,
          0,
          0,
          0,
          0,
          0,
          0,
          0,
          0,
          0,
          0,
          0,
          0,
          0,
          0,
          0,
          0,
          0
         ],
         "yaxis": "y"
        },
        {
         "alignmentgroup": "True",
         "bingroup": "x",
         "histfunc": "sum",
         "hovertemplate": "Spanje<br>Punten = %{y}<extra></extra>",
         "legendgroup": "Spanje",
         "marker": {
          "color": "#7F7F7F",
          "pattern": {
           "shape": ""
          }
         },
         "name": "Spanje",
         "offsetgroup": "Spanje",
         "orientation": "v",
         "showlegend": true,
         "type": "histogram",
         "x": [
          "Chiel",
          "Marco",
          "Corine",
          "Casper",
          "Raymond",
          "Niels",
          "Erik",
          "Grietje",
          "Arjan T.",
          "Charlotte",
          "Michiel",
          "Emily",
          "Rodi",
          "Arjan Z.",
          "Hans",
          "Kitty",
          "Stan",
          "Erwin",
          "Mees",
          "Jordi",
          "Wietse",
          "Isolde",
          "Chiel",
          "Marco",
          "Corine",
          "Casper",
          "Raymond",
          "Niels",
          "Erik",
          "Grietje",
          "Arjan T.",
          "Charlotte",
          "Michiel",
          "Emily",
          "Rodi",
          "Arjan Z.",
          "Hans",
          "Kitty",
          "Stan",
          "Erwin",
          "Mees",
          "Jordi",
          "Wietse",
          "Isolde",
          "Chiel",
          "Marco",
          "Corine",
          "Casper",
          "Raymond",
          "Niels",
          "Erik",
          "Grietje",
          "Arjan T.",
          "Charlotte",
          "Michiel",
          "Emily",
          "Rodi",
          "Arjan Z.",
          "Hans",
          "Kitty",
          "Stan",
          "Erwin",
          "Mees",
          "Jordi",
          "Wietse",
          "Isolde",
          "Chiel",
          "Marco",
          "Corine",
          "Casper",
          "Raymond",
          "Niels",
          "Erik",
          "Grietje",
          "Arjan T.",
          "Charlotte",
          "Michiel",
          "Emily",
          "Rodi",
          "Arjan Z.",
          "Hans",
          "Kitty",
          "Stan",
          "Erwin",
          "Mees",
          "Jordi",
          "Wietse",
          "Isolde"
         ],
         "xaxis": "x",
         "y": [
          0,
          0,
          0,
          0,
          0,
          0,
          0,
          0,
          0,
          0,
          0,
          0,
          0,
          0,
          0,
          0,
          0,
          0,
          0,
          0,
          0,
          0,
          0,
          0,
          0,
          0,
          0,
          0,
          0,
          0,
          0,
          0,
          0,
          0,
          0,
          0,
          0,
          0,
          0,
          0,
          0,
          0,
          0,
          0,
          0,
          0,
          0,
          0,
          0,
          0,
          0,
          0,
          0,
          0,
          0,
          0,
          0,
          0,
          0,
          0,
          0,
          0,
          0,
          0,
          0,
          0,
          0,
          0,
          0,
          0,
          0,
          0,
          0,
          0,
          0,
          0,
          0,
          0,
          0,
          0,
          0,
          0,
          0,
          0,
          0,
          0,
          0,
          0
         ],
         "yaxis": "y"
        },
        {
         "alignmentgroup": "True",
         "bingroup": "x",
         "histfunc": "sum",
         "hovertemplate": "Canada<br>Punten = %{y}<extra></extra>",
         "legendgroup": "Canada",
         "marker": {
          "color": "#BCBD22",
          "pattern": {
           "shape": ""
          }
         },
         "name": "Canada",
         "offsetgroup": "Canada",
         "orientation": "v",
         "showlegend": true,
         "type": "histogram",
         "x": [
          "Chiel",
          "Marco",
          "Corine",
          "Casper",
          "Raymond",
          "Niels",
          "Erik",
          "Grietje",
          "Arjan T.",
          "Charlotte",
          "Michiel",
          "Emily",
          "Rodi",
          "Arjan Z.",
          "Hans",
          "Kitty",
          "Stan",
          "Erwin",
          "Mees",
          "Jordi",
          "Wietse",
          "Isolde",
          "Chiel",
          "Marco",
          "Corine",
          "Casper",
          "Raymond",
          "Niels",
          "Erik",
          "Grietje",
          "Arjan T.",
          "Charlotte",
          "Michiel",
          "Emily",
          "Rodi",
          "Arjan Z.",
          "Hans",
          "Kitty",
          "Stan",
          "Erwin",
          "Mees",
          "Jordi",
          "Wietse",
          "Isolde",
          "Chiel",
          "Marco",
          "Corine",
          "Casper",
          "Raymond",
          "Niels",
          "Erik",
          "Grietje",
          "Arjan T.",
          "Charlotte",
          "Michiel",
          "Emily",
          "Rodi",
          "Arjan Z.",
          "Hans",
          "Kitty",
          "Stan",
          "Erwin",
          "Mees",
          "Jordi",
          "Wietse",
          "Isolde",
          "Chiel",
          "Marco",
          "Corine",
          "Casper",
          "Raymond",
          "Niels",
          "Erik",
          "Grietje",
          "Arjan T.",
          "Charlotte",
          "Michiel",
          "Emily",
          "Rodi",
          "Arjan Z.",
          "Hans",
          "Kitty",
          "Stan",
          "Erwin",
          "Mees",
          "Jordi",
          "Wietse",
          "Isolde"
         ],
         "xaxis": "x",
         "y": [
          0,
          0,
          0,
          0,
          0,
          0,
          0,
          0,
          0,
          0,
          0,
          0,
          0,
          0,
          0,
          0,
          0,
          0,
          0,
          0,
          0,
          0,
          0,
          0,
          0,
          0,
          0,
          0,
          0,
          0,
          0,
          0,
          0,
          0,
          0,
          0,
          0,
          0,
          0,
          0,
          0,
          0,
          0,
          0,
          0,
          0,
          0,
          0,
          0,
          0,
          0,
          0,
          0,
          0,
          0,
          0,
          0,
          0,
          0,
          0,
          0,
          0,
          0,
          0,
          0,
          0,
          0,
          0,
          0,
          0,
          0,
          0,
          0,
          0,
          0,
          0,
          0,
          0,
          0,
          0,
          0,
          0,
          0,
          0,
          0,
          0,
          0,
          0
         ],
         "yaxis": "y"
        },
        {
         "alignmentgroup": "True",
         "bingroup": "x",
         "histfunc": "sum",
         "hovertemplate": "Oostenrijk<br>Punten = %{y}<extra></extra>",
         "legendgroup": "Oostenrijk",
         "marker": {
          "color": "#17BECF",
          "pattern": {
           "shape": ""
          }
         },
         "name": "Oostenrijk",
         "offsetgroup": "Oostenrijk",
         "orientation": "v",
         "showlegend": true,
         "type": "histogram",
         "x": [
          "Chiel",
          "Marco",
          "Corine",
          "Casper",
          "Raymond",
          "Niels",
          "Erik",
          "Grietje",
          "Arjan T.",
          "Charlotte",
          "Michiel",
          "Emily",
          "Rodi",
          "Arjan Z.",
          "Hans",
          "Kitty",
          "Stan",
          "Erwin",
          "Mees",
          "Jordi",
          "Wietse",
          "Isolde",
          "Chiel",
          "Marco",
          "Corine",
          "Casper",
          "Raymond",
          "Niels",
          "Erik",
          "Grietje",
          "Arjan T.",
          "Charlotte",
          "Michiel",
          "Emily",
          "Rodi",
          "Arjan Z.",
          "Hans",
          "Kitty",
          "Stan",
          "Erwin",
          "Mees",
          "Jordi",
          "Wietse",
          "Isolde",
          "Chiel",
          "Marco",
          "Corine",
          "Casper",
          "Raymond",
          "Niels",
          "Erik",
          "Grietje",
          "Arjan T.",
          "Charlotte",
          "Michiel",
          "Emily",
          "Rodi",
          "Arjan Z.",
          "Hans",
          "Kitty",
          "Stan",
          "Erwin",
          "Mees",
          "Jordi",
          "Wietse",
          "Isolde",
          "Chiel",
          "Marco",
          "Corine",
          "Casper",
          "Raymond",
          "Niels",
          "Erik",
          "Grietje",
          "Arjan T.",
          "Charlotte",
          "Michiel",
          "Emily",
          "Rodi",
          "Arjan Z.",
          "Hans",
          "Kitty",
          "Stan",
          "Erwin",
          "Mees",
          "Jordi",
          "Wietse",
          "Isolde"
         ],
         "xaxis": "x",
         "y": [
          0,
          0,
          0,
          0,
          0,
          0,
          0,
          0,
          0,
          0,
          0,
          0,
          0,
          0,
          0,
          0,
          0,
          0,
          0,
          0,
          0,
          0,
          0,
          0,
          0,
          0,
          0,
          0,
          0,
          0,
          0,
          0,
          0,
          0,
          0,
          0,
          0,
          0,
          0,
          0,
          0,
          0,
          0,
          0,
          0,
          0,
          0,
          0,
          0,
          0,
          0,
          0,
          0,
          0,
          0,
          0,
          0,
          0,
          0,
          0,
          0,
          0,
          0,
          0,
          0,
          0,
          0,
          0,
          0,
          0,
          0,
          0,
          0,
          0,
          0,
          0,
          0,
          0,
          0,
          0,
          0,
          0,
          0,
          0,
          0,
          0,
          0,
          0
         ],
         "yaxis": "y"
        },
        {
         "alignmentgroup": "True",
         "bingroup": "x",
         "histfunc": "sum",
         "hovertemplate": "Groot-Brittanië<br>Punten = %{y}<extra></extra>",
         "legendgroup": "Groot-Brittanië",
         "marker": {
          "color": "#1F77B4",
          "pattern": {
           "shape": ""
          }
         },
         "name": "Groot-Brittanië",
         "offsetgroup": "Groot-Brittanië",
         "orientation": "v",
         "showlegend": true,
         "type": "histogram",
         "x": [
          "Chiel",
          "Marco",
          "Corine",
          "Casper",
          "Raymond",
          "Niels",
          "Erik",
          "Grietje",
          "Arjan T.",
          "Charlotte",
          "Michiel",
          "Emily",
          "Rodi",
          "Arjan Z.",
          "Hans",
          "Kitty",
          "Stan",
          "Erwin",
          "Mees",
          "Jordi",
          "Wietse",
          "Isolde",
          "Chiel",
          "Marco",
          "Corine",
          "Casper",
          "Raymond",
          "Niels",
          "Erik",
          "Grietje",
          "Arjan T.",
          "Charlotte",
          "Michiel",
          "Emily",
          "Rodi",
          "Arjan Z.",
          "Hans",
          "Kitty",
          "Stan",
          "Erwin",
          "Mees",
          "Jordi",
          "Wietse",
          "Isolde",
          "Chiel",
          "Marco",
          "Corine",
          "Casper",
          "Raymond",
          "Niels",
          "Erik",
          "Grietje",
          "Arjan T.",
          "Charlotte",
          "Michiel",
          "Emily",
          "Rodi",
          "Arjan Z.",
          "Hans",
          "Kitty",
          "Stan",
          "Erwin",
          "Mees",
          "Jordi",
          "Wietse",
          "Isolde",
          "Chiel",
          "Marco",
          "Corine",
          "Casper",
          "Raymond",
          "Niels",
          "Erik",
          "Grietje",
          "Arjan T.",
          "Charlotte",
          "Michiel",
          "Emily",
          "Rodi",
          "Arjan Z.",
          "Hans",
          "Kitty",
          "Stan",
          "Erwin",
          "Mees",
          "Jordi",
          "Wietse",
          "Isolde"
         ],
         "xaxis": "x",
         "y": [
          0,
          0,
          0,
          0,
          0,
          0,
          0,
          0,
          0,
          0,
          0,
          0,
          0,
          0,
          0,
          0,
          0,
          0,
          0,
          0,
          0,
          0,
          0,
          0,
          0,
          0,
          0,
          0,
          0,
          0,
          0,
          0,
          0,
          0,
          0,
          0,
          0,
          0,
          0,
          0,
          0,
          0,
          0,
          0,
          0,
          0,
          0,
          0,
          0,
          0,
          0,
          0,
          0,
          0,
          0,
          0,
          0,
          0,
          0,
          0,
          0,
          0,
          0,
          0,
          0,
          0,
          0,
          0,
          0,
          0,
          0,
          0,
          0,
          0,
          0,
          0,
          0,
          0,
          0,
          0,
          0,
          0,
          0,
          0,
          0,
          0,
          0,
          0
         ],
         "yaxis": "y"
        },
        {
         "alignmentgroup": "True",
         "bingroup": "x",
         "histfunc": "sum",
         "hovertemplate": "Hongarije<br>Punten = %{y}<extra></extra>",
         "legendgroup": "Hongarije",
         "marker": {
          "color": "#FF7F0E",
          "pattern": {
           "shape": ""
          }
         },
         "name": "Hongarije",
         "offsetgroup": "Hongarije",
         "orientation": "v",
         "showlegend": true,
         "type": "histogram",
         "x": [
          "Chiel",
          "Marco",
          "Corine",
          "Casper",
          "Raymond",
          "Niels",
          "Erik",
          "Grietje",
          "Arjan T.",
          "Charlotte",
          "Michiel",
          "Emily",
          "Rodi",
          "Arjan Z.",
          "Hans",
          "Kitty",
          "Stan",
          "Erwin",
          "Mees",
          "Jordi",
          "Wietse",
          "Isolde",
          "Chiel",
          "Marco",
          "Corine",
          "Casper",
          "Raymond",
          "Niels",
          "Erik",
          "Grietje",
          "Arjan T.",
          "Charlotte",
          "Michiel",
          "Emily",
          "Rodi",
          "Arjan Z.",
          "Hans",
          "Kitty",
          "Stan",
          "Erwin",
          "Mees",
          "Jordi",
          "Wietse",
          "Isolde",
          "Chiel",
          "Marco",
          "Corine",
          "Casper",
          "Raymond",
          "Niels",
          "Erik",
          "Grietje",
          "Arjan T.",
          "Charlotte",
          "Michiel",
          "Emily",
          "Rodi",
          "Arjan Z.",
          "Hans",
          "Kitty",
          "Stan",
          "Erwin",
          "Mees",
          "Jordi",
          "Wietse",
          "Isolde",
          "Chiel",
          "Marco",
          "Corine",
          "Casper",
          "Raymond",
          "Niels",
          "Erik",
          "Grietje",
          "Arjan T.",
          "Charlotte",
          "Michiel",
          "Emily",
          "Rodi",
          "Arjan Z.",
          "Hans",
          "Kitty",
          "Stan",
          "Erwin",
          "Mees",
          "Jordi",
          "Wietse",
          "Isolde"
         ],
         "xaxis": "x",
         "y": [
          0,
          0,
          0,
          0,
          0,
          0,
          0,
          0,
          0,
          0,
          0,
          0,
          0,
          0,
          0,
          0,
          0,
          0,
          0,
          0,
          0,
          0,
          0,
          0,
          0,
          0,
          0,
          0,
          0,
          0,
          0,
          0,
          0,
          0,
          0,
          0,
          0,
          0,
          0,
          0,
          0,
          0,
          0,
          0,
          0,
          0,
          0,
          0,
          0,
          0,
          0,
          0,
          0,
          0,
          0,
          0,
          0,
          0,
          0,
          0,
          0,
          0,
          0,
          0,
          0,
          0,
          0,
          0,
          0,
          0,
          0,
          0,
          0,
          0,
          0,
          0,
          0,
          0,
          0,
          0,
          0,
          0,
          0,
          0,
          0,
          0,
          0,
          0
         ],
         "yaxis": "y"
        },
        {
         "alignmentgroup": "True",
         "bingroup": "x",
         "histfunc": "sum",
         "hovertemplate": "België<br>Punten = %{y}<extra></extra>",
         "legendgroup": "België",
         "marker": {
          "color": "#2CA02C",
          "pattern": {
           "shape": ""
          }
         },
         "name": "België",
         "offsetgroup": "België",
         "orientation": "v",
         "showlegend": true,
         "type": "histogram",
         "x": [
          "Chiel",
          "Marco",
          "Corine",
          "Casper",
          "Raymond",
          "Niels",
          "Erik",
          "Grietje",
          "Arjan T.",
          "Charlotte",
          "Michiel",
          "Emily",
          "Rodi",
          "Arjan Z.",
          "Hans",
          "Kitty",
          "Stan",
          "Erwin",
          "Mees",
          "Jordi",
          "Wietse",
          "Isolde",
          "Chiel",
          "Marco",
          "Corine",
          "Casper",
          "Raymond",
          "Niels",
          "Erik",
          "Grietje",
          "Arjan T.",
          "Charlotte",
          "Michiel",
          "Emily",
          "Rodi",
          "Arjan Z.",
          "Hans",
          "Kitty",
          "Stan",
          "Erwin",
          "Mees",
          "Jordi",
          "Wietse",
          "Isolde",
          "Chiel",
          "Marco",
          "Corine",
          "Casper",
          "Raymond",
          "Niels",
          "Erik",
          "Grietje",
          "Arjan T.",
          "Charlotte",
          "Michiel",
          "Emily",
          "Rodi",
          "Arjan Z.",
          "Hans",
          "Kitty",
          "Stan",
          "Erwin",
          "Mees",
          "Jordi",
          "Wietse",
          "Isolde",
          "Chiel",
          "Marco",
          "Corine",
          "Casper",
          "Raymond",
          "Niels",
          "Erik",
          "Grietje",
          "Arjan T.",
          "Charlotte",
          "Michiel",
          "Emily",
          "Rodi",
          "Arjan Z.",
          "Hans",
          "Kitty",
          "Stan",
          "Erwin",
          "Mees",
          "Jordi",
          "Wietse",
          "Isolde"
         ],
         "xaxis": "x",
         "y": [
          0,
          0,
          0,
          0,
          0,
          0,
          0,
          0,
          0,
          0,
          0,
          0,
          0,
          0,
          0,
          0,
          0,
          0,
          0,
          0,
          0,
          0,
          0,
          0,
          0,
          0,
          0,
          0,
          0,
          0,
          0,
          0,
          0,
          0,
          0,
          0,
          0,
          0,
          0,
          0,
          0,
          0,
          0,
          0,
          0,
          0,
          0,
          0,
          0,
          0,
          0,
          0,
          0,
          0,
          0,
          0,
          0,
          0,
          0,
          0,
          0,
          0,
          0,
          0,
          0,
          0,
          0,
          0,
          0,
          0,
          0,
          0,
          0,
          0,
          0,
          0,
          0,
          0,
          0,
          0,
          0,
          0,
          0,
          0,
          0,
          0,
          0,
          0
         ],
         "yaxis": "y"
        },
        {
         "alignmentgroup": "True",
         "bingroup": "x",
         "histfunc": "sum",
         "hovertemplate": "Nederland<br>Punten = %{y}<extra></extra>",
         "legendgroup": "Nederland",
         "marker": {
          "color": "#D62728",
          "pattern": {
           "shape": ""
          }
         },
         "name": "Nederland",
         "offsetgroup": "Nederland",
         "orientation": "v",
         "showlegend": true,
         "type": "histogram",
         "x": [
          "Chiel",
          "Marco",
          "Corine",
          "Casper",
          "Raymond",
          "Niels",
          "Erik",
          "Grietje",
          "Arjan T.",
          "Charlotte",
          "Michiel",
          "Emily",
          "Rodi",
          "Arjan Z.",
          "Hans",
          "Kitty",
          "Stan",
          "Erwin",
          "Mees",
          "Jordi",
          "Wietse",
          "Isolde",
          "Chiel",
          "Marco",
          "Corine",
          "Casper",
          "Raymond",
          "Niels",
          "Erik",
          "Grietje",
          "Arjan T.",
          "Charlotte",
          "Michiel",
          "Emily",
          "Rodi",
          "Arjan Z.",
          "Hans",
          "Kitty",
          "Stan",
          "Erwin",
          "Mees",
          "Jordi",
          "Wietse",
          "Isolde",
          "Chiel",
          "Marco",
          "Corine",
          "Casper",
          "Raymond",
          "Niels",
          "Erik",
          "Grietje",
          "Arjan T.",
          "Charlotte",
          "Michiel",
          "Emily",
          "Rodi",
          "Arjan Z.",
          "Hans",
          "Kitty",
          "Stan",
          "Erwin",
          "Mees",
          "Jordi",
          "Wietse",
          "Isolde",
          "Chiel",
          "Marco",
          "Corine",
          "Casper",
          "Raymond",
          "Niels",
          "Erik",
          "Grietje",
          "Arjan T.",
          "Charlotte",
          "Michiel",
          "Emily",
          "Rodi",
          "Arjan Z.",
          "Hans",
          "Kitty",
          "Stan",
          "Erwin",
          "Mees",
          "Jordi",
          "Wietse",
          "Isolde"
         ],
         "xaxis": "x",
         "y": [
          0,
          0,
          0,
          0,
          0,
          0,
          0,
          0,
          0,
          0,
          0,
          0,
          0,
          0,
          0,
          0,
          0,
          0,
          0,
          0,
          0,
          0,
          0,
          0,
          0,
          0,
          0,
          0,
          0,
          0,
          0,
          0,
          0,
          0,
          0,
          0,
          0,
          0,
          0,
          0,
          0,
          0,
          0,
          0,
          0,
          0,
          0,
          0,
          0,
          0,
          0,
          0,
          0,
          0,
          0,
          0,
          0,
          0,
          0,
          0,
          0,
          0,
          0,
          0,
          0,
          0,
          0,
          0,
          0,
          0,
          0,
          0,
          0,
          0,
          0,
          0,
          0,
          0,
          0,
          0,
          0,
          0,
          0,
          0,
          0,
          0,
          0,
          0
         ],
         "yaxis": "y"
        },
        {
         "alignmentgroup": "True",
         "bingroup": "x",
         "histfunc": "sum",
         "hovertemplate": "Italië<br>Punten = %{y}<extra></extra>",
         "legendgroup": "Italië",
         "marker": {
          "color": "#9467BD",
          "pattern": {
           "shape": ""
          }
         },
         "name": "Italië",
         "offsetgroup": "Italië",
         "orientation": "v",
         "showlegend": true,
         "type": "histogram",
         "x": [
          "Chiel",
          "Marco",
          "Corine",
          "Casper",
          "Raymond",
          "Niels",
          "Erik",
          "Grietje",
          "Arjan T.",
          "Charlotte",
          "Michiel",
          "Emily",
          "Rodi",
          "Arjan Z.",
          "Hans",
          "Kitty",
          "Stan",
          "Erwin",
          "Mees",
          "Jordi",
          "Wietse",
          "Isolde",
          "Chiel",
          "Marco",
          "Corine",
          "Casper",
          "Raymond",
          "Niels",
          "Erik",
          "Grietje",
          "Arjan T.",
          "Charlotte",
          "Michiel",
          "Emily",
          "Rodi",
          "Arjan Z.",
          "Hans",
          "Kitty",
          "Stan",
          "Erwin",
          "Mees",
          "Jordi",
          "Wietse",
          "Isolde",
          "Chiel",
          "Marco",
          "Corine",
          "Casper",
          "Raymond",
          "Niels",
          "Erik",
          "Grietje",
          "Arjan T.",
          "Charlotte",
          "Michiel",
          "Emily",
          "Rodi",
          "Arjan Z.",
          "Hans",
          "Kitty",
          "Stan",
          "Erwin",
          "Mees",
          "Jordi",
          "Wietse",
          "Isolde",
          "Chiel",
          "Marco",
          "Corine",
          "Casper",
          "Raymond",
          "Niels",
          "Erik",
          "Grietje",
          "Arjan T.",
          "Charlotte",
          "Michiel",
          "Emily",
          "Rodi",
          "Arjan Z.",
          "Hans",
          "Kitty",
          "Stan",
          "Erwin",
          "Mees",
          "Jordi",
          "Wietse",
          "Isolde"
         ],
         "xaxis": "x",
         "y": [
          0,
          0,
          0,
          0,
          0,
          0,
          0,
          0,
          0,
          0,
          0,
          0,
          0,
          0,
          0,
          0,
          0,
          0,
          0,
          0,
          0,
          0,
          0,
          0,
          0,
          0,
          0,
          0,
          0,
          0,
          0,
          0,
          0,
          0,
          0,
          0,
          0,
          0,
          0,
          0,
          0,
          0,
          0,
          0,
          0,
          0,
          0,
          0,
          0,
          0,
          0,
          0,
          0,
          0,
          0,
          0,
          0,
          0,
          0,
          0,
          0,
          0,
          0,
          0,
          0,
          0,
          0,
          0,
          0,
          0,
          0,
          0,
          0,
          0,
          0,
          0,
          0,
          0,
          0,
          0,
          0,
          0,
          0,
          0,
          0,
          0,
          0,
          0
         ],
         "yaxis": "y"
        },
        {
         "alignmentgroup": "True",
         "bingroup": "x",
         "histfunc": "sum",
         "hovertemplate": "Singapore<br>Punten = %{y}<extra></extra>",
         "legendgroup": "Singapore",
         "marker": {
          "color": "#8C564B",
          "pattern": {
           "shape": ""
          }
         },
         "name": "Singapore",
         "offsetgroup": "Singapore",
         "orientation": "v",
         "showlegend": true,
         "type": "histogram",
         "x": [
          "Chiel",
          "Marco",
          "Corine",
          "Casper",
          "Raymond",
          "Niels",
          "Erik",
          "Grietje",
          "Arjan T.",
          "Charlotte",
          "Michiel",
          "Emily",
          "Rodi",
          "Arjan Z.",
          "Hans",
          "Kitty",
          "Stan",
          "Erwin",
          "Mees",
          "Jordi",
          "Wietse",
          "Isolde",
          "Chiel",
          "Marco",
          "Corine",
          "Casper",
          "Raymond",
          "Niels",
          "Erik",
          "Grietje",
          "Arjan T.",
          "Charlotte",
          "Michiel",
          "Emily",
          "Rodi",
          "Arjan Z.",
          "Hans",
          "Kitty",
          "Stan",
          "Erwin",
          "Mees",
          "Jordi",
          "Wietse",
          "Isolde",
          "Chiel",
          "Marco",
          "Corine",
          "Casper",
          "Raymond",
          "Niels",
          "Erik",
          "Grietje",
          "Arjan T.",
          "Charlotte",
          "Michiel",
          "Emily",
          "Rodi",
          "Arjan Z.",
          "Hans",
          "Kitty",
          "Stan",
          "Erwin",
          "Mees",
          "Jordi",
          "Wietse",
          "Isolde",
          "Chiel",
          "Marco",
          "Corine",
          "Casper",
          "Raymond",
          "Niels",
          "Erik",
          "Grietje",
          "Arjan T.",
          "Charlotte",
          "Michiel",
          "Emily",
          "Rodi",
          "Arjan Z.",
          "Hans",
          "Kitty",
          "Stan",
          "Erwin",
          "Mees",
          "Jordi",
          "Wietse",
          "Isolde"
         ],
         "xaxis": "x",
         "y": [
          0,
          0,
          0,
          0,
          0,
          0,
          0,
          0,
          0,
          0,
          0,
          0,
          0,
          0,
          0,
          0,
          0,
          0,
          0,
          0,
          0,
          0,
          0,
          0,
          0,
          0,
          0,
          0,
          0,
          0,
          0,
          0,
          0,
          0,
          0,
          0,
          0,
          0,
          0,
          0,
          0,
          0,
          0,
          0,
          0,
          0,
          0,
          0,
          0,
          0,
          0,
          0,
          0,
          0,
          0,
          0,
          0,
          0,
          0,
          0,
          0,
          0,
          0,
          0,
          0,
          0,
          0,
          0,
          0,
          0,
          0,
          0,
          0,
          0,
          0,
          0,
          0,
          0,
          0,
          0,
          0,
          0,
          0,
          0,
          0,
          0,
          0,
          0
         ],
         "yaxis": "y"
        },
        {
         "alignmentgroup": "True",
         "bingroup": "x",
         "histfunc": "sum",
         "hovertemplate": "Japan<br>Punten = %{y}<extra></extra>",
         "legendgroup": "Japan",
         "marker": {
          "color": "#E377C2",
          "pattern": {
           "shape": ""
          }
         },
         "name": "Japan",
         "offsetgroup": "Japan",
         "orientation": "v",
         "showlegend": true,
         "type": "histogram",
         "x": [
          "Chiel",
          "Marco",
          "Corine",
          "Casper",
          "Raymond",
          "Niels",
          "Erik",
          "Grietje",
          "Arjan T.",
          "Charlotte",
          "Michiel",
          "Emily",
          "Rodi",
          "Arjan Z.",
          "Hans",
          "Kitty",
          "Stan",
          "Erwin",
          "Mees",
          "Jordi",
          "Wietse",
          "Isolde",
          "Chiel",
          "Marco",
          "Corine",
          "Casper",
          "Raymond",
          "Niels",
          "Erik",
          "Grietje",
          "Arjan T.",
          "Charlotte",
          "Michiel",
          "Emily",
          "Rodi",
          "Arjan Z.",
          "Hans",
          "Kitty",
          "Stan",
          "Erwin",
          "Mees",
          "Jordi",
          "Wietse",
          "Isolde",
          "Chiel",
          "Marco",
          "Corine",
          "Casper",
          "Raymond",
          "Niels",
          "Erik",
          "Grietje",
          "Arjan T.",
          "Charlotte",
          "Michiel",
          "Emily",
          "Rodi",
          "Arjan Z.",
          "Hans",
          "Kitty",
          "Stan",
          "Erwin",
          "Mees",
          "Jordi",
          "Wietse",
          "Isolde",
          "Chiel",
          "Marco",
          "Corine",
          "Casper",
          "Raymond",
          "Niels",
          "Erik",
          "Grietje",
          "Arjan T.",
          "Charlotte",
          "Michiel",
          "Emily",
          "Rodi",
          "Arjan Z.",
          "Hans",
          "Kitty",
          "Stan",
          "Erwin",
          "Mees",
          "Jordi",
          "Wietse",
          "Isolde"
         ],
         "xaxis": "x",
         "y": [
          0,
          0,
          0,
          0,
          0,
          0,
          0,
          0,
          0,
          0,
          0,
          0,
          0,
          0,
          0,
          0,
          0,
          0,
          0,
          0,
          0,
          0,
          0,
          0,
          0,
          0,
          0,
          0,
          0,
          0,
          0,
          0,
          0,
          0,
          0,
          0,
          0,
          0,
          0,
          0,
          0,
          0,
          0,
          0,
          0,
          0,
          0,
          0,
          0,
          0,
          0,
          0,
          0,
          0,
          0,
          0,
          0,
          0,
          0,
          0,
          0,
          0,
          0,
          0,
          0,
          0,
          0,
          0,
          0,
          0,
          0,
          0,
          0,
          0,
          0,
          0,
          0,
          0,
          0,
          0,
          0,
          0,
          0,
          0,
          0,
          0,
          0,
          0
         ],
         "yaxis": "y"
        },
        {
         "alignmentgroup": "True",
         "bingroup": "x",
         "histfunc": "sum",
         "hovertemplate": "Qatar<br>Punten = %{y}<extra></extra>",
         "legendgroup": "Qatar",
         "marker": {
          "color": "#7F7F7F",
          "pattern": {
           "shape": ""
          }
         },
         "name": "Qatar",
         "offsetgroup": "Qatar",
         "orientation": "v",
         "showlegend": true,
         "type": "histogram",
         "x": [
          "Chiel",
          "Marco",
          "Corine",
          "Casper",
          "Raymond",
          "Niels",
          "Erik",
          "Grietje",
          "Arjan T.",
          "Charlotte",
          "Michiel",
          "Emily",
          "Rodi",
          "Arjan Z.",
          "Hans",
          "Kitty",
          "Stan",
          "Erwin",
          "Mees",
          "Jordi",
          "Wietse",
          "Isolde",
          "Chiel",
          "Marco",
          "Corine",
          "Casper",
          "Raymond",
          "Niels",
          "Erik",
          "Grietje",
          "Arjan T.",
          "Charlotte",
          "Michiel",
          "Emily",
          "Rodi",
          "Arjan Z.",
          "Hans",
          "Kitty",
          "Stan",
          "Erwin",
          "Mees",
          "Jordi",
          "Wietse",
          "Isolde",
          "Chiel",
          "Marco",
          "Corine",
          "Casper",
          "Raymond",
          "Niels",
          "Erik",
          "Grietje",
          "Arjan T.",
          "Charlotte",
          "Michiel",
          "Emily",
          "Rodi",
          "Arjan Z.",
          "Hans",
          "Kitty",
          "Stan",
          "Erwin",
          "Mees",
          "Jordi",
          "Wietse",
          "Isolde",
          "Chiel",
          "Marco",
          "Corine",
          "Casper",
          "Raymond",
          "Niels",
          "Erik",
          "Grietje",
          "Arjan T.",
          "Charlotte",
          "Michiel",
          "Emily",
          "Rodi",
          "Arjan Z.",
          "Hans",
          "Kitty",
          "Stan",
          "Erwin",
          "Mees",
          "Jordi",
          "Wietse",
          "Isolde"
         ],
         "xaxis": "x",
         "y": [
          0,
          0,
          0,
          0,
          0,
          0,
          0,
          0,
          0,
          0,
          0,
          0,
          0,
          0,
          0,
          0,
          0,
          0,
          0,
          0,
          0,
          0,
          0,
          0,
          0,
          0,
          0,
          0,
          0,
          0,
          0,
          0,
          0,
          0,
          0,
          0,
          0,
          0,
          0,
          0,
          0,
          0,
          0,
          0,
          0,
          0,
          0,
          0,
          0,
          0,
          0,
          0,
          0,
          0,
          0,
          0,
          0,
          0,
          0,
          0,
          0,
          0,
          0,
          0,
          0,
          0,
          0,
          0,
          0,
          0,
          0,
          0,
          0,
          0,
          0,
          0,
          0,
          0,
          0,
          0,
          0,
          0,
          0,
          0,
          0,
          0,
          0,
          0
         ],
         "yaxis": "y"
        },
        {
         "alignmentgroup": "True",
         "bingroup": "x",
         "histfunc": "sum",
         "hovertemplate": "Verenigde Staten<br>Punten = %{y}<extra></extra>",
         "legendgroup": "Verenigde Staten",
         "marker": {
          "color": "#BCBD22",
          "pattern": {
           "shape": ""
          }
         },
         "name": "Verenigde Staten",
         "offsetgroup": "Verenigde Staten",
         "orientation": "v",
         "showlegend": true,
         "type": "histogram",
         "x": [
          "Chiel",
          "Marco",
          "Corine",
          "Casper",
          "Raymond",
          "Niels",
          "Erik",
          "Grietje",
          "Arjan T.",
          "Charlotte",
          "Michiel",
          "Emily",
          "Rodi",
          "Arjan Z.",
          "Hans",
          "Kitty",
          "Stan",
          "Erwin",
          "Mees",
          "Jordi",
          "Wietse",
          "Isolde",
          "Chiel",
          "Marco",
          "Corine",
          "Casper",
          "Raymond",
          "Niels",
          "Erik",
          "Grietje",
          "Arjan T.",
          "Charlotte",
          "Michiel",
          "Emily",
          "Rodi",
          "Arjan Z.",
          "Hans",
          "Kitty",
          "Stan",
          "Erwin",
          "Mees",
          "Jordi",
          "Wietse",
          "Isolde",
          "Chiel",
          "Marco",
          "Corine",
          "Casper",
          "Raymond",
          "Niels",
          "Erik",
          "Grietje",
          "Arjan T.",
          "Charlotte",
          "Michiel",
          "Emily",
          "Rodi",
          "Arjan Z.",
          "Hans",
          "Kitty",
          "Stan",
          "Erwin",
          "Mees",
          "Jordi",
          "Wietse",
          "Isolde",
          "Chiel",
          "Marco",
          "Corine",
          "Casper",
          "Raymond",
          "Niels",
          "Erik",
          "Grietje",
          "Arjan T.",
          "Charlotte",
          "Michiel",
          "Emily",
          "Rodi",
          "Arjan Z.",
          "Hans",
          "Kitty",
          "Stan",
          "Erwin",
          "Mees",
          "Jordi",
          "Wietse",
          "Isolde"
         ],
         "xaxis": "x",
         "y": [
          0,
          0,
          0,
          0,
          0,
          0,
          0,
          0,
          0,
          0,
          0,
          0,
          0,
          0,
          0,
          0,
          0,
          0,
          0,
          0,
          0,
          0,
          0,
          0,
          0,
          0,
          0,
          0,
          0,
          0,
          0,
          0,
          0,
          0,
          0,
          0,
          0,
          0,
          0,
          0,
          0,
          0,
          0,
          0,
          0,
          0,
          0,
          0,
          0,
          0,
          0,
          0,
          0,
          0,
          0,
          0,
          0,
          0,
          0,
          0,
          0,
          0,
          0,
          0,
          0,
          0,
          0,
          0,
          0,
          0,
          0,
          0,
          0,
          0,
          0,
          0,
          0,
          0,
          0,
          0,
          0,
          0,
          0,
          0,
          0,
          0,
          0,
          0
         ],
         "yaxis": "y"
        },
        {
         "alignmentgroup": "True",
         "bingroup": "x",
         "histfunc": "sum",
         "hovertemplate": "Mexico<br>Punten = %{y}<extra></extra>",
         "legendgroup": "Mexico",
         "marker": {
          "color": "#17BECF",
          "pattern": {
           "shape": ""
          }
         },
         "name": "Mexico",
         "offsetgroup": "Mexico",
         "orientation": "v",
         "showlegend": true,
         "type": "histogram",
         "x": [
          "Chiel",
          "Marco",
          "Corine",
          "Casper",
          "Raymond",
          "Niels",
          "Erik",
          "Grietje",
          "Arjan T.",
          "Charlotte",
          "Michiel",
          "Emily",
          "Rodi",
          "Arjan Z.",
          "Hans",
          "Kitty",
          "Stan",
          "Erwin",
          "Mees",
          "Jordi",
          "Wietse",
          "Isolde",
          "Chiel",
          "Marco",
          "Corine",
          "Casper",
          "Raymond",
          "Niels",
          "Erik",
          "Grietje",
          "Arjan T.",
          "Charlotte",
          "Michiel",
          "Emily",
          "Rodi",
          "Arjan Z.",
          "Hans",
          "Kitty",
          "Stan",
          "Erwin",
          "Mees",
          "Jordi",
          "Wietse",
          "Isolde",
          "Chiel",
          "Marco",
          "Corine",
          "Casper",
          "Raymond",
          "Niels",
          "Erik",
          "Grietje",
          "Arjan T.",
          "Charlotte",
          "Michiel",
          "Emily",
          "Rodi",
          "Arjan Z.",
          "Hans",
          "Kitty",
          "Stan",
          "Erwin",
          "Mees",
          "Jordi",
          "Wietse",
          "Isolde",
          "Chiel",
          "Marco",
          "Corine",
          "Casper",
          "Raymond",
          "Niels",
          "Erik",
          "Grietje",
          "Arjan T.",
          "Charlotte",
          "Michiel",
          "Emily",
          "Rodi",
          "Arjan Z.",
          "Hans",
          "Kitty",
          "Stan",
          "Erwin",
          "Mees",
          "Jordi",
          "Wietse",
          "Isolde"
         ],
         "xaxis": "x",
         "y": [
          0,
          0,
          0,
          0,
          0,
          0,
          0,
          0,
          0,
          0,
          0,
          0,
          0,
          0,
          0,
          0,
          0,
          0,
          0,
          0,
          0,
          0,
          0,
          0,
          0,
          0,
          0,
          0,
          0,
          0,
          0,
          0,
          0,
          0,
          0,
          0,
          0,
          0,
          0,
          0,
          0,
          0,
          0,
          0,
          0,
          0,
          0,
          0,
          0,
          0,
          0,
          0,
          0,
          0,
          0,
          0,
          0,
          0,
          0,
          0,
          0,
          0,
          0,
          0,
          0,
          0,
          0,
          0,
          0,
          0,
          0,
          0,
          0,
          0,
          0,
          0,
          0,
          0,
          0,
          0,
          0,
          0,
          0,
          0,
          0,
          0,
          0,
          0
         ],
         "yaxis": "y"
        },
        {
         "alignmentgroup": "True",
         "bingroup": "x",
         "histfunc": "sum",
         "hovertemplate": "Brazilië<br>Punten = %{y}<extra></extra>",
         "legendgroup": "Brazilië",
         "marker": {
          "color": "#1F77B4",
          "pattern": {
           "shape": ""
          }
         },
         "name": "Brazilië",
         "offsetgroup": "Brazilië",
         "orientation": "v",
         "showlegend": true,
         "type": "histogram",
         "x": [
          "Chiel",
          "Marco",
          "Corine",
          "Casper",
          "Raymond",
          "Niels",
          "Erik",
          "Grietje",
          "Arjan T.",
          "Charlotte",
          "Michiel",
          "Emily",
          "Rodi",
          "Arjan Z.",
          "Hans",
          "Kitty",
          "Stan",
          "Erwin",
          "Mees",
          "Jordi",
          "Wietse",
          "Isolde",
          "Chiel",
          "Marco",
          "Corine",
          "Casper",
          "Raymond",
          "Niels",
          "Erik",
          "Grietje",
          "Arjan T.",
          "Charlotte",
          "Michiel",
          "Emily",
          "Rodi",
          "Arjan Z.",
          "Hans",
          "Kitty",
          "Stan",
          "Erwin",
          "Mees",
          "Jordi",
          "Wietse",
          "Isolde",
          "Chiel",
          "Marco",
          "Corine",
          "Casper",
          "Raymond",
          "Niels",
          "Erik",
          "Grietje",
          "Arjan T.",
          "Charlotte",
          "Michiel",
          "Emily",
          "Rodi",
          "Arjan Z.",
          "Hans",
          "Kitty",
          "Stan",
          "Erwin",
          "Mees",
          "Jordi",
          "Wietse",
          "Isolde",
          "Chiel",
          "Marco",
          "Corine",
          "Casper",
          "Raymond",
          "Niels",
          "Erik",
          "Grietje",
          "Arjan T.",
          "Charlotte",
          "Michiel",
          "Emily",
          "Rodi",
          "Arjan Z.",
          "Hans",
          "Kitty",
          "Stan",
          "Erwin",
          "Mees",
          "Jordi",
          "Wietse",
          "Isolde"
         ],
         "xaxis": "x",
         "y": [
          0,
          0,
          0,
          0,
          0,
          0,
          0,
          0,
          0,
          0,
          0,
          0,
          0,
          0,
          0,
          0,
          0,
          0,
          0,
          0,
          0,
          0,
          0,
          0,
          0,
          0,
          0,
          0,
          0,
          0,
          0,
          0,
          0,
          0,
          0,
          0,
          0,
          0,
          0,
          0,
          0,
          0,
          0,
          0,
          0,
          0,
          0,
          0,
          0,
          0,
          0,
          0,
          0,
          0,
          0,
          0,
          0,
          0,
          0,
          0,
          0,
          0,
          0,
          0,
          0,
          0,
          0,
          0,
          0,
          0,
          0,
          0,
          0,
          0,
          0,
          0,
          0,
          0,
          0,
          0,
          0,
          0,
          0,
          0,
          0,
          0,
          0,
          0
         ],
         "yaxis": "y"
        },
        {
         "alignmentgroup": "True",
         "bingroup": "x",
         "histfunc": "sum",
         "hovertemplate": "Las Vegas<br>Punten = %{y}<extra></extra>",
         "legendgroup": "Las Vegas",
         "marker": {
          "color": "#FF7F0E",
          "pattern": {
           "shape": ""
          }
         },
         "name": "Las Vegas",
         "offsetgroup": "Las Vegas",
         "orientation": "v",
         "showlegend": true,
         "type": "histogram",
         "x": [
          "Chiel",
          "Marco",
          "Corine",
          "Casper",
          "Raymond",
          "Niels",
          "Erik",
          "Grietje",
          "Arjan T.",
          "Charlotte",
          "Michiel",
          "Emily",
          "Rodi",
          "Arjan Z.",
          "Hans",
          "Kitty",
          "Stan",
          "Erwin",
          "Mees",
          "Jordi",
          "Wietse",
          "Isolde",
          "Chiel",
          "Marco",
          "Corine",
          "Casper",
          "Raymond",
          "Niels",
          "Erik",
          "Grietje",
          "Arjan T.",
          "Charlotte",
          "Michiel",
          "Emily",
          "Rodi",
          "Arjan Z.",
          "Hans",
          "Kitty",
          "Stan",
          "Erwin",
          "Mees",
          "Jordi",
          "Wietse",
          "Isolde",
          "Chiel",
          "Marco",
          "Corine",
          "Casper",
          "Raymond",
          "Niels",
          "Erik",
          "Grietje",
          "Arjan T.",
          "Charlotte",
          "Michiel",
          "Emily",
          "Rodi",
          "Arjan Z.",
          "Hans",
          "Kitty",
          "Stan",
          "Erwin",
          "Mees",
          "Jordi",
          "Wietse",
          "Isolde",
          "Chiel",
          "Marco",
          "Corine",
          "Casper",
          "Raymond",
          "Niels",
          "Erik",
          "Grietje",
          "Arjan T.",
          "Charlotte",
          "Michiel",
          "Emily",
          "Rodi",
          "Arjan Z.",
          "Hans",
          "Kitty",
          "Stan",
          "Erwin",
          "Mees",
          "Jordi",
          "Wietse",
          "Isolde"
         ],
         "xaxis": "x",
         "y": [
          0,
          0,
          0,
          0,
          0,
          0,
          0,
          0,
          0,
          0,
          0,
          0,
          0,
          0,
          0,
          0,
          0,
          0,
          0,
          0,
          0,
          0,
          0,
          0,
          0,
          0,
          0,
          0,
          0,
          0,
          0,
          0,
          0,
          0,
          0,
          0,
          0,
          0,
          0,
          0,
          0,
          0,
          0,
          0,
          0,
          0,
          0,
          0,
          0,
          0,
          0,
          0,
          0,
          0,
          0,
          0,
          0,
          0,
          0,
          0,
          0,
          0,
          0,
          0,
          0,
          0,
          0,
          0,
          0,
          0,
          0,
          0,
          0,
          0,
          0,
          0,
          0,
          0,
          0,
          0,
          0,
          0,
          0,
          0,
          0,
          0,
          0,
          0
         ],
         "yaxis": "y"
        },
        {
         "alignmentgroup": "True",
         "bingroup": "x",
         "histfunc": "sum",
         "hovertemplate": "Abu Dhabi<br>Punten = %{y}<extra></extra>",
         "legendgroup": "Abu Dhabi",
         "marker": {
          "color": "#2CA02C",
          "pattern": {
           "shape": ""
          }
         },
         "name": "Abu Dhabi",
         "offsetgroup": "Abu Dhabi",
         "orientation": "v",
         "showlegend": true,
         "type": "histogram",
         "x": [
          "Chiel",
          "Marco",
          "Corine",
          "Casper",
          "Raymond",
          "Niels",
          "Erik",
          "Grietje",
          "Arjan T.",
          "Charlotte",
          "Michiel",
          "Emily",
          "Rodi",
          "Arjan Z.",
          "Hans",
          "Kitty",
          "Stan",
          "Erwin",
          "Mees",
          "Jordi",
          "Wietse",
          "Isolde",
          "Chiel",
          "Marco",
          "Corine",
          "Casper",
          "Raymond",
          "Niels",
          "Erik",
          "Grietje",
          "Arjan T.",
          "Charlotte",
          "Michiel",
          "Emily",
          "Rodi",
          "Arjan Z.",
          "Hans",
          "Kitty",
          "Stan",
          "Erwin",
          "Mees",
          "Jordi",
          "Wietse",
          "Isolde",
          "Chiel",
          "Marco",
          "Corine",
          "Casper",
          "Raymond",
          "Niels",
          "Erik",
          "Grietje",
          "Arjan T.",
          "Charlotte",
          "Michiel",
          "Emily",
          "Rodi",
          "Arjan Z.",
          "Hans",
          "Kitty",
          "Stan",
          "Erwin",
          "Mees",
          "Jordi",
          "Wietse",
          "Isolde",
          "Chiel",
          "Marco",
          "Corine",
          "Casper",
          "Raymond",
          "Niels",
          "Erik",
          "Grietje",
          "Arjan T.",
          "Charlotte",
          "Michiel",
          "Emily",
          "Rodi",
          "Arjan Z.",
          "Hans",
          "Kitty",
          "Stan",
          "Erwin",
          "Mees",
          "Jordi",
          "Wietse",
          "Isolde"
         ],
         "xaxis": "x",
         "y": [
          0,
          0,
          0,
          0,
          0,
          0,
          0,
          0,
          0,
          0,
          0,
          0,
          0,
          0,
          0,
          0,
          0,
          0,
          0,
          0,
          0,
          0,
          0,
          0,
          0,
          0,
          0,
          0,
          0,
          0,
          0,
          0,
          0,
          0,
          0,
          0,
          0,
          0,
          0,
          0,
          0,
          0,
          0,
          0,
          0,
          0,
          0,
          0,
          0,
          0,
          0,
          0,
          0,
          0,
          0,
          0,
          0,
          0,
          0,
          0,
          0,
          0,
          0,
          0,
          0,
          0,
          0,
          0,
          0,
          0,
          0,
          0,
          0,
          0,
          0,
          0,
          0,
          0,
          0,
          0,
          0,
          0,
          0,
          0,
          0,
          0,
          0,
          0
         ],
         "yaxis": "y"
        }
       ],
       "layout": {
        "barmode": "relative",
        "height": 660,
        "legend": {
         "title": {
          "text": "Races"
         },
         "tracegroupgap": 0
        },
        "template": {
         "data": {
          "bar": [
           {
            "error_x": {
             "color": "rgb(36,36,36)"
            },
            "error_y": {
             "color": "rgb(36,36,36)"
            },
            "marker": {
             "line": {
              "color": "white",
              "width": 0.5
             },
             "pattern": {
              "fillmode": "overlay",
              "size": 10,
              "solidity": 0.2
             }
            },
            "type": "bar"
           }
          ],
          "barpolar": [
           {
            "marker": {
             "line": {
              "color": "white",
              "width": 0.5
             },
             "pattern": {
              "fillmode": "overlay",
              "size": 10,
              "solidity": 0.2
             }
            },
            "type": "barpolar"
           }
          ],
          "carpet": [
           {
            "aaxis": {
             "endlinecolor": "rgb(36,36,36)",
             "gridcolor": "white",
             "linecolor": "white",
             "minorgridcolor": "white",
             "startlinecolor": "rgb(36,36,36)"
            },
            "baxis": {
             "endlinecolor": "rgb(36,36,36)",
             "gridcolor": "white",
             "linecolor": "white",
             "minorgridcolor": "white",
             "startlinecolor": "rgb(36,36,36)"
            },
            "type": "carpet"
           }
          ],
          "choropleth": [
           {
            "colorbar": {
             "outlinewidth": 1,
             "tickcolor": "rgb(36,36,36)",
             "ticks": "outside"
            },
            "type": "choropleth"
           }
          ],
          "contour": [
           {
            "colorbar": {
             "outlinewidth": 1,
             "tickcolor": "rgb(36,36,36)",
             "ticks": "outside"
            },
            "colorscale": [
             [
              0,
              "#440154"
             ],
             [
              0.1111111111111111,
              "#482878"
             ],
             [
              0.2222222222222222,
              "#3e4989"
             ],
             [
              0.3333333333333333,
              "#31688e"
             ],
             [
              0.4444444444444444,
              "#26828e"
             ],
             [
              0.5555555555555556,
              "#1f9e89"
             ],
             [
              0.6666666666666666,
              "#35b779"
             ],
             [
              0.7777777777777778,
              "#6ece58"
             ],
             [
              0.8888888888888888,
              "#b5de2b"
             ],
             [
              1,
              "#fde725"
             ]
            ],
            "type": "contour"
           }
          ],
          "contourcarpet": [
           {
            "colorbar": {
             "outlinewidth": 1,
             "tickcolor": "rgb(36,36,36)",
             "ticks": "outside"
            },
            "type": "contourcarpet"
           }
          ],
          "heatmap": [
           {
            "colorbar": {
             "outlinewidth": 1,
             "tickcolor": "rgb(36,36,36)",
             "ticks": "outside"
            },
            "colorscale": [
             [
              0,
              "#440154"
             ],
             [
              0.1111111111111111,
              "#482878"
             ],
             [
              0.2222222222222222,
              "#3e4989"
             ],
             [
              0.3333333333333333,
              "#31688e"
             ],
             [
              0.4444444444444444,
              "#26828e"
             ],
             [
              0.5555555555555556,
              "#1f9e89"
             ],
             [
              0.6666666666666666,
              "#35b779"
             ],
             [
              0.7777777777777778,
              "#6ece58"
             ],
             [
              0.8888888888888888,
              "#b5de2b"
             ],
             [
              1,
              "#fde725"
             ]
            ],
            "type": "heatmap"
           }
          ],
          "heatmapgl": [
           {
            "colorbar": {
             "outlinewidth": 1,
             "tickcolor": "rgb(36,36,36)",
             "ticks": "outside"
            },
            "colorscale": [
             [
              0,
              "#440154"
             ],
             [
              0.1111111111111111,
              "#482878"
             ],
             [
              0.2222222222222222,
              "#3e4989"
             ],
             [
              0.3333333333333333,
              "#31688e"
             ],
             [
              0.4444444444444444,
              "#26828e"
             ],
             [
              0.5555555555555556,
              "#1f9e89"
             ],
             [
              0.6666666666666666,
              "#35b779"
             ],
             [
              0.7777777777777778,
              "#6ece58"
             ],
             [
              0.8888888888888888,
              "#b5de2b"
             ],
             [
              1,
              "#fde725"
             ]
            ],
            "type": "heatmapgl"
           }
          ],
          "histogram": [
           {
            "marker": {
             "line": {
              "color": "white",
              "width": 0.6
             }
            },
            "type": "histogram"
           }
          ],
          "histogram2d": [
           {
            "colorbar": {
             "outlinewidth": 1,
             "tickcolor": "rgb(36,36,36)",
             "ticks": "outside"
            },
            "colorscale": [
             [
              0,
              "#440154"
             ],
             [
              0.1111111111111111,
              "#482878"
             ],
             [
              0.2222222222222222,
              "#3e4989"
             ],
             [
              0.3333333333333333,
              "#31688e"
             ],
             [
              0.4444444444444444,
              "#26828e"
             ],
             [
              0.5555555555555556,
              "#1f9e89"
             ],
             [
              0.6666666666666666,
              "#35b779"
             ],
             [
              0.7777777777777778,
              "#6ece58"
             ],
             [
              0.8888888888888888,
              "#b5de2b"
             ],
             [
              1,
              "#fde725"
             ]
            ],
            "type": "histogram2d"
           }
          ],
          "histogram2dcontour": [
           {
            "colorbar": {
             "outlinewidth": 1,
             "tickcolor": "rgb(36,36,36)",
             "ticks": "outside"
            },
            "colorscale": [
             [
              0,
              "#440154"
             ],
             [
              0.1111111111111111,
              "#482878"
             ],
             [
              0.2222222222222222,
              "#3e4989"
             ],
             [
              0.3333333333333333,
              "#31688e"
             ],
             [
              0.4444444444444444,
              "#26828e"
             ],
             [
              0.5555555555555556,
              "#1f9e89"
             ],
             [
              0.6666666666666666,
              "#35b779"
             ],
             [
              0.7777777777777778,
              "#6ece58"
             ],
             [
              0.8888888888888888,
              "#b5de2b"
             ],
             [
              1,
              "#fde725"
             ]
            ],
            "type": "histogram2dcontour"
           }
          ],
          "mesh3d": [
           {
            "colorbar": {
             "outlinewidth": 1,
             "tickcolor": "rgb(36,36,36)",
             "ticks": "outside"
            },
            "type": "mesh3d"
           }
          ],
          "parcoords": [
           {
            "line": {
             "colorbar": {
              "outlinewidth": 1,
              "tickcolor": "rgb(36,36,36)",
              "ticks": "outside"
             }
            },
            "type": "parcoords"
           }
          ],
          "pie": [
           {
            "automargin": true,
            "type": "pie"
           }
          ],
          "scatter": [
           {
            "fillpattern": {
             "fillmode": "overlay",
             "size": 10,
             "solidity": 0.2
            },
            "type": "scatter"
           }
          ],
          "scatter3d": [
           {
            "line": {
             "colorbar": {
              "outlinewidth": 1,
              "tickcolor": "rgb(36,36,36)",
              "ticks": "outside"
             }
            },
            "marker": {
             "colorbar": {
              "outlinewidth": 1,
              "tickcolor": "rgb(36,36,36)",
              "ticks": "outside"
             }
            },
            "type": "scatter3d"
           }
          ],
          "scattercarpet": [
           {
            "marker": {
             "colorbar": {
              "outlinewidth": 1,
              "tickcolor": "rgb(36,36,36)",
              "ticks": "outside"
             }
            },
            "type": "scattercarpet"
           }
          ],
          "scattergeo": [
           {
            "marker": {
             "colorbar": {
              "outlinewidth": 1,
              "tickcolor": "rgb(36,36,36)",
              "ticks": "outside"
             }
            },
            "type": "scattergeo"
           }
          ],
          "scattergl": [
           {
            "marker": {
             "colorbar": {
              "outlinewidth": 1,
              "tickcolor": "rgb(36,36,36)",
              "ticks": "outside"
             }
            },
            "type": "scattergl"
           }
          ],
          "scattermapbox": [
           {
            "marker": {
             "colorbar": {
              "outlinewidth": 1,
              "tickcolor": "rgb(36,36,36)",
              "ticks": "outside"
             }
            },
            "type": "scattermapbox"
           }
          ],
          "scatterpolar": [
           {
            "marker": {
             "colorbar": {
              "outlinewidth": 1,
              "tickcolor": "rgb(36,36,36)",
              "ticks": "outside"
             }
            },
            "type": "scatterpolar"
           }
          ],
          "scatterpolargl": [
           {
            "marker": {
             "colorbar": {
              "outlinewidth": 1,
              "tickcolor": "rgb(36,36,36)",
              "ticks": "outside"
             }
            },
            "type": "scatterpolargl"
           }
          ],
          "scatterternary": [
           {
            "marker": {
             "colorbar": {
              "outlinewidth": 1,
              "tickcolor": "rgb(36,36,36)",
              "ticks": "outside"
             }
            },
            "type": "scatterternary"
           }
          ],
          "surface": [
           {
            "colorbar": {
             "outlinewidth": 1,
             "tickcolor": "rgb(36,36,36)",
             "ticks": "outside"
            },
            "colorscale": [
             [
              0,
              "#440154"
             ],
             [
              0.1111111111111111,
              "#482878"
             ],
             [
              0.2222222222222222,
              "#3e4989"
             ],
             [
              0.3333333333333333,
              "#31688e"
             ],
             [
              0.4444444444444444,
              "#26828e"
             ],
             [
              0.5555555555555556,
              "#1f9e89"
             ],
             [
              0.6666666666666666,
              "#35b779"
             ],
             [
              0.7777777777777778,
              "#6ece58"
             ],
             [
              0.8888888888888888,
              "#b5de2b"
             ],
             [
              1,
              "#fde725"
             ]
            ],
            "type": "surface"
           }
          ],
          "table": [
           {
            "cells": {
             "fill": {
              "color": "rgb(237,237,237)"
             },
             "line": {
              "color": "white"
             }
            },
            "header": {
             "fill": {
              "color": "rgb(217,217,217)"
             },
             "line": {
              "color": "white"
             }
            },
            "type": "table"
           }
          ]
         },
         "layout": {
          "annotationdefaults": {
           "arrowhead": 0,
           "arrowwidth": 1
          },
          "autotypenumbers": "strict",
          "coloraxis": {
           "colorbar": {
            "outlinewidth": 1,
            "tickcolor": "rgb(36,36,36)",
            "ticks": "outside"
           }
          },
          "colorscale": {
           "diverging": [
            [
             0,
             "rgb(103,0,31)"
            ],
            [
             0.1,
             "rgb(178,24,43)"
            ],
            [
             0.2,
             "rgb(214,96,77)"
            ],
            [
             0.3,
             "rgb(244,165,130)"
            ],
            [
             0.4,
             "rgb(253,219,199)"
            ],
            [
             0.5,
             "rgb(247,247,247)"
            ],
            [
             0.6,
             "rgb(209,229,240)"
            ],
            [
             0.7,
             "rgb(146,197,222)"
            ],
            [
             0.8,
             "rgb(67,147,195)"
            ],
            [
             0.9,
             "rgb(33,102,172)"
            ],
            [
             1,
             "rgb(5,48,97)"
            ]
           ],
           "sequential": [
            [
             0,
             "#440154"
            ],
            [
             0.1111111111111111,
             "#482878"
            ],
            [
             0.2222222222222222,
             "#3e4989"
            ],
            [
             0.3333333333333333,
             "#31688e"
            ],
            [
             0.4444444444444444,
             "#26828e"
            ],
            [
             0.5555555555555556,
             "#1f9e89"
            ],
            [
             0.6666666666666666,
             "#35b779"
            ],
            [
             0.7777777777777778,
             "#6ece58"
            ],
            [
             0.8888888888888888,
             "#b5de2b"
            ],
            [
             1,
             "#fde725"
            ]
           ],
           "sequentialminus": [
            [
             0,
             "#440154"
            ],
            [
             0.1111111111111111,
             "#482878"
            ],
            [
             0.2222222222222222,
             "#3e4989"
            ],
            [
             0.3333333333333333,
             "#31688e"
            ],
            [
             0.4444444444444444,
             "#26828e"
            ],
            [
             0.5555555555555556,
             "#1f9e89"
            ],
            [
             0.6666666666666666,
             "#35b779"
            ],
            [
             0.7777777777777778,
             "#6ece58"
            ],
            [
             0.8888888888888888,
             "#b5de2b"
            ],
            [
             1,
             "#fde725"
            ]
           ]
          },
          "colorway": [
           "#1F77B4",
           "#FF7F0E",
           "#2CA02C",
           "#D62728",
           "#9467BD",
           "#8C564B",
           "#E377C2",
           "#7F7F7F",
           "#BCBD22",
           "#17BECF"
          ],
          "font": {
           "color": "rgb(36,36,36)"
          },
          "geo": {
           "bgcolor": "white",
           "lakecolor": "white",
           "landcolor": "white",
           "showlakes": true,
           "showland": true,
           "subunitcolor": "white"
          },
          "hoverlabel": {
           "align": "left"
          },
          "hovermode": "closest",
          "mapbox": {
           "style": "light"
          },
          "paper_bgcolor": "white",
          "plot_bgcolor": "white",
          "polar": {
           "angularaxis": {
            "gridcolor": "rgb(232,232,232)",
            "linecolor": "rgb(36,36,36)",
            "showgrid": false,
            "showline": true,
            "ticks": "outside"
           },
           "bgcolor": "white",
           "radialaxis": {
            "gridcolor": "rgb(232,232,232)",
            "linecolor": "rgb(36,36,36)",
            "showgrid": false,
            "showline": true,
            "ticks": "outside"
           }
          },
          "scene": {
           "xaxis": {
            "backgroundcolor": "white",
            "gridcolor": "rgb(232,232,232)",
            "gridwidth": 2,
            "linecolor": "rgb(36,36,36)",
            "showbackground": true,
            "showgrid": false,
            "showline": true,
            "ticks": "outside",
            "zeroline": false,
            "zerolinecolor": "rgb(36,36,36)"
           },
           "yaxis": {
            "backgroundcolor": "white",
            "gridcolor": "rgb(232,232,232)",
            "gridwidth": 2,
            "linecolor": "rgb(36,36,36)",
            "showbackground": true,
            "showgrid": false,
            "showline": true,
            "ticks": "outside",
            "zeroline": false,
            "zerolinecolor": "rgb(36,36,36)"
           },
           "zaxis": {
            "backgroundcolor": "white",
            "gridcolor": "rgb(232,232,232)",
            "gridwidth": 2,
            "linecolor": "rgb(36,36,36)",
            "showbackground": true,
            "showgrid": false,
            "showline": true,
            "ticks": "outside",
            "zeroline": false,
            "zerolinecolor": "rgb(36,36,36)"
           }
          },
          "shapedefaults": {
           "fillcolor": "black",
           "line": {
            "width": 0
           },
           "opacity": 0.3
          },
          "ternary": {
           "aaxis": {
            "gridcolor": "rgb(232,232,232)",
            "linecolor": "rgb(36,36,36)",
            "showgrid": false,
            "showline": true,
            "ticks": "outside"
           },
           "baxis": {
            "gridcolor": "rgb(232,232,232)",
            "linecolor": "rgb(36,36,36)",
            "showgrid": false,
            "showline": true,
            "ticks": "outside"
           },
           "bgcolor": "white",
           "caxis": {
            "gridcolor": "rgb(232,232,232)",
            "linecolor": "rgb(36,36,36)",
            "showgrid": false,
            "showline": true,
            "ticks": "outside"
           }
          },
          "title": {
           "x": 0.05
          },
          "xaxis": {
           "automargin": true,
           "gridcolor": "rgb(232,232,232)",
           "linecolor": "rgb(36,36,36)",
           "showgrid": false,
           "showline": true,
           "ticks": "outside",
           "title": {
            "standoff": 15
           },
           "zeroline": false,
           "zerolinecolor": "rgb(36,36,36)"
          },
          "yaxis": {
           "automargin": true,
           "gridcolor": "rgb(232,232,232)",
           "linecolor": "rgb(36,36,36)",
           "showgrid": false,
           "showline": true,
           "ticks": "outside",
           "title": {
            "standoff": 15
           },
           "zeroline": false,
           "zerolinecolor": "rgb(36,36,36)"
          }
         }
        },
        "title": {
         "text": "Stand"
        },
        "width": 960,
        "xaxis": {
         "anchor": "y",
         "categoryarray": [
          "Arjan T.",
          "Arjan Z.",
          "Casper",
          "Charlotte",
          "Chiel",
          "Corine",
          "Emily",
          "Erik",
          "Erwin",
          "Grietje",
          "Hans",
          "Isolde",
          "Jordi",
          "Kitty",
          "Marco",
          "Mees",
          "Michiel",
          "Niels",
          "Raymond",
          "Rodi",
          "Stan",
          "Wietse"
         ],
         "categoryorder": "array",
         "domain": [
          0,
          1
         ],
         "title": {
          "text": "Teams"
         }
        },
        "yaxis": {
         "anchor": "x",
         "domain": [
          0,
          1
         ],
         "showgrid": true,
         "title": {
          "text": "Totale punten"
         }
        }
       }
      },
      "text/html": [
       "<div>                            <div id=\"9c1fe453-0c9f-4cc7-b00c-b2798dc595cb\" class=\"plotly-graph-div\" style=\"height:660px; width:960px;\"></div>            <script type=\"text/javascript\">                require([\"plotly\"], function(Plotly) {                    window.PLOTLYENV=window.PLOTLYENV || {};                                    if (document.getElementById(\"9c1fe453-0c9f-4cc7-b00c-b2798dc595cb\")) {                    Plotly.newPlot(                        \"9c1fe453-0c9f-4cc7-b00c-b2798dc595cb\",                        [{\"alignmentgroup\":\"True\",\"bingroup\":\"x\",\"histfunc\":\"sum\",\"hovertemplate\":\"Bahrein<br>Punten = %{y}<extra></extra>\",\"legendgroup\":\"Bahrein\",\"marker\":{\"color\":\"#1F77B4\",\"pattern\":{\"shape\":\"\"}},\"name\":\"Bahrein\",\"offsetgroup\":\"Bahrein\",\"orientation\":\"v\",\"showlegend\":true,\"x\":[\"Chiel\",\"Marco\",\"Corine\",\"Casper\",\"Raymond\",\"Niels\",\"Erik\",\"Grietje\",\"Arjan T.\",\"Charlotte\",\"Michiel\",\"Emily\",\"Rodi\",\"Arjan Z.\",\"Hans\",\"Kitty\",\"Stan\",\"Erwin\",\"Mees\",\"Jordi\",\"Wietse\",\"Isolde\",\"Chiel\",\"Marco\",\"Corine\",\"Casper\",\"Raymond\",\"Niels\",\"Erik\",\"Grietje\",\"Arjan T.\",\"Charlotte\",\"Michiel\",\"Emily\",\"Rodi\",\"Arjan Z.\",\"Hans\",\"Kitty\",\"Stan\",\"Erwin\",\"Mees\",\"Jordi\",\"Wietse\",\"Isolde\",\"Chiel\",\"Marco\",\"Corine\",\"Casper\",\"Raymond\",\"Niels\",\"Erik\",\"Grietje\",\"Arjan T.\",\"Charlotte\",\"Michiel\",\"Emily\",\"Rodi\",\"Arjan Z.\",\"Hans\",\"Kitty\",\"Stan\",\"Erwin\",\"Mees\",\"Jordi\",\"Wietse\",\"Isolde\",\"Chiel\",\"Marco\",\"Corine\",\"Casper\",\"Raymond\",\"Niels\",\"Erik\",\"Grietje\",\"Arjan T.\",\"Charlotte\",\"Michiel\",\"Emily\",\"Rodi\",\"Arjan Z.\",\"Hans\",\"Kitty\",\"Stan\",\"Erwin\",\"Mees\",\"Jordi\",\"Wietse\",\"Isolde\"],\"xaxis\":\"x\",\"y\":[7.5,3.0,9.0,5.0,9.0,0.0,6.0,0.0,0.0,9.0,9.0,6.0,0.0,0.0,5.0,5.0,0.0,0.0,3.0,0.0,0.0,0.0,4.0,7.5,0.5,7.5,7.5,7.5,0.0,0.0,5.0,0.0,0.0,0.0,5.0,5.0,1.0,0.0,3.0,0.0,0.0,0.0,1.0,0.0,8.6,4.6000000000000005,4.6000000000000005,0.8,0.4,3.2,4.6000000000000005,8.6,0.0,0.4,0.0,0.0,0.4,0.0,0.0,0.4,0.8,0.4,0.4,0.0,0.0,0.0,1.5999999999999999,6.45,6.45,6.45,1.5999999999999999,6.45,6.45,3.0,6.45,1.5999999999999999,1.5999999999999999,3.0,3.0,3.0,1.5999999999999999,1.5999999999999999,3.0,6.45,3.0,1.5999999999999999,0.6,1.5999999999999999],\"yaxis\":\"y\",\"type\":\"histogram\"},{\"alignmentgroup\":\"True\",\"bingroup\":\"x\",\"histfunc\":\"sum\",\"hovertemplate\":\"Saudi-Arabi\\u00eb<br>Punten = %{y}<extra></extra>\",\"legendgroup\":\"Saudi-Arabi\\u00eb\",\"marker\":{\"color\":\"#FF7F0E\",\"pattern\":{\"shape\":\"\"}},\"name\":\"Saudi-Arabi\\u00eb\",\"offsetgroup\":\"Saudi-Arabi\\u00eb\",\"orientation\":\"v\",\"showlegend\":true,\"x\":[\"Chiel\",\"Marco\",\"Corine\",\"Casper\",\"Raymond\",\"Niels\",\"Erik\",\"Grietje\",\"Arjan T.\",\"Charlotte\",\"Michiel\",\"Emily\",\"Rodi\",\"Arjan Z.\",\"Hans\",\"Kitty\",\"Stan\",\"Erwin\",\"Mees\",\"Jordi\",\"Wietse\",\"Isolde\",\"Chiel\",\"Marco\",\"Corine\",\"Casper\",\"Raymond\",\"Niels\",\"Erik\",\"Grietje\",\"Arjan T.\",\"Charlotte\",\"Michiel\",\"Emily\",\"Rodi\",\"Arjan Z.\",\"Hans\",\"Kitty\",\"Stan\",\"Erwin\",\"Mees\",\"Jordi\",\"Wietse\",\"Isolde\",\"Chiel\",\"Marco\",\"Corine\",\"Casper\",\"Raymond\",\"Niels\",\"Erik\",\"Grietje\",\"Arjan T.\",\"Charlotte\",\"Michiel\",\"Emily\",\"Rodi\",\"Arjan Z.\",\"Hans\",\"Kitty\",\"Stan\",\"Erwin\",\"Mees\",\"Jordi\",\"Wietse\",\"Isolde\",\"Chiel\",\"Marco\",\"Corine\",\"Casper\",\"Raymond\",\"Niels\",\"Erik\",\"Grietje\",\"Arjan T.\",\"Charlotte\",\"Michiel\",\"Emily\",\"Rodi\",\"Arjan Z.\",\"Hans\",\"Kitty\",\"Stan\",\"Erwin\",\"Mees\",\"Jordi\",\"Wietse\",\"Isolde\"],\"xaxis\":\"x\",\"y\":[0.0,0.0,0.0,0.0,0.0,0.0,0.0,0.0,0.0,0.0,0.0,0.0,0.0,0.0,0.0,0.0,0.0,0.0,0.0,0.0,0.0,0.0,0.0,0.0,0.0,0.0,0.0,0.0,0.0,0.0,0.0,0.0,0.0,0.0,0.0,0.0,0.0,0.0,0.0,0.0,0.0,0.0,0.0,0.0,0.0,0.0,0.0,0.0,0.0,0.0,0.0,0.0,0.0,0.0,0.0,0.0,0.0,0.0,0.0,0.0,0.0,0.0,0.0,0.0,0.0,0.0,0.0,0.0,0.0,0.0,0.0,0.0,0.0,0.0,0.0,0.0,0.0,0.0,0.0,0.0,0.0,0.0,0.0,0.0,0.0,0.0,0.0,0.0],\"yaxis\":\"y\",\"type\":\"histogram\"},{\"alignmentgroup\":\"True\",\"bingroup\":\"x\",\"histfunc\":\"sum\",\"hovertemplate\":\"Australi\\u00eb<br>Punten = %{y}<extra></extra>\",\"legendgroup\":\"Australi\\u00eb\",\"marker\":{\"color\":\"#2CA02C\",\"pattern\":{\"shape\":\"\"}},\"name\":\"Australi\\u00eb\",\"offsetgroup\":\"Australi\\u00eb\",\"orientation\":\"v\",\"showlegend\":true,\"x\":[\"Chiel\",\"Marco\",\"Corine\",\"Casper\",\"Raymond\",\"Niels\",\"Erik\",\"Grietje\",\"Arjan T.\",\"Charlotte\",\"Michiel\",\"Emily\",\"Rodi\",\"Arjan Z.\",\"Hans\",\"Kitty\",\"Stan\",\"Erwin\",\"Mees\",\"Jordi\",\"Wietse\",\"Isolde\",\"Chiel\",\"Marco\",\"Corine\",\"Casper\",\"Raymond\",\"Niels\",\"Erik\",\"Grietje\",\"Arjan T.\",\"Charlotte\",\"Michiel\",\"Emily\",\"Rodi\",\"Arjan Z.\",\"Hans\",\"Kitty\",\"Stan\",\"Erwin\",\"Mees\",\"Jordi\",\"Wietse\",\"Isolde\",\"Chiel\",\"Marco\",\"Corine\",\"Casper\",\"Raymond\",\"Niels\",\"Erik\",\"Grietje\",\"Arjan T.\",\"Charlotte\",\"Michiel\",\"Emily\",\"Rodi\",\"Arjan Z.\",\"Hans\",\"Kitty\",\"Stan\",\"Erwin\",\"Mees\",\"Jordi\",\"Wietse\",\"Isolde\",\"Chiel\",\"Marco\",\"Corine\",\"Casper\",\"Raymond\",\"Niels\",\"Erik\",\"Grietje\",\"Arjan T.\",\"Charlotte\",\"Michiel\",\"Emily\",\"Rodi\",\"Arjan Z.\",\"Hans\",\"Kitty\",\"Stan\",\"Erwin\",\"Mees\",\"Jordi\",\"Wietse\",\"Isolde\"],\"xaxis\":\"x\",\"y\":[0.0,0.0,0.0,0.0,0.0,0.0,0.0,0.0,0.0,0.0,0.0,0.0,0.0,0.0,0.0,0.0,0.0,0.0,0.0,0.0,0.0,0.0,0.0,0.0,0.0,0.0,0.0,0.0,0.0,0.0,0.0,0.0,0.0,0.0,0.0,0.0,0.0,0.0,0.0,0.0,0.0,0.0,0.0,0.0,0.0,0.0,0.0,0.0,0.0,0.0,0.0,0.0,0.0,0.0,0.0,0.0,0.0,0.0,0.0,0.0,0.0,0.0,0.0,0.0,0.0,0.0,0.0,0.0,0.0,0.0,0.0,0.0,0.0,0.0,0.0,0.0,0.0,0.0,0.0,0.0,0.0,0.0,0.0,0.0,0.0,0.0,0.0,0.0],\"yaxis\":\"y\",\"type\":\"histogram\"},{\"alignmentgroup\":\"True\",\"bingroup\":\"x\",\"histfunc\":\"sum\",\"hovertemplate\":\"Azerbeidzjan<br>Punten = %{y}<extra></extra>\",\"legendgroup\":\"Azerbeidzjan\",\"marker\":{\"color\":\"#D62728\",\"pattern\":{\"shape\":\"\"}},\"name\":\"Azerbeidzjan\",\"offsetgroup\":\"Azerbeidzjan\",\"orientation\":\"v\",\"showlegend\":true,\"x\":[\"Chiel\",\"Marco\",\"Corine\",\"Casper\",\"Raymond\",\"Niels\",\"Erik\",\"Grietje\",\"Arjan T.\",\"Charlotte\",\"Michiel\",\"Emily\",\"Rodi\",\"Arjan Z.\",\"Hans\",\"Kitty\",\"Stan\",\"Erwin\",\"Mees\",\"Jordi\",\"Wietse\",\"Isolde\",\"Chiel\",\"Marco\",\"Corine\",\"Casper\",\"Raymond\",\"Niels\",\"Erik\",\"Grietje\",\"Arjan T.\",\"Charlotte\",\"Michiel\",\"Emily\",\"Rodi\",\"Arjan Z.\",\"Hans\",\"Kitty\",\"Stan\",\"Erwin\",\"Mees\",\"Jordi\",\"Wietse\",\"Isolde\",\"Chiel\",\"Marco\",\"Corine\",\"Casper\",\"Raymond\",\"Niels\",\"Erik\",\"Grietje\",\"Arjan T.\",\"Charlotte\",\"Michiel\",\"Emily\",\"Rodi\",\"Arjan Z.\",\"Hans\",\"Kitty\",\"Stan\",\"Erwin\",\"Mees\",\"Jordi\",\"Wietse\",\"Isolde\",\"Chiel\",\"Marco\",\"Corine\",\"Casper\",\"Raymond\",\"Niels\",\"Erik\",\"Grietje\",\"Arjan T.\",\"Charlotte\",\"Michiel\",\"Emily\",\"Rodi\",\"Arjan Z.\",\"Hans\",\"Kitty\",\"Stan\",\"Erwin\",\"Mees\",\"Jordi\",\"Wietse\",\"Isolde\"],\"xaxis\":\"x\",\"y\":[0.0,0.0,0.0,0.0,0.0,0.0,0.0,0.0,0.0,0.0,0.0,0.0,0.0,0.0,0.0,0.0,0.0,0.0,0.0,0.0,0.0,0.0,0.0,0.0,0.0,0.0,0.0,0.0,0.0,0.0,0.0,0.0,0.0,0.0,0.0,0.0,0.0,0.0,0.0,0.0,0.0,0.0,0.0,0.0,0.0,0.0,0.0,0.0,0.0,0.0,0.0,0.0,0.0,0.0,0.0,0.0,0.0,0.0,0.0,0.0,0.0,0.0,0.0,0.0,0.0,0.0,0.0,0.0,0.0,0.0,0.0,0.0,0.0,0.0,0.0,0.0,0.0,0.0,0.0,0.0,0.0,0.0,0.0,0.0,0.0,0.0,0.0,0.0],\"yaxis\":\"y\",\"type\":\"histogram\"},{\"alignmentgroup\":\"True\",\"bingroup\":\"x\",\"histfunc\":\"sum\",\"hovertemplate\":\"Miami<br>Punten = %{y}<extra></extra>\",\"legendgroup\":\"Miami\",\"marker\":{\"color\":\"#9467BD\",\"pattern\":{\"shape\":\"\"}},\"name\":\"Miami\",\"offsetgroup\":\"Miami\",\"orientation\":\"v\",\"showlegend\":true,\"x\":[\"Chiel\",\"Marco\",\"Corine\",\"Casper\",\"Raymond\",\"Niels\",\"Erik\",\"Grietje\",\"Arjan T.\",\"Charlotte\",\"Michiel\",\"Emily\",\"Rodi\",\"Arjan Z.\",\"Hans\",\"Kitty\",\"Stan\",\"Erwin\",\"Mees\",\"Jordi\",\"Wietse\",\"Isolde\",\"Chiel\",\"Marco\",\"Corine\",\"Casper\",\"Raymond\",\"Niels\",\"Erik\",\"Grietje\",\"Arjan T.\",\"Charlotte\",\"Michiel\",\"Emily\",\"Rodi\",\"Arjan Z.\",\"Hans\",\"Kitty\",\"Stan\",\"Erwin\",\"Mees\",\"Jordi\",\"Wietse\",\"Isolde\",\"Chiel\",\"Marco\",\"Corine\",\"Casper\",\"Raymond\",\"Niels\",\"Erik\",\"Grietje\",\"Arjan T.\",\"Charlotte\",\"Michiel\",\"Emily\",\"Rodi\",\"Arjan Z.\",\"Hans\",\"Kitty\",\"Stan\",\"Erwin\",\"Mees\",\"Jordi\",\"Wietse\",\"Isolde\",\"Chiel\",\"Marco\",\"Corine\",\"Casper\",\"Raymond\",\"Niels\",\"Erik\",\"Grietje\",\"Arjan T.\",\"Charlotte\",\"Michiel\",\"Emily\",\"Rodi\",\"Arjan Z.\",\"Hans\",\"Kitty\",\"Stan\",\"Erwin\",\"Mees\",\"Jordi\",\"Wietse\",\"Isolde\"],\"xaxis\":\"x\",\"y\":[0.0,0.0,0.0,0.0,0.0,0.0,0.0,0.0,0.0,0.0,0.0,0.0,0.0,0.0,0.0,0.0,0.0,0.0,0.0,0.0,0.0,0.0,0.0,0.0,0.0,0.0,0.0,0.0,0.0,0.0,0.0,0.0,0.0,0.0,0.0,0.0,0.0,0.0,0.0,0.0,0.0,0.0,0.0,0.0,0.0,0.0,0.0,0.0,0.0,0.0,0.0,0.0,0.0,0.0,0.0,0.0,0.0,0.0,0.0,0.0,0.0,0.0,0.0,0.0,0.0,0.0,0.0,0.0,0.0,0.0,0.0,0.0,0.0,0.0,0.0,0.0,0.0,0.0,0.0,0.0,0.0,0.0,0.0,0.0,0.0,0.0,0.0,0.0],\"yaxis\":\"y\",\"type\":\"histogram\"},{\"alignmentgroup\":\"True\",\"bingroup\":\"x\",\"histfunc\":\"sum\",\"hovertemplate\":\"Emilia-Romagna<br>Punten = %{y}<extra></extra>\",\"legendgroup\":\"Emilia-Romagna\",\"marker\":{\"color\":\"#8C564B\",\"pattern\":{\"shape\":\"\"}},\"name\":\"Emilia-Romagna\",\"offsetgroup\":\"Emilia-Romagna\",\"orientation\":\"v\",\"showlegend\":true,\"x\":[\"Chiel\",\"Marco\",\"Corine\",\"Casper\",\"Raymond\",\"Niels\",\"Erik\",\"Grietje\",\"Arjan T.\",\"Charlotte\",\"Michiel\",\"Emily\",\"Rodi\",\"Arjan Z.\",\"Hans\",\"Kitty\",\"Stan\",\"Erwin\",\"Mees\",\"Jordi\",\"Wietse\",\"Isolde\",\"Chiel\",\"Marco\",\"Corine\",\"Casper\",\"Raymond\",\"Niels\",\"Erik\",\"Grietje\",\"Arjan T.\",\"Charlotte\",\"Michiel\",\"Emily\",\"Rodi\",\"Arjan Z.\",\"Hans\",\"Kitty\",\"Stan\",\"Erwin\",\"Mees\",\"Jordi\",\"Wietse\",\"Isolde\",\"Chiel\",\"Marco\",\"Corine\",\"Casper\",\"Raymond\",\"Niels\",\"Erik\",\"Grietje\",\"Arjan T.\",\"Charlotte\",\"Michiel\",\"Emily\",\"Rodi\",\"Arjan Z.\",\"Hans\",\"Kitty\",\"Stan\",\"Erwin\",\"Mees\",\"Jordi\",\"Wietse\",\"Isolde\",\"Chiel\",\"Marco\",\"Corine\",\"Casper\",\"Raymond\",\"Niels\",\"Erik\",\"Grietje\",\"Arjan T.\",\"Charlotte\",\"Michiel\",\"Emily\",\"Rodi\",\"Arjan Z.\",\"Hans\",\"Kitty\",\"Stan\",\"Erwin\",\"Mees\",\"Jordi\",\"Wietse\",\"Isolde\"],\"xaxis\":\"x\",\"y\":[0.0,0.0,0.0,0.0,0.0,0.0,0.0,0.0,0.0,0.0,0.0,0.0,0.0,0.0,0.0,0.0,0.0,0.0,0.0,0.0,0.0,0.0,0.0,0.0,0.0,0.0,0.0,0.0,0.0,0.0,0.0,0.0,0.0,0.0,0.0,0.0,0.0,0.0,0.0,0.0,0.0,0.0,0.0,0.0,0.0,0.0,0.0,0.0,0.0,0.0,0.0,0.0,0.0,0.0,0.0,0.0,0.0,0.0,0.0,0.0,0.0,0.0,0.0,0.0,0.0,0.0,0.0,0.0,0.0,0.0,0.0,0.0,0.0,0.0,0.0,0.0,0.0,0.0,0.0,0.0,0.0,0.0,0.0,0.0,0.0,0.0,0.0,0.0],\"yaxis\":\"y\",\"type\":\"histogram\"},{\"alignmentgroup\":\"True\",\"bingroup\":\"x\",\"histfunc\":\"sum\",\"hovertemplate\":\"Monaco<br>Punten = %{y}<extra></extra>\",\"legendgroup\":\"Monaco\",\"marker\":{\"color\":\"#E377C2\",\"pattern\":{\"shape\":\"\"}},\"name\":\"Monaco\",\"offsetgroup\":\"Monaco\",\"orientation\":\"v\",\"showlegend\":true,\"x\":[\"Chiel\",\"Marco\",\"Corine\",\"Casper\",\"Raymond\",\"Niels\",\"Erik\",\"Grietje\",\"Arjan T.\",\"Charlotte\",\"Michiel\",\"Emily\",\"Rodi\",\"Arjan Z.\",\"Hans\",\"Kitty\",\"Stan\",\"Erwin\",\"Mees\",\"Jordi\",\"Wietse\",\"Isolde\",\"Chiel\",\"Marco\",\"Corine\",\"Casper\",\"Raymond\",\"Niels\",\"Erik\",\"Grietje\",\"Arjan T.\",\"Charlotte\",\"Michiel\",\"Emily\",\"Rodi\",\"Arjan Z.\",\"Hans\",\"Kitty\",\"Stan\",\"Erwin\",\"Mees\",\"Jordi\",\"Wietse\",\"Isolde\",\"Chiel\",\"Marco\",\"Corine\",\"Casper\",\"Raymond\",\"Niels\",\"Erik\",\"Grietje\",\"Arjan T.\",\"Charlotte\",\"Michiel\",\"Emily\",\"Rodi\",\"Arjan Z.\",\"Hans\",\"Kitty\",\"Stan\",\"Erwin\",\"Mees\",\"Jordi\",\"Wietse\",\"Isolde\",\"Chiel\",\"Marco\",\"Corine\",\"Casper\",\"Raymond\",\"Niels\",\"Erik\",\"Grietje\",\"Arjan T.\",\"Charlotte\",\"Michiel\",\"Emily\",\"Rodi\",\"Arjan Z.\",\"Hans\",\"Kitty\",\"Stan\",\"Erwin\",\"Mees\",\"Jordi\",\"Wietse\",\"Isolde\"],\"xaxis\":\"x\",\"y\":[0.0,0.0,0.0,0.0,0.0,0.0,0.0,0.0,0.0,0.0,0.0,0.0,0.0,0.0,0.0,0.0,0.0,0.0,0.0,0.0,0.0,0.0,0.0,0.0,0.0,0.0,0.0,0.0,0.0,0.0,0.0,0.0,0.0,0.0,0.0,0.0,0.0,0.0,0.0,0.0,0.0,0.0,0.0,0.0,0.0,0.0,0.0,0.0,0.0,0.0,0.0,0.0,0.0,0.0,0.0,0.0,0.0,0.0,0.0,0.0,0.0,0.0,0.0,0.0,0.0,0.0,0.0,0.0,0.0,0.0,0.0,0.0,0.0,0.0,0.0,0.0,0.0,0.0,0.0,0.0,0.0,0.0,0.0,0.0,0.0,0.0,0.0,0.0],\"yaxis\":\"y\",\"type\":\"histogram\"},{\"alignmentgroup\":\"True\",\"bingroup\":\"x\",\"histfunc\":\"sum\",\"hovertemplate\":\"Spanje<br>Punten = %{y}<extra></extra>\",\"legendgroup\":\"Spanje\",\"marker\":{\"color\":\"#7F7F7F\",\"pattern\":{\"shape\":\"\"}},\"name\":\"Spanje\",\"offsetgroup\":\"Spanje\",\"orientation\":\"v\",\"showlegend\":true,\"x\":[\"Chiel\",\"Marco\",\"Corine\",\"Casper\",\"Raymond\",\"Niels\",\"Erik\",\"Grietje\",\"Arjan T.\",\"Charlotte\",\"Michiel\",\"Emily\",\"Rodi\",\"Arjan Z.\",\"Hans\",\"Kitty\",\"Stan\",\"Erwin\",\"Mees\",\"Jordi\",\"Wietse\",\"Isolde\",\"Chiel\",\"Marco\",\"Corine\",\"Casper\",\"Raymond\",\"Niels\",\"Erik\",\"Grietje\",\"Arjan T.\",\"Charlotte\",\"Michiel\",\"Emily\",\"Rodi\",\"Arjan Z.\",\"Hans\",\"Kitty\",\"Stan\",\"Erwin\",\"Mees\",\"Jordi\",\"Wietse\",\"Isolde\",\"Chiel\",\"Marco\",\"Corine\",\"Casper\",\"Raymond\",\"Niels\",\"Erik\",\"Grietje\",\"Arjan T.\",\"Charlotte\",\"Michiel\",\"Emily\",\"Rodi\",\"Arjan Z.\",\"Hans\",\"Kitty\",\"Stan\",\"Erwin\",\"Mees\",\"Jordi\",\"Wietse\",\"Isolde\",\"Chiel\",\"Marco\",\"Corine\",\"Casper\",\"Raymond\",\"Niels\",\"Erik\",\"Grietje\",\"Arjan T.\",\"Charlotte\",\"Michiel\",\"Emily\",\"Rodi\",\"Arjan Z.\",\"Hans\",\"Kitty\",\"Stan\",\"Erwin\",\"Mees\",\"Jordi\",\"Wietse\",\"Isolde\"],\"xaxis\":\"x\",\"y\":[0.0,0.0,0.0,0.0,0.0,0.0,0.0,0.0,0.0,0.0,0.0,0.0,0.0,0.0,0.0,0.0,0.0,0.0,0.0,0.0,0.0,0.0,0.0,0.0,0.0,0.0,0.0,0.0,0.0,0.0,0.0,0.0,0.0,0.0,0.0,0.0,0.0,0.0,0.0,0.0,0.0,0.0,0.0,0.0,0.0,0.0,0.0,0.0,0.0,0.0,0.0,0.0,0.0,0.0,0.0,0.0,0.0,0.0,0.0,0.0,0.0,0.0,0.0,0.0,0.0,0.0,0.0,0.0,0.0,0.0,0.0,0.0,0.0,0.0,0.0,0.0,0.0,0.0,0.0,0.0,0.0,0.0,0.0,0.0,0.0,0.0,0.0,0.0],\"yaxis\":\"y\",\"type\":\"histogram\"},{\"alignmentgroup\":\"True\",\"bingroup\":\"x\",\"histfunc\":\"sum\",\"hovertemplate\":\"Canada<br>Punten = %{y}<extra></extra>\",\"legendgroup\":\"Canada\",\"marker\":{\"color\":\"#BCBD22\",\"pattern\":{\"shape\":\"\"}},\"name\":\"Canada\",\"offsetgroup\":\"Canada\",\"orientation\":\"v\",\"showlegend\":true,\"x\":[\"Chiel\",\"Marco\",\"Corine\",\"Casper\",\"Raymond\",\"Niels\",\"Erik\",\"Grietje\",\"Arjan T.\",\"Charlotte\",\"Michiel\",\"Emily\",\"Rodi\",\"Arjan Z.\",\"Hans\",\"Kitty\",\"Stan\",\"Erwin\",\"Mees\",\"Jordi\",\"Wietse\",\"Isolde\",\"Chiel\",\"Marco\",\"Corine\",\"Casper\",\"Raymond\",\"Niels\",\"Erik\",\"Grietje\",\"Arjan T.\",\"Charlotte\",\"Michiel\",\"Emily\",\"Rodi\",\"Arjan Z.\",\"Hans\",\"Kitty\",\"Stan\",\"Erwin\",\"Mees\",\"Jordi\",\"Wietse\",\"Isolde\",\"Chiel\",\"Marco\",\"Corine\",\"Casper\",\"Raymond\",\"Niels\",\"Erik\",\"Grietje\",\"Arjan T.\",\"Charlotte\",\"Michiel\",\"Emily\",\"Rodi\",\"Arjan Z.\",\"Hans\",\"Kitty\",\"Stan\",\"Erwin\",\"Mees\",\"Jordi\",\"Wietse\",\"Isolde\",\"Chiel\",\"Marco\",\"Corine\",\"Casper\",\"Raymond\",\"Niels\",\"Erik\",\"Grietje\",\"Arjan T.\",\"Charlotte\",\"Michiel\",\"Emily\",\"Rodi\",\"Arjan Z.\",\"Hans\",\"Kitty\",\"Stan\",\"Erwin\",\"Mees\",\"Jordi\",\"Wietse\",\"Isolde\"],\"xaxis\":\"x\",\"y\":[0.0,0.0,0.0,0.0,0.0,0.0,0.0,0.0,0.0,0.0,0.0,0.0,0.0,0.0,0.0,0.0,0.0,0.0,0.0,0.0,0.0,0.0,0.0,0.0,0.0,0.0,0.0,0.0,0.0,0.0,0.0,0.0,0.0,0.0,0.0,0.0,0.0,0.0,0.0,0.0,0.0,0.0,0.0,0.0,0.0,0.0,0.0,0.0,0.0,0.0,0.0,0.0,0.0,0.0,0.0,0.0,0.0,0.0,0.0,0.0,0.0,0.0,0.0,0.0,0.0,0.0,0.0,0.0,0.0,0.0,0.0,0.0,0.0,0.0,0.0,0.0,0.0,0.0,0.0,0.0,0.0,0.0,0.0,0.0,0.0,0.0,0.0,0.0],\"yaxis\":\"y\",\"type\":\"histogram\"},{\"alignmentgroup\":\"True\",\"bingroup\":\"x\",\"histfunc\":\"sum\",\"hovertemplate\":\"Oostenrijk<br>Punten = %{y}<extra></extra>\",\"legendgroup\":\"Oostenrijk\",\"marker\":{\"color\":\"#17BECF\",\"pattern\":{\"shape\":\"\"}},\"name\":\"Oostenrijk\",\"offsetgroup\":\"Oostenrijk\",\"orientation\":\"v\",\"showlegend\":true,\"x\":[\"Chiel\",\"Marco\",\"Corine\",\"Casper\",\"Raymond\",\"Niels\",\"Erik\",\"Grietje\",\"Arjan T.\",\"Charlotte\",\"Michiel\",\"Emily\",\"Rodi\",\"Arjan Z.\",\"Hans\",\"Kitty\",\"Stan\",\"Erwin\",\"Mees\",\"Jordi\",\"Wietse\",\"Isolde\",\"Chiel\",\"Marco\",\"Corine\",\"Casper\",\"Raymond\",\"Niels\",\"Erik\",\"Grietje\",\"Arjan T.\",\"Charlotte\",\"Michiel\",\"Emily\",\"Rodi\",\"Arjan Z.\",\"Hans\",\"Kitty\",\"Stan\",\"Erwin\",\"Mees\",\"Jordi\",\"Wietse\",\"Isolde\",\"Chiel\",\"Marco\",\"Corine\",\"Casper\",\"Raymond\",\"Niels\",\"Erik\",\"Grietje\",\"Arjan T.\",\"Charlotte\",\"Michiel\",\"Emily\",\"Rodi\",\"Arjan Z.\",\"Hans\",\"Kitty\",\"Stan\",\"Erwin\",\"Mees\",\"Jordi\",\"Wietse\",\"Isolde\",\"Chiel\",\"Marco\",\"Corine\",\"Casper\",\"Raymond\",\"Niels\",\"Erik\",\"Grietje\",\"Arjan T.\",\"Charlotte\",\"Michiel\",\"Emily\",\"Rodi\",\"Arjan Z.\",\"Hans\",\"Kitty\",\"Stan\",\"Erwin\",\"Mees\",\"Jordi\",\"Wietse\",\"Isolde\"],\"xaxis\":\"x\",\"y\":[0.0,0.0,0.0,0.0,0.0,0.0,0.0,0.0,0.0,0.0,0.0,0.0,0.0,0.0,0.0,0.0,0.0,0.0,0.0,0.0,0.0,0.0,0.0,0.0,0.0,0.0,0.0,0.0,0.0,0.0,0.0,0.0,0.0,0.0,0.0,0.0,0.0,0.0,0.0,0.0,0.0,0.0,0.0,0.0,0.0,0.0,0.0,0.0,0.0,0.0,0.0,0.0,0.0,0.0,0.0,0.0,0.0,0.0,0.0,0.0,0.0,0.0,0.0,0.0,0.0,0.0,0.0,0.0,0.0,0.0,0.0,0.0,0.0,0.0,0.0,0.0,0.0,0.0,0.0,0.0,0.0,0.0,0.0,0.0,0.0,0.0,0.0,0.0],\"yaxis\":\"y\",\"type\":\"histogram\"},{\"alignmentgroup\":\"True\",\"bingroup\":\"x\",\"histfunc\":\"sum\",\"hovertemplate\":\"Groot-Brittani\\u00eb<br>Punten = %{y}<extra></extra>\",\"legendgroup\":\"Groot-Brittani\\u00eb\",\"marker\":{\"color\":\"#1F77B4\",\"pattern\":{\"shape\":\"\"}},\"name\":\"Groot-Brittani\\u00eb\",\"offsetgroup\":\"Groot-Brittani\\u00eb\",\"orientation\":\"v\",\"showlegend\":true,\"x\":[\"Chiel\",\"Marco\",\"Corine\",\"Casper\",\"Raymond\",\"Niels\",\"Erik\",\"Grietje\",\"Arjan T.\",\"Charlotte\",\"Michiel\",\"Emily\",\"Rodi\",\"Arjan Z.\",\"Hans\",\"Kitty\",\"Stan\",\"Erwin\",\"Mees\",\"Jordi\",\"Wietse\",\"Isolde\",\"Chiel\",\"Marco\",\"Corine\",\"Casper\",\"Raymond\",\"Niels\",\"Erik\",\"Grietje\",\"Arjan T.\",\"Charlotte\",\"Michiel\",\"Emily\",\"Rodi\",\"Arjan Z.\",\"Hans\",\"Kitty\",\"Stan\",\"Erwin\",\"Mees\",\"Jordi\",\"Wietse\",\"Isolde\",\"Chiel\",\"Marco\",\"Corine\",\"Casper\",\"Raymond\",\"Niels\",\"Erik\",\"Grietje\",\"Arjan T.\",\"Charlotte\",\"Michiel\",\"Emily\",\"Rodi\",\"Arjan Z.\",\"Hans\",\"Kitty\",\"Stan\",\"Erwin\",\"Mees\",\"Jordi\",\"Wietse\",\"Isolde\",\"Chiel\",\"Marco\",\"Corine\",\"Casper\",\"Raymond\",\"Niels\",\"Erik\",\"Grietje\",\"Arjan T.\",\"Charlotte\",\"Michiel\",\"Emily\",\"Rodi\",\"Arjan Z.\",\"Hans\",\"Kitty\",\"Stan\",\"Erwin\",\"Mees\",\"Jordi\",\"Wietse\",\"Isolde\"],\"xaxis\":\"x\",\"y\":[0.0,0.0,0.0,0.0,0.0,0.0,0.0,0.0,0.0,0.0,0.0,0.0,0.0,0.0,0.0,0.0,0.0,0.0,0.0,0.0,0.0,0.0,0.0,0.0,0.0,0.0,0.0,0.0,0.0,0.0,0.0,0.0,0.0,0.0,0.0,0.0,0.0,0.0,0.0,0.0,0.0,0.0,0.0,0.0,0.0,0.0,0.0,0.0,0.0,0.0,0.0,0.0,0.0,0.0,0.0,0.0,0.0,0.0,0.0,0.0,0.0,0.0,0.0,0.0,0.0,0.0,0.0,0.0,0.0,0.0,0.0,0.0,0.0,0.0,0.0,0.0,0.0,0.0,0.0,0.0,0.0,0.0,0.0,0.0,0.0,0.0,0.0,0.0],\"yaxis\":\"y\",\"type\":\"histogram\"},{\"alignmentgroup\":\"True\",\"bingroup\":\"x\",\"histfunc\":\"sum\",\"hovertemplate\":\"Hongarije<br>Punten = %{y}<extra></extra>\",\"legendgroup\":\"Hongarije\",\"marker\":{\"color\":\"#FF7F0E\",\"pattern\":{\"shape\":\"\"}},\"name\":\"Hongarije\",\"offsetgroup\":\"Hongarije\",\"orientation\":\"v\",\"showlegend\":true,\"x\":[\"Chiel\",\"Marco\",\"Corine\",\"Casper\",\"Raymond\",\"Niels\",\"Erik\",\"Grietje\",\"Arjan T.\",\"Charlotte\",\"Michiel\",\"Emily\",\"Rodi\",\"Arjan Z.\",\"Hans\",\"Kitty\",\"Stan\",\"Erwin\",\"Mees\",\"Jordi\",\"Wietse\",\"Isolde\",\"Chiel\",\"Marco\",\"Corine\",\"Casper\",\"Raymond\",\"Niels\",\"Erik\",\"Grietje\",\"Arjan T.\",\"Charlotte\",\"Michiel\",\"Emily\",\"Rodi\",\"Arjan Z.\",\"Hans\",\"Kitty\",\"Stan\",\"Erwin\",\"Mees\",\"Jordi\",\"Wietse\",\"Isolde\",\"Chiel\",\"Marco\",\"Corine\",\"Casper\",\"Raymond\",\"Niels\",\"Erik\",\"Grietje\",\"Arjan T.\",\"Charlotte\",\"Michiel\",\"Emily\",\"Rodi\",\"Arjan Z.\",\"Hans\",\"Kitty\",\"Stan\",\"Erwin\",\"Mees\",\"Jordi\",\"Wietse\",\"Isolde\",\"Chiel\",\"Marco\",\"Corine\",\"Casper\",\"Raymond\",\"Niels\",\"Erik\",\"Grietje\",\"Arjan T.\",\"Charlotte\",\"Michiel\",\"Emily\",\"Rodi\",\"Arjan Z.\",\"Hans\",\"Kitty\",\"Stan\",\"Erwin\",\"Mees\",\"Jordi\",\"Wietse\",\"Isolde\"],\"xaxis\":\"x\",\"y\":[0.0,0.0,0.0,0.0,0.0,0.0,0.0,0.0,0.0,0.0,0.0,0.0,0.0,0.0,0.0,0.0,0.0,0.0,0.0,0.0,0.0,0.0,0.0,0.0,0.0,0.0,0.0,0.0,0.0,0.0,0.0,0.0,0.0,0.0,0.0,0.0,0.0,0.0,0.0,0.0,0.0,0.0,0.0,0.0,0.0,0.0,0.0,0.0,0.0,0.0,0.0,0.0,0.0,0.0,0.0,0.0,0.0,0.0,0.0,0.0,0.0,0.0,0.0,0.0,0.0,0.0,0.0,0.0,0.0,0.0,0.0,0.0,0.0,0.0,0.0,0.0,0.0,0.0,0.0,0.0,0.0,0.0,0.0,0.0,0.0,0.0,0.0,0.0],\"yaxis\":\"y\",\"type\":\"histogram\"},{\"alignmentgroup\":\"True\",\"bingroup\":\"x\",\"histfunc\":\"sum\",\"hovertemplate\":\"Belgi\\u00eb<br>Punten = %{y}<extra></extra>\",\"legendgroup\":\"Belgi\\u00eb\",\"marker\":{\"color\":\"#2CA02C\",\"pattern\":{\"shape\":\"\"}},\"name\":\"Belgi\\u00eb\",\"offsetgroup\":\"Belgi\\u00eb\",\"orientation\":\"v\",\"showlegend\":true,\"x\":[\"Chiel\",\"Marco\",\"Corine\",\"Casper\",\"Raymond\",\"Niels\",\"Erik\",\"Grietje\",\"Arjan T.\",\"Charlotte\",\"Michiel\",\"Emily\",\"Rodi\",\"Arjan Z.\",\"Hans\",\"Kitty\",\"Stan\",\"Erwin\",\"Mees\",\"Jordi\",\"Wietse\",\"Isolde\",\"Chiel\",\"Marco\",\"Corine\",\"Casper\",\"Raymond\",\"Niels\",\"Erik\",\"Grietje\",\"Arjan T.\",\"Charlotte\",\"Michiel\",\"Emily\",\"Rodi\",\"Arjan Z.\",\"Hans\",\"Kitty\",\"Stan\",\"Erwin\",\"Mees\",\"Jordi\",\"Wietse\",\"Isolde\",\"Chiel\",\"Marco\",\"Corine\",\"Casper\",\"Raymond\",\"Niels\",\"Erik\",\"Grietje\",\"Arjan T.\",\"Charlotte\",\"Michiel\",\"Emily\",\"Rodi\",\"Arjan Z.\",\"Hans\",\"Kitty\",\"Stan\",\"Erwin\",\"Mees\",\"Jordi\",\"Wietse\",\"Isolde\",\"Chiel\",\"Marco\",\"Corine\",\"Casper\",\"Raymond\",\"Niels\",\"Erik\",\"Grietje\",\"Arjan T.\",\"Charlotte\",\"Michiel\",\"Emily\",\"Rodi\",\"Arjan Z.\",\"Hans\",\"Kitty\",\"Stan\",\"Erwin\",\"Mees\",\"Jordi\",\"Wietse\",\"Isolde\"],\"xaxis\":\"x\",\"y\":[0.0,0.0,0.0,0.0,0.0,0.0,0.0,0.0,0.0,0.0,0.0,0.0,0.0,0.0,0.0,0.0,0.0,0.0,0.0,0.0,0.0,0.0,0.0,0.0,0.0,0.0,0.0,0.0,0.0,0.0,0.0,0.0,0.0,0.0,0.0,0.0,0.0,0.0,0.0,0.0,0.0,0.0,0.0,0.0,0.0,0.0,0.0,0.0,0.0,0.0,0.0,0.0,0.0,0.0,0.0,0.0,0.0,0.0,0.0,0.0,0.0,0.0,0.0,0.0,0.0,0.0,0.0,0.0,0.0,0.0,0.0,0.0,0.0,0.0,0.0,0.0,0.0,0.0,0.0,0.0,0.0,0.0,0.0,0.0,0.0,0.0,0.0,0.0],\"yaxis\":\"y\",\"type\":\"histogram\"},{\"alignmentgroup\":\"True\",\"bingroup\":\"x\",\"histfunc\":\"sum\",\"hovertemplate\":\"Nederland<br>Punten = %{y}<extra></extra>\",\"legendgroup\":\"Nederland\",\"marker\":{\"color\":\"#D62728\",\"pattern\":{\"shape\":\"\"}},\"name\":\"Nederland\",\"offsetgroup\":\"Nederland\",\"orientation\":\"v\",\"showlegend\":true,\"x\":[\"Chiel\",\"Marco\",\"Corine\",\"Casper\",\"Raymond\",\"Niels\",\"Erik\",\"Grietje\",\"Arjan T.\",\"Charlotte\",\"Michiel\",\"Emily\",\"Rodi\",\"Arjan Z.\",\"Hans\",\"Kitty\",\"Stan\",\"Erwin\",\"Mees\",\"Jordi\",\"Wietse\",\"Isolde\",\"Chiel\",\"Marco\",\"Corine\",\"Casper\",\"Raymond\",\"Niels\",\"Erik\",\"Grietje\",\"Arjan T.\",\"Charlotte\",\"Michiel\",\"Emily\",\"Rodi\",\"Arjan Z.\",\"Hans\",\"Kitty\",\"Stan\",\"Erwin\",\"Mees\",\"Jordi\",\"Wietse\",\"Isolde\",\"Chiel\",\"Marco\",\"Corine\",\"Casper\",\"Raymond\",\"Niels\",\"Erik\",\"Grietje\",\"Arjan T.\",\"Charlotte\",\"Michiel\",\"Emily\",\"Rodi\",\"Arjan Z.\",\"Hans\",\"Kitty\",\"Stan\",\"Erwin\",\"Mees\",\"Jordi\",\"Wietse\",\"Isolde\",\"Chiel\",\"Marco\",\"Corine\",\"Casper\",\"Raymond\",\"Niels\",\"Erik\",\"Grietje\",\"Arjan T.\",\"Charlotte\",\"Michiel\",\"Emily\",\"Rodi\",\"Arjan Z.\",\"Hans\",\"Kitty\",\"Stan\",\"Erwin\",\"Mees\",\"Jordi\",\"Wietse\",\"Isolde\"],\"xaxis\":\"x\",\"y\":[0.0,0.0,0.0,0.0,0.0,0.0,0.0,0.0,0.0,0.0,0.0,0.0,0.0,0.0,0.0,0.0,0.0,0.0,0.0,0.0,0.0,0.0,0.0,0.0,0.0,0.0,0.0,0.0,0.0,0.0,0.0,0.0,0.0,0.0,0.0,0.0,0.0,0.0,0.0,0.0,0.0,0.0,0.0,0.0,0.0,0.0,0.0,0.0,0.0,0.0,0.0,0.0,0.0,0.0,0.0,0.0,0.0,0.0,0.0,0.0,0.0,0.0,0.0,0.0,0.0,0.0,0.0,0.0,0.0,0.0,0.0,0.0,0.0,0.0,0.0,0.0,0.0,0.0,0.0,0.0,0.0,0.0,0.0,0.0,0.0,0.0,0.0,0.0],\"yaxis\":\"y\",\"type\":\"histogram\"},{\"alignmentgroup\":\"True\",\"bingroup\":\"x\",\"histfunc\":\"sum\",\"hovertemplate\":\"Itali\\u00eb<br>Punten = %{y}<extra></extra>\",\"legendgroup\":\"Itali\\u00eb\",\"marker\":{\"color\":\"#9467BD\",\"pattern\":{\"shape\":\"\"}},\"name\":\"Itali\\u00eb\",\"offsetgroup\":\"Itali\\u00eb\",\"orientation\":\"v\",\"showlegend\":true,\"x\":[\"Chiel\",\"Marco\",\"Corine\",\"Casper\",\"Raymond\",\"Niels\",\"Erik\",\"Grietje\",\"Arjan T.\",\"Charlotte\",\"Michiel\",\"Emily\",\"Rodi\",\"Arjan Z.\",\"Hans\",\"Kitty\",\"Stan\",\"Erwin\",\"Mees\",\"Jordi\",\"Wietse\",\"Isolde\",\"Chiel\",\"Marco\",\"Corine\",\"Casper\",\"Raymond\",\"Niels\",\"Erik\",\"Grietje\",\"Arjan T.\",\"Charlotte\",\"Michiel\",\"Emily\",\"Rodi\",\"Arjan Z.\",\"Hans\",\"Kitty\",\"Stan\",\"Erwin\",\"Mees\",\"Jordi\",\"Wietse\",\"Isolde\",\"Chiel\",\"Marco\",\"Corine\",\"Casper\",\"Raymond\",\"Niels\",\"Erik\",\"Grietje\",\"Arjan T.\",\"Charlotte\",\"Michiel\",\"Emily\",\"Rodi\",\"Arjan Z.\",\"Hans\",\"Kitty\",\"Stan\",\"Erwin\",\"Mees\",\"Jordi\",\"Wietse\",\"Isolde\",\"Chiel\",\"Marco\",\"Corine\",\"Casper\",\"Raymond\",\"Niels\",\"Erik\",\"Grietje\",\"Arjan T.\",\"Charlotte\",\"Michiel\",\"Emily\",\"Rodi\",\"Arjan Z.\",\"Hans\",\"Kitty\",\"Stan\",\"Erwin\",\"Mees\",\"Jordi\",\"Wietse\",\"Isolde\"],\"xaxis\":\"x\",\"y\":[0.0,0.0,0.0,0.0,0.0,0.0,0.0,0.0,0.0,0.0,0.0,0.0,0.0,0.0,0.0,0.0,0.0,0.0,0.0,0.0,0.0,0.0,0.0,0.0,0.0,0.0,0.0,0.0,0.0,0.0,0.0,0.0,0.0,0.0,0.0,0.0,0.0,0.0,0.0,0.0,0.0,0.0,0.0,0.0,0.0,0.0,0.0,0.0,0.0,0.0,0.0,0.0,0.0,0.0,0.0,0.0,0.0,0.0,0.0,0.0,0.0,0.0,0.0,0.0,0.0,0.0,0.0,0.0,0.0,0.0,0.0,0.0,0.0,0.0,0.0,0.0,0.0,0.0,0.0,0.0,0.0,0.0,0.0,0.0,0.0,0.0,0.0,0.0],\"yaxis\":\"y\",\"type\":\"histogram\"},{\"alignmentgroup\":\"True\",\"bingroup\":\"x\",\"histfunc\":\"sum\",\"hovertemplate\":\"Singapore<br>Punten = %{y}<extra></extra>\",\"legendgroup\":\"Singapore\",\"marker\":{\"color\":\"#8C564B\",\"pattern\":{\"shape\":\"\"}},\"name\":\"Singapore\",\"offsetgroup\":\"Singapore\",\"orientation\":\"v\",\"showlegend\":true,\"x\":[\"Chiel\",\"Marco\",\"Corine\",\"Casper\",\"Raymond\",\"Niels\",\"Erik\",\"Grietje\",\"Arjan T.\",\"Charlotte\",\"Michiel\",\"Emily\",\"Rodi\",\"Arjan Z.\",\"Hans\",\"Kitty\",\"Stan\",\"Erwin\",\"Mees\",\"Jordi\",\"Wietse\",\"Isolde\",\"Chiel\",\"Marco\",\"Corine\",\"Casper\",\"Raymond\",\"Niels\",\"Erik\",\"Grietje\",\"Arjan T.\",\"Charlotte\",\"Michiel\",\"Emily\",\"Rodi\",\"Arjan Z.\",\"Hans\",\"Kitty\",\"Stan\",\"Erwin\",\"Mees\",\"Jordi\",\"Wietse\",\"Isolde\",\"Chiel\",\"Marco\",\"Corine\",\"Casper\",\"Raymond\",\"Niels\",\"Erik\",\"Grietje\",\"Arjan T.\",\"Charlotte\",\"Michiel\",\"Emily\",\"Rodi\",\"Arjan Z.\",\"Hans\",\"Kitty\",\"Stan\",\"Erwin\",\"Mees\",\"Jordi\",\"Wietse\",\"Isolde\",\"Chiel\",\"Marco\",\"Corine\",\"Casper\",\"Raymond\",\"Niels\",\"Erik\",\"Grietje\",\"Arjan T.\",\"Charlotte\",\"Michiel\",\"Emily\",\"Rodi\",\"Arjan Z.\",\"Hans\",\"Kitty\",\"Stan\",\"Erwin\",\"Mees\",\"Jordi\",\"Wietse\",\"Isolde\"],\"xaxis\":\"x\",\"y\":[0.0,0.0,0.0,0.0,0.0,0.0,0.0,0.0,0.0,0.0,0.0,0.0,0.0,0.0,0.0,0.0,0.0,0.0,0.0,0.0,0.0,0.0,0.0,0.0,0.0,0.0,0.0,0.0,0.0,0.0,0.0,0.0,0.0,0.0,0.0,0.0,0.0,0.0,0.0,0.0,0.0,0.0,0.0,0.0,0.0,0.0,0.0,0.0,0.0,0.0,0.0,0.0,0.0,0.0,0.0,0.0,0.0,0.0,0.0,0.0,0.0,0.0,0.0,0.0,0.0,0.0,0.0,0.0,0.0,0.0,0.0,0.0,0.0,0.0,0.0,0.0,0.0,0.0,0.0,0.0,0.0,0.0,0.0,0.0,0.0,0.0,0.0,0.0],\"yaxis\":\"y\",\"type\":\"histogram\"},{\"alignmentgroup\":\"True\",\"bingroup\":\"x\",\"histfunc\":\"sum\",\"hovertemplate\":\"Japan<br>Punten = %{y}<extra></extra>\",\"legendgroup\":\"Japan\",\"marker\":{\"color\":\"#E377C2\",\"pattern\":{\"shape\":\"\"}},\"name\":\"Japan\",\"offsetgroup\":\"Japan\",\"orientation\":\"v\",\"showlegend\":true,\"x\":[\"Chiel\",\"Marco\",\"Corine\",\"Casper\",\"Raymond\",\"Niels\",\"Erik\",\"Grietje\",\"Arjan T.\",\"Charlotte\",\"Michiel\",\"Emily\",\"Rodi\",\"Arjan Z.\",\"Hans\",\"Kitty\",\"Stan\",\"Erwin\",\"Mees\",\"Jordi\",\"Wietse\",\"Isolde\",\"Chiel\",\"Marco\",\"Corine\",\"Casper\",\"Raymond\",\"Niels\",\"Erik\",\"Grietje\",\"Arjan T.\",\"Charlotte\",\"Michiel\",\"Emily\",\"Rodi\",\"Arjan Z.\",\"Hans\",\"Kitty\",\"Stan\",\"Erwin\",\"Mees\",\"Jordi\",\"Wietse\",\"Isolde\",\"Chiel\",\"Marco\",\"Corine\",\"Casper\",\"Raymond\",\"Niels\",\"Erik\",\"Grietje\",\"Arjan T.\",\"Charlotte\",\"Michiel\",\"Emily\",\"Rodi\",\"Arjan Z.\",\"Hans\",\"Kitty\",\"Stan\",\"Erwin\",\"Mees\",\"Jordi\",\"Wietse\",\"Isolde\",\"Chiel\",\"Marco\",\"Corine\",\"Casper\",\"Raymond\",\"Niels\",\"Erik\",\"Grietje\",\"Arjan T.\",\"Charlotte\",\"Michiel\",\"Emily\",\"Rodi\",\"Arjan Z.\",\"Hans\",\"Kitty\",\"Stan\",\"Erwin\",\"Mees\",\"Jordi\",\"Wietse\",\"Isolde\"],\"xaxis\":\"x\",\"y\":[0.0,0.0,0.0,0.0,0.0,0.0,0.0,0.0,0.0,0.0,0.0,0.0,0.0,0.0,0.0,0.0,0.0,0.0,0.0,0.0,0.0,0.0,0.0,0.0,0.0,0.0,0.0,0.0,0.0,0.0,0.0,0.0,0.0,0.0,0.0,0.0,0.0,0.0,0.0,0.0,0.0,0.0,0.0,0.0,0.0,0.0,0.0,0.0,0.0,0.0,0.0,0.0,0.0,0.0,0.0,0.0,0.0,0.0,0.0,0.0,0.0,0.0,0.0,0.0,0.0,0.0,0.0,0.0,0.0,0.0,0.0,0.0,0.0,0.0,0.0,0.0,0.0,0.0,0.0,0.0,0.0,0.0,0.0,0.0,0.0,0.0,0.0,0.0],\"yaxis\":\"y\",\"type\":\"histogram\"},{\"alignmentgroup\":\"True\",\"bingroup\":\"x\",\"histfunc\":\"sum\",\"hovertemplate\":\"Qatar<br>Punten = %{y}<extra></extra>\",\"legendgroup\":\"Qatar\",\"marker\":{\"color\":\"#7F7F7F\",\"pattern\":{\"shape\":\"\"}},\"name\":\"Qatar\",\"offsetgroup\":\"Qatar\",\"orientation\":\"v\",\"showlegend\":true,\"x\":[\"Chiel\",\"Marco\",\"Corine\",\"Casper\",\"Raymond\",\"Niels\",\"Erik\",\"Grietje\",\"Arjan T.\",\"Charlotte\",\"Michiel\",\"Emily\",\"Rodi\",\"Arjan Z.\",\"Hans\",\"Kitty\",\"Stan\",\"Erwin\",\"Mees\",\"Jordi\",\"Wietse\",\"Isolde\",\"Chiel\",\"Marco\",\"Corine\",\"Casper\",\"Raymond\",\"Niels\",\"Erik\",\"Grietje\",\"Arjan T.\",\"Charlotte\",\"Michiel\",\"Emily\",\"Rodi\",\"Arjan Z.\",\"Hans\",\"Kitty\",\"Stan\",\"Erwin\",\"Mees\",\"Jordi\",\"Wietse\",\"Isolde\",\"Chiel\",\"Marco\",\"Corine\",\"Casper\",\"Raymond\",\"Niels\",\"Erik\",\"Grietje\",\"Arjan T.\",\"Charlotte\",\"Michiel\",\"Emily\",\"Rodi\",\"Arjan Z.\",\"Hans\",\"Kitty\",\"Stan\",\"Erwin\",\"Mees\",\"Jordi\",\"Wietse\",\"Isolde\",\"Chiel\",\"Marco\",\"Corine\",\"Casper\",\"Raymond\",\"Niels\",\"Erik\",\"Grietje\",\"Arjan T.\",\"Charlotte\",\"Michiel\",\"Emily\",\"Rodi\",\"Arjan Z.\",\"Hans\",\"Kitty\",\"Stan\",\"Erwin\",\"Mees\",\"Jordi\",\"Wietse\",\"Isolde\"],\"xaxis\":\"x\",\"y\":[0.0,0.0,0.0,0.0,0.0,0.0,0.0,0.0,0.0,0.0,0.0,0.0,0.0,0.0,0.0,0.0,0.0,0.0,0.0,0.0,0.0,0.0,0.0,0.0,0.0,0.0,0.0,0.0,0.0,0.0,0.0,0.0,0.0,0.0,0.0,0.0,0.0,0.0,0.0,0.0,0.0,0.0,0.0,0.0,0.0,0.0,0.0,0.0,0.0,0.0,0.0,0.0,0.0,0.0,0.0,0.0,0.0,0.0,0.0,0.0,0.0,0.0,0.0,0.0,0.0,0.0,0.0,0.0,0.0,0.0,0.0,0.0,0.0,0.0,0.0,0.0,0.0,0.0,0.0,0.0,0.0,0.0,0.0,0.0,0.0,0.0,0.0,0.0],\"yaxis\":\"y\",\"type\":\"histogram\"},{\"alignmentgroup\":\"True\",\"bingroup\":\"x\",\"histfunc\":\"sum\",\"hovertemplate\":\"Verenigde Staten<br>Punten = %{y}<extra></extra>\",\"legendgroup\":\"Verenigde Staten\",\"marker\":{\"color\":\"#BCBD22\",\"pattern\":{\"shape\":\"\"}},\"name\":\"Verenigde Staten\",\"offsetgroup\":\"Verenigde Staten\",\"orientation\":\"v\",\"showlegend\":true,\"x\":[\"Chiel\",\"Marco\",\"Corine\",\"Casper\",\"Raymond\",\"Niels\",\"Erik\",\"Grietje\",\"Arjan T.\",\"Charlotte\",\"Michiel\",\"Emily\",\"Rodi\",\"Arjan Z.\",\"Hans\",\"Kitty\",\"Stan\",\"Erwin\",\"Mees\",\"Jordi\",\"Wietse\",\"Isolde\",\"Chiel\",\"Marco\",\"Corine\",\"Casper\",\"Raymond\",\"Niels\",\"Erik\",\"Grietje\",\"Arjan T.\",\"Charlotte\",\"Michiel\",\"Emily\",\"Rodi\",\"Arjan Z.\",\"Hans\",\"Kitty\",\"Stan\",\"Erwin\",\"Mees\",\"Jordi\",\"Wietse\",\"Isolde\",\"Chiel\",\"Marco\",\"Corine\",\"Casper\",\"Raymond\",\"Niels\",\"Erik\",\"Grietje\",\"Arjan T.\",\"Charlotte\",\"Michiel\",\"Emily\",\"Rodi\",\"Arjan Z.\",\"Hans\",\"Kitty\",\"Stan\",\"Erwin\",\"Mees\",\"Jordi\",\"Wietse\",\"Isolde\",\"Chiel\",\"Marco\",\"Corine\",\"Casper\",\"Raymond\",\"Niels\",\"Erik\",\"Grietje\",\"Arjan T.\",\"Charlotte\",\"Michiel\",\"Emily\",\"Rodi\",\"Arjan Z.\",\"Hans\",\"Kitty\",\"Stan\",\"Erwin\",\"Mees\",\"Jordi\",\"Wietse\",\"Isolde\"],\"xaxis\":\"x\",\"y\":[0.0,0.0,0.0,0.0,0.0,0.0,0.0,0.0,0.0,0.0,0.0,0.0,0.0,0.0,0.0,0.0,0.0,0.0,0.0,0.0,0.0,0.0,0.0,0.0,0.0,0.0,0.0,0.0,0.0,0.0,0.0,0.0,0.0,0.0,0.0,0.0,0.0,0.0,0.0,0.0,0.0,0.0,0.0,0.0,0.0,0.0,0.0,0.0,0.0,0.0,0.0,0.0,0.0,0.0,0.0,0.0,0.0,0.0,0.0,0.0,0.0,0.0,0.0,0.0,0.0,0.0,0.0,0.0,0.0,0.0,0.0,0.0,0.0,0.0,0.0,0.0,0.0,0.0,0.0,0.0,0.0,0.0,0.0,0.0,0.0,0.0,0.0,0.0],\"yaxis\":\"y\",\"type\":\"histogram\"},{\"alignmentgroup\":\"True\",\"bingroup\":\"x\",\"histfunc\":\"sum\",\"hovertemplate\":\"Mexico<br>Punten = %{y}<extra></extra>\",\"legendgroup\":\"Mexico\",\"marker\":{\"color\":\"#17BECF\",\"pattern\":{\"shape\":\"\"}},\"name\":\"Mexico\",\"offsetgroup\":\"Mexico\",\"orientation\":\"v\",\"showlegend\":true,\"x\":[\"Chiel\",\"Marco\",\"Corine\",\"Casper\",\"Raymond\",\"Niels\",\"Erik\",\"Grietje\",\"Arjan T.\",\"Charlotte\",\"Michiel\",\"Emily\",\"Rodi\",\"Arjan Z.\",\"Hans\",\"Kitty\",\"Stan\",\"Erwin\",\"Mees\",\"Jordi\",\"Wietse\",\"Isolde\",\"Chiel\",\"Marco\",\"Corine\",\"Casper\",\"Raymond\",\"Niels\",\"Erik\",\"Grietje\",\"Arjan T.\",\"Charlotte\",\"Michiel\",\"Emily\",\"Rodi\",\"Arjan Z.\",\"Hans\",\"Kitty\",\"Stan\",\"Erwin\",\"Mees\",\"Jordi\",\"Wietse\",\"Isolde\",\"Chiel\",\"Marco\",\"Corine\",\"Casper\",\"Raymond\",\"Niels\",\"Erik\",\"Grietje\",\"Arjan T.\",\"Charlotte\",\"Michiel\",\"Emily\",\"Rodi\",\"Arjan Z.\",\"Hans\",\"Kitty\",\"Stan\",\"Erwin\",\"Mees\",\"Jordi\",\"Wietse\",\"Isolde\",\"Chiel\",\"Marco\",\"Corine\",\"Casper\",\"Raymond\",\"Niels\",\"Erik\",\"Grietje\",\"Arjan T.\",\"Charlotte\",\"Michiel\",\"Emily\",\"Rodi\",\"Arjan Z.\",\"Hans\",\"Kitty\",\"Stan\",\"Erwin\",\"Mees\",\"Jordi\",\"Wietse\",\"Isolde\"],\"xaxis\":\"x\",\"y\":[0.0,0.0,0.0,0.0,0.0,0.0,0.0,0.0,0.0,0.0,0.0,0.0,0.0,0.0,0.0,0.0,0.0,0.0,0.0,0.0,0.0,0.0,0.0,0.0,0.0,0.0,0.0,0.0,0.0,0.0,0.0,0.0,0.0,0.0,0.0,0.0,0.0,0.0,0.0,0.0,0.0,0.0,0.0,0.0,0.0,0.0,0.0,0.0,0.0,0.0,0.0,0.0,0.0,0.0,0.0,0.0,0.0,0.0,0.0,0.0,0.0,0.0,0.0,0.0,0.0,0.0,0.0,0.0,0.0,0.0,0.0,0.0,0.0,0.0,0.0,0.0,0.0,0.0,0.0,0.0,0.0,0.0,0.0,0.0,0.0,0.0,0.0,0.0],\"yaxis\":\"y\",\"type\":\"histogram\"},{\"alignmentgroup\":\"True\",\"bingroup\":\"x\",\"histfunc\":\"sum\",\"hovertemplate\":\"Brazili\\u00eb<br>Punten = %{y}<extra></extra>\",\"legendgroup\":\"Brazili\\u00eb\",\"marker\":{\"color\":\"#1F77B4\",\"pattern\":{\"shape\":\"\"}},\"name\":\"Brazili\\u00eb\",\"offsetgroup\":\"Brazili\\u00eb\",\"orientation\":\"v\",\"showlegend\":true,\"x\":[\"Chiel\",\"Marco\",\"Corine\",\"Casper\",\"Raymond\",\"Niels\",\"Erik\",\"Grietje\",\"Arjan T.\",\"Charlotte\",\"Michiel\",\"Emily\",\"Rodi\",\"Arjan Z.\",\"Hans\",\"Kitty\",\"Stan\",\"Erwin\",\"Mees\",\"Jordi\",\"Wietse\",\"Isolde\",\"Chiel\",\"Marco\",\"Corine\",\"Casper\",\"Raymond\",\"Niels\",\"Erik\",\"Grietje\",\"Arjan T.\",\"Charlotte\",\"Michiel\",\"Emily\",\"Rodi\",\"Arjan Z.\",\"Hans\",\"Kitty\",\"Stan\",\"Erwin\",\"Mees\",\"Jordi\",\"Wietse\",\"Isolde\",\"Chiel\",\"Marco\",\"Corine\",\"Casper\",\"Raymond\",\"Niels\",\"Erik\",\"Grietje\",\"Arjan T.\",\"Charlotte\",\"Michiel\",\"Emily\",\"Rodi\",\"Arjan Z.\",\"Hans\",\"Kitty\",\"Stan\",\"Erwin\",\"Mees\",\"Jordi\",\"Wietse\",\"Isolde\",\"Chiel\",\"Marco\",\"Corine\",\"Casper\",\"Raymond\",\"Niels\",\"Erik\",\"Grietje\",\"Arjan T.\",\"Charlotte\",\"Michiel\",\"Emily\",\"Rodi\",\"Arjan Z.\",\"Hans\",\"Kitty\",\"Stan\",\"Erwin\",\"Mees\",\"Jordi\",\"Wietse\",\"Isolde\"],\"xaxis\":\"x\",\"y\":[0.0,0.0,0.0,0.0,0.0,0.0,0.0,0.0,0.0,0.0,0.0,0.0,0.0,0.0,0.0,0.0,0.0,0.0,0.0,0.0,0.0,0.0,0.0,0.0,0.0,0.0,0.0,0.0,0.0,0.0,0.0,0.0,0.0,0.0,0.0,0.0,0.0,0.0,0.0,0.0,0.0,0.0,0.0,0.0,0.0,0.0,0.0,0.0,0.0,0.0,0.0,0.0,0.0,0.0,0.0,0.0,0.0,0.0,0.0,0.0,0.0,0.0,0.0,0.0,0.0,0.0,0.0,0.0,0.0,0.0,0.0,0.0,0.0,0.0,0.0,0.0,0.0,0.0,0.0,0.0,0.0,0.0,0.0,0.0,0.0,0.0,0.0,0.0],\"yaxis\":\"y\",\"type\":\"histogram\"},{\"alignmentgroup\":\"True\",\"bingroup\":\"x\",\"histfunc\":\"sum\",\"hovertemplate\":\"Las Vegas<br>Punten = %{y}<extra></extra>\",\"legendgroup\":\"Las Vegas\",\"marker\":{\"color\":\"#FF7F0E\",\"pattern\":{\"shape\":\"\"}},\"name\":\"Las Vegas\",\"offsetgroup\":\"Las Vegas\",\"orientation\":\"v\",\"showlegend\":true,\"x\":[\"Chiel\",\"Marco\",\"Corine\",\"Casper\",\"Raymond\",\"Niels\",\"Erik\",\"Grietje\",\"Arjan T.\",\"Charlotte\",\"Michiel\",\"Emily\",\"Rodi\",\"Arjan Z.\",\"Hans\",\"Kitty\",\"Stan\",\"Erwin\",\"Mees\",\"Jordi\",\"Wietse\",\"Isolde\",\"Chiel\",\"Marco\",\"Corine\",\"Casper\",\"Raymond\",\"Niels\",\"Erik\",\"Grietje\",\"Arjan T.\",\"Charlotte\",\"Michiel\",\"Emily\",\"Rodi\",\"Arjan Z.\",\"Hans\",\"Kitty\",\"Stan\",\"Erwin\",\"Mees\",\"Jordi\",\"Wietse\",\"Isolde\",\"Chiel\",\"Marco\",\"Corine\",\"Casper\",\"Raymond\",\"Niels\",\"Erik\",\"Grietje\",\"Arjan T.\",\"Charlotte\",\"Michiel\",\"Emily\",\"Rodi\",\"Arjan Z.\",\"Hans\",\"Kitty\",\"Stan\",\"Erwin\",\"Mees\",\"Jordi\",\"Wietse\",\"Isolde\",\"Chiel\",\"Marco\",\"Corine\",\"Casper\",\"Raymond\",\"Niels\",\"Erik\",\"Grietje\",\"Arjan T.\",\"Charlotte\",\"Michiel\",\"Emily\",\"Rodi\",\"Arjan Z.\",\"Hans\",\"Kitty\",\"Stan\",\"Erwin\",\"Mees\",\"Jordi\",\"Wietse\",\"Isolde\"],\"xaxis\":\"x\",\"y\":[0.0,0.0,0.0,0.0,0.0,0.0,0.0,0.0,0.0,0.0,0.0,0.0,0.0,0.0,0.0,0.0,0.0,0.0,0.0,0.0,0.0,0.0,0.0,0.0,0.0,0.0,0.0,0.0,0.0,0.0,0.0,0.0,0.0,0.0,0.0,0.0,0.0,0.0,0.0,0.0,0.0,0.0,0.0,0.0,0.0,0.0,0.0,0.0,0.0,0.0,0.0,0.0,0.0,0.0,0.0,0.0,0.0,0.0,0.0,0.0,0.0,0.0,0.0,0.0,0.0,0.0,0.0,0.0,0.0,0.0,0.0,0.0,0.0,0.0,0.0,0.0,0.0,0.0,0.0,0.0,0.0,0.0,0.0,0.0,0.0,0.0,0.0,0.0],\"yaxis\":\"y\",\"type\":\"histogram\"},{\"alignmentgroup\":\"True\",\"bingroup\":\"x\",\"histfunc\":\"sum\",\"hovertemplate\":\"Abu Dhabi<br>Punten = %{y}<extra></extra>\",\"legendgroup\":\"Abu Dhabi\",\"marker\":{\"color\":\"#2CA02C\",\"pattern\":{\"shape\":\"\"}},\"name\":\"Abu Dhabi\",\"offsetgroup\":\"Abu Dhabi\",\"orientation\":\"v\",\"showlegend\":true,\"x\":[\"Chiel\",\"Marco\",\"Corine\",\"Casper\",\"Raymond\",\"Niels\",\"Erik\",\"Grietje\",\"Arjan T.\",\"Charlotte\",\"Michiel\",\"Emily\",\"Rodi\",\"Arjan Z.\",\"Hans\",\"Kitty\",\"Stan\",\"Erwin\",\"Mees\",\"Jordi\",\"Wietse\",\"Isolde\",\"Chiel\",\"Marco\",\"Corine\",\"Casper\",\"Raymond\",\"Niels\",\"Erik\",\"Grietje\",\"Arjan T.\",\"Charlotte\",\"Michiel\",\"Emily\",\"Rodi\",\"Arjan Z.\",\"Hans\",\"Kitty\",\"Stan\",\"Erwin\",\"Mees\",\"Jordi\",\"Wietse\",\"Isolde\",\"Chiel\",\"Marco\",\"Corine\",\"Casper\",\"Raymond\",\"Niels\",\"Erik\",\"Grietje\",\"Arjan T.\",\"Charlotte\",\"Michiel\",\"Emily\",\"Rodi\",\"Arjan Z.\",\"Hans\",\"Kitty\",\"Stan\",\"Erwin\",\"Mees\",\"Jordi\",\"Wietse\",\"Isolde\",\"Chiel\",\"Marco\",\"Corine\",\"Casper\",\"Raymond\",\"Niels\",\"Erik\",\"Grietje\",\"Arjan T.\",\"Charlotte\",\"Michiel\",\"Emily\",\"Rodi\",\"Arjan Z.\",\"Hans\",\"Kitty\",\"Stan\",\"Erwin\",\"Mees\",\"Jordi\",\"Wietse\",\"Isolde\"],\"xaxis\":\"x\",\"y\":[0.0,0.0,0.0,0.0,0.0,0.0,0.0,0.0,0.0,0.0,0.0,0.0,0.0,0.0,0.0,0.0,0.0,0.0,0.0,0.0,0.0,0.0,0.0,0.0,0.0,0.0,0.0,0.0,0.0,0.0,0.0,0.0,0.0,0.0,0.0,0.0,0.0,0.0,0.0,0.0,0.0,0.0,0.0,0.0,0.0,0.0,0.0,0.0,0.0,0.0,0.0,0.0,0.0,0.0,0.0,0.0,0.0,0.0,0.0,0.0,0.0,0.0,0.0,0.0,0.0,0.0,0.0,0.0,0.0,0.0,0.0,0.0,0.0,0.0,0.0,0.0,0.0,0.0,0.0,0.0,0.0,0.0,0.0,0.0,0.0,0.0,0.0,0.0],\"yaxis\":\"y\",\"type\":\"histogram\"}],                        {\"template\":{\"data\":{\"barpolar\":[{\"marker\":{\"line\":{\"color\":\"white\",\"width\":0.5},\"pattern\":{\"fillmode\":\"overlay\",\"size\":10,\"solidity\":0.2}},\"type\":\"barpolar\"}],\"bar\":[{\"error_x\":{\"color\":\"rgb(36,36,36)\"},\"error_y\":{\"color\":\"rgb(36,36,36)\"},\"marker\":{\"line\":{\"color\":\"white\",\"width\":0.5},\"pattern\":{\"fillmode\":\"overlay\",\"size\":10,\"solidity\":0.2}},\"type\":\"bar\"}],\"carpet\":[{\"aaxis\":{\"endlinecolor\":\"rgb(36,36,36)\",\"gridcolor\":\"white\",\"linecolor\":\"white\",\"minorgridcolor\":\"white\",\"startlinecolor\":\"rgb(36,36,36)\"},\"baxis\":{\"endlinecolor\":\"rgb(36,36,36)\",\"gridcolor\":\"white\",\"linecolor\":\"white\",\"minorgridcolor\":\"white\",\"startlinecolor\":\"rgb(36,36,36)\"},\"type\":\"carpet\"}],\"choropleth\":[{\"colorbar\":{\"outlinewidth\":1,\"tickcolor\":\"rgb(36,36,36)\",\"ticks\":\"outside\"},\"type\":\"choropleth\"}],\"contourcarpet\":[{\"colorbar\":{\"outlinewidth\":1,\"tickcolor\":\"rgb(36,36,36)\",\"ticks\":\"outside\"},\"type\":\"contourcarpet\"}],\"contour\":[{\"colorbar\":{\"outlinewidth\":1,\"tickcolor\":\"rgb(36,36,36)\",\"ticks\":\"outside\"},\"colorscale\":[[0.0,\"#440154\"],[0.1111111111111111,\"#482878\"],[0.2222222222222222,\"#3e4989\"],[0.3333333333333333,\"#31688e\"],[0.4444444444444444,\"#26828e\"],[0.5555555555555556,\"#1f9e89\"],[0.6666666666666666,\"#35b779\"],[0.7777777777777778,\"#6ece58\"],[0.8888888888888888,\"#b5de2b\"],[1.0,\"#fde725\"]],\"type\":\"contour\"}],\"heatmapgl\":[{\"colorbar\":{\"outlinewidth\":1,\"tickcolor\":\"rgb(36,36,36)\",\"ticks\":\"outside\"},\"colorscale\":[[0.0,\"#440154\"],[0.1111111111111111,\"#482878\"],[0.2222222222222222,\"#3e4989\"],[0.3333333333333333,\"#31688e\"],[0.4444444444444444,\"#26828e\"],[0.5555555555555556,\"#1f9e89\"],[0.6666666666666666,\"#35b779\"],[0.7777777777777778,\"#6ece58\"],[0.8888888888888888,\"#b5de2b\"],[1.0,\"#fde725\"]],\"type\":\"heatmapgl\"}],\"heatmap\":[{\"colorbar\":{\"outlinewidth\":1,\"tickcolor\":\"rgb(36,36,36)\",\"ticks\":\"outside\"},\"colorscale\":[[0.0,\"#440154\"],[0.1111111111111111,\"#482878\"],[0.2222222222222222,\"#3e4989\"],[0.3333333333333333,\"#31688e\"],[0.4444444444444444,\"#26828e\"],[0.5555555555555556,\"#1f9e89\"],[0.6666666666666666,\"#35b779\"],[0.7777777777777778,\"#6ece58\"],[0.8888888888888888,\"#b5de2b\"],[1.0,\"#fde725\"]],\"type\":\"heatmap\"}],\"histogram2dcontour\":[{\"colorbar\":{\"outlinewidth\":1,\"tickcolor\":\"rgb(36,36,36)\",\"ticks\":\"outside\"},\"colorscale\":[[0.0,\"#440154\"],[0.1111111111111111,\"#482878\"],[0.2222222222222222,\"#3e4989\"],[0.3333333333333333,\"#31688e\"],[0.4444444444444444,\"#26828e\"],[0.5555555555555556,\"#1f9e89\"],[0.6666666666666666,\"#35b779\"],[0.7777777777777778,\"#6ece58\"],[0.8888888888888888,\"#b5de2b\"],[1.0,\"#fde725\"]],\"type\":\"histogram2dcontour\"}],\"histogram2d\":[{\"colorbar\":{\"outlinewidth\":1,\"tickcolor\":\"rgb(36,36,36)\",\"ticks\":\"outside\"},\"colorscale\":[[0.0,\"#440154\"],[0.1111111111111111,\"#482878\"],[0.2222222222222222,\"#3e4989\"],[0.3333333333333333,\"#31688e\"],[0.4444444444444444,\"#26828e\"],[0.5555555555555556,\"#1f9e89\"],[0.6666666666666666,\"#35b779\"],[0.7777777777777778,\"#6ece58\"],[0.8888888888888888,\"#b5de2b\"],[1.0,\"#fde725\"]],\"type\":\"histogram2d\"}],\"histogram\":[{\"marker\":{\"line\":{\"color\":\"white\",\"width\":0.6}},\"type\":\"histogram\"}],\"mesh3d\":[{\"colorbar\":{\"outlinewidth\":1,\"tickcolor\":\"rgb(36,36,36)\",\"ticks\":\"outside\"},\"type\":\"mesh3d\"}],\"parcoords\":[{\"line\":{\"colorbar\":{\"outlinewidth\":1,\"tickcolor\":\"rgb(36,36,36)\",\"ticks\":\"outside\"}},\"type\":\"parcoords\"}],\"pie\":[{\"automargin\":true,\"type\":\"pie\"}],\"scatter3d\":[{\"line\":{\"colorbar\":{\"outlinewidth\":1,\"tickcolor\":\"rgb(36,36,36)\",\"ticks\":\"outside\"}},\"marker\":{\"colorbar\":{\"outlinewidth\":1,\"tickcolor\":\"rgb(36,36,36)\",\"ticks\":\"outside\"}},\"type\":\"scatter3d\"}],\"scattercarpet\":[{\"marker\":{\"colorbar\":{\"outlinewidth\":1,\"tickcolor\":\"rgb(36,36,36)\",\"ticks\":\"outside\"}},\"type\":\"scattercarpet\"}],\"scattergeo\":[{\"marker\":{\"colorbar\":{\"outlinewidth\":1,\"tickcolor\":\"rgb(36,36,36)\",\"ticks\":\"outside\"}},\"type\":\"scattergeo\"}],\"scattergl\":[{\"marker\":{\"colorbar\":{\"outlinewidth\":1,\"tickcolor\":\"rgb(36,36,36)\",\"ticks\":\"outside\"}},\"type\":\"scattergl\"}],\"scattermapbox\":[{\"marker\":{\"colorbar\":{\"outlinewidth\":1,\"tickcolor\":\"rgb(36,36,36)\",\"ticks\":\"outside\"}},\"type\":\"scattermapbox\"}],\"scatterpolargl\":[{\"marker\":{\"colorbar\":{\"outlinewidth\":1,\"tickcolor\":\"rgb(36,36,36)\",\"ticks\":\"outside\"}},\"type\":\"scatterpolargl\"}],\"scatterpolar\":[{\"marker\":{\"colorbar\":{\"outlinewidth\":1,\"tickcolor\":\"rgb(36,36,36)\",\"ticks\":\"outside\"}},\"type\":\"scatterpolar\"}],\"scatter\":[{\"fillpattern\":{\"fillmode\":\"overlay\",\"size\":10,\"solidity\":0.2},\"type\":\"scatter\"}],\"scatterternary\":[{\"marker\":{\"colorbar\":{\"outlinewidth\":1,\"tickcolor\":\"rgb(36,36,36)\",\"ticks\":\"outside\"}},\"type\":\"scatterternary\"}],\"surface\":[{\"colorbar\":{\"outlinewidth\":1,\"tickcolor\":\"rgb(36,36,36)\",\"ticks\":\"outside\"},\"colorscale\":[[0.0,\"#440154\"],[0.1111111111111111,\"#482878\"],[0.2222222222222222,\"#3e4989\"],[0.3333333333333333,\"#31688e\"],[0.4444444444444444,\"#26828e\"],[0.5555555555555556,\"#1f9e89\"],[0.6666666666666666,\"#35b779\"],[0.7777777777777778,\"#6ece58\"],[0.8888888888888888,\"#b5de2b\"],[1.0,\"#fde725\"]],\"type\":\"surface\"}],\"table\":[{\"cells\":{\"fill\":{\"color\":\"rgb(237,237,237)\"},\"line\":{\"color\":\"white\"}},\"header\":{\"fill\":{\"color\":\"rgb(217,217,217)\"},\"line\":{\"color\":\"white\"}},\"type\":\"table\"}]},\"layout\":{\"annotationdefaults\":{\"arrowhead\":0,\"arrowwidth\":1},\"autotypenumbers\":\"strict\",\"coloraxis\":{\"colorbar\":{\"outlinewidth\":1,\"tickcolor\":\"rgb(36,36,36)\",\"ticks\":\"outside\"}},\"colorscale\":{\"diverging\":[[0.0,\"rgb(103,0,31)\"],[0.1,\"rgb(178,24,43)\"],[0.2,\"rgb(214,96,77)\"],[0.3,\"rgb(244,165,130)\"],[0.4,\"rgb(253,219,199)\"],[0.5,\"rgb(247,247,247)\"],[0.6,\"rgb(209,229,240)\"],[0.7,\"rgb(146,197,222)\"],[0.8,\"rgb(67,147,195)\"],[0.9,\"rgb(33,102,172)\"],[1.0,\"rgb(5,48,97)\"]],\"sequential\":[[0.0,\"#440154\"],[0.1111111111111111,\"#482878\"],[0.2222222222222222,\"#3e4989\"],[0.3333333333333333,\"#31688e\"],[0.4444444444444444,\"#26828e\"],[0.5555555555555556,\"#1f9e89\"],[0.6666666666666666,\"#35b779\"],[0.7777777777777778,\"#6ece58\"],[0.8888888888888888,\"#b5de2b\"],[1.0,\"#fde725\"]],\"sequentialminus\":[[0.0,\"#440154\"],[0.1111111111111111,\"#482878\"],[0.2222222222222222,\"#3e4989\"],[0.3333333333333333,\"#31688e\"],[0.4444444444444444,\"#26828e\"],[0.5555555555555556,\"#1f9e89\"],[0.6666666666666666,\"#35b779\"],[0.7777777777777778,\"#6ece58\"],[0.8888888888888888,\"#b5de2b\"],[1.0,\"#fde725\"]]},\"colorway\":[\"#1F77B4\",\"#FF7F0E\",\"#2CA02C\",\"#D62728\",\"#9467BD\",\"#8C564B\",\"#E377C2\",\"#7F7F7F\",\"#BCBD22\",\"#17BECF\"],\"font\":{\"color\":\"rgb(36,36,36)\"},\"geo\":{\"bgcolor\":\"white\",\"lakecolor\":\"white\",\"landcolor\":\"white\",\"showlakes\":true,\"showland\":true,\"subunitcolor\":\"white\"},\"hoverlabel\":{\"align\":\"left\"},\"hovermode\":\"closest\",\"mapbox\":{\"style\":\"light\"},\"paper_bgcolor\":\"white\",\"plot_bgcolor\":\"white\",\"polar\":{\"angularaxis\":{\"gridcolor\":\"rgb(232,232,232)\",\"linecolor\":\"rgb(36,36,36)\",\"showgrid\":false,\"showline\":true,\"ticks\":\"outside\"},\"bgcolor\":\"white\",\"radialaxis\":{\"gridcolor\":\"rgb(232,232,232)\",\"linecolor\":\"rgb(36,36,36)\",\"showgrid\":false,\"showline\":true,\"ticks\":\"outside\"}},\"scene\":{\"xaxis\":{\"backgroundcolor\":\"white\",\"gridcolor\":\"rgb(232,232,232)\",\"gridwidth\":2,\"linecolor\":\"rgb(36,36,36)\",\"showbackground\":true,\"showgrid\":false,\"showline\":true,\"ticks\":\"outside\",\"zeroline\":false,\"zerolinecolor\":\"rgb(36,36,36)\"},\"yaxis\":{\"backgroundcolor\":\"white\",\"gridcolor\":\"rgb(232,232,232)\",\"gridwidth\":2,\"linecolor\":\"rgb(36,36,36)\",\"showbackground\":true,\"showgrid\":false,\"showline\":true,\"ticks\":\"outside\",\"zeroline\":false,\"zerolinecolor\":\"rgb(36,36,36)\"},\"zaxis\":{\"backgroundcolor\":\"white\",\"gridcolor\":\"rgb(232,232,232)\",\"gridwidth\":2,\"linecolor\":\"rgb(36,36,36)\",\"showbackground\":true,\"showgrid\":false,\"showline\":true,\"ticks\":\"outside\",\"zeroline\":false,\"zerolinecolor\":\"rgb(36,36,36)\"}},\"shapedefaults\":{\"fillcolor\":\"black\",\"line\":{\"width\":0},\"opacity\":0.3},\"ternary\":{\"aaxis\":{\"gridcolor\":\"rgb(232,232,232)\",\"linecolor\":\"rgb(36,36,36)\",\"showgrid\":false,\"showline\":true,\"ticks\":\"outside\"},\"baxis\":{\"gridcolor\":\"rgb(232,232,232)\",\"linecolor\":\"rgb(36,36,36)\",\"showgrid\":false,\"showline\":true,\"ticks\":\"outside\"},\"bgcolor\":\"white\",\"caxis\":{\"gridcolor\":\"rgb(232,232,232)\",\"linecolor\":\"rgb(36,36,36)\",\"showgrid\":false,\"showline\":true,\"ticks\":\"outside\"}},\"title\":{\"x\":0.05},\"xaxis\":{\"automargin\":true,\"gridcolor\":\"rgb(232,232,232)\",\"linecolor\":\"rgb(36,36,36)\",\"showgrid\":false,\"showline\":true,\"ticks\":\"outside\",\"title\":{\"standoff\":15},\"zeroline\":false,\"zerolinecolor\":\"rgb(36,36,36)\"},\"yaxis\":{\"automargin\":true,\"gridcolor\":\"rgb(232,232,232)\",\"linecolor\":\"rgb(36,36,36)\",\"showgrid\":false,\"showline\":true,\"ticks\":\"outside\",\"title\":{\"standoff\":15},\"zeroline\":false,\"zerolinecolor\":\"rgb(36,36,36)\"}}},\"xaxis\":{\"anchor\":\"y\",\"domain\":[0.0,1.0],\"title\":{\"text\":\"Teams\"},\"categoryorder\":\"array\",\"categoryarray\":[\"Arjan T.\",\"Arjan Z.\",\"Casper\",\"Charlotte\",\"Chiel\",\"Corine\",\"Emily\",\"Erik\",\"Erwin\",\"Grietje\",\"Hans\",\"Isolde\",\"Jordi\",\"Kitty\",\"Marco\",\"Mees\",\"Michiel\",\"Niels\",\"Raymond\",\"Rodi\",\"Stan\",\"Wietse\"]},\"yaxis\":{\"anchor\":\"x\",\"domain\":[0.0,1.0],\"title\":{\"text\":\"Totale punten\"},\"showgrid\":true},\"legend\":{\"title\":{\"text\":\"Races\"},\"tracegroupgap\":0},\"title\":{\"text\":\"Stand\"},\"barmode\":\"relative\",\"height\":660,\"width\":960},                        {\"responsive\": true}                    ).then(function(){\n",
       "                            \n",
       "var gd = document.getElementById('9c1fe453-0c9f-4cc7-b00c-b2798dc595cb');\n",
       "var x = new MutationObserver(function (mutations, observer) {{\n",
       "        var display = window.getComputedStyle(gd).display;\n",
       "        if (!display || display === 'none') {{\n",
       "            console.log([gd, 'removed!']);\n",
       "            Plotly.purge(gd);\n",
       "            observer.disconnect();\n",
       "        }}\n",
       "}});\n",
       "\n",
       "// Listen for the removal of the full notebook cells\n",
       "var notebookContainer = gd.closest('#notebook-container');\n",
       "if (notebookContainer) {{\n",
       "    x.observe(notebookContainer, {childList: true});\n",
       "}}\n",
       "\n",
       "// Listen for the clearing of the current output cell\n",
       "var outputEl = gd.closest('.output');\n",
       "if (outputEl) {{\n",
       "    x.observe(outputEl, {childList: true});\n",
       "}}\n",
       "\n",
       "                        })                };                });            </script>        </div>"
      ]
     },
     "metadata": {},
     "output_type": "display_data"
    }
   ],
   "source": [
    "team_names = df_total_score['team']\n",
    "\n",
    "fig = px.histogram(df, x=\"team\", y=\"score\", color=\"race\",\n",
    "            title=\"Stand\",\n",
    "            width=fig_width, height=660,\n",
    "            labels={ \"race\" : \"Races\" },\n",
    "            template=\"simple_white\"\n",
    "            )\n",
    "\n",
    "fig.update_layout(xaxis_title=\"Teams\") \n",
    "fig.update_layout(yaxis_title=\"Totale punten\")\n",
    "\n",
    "fig.update_xaxes(categoryorder='array', categoryarray=team_names)\n",
    "fig.update_yaxes(showgrid=True)\n",
    "\n",
    "for idx, name in enumerate(races):\n",
    "    fig.data[idx].name = name\n",
    "    fig.data[idx].hovertemplate = name + \"<br>Punten = %{y}<extra></extra>\"       \n",
    "                 \n",
    "if fig_write:\n",
    "    fig.write_html(\"totale_punten_staaf.html\")\n",
    "fig.show()"
   ]
  },
  {
   "cell_type": "code",
   "execution_count": null,
   "id": "5bde58e8",
   "metadata": {},
   "outputs": [],
   "source": []
  }
 ],
 "metadata": {
  "kernelspec": {
   "display_name": "Python 3 (ipykernel)",
   "language": "python",
   "name": "python3"
  },
  "language_info": {
   "codemirror_mode": {
    "name": "ipython",
    "version": 3
   },
   "file_extension": ".py",
   "mimetype": "text/x-python",
   "name": "python",
   "nbconvert_exporter": "python",
   "pygments_lexer": "ipython3",
   "version": "3.11.2"
  }
 },
 "nbformat": 4,
 "nbformat_minor": 5
}
