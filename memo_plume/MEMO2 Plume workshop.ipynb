{
 "cells": [
  {
   "cell_type": "markdown",
   "metadata": {},
   "source": [
    "# Turbulence simulation of dispersion from a point source\n",
    "*Anja Raznjevic and Chiel van Heerwaarden*\n",
    "\n",
    "In this exercise, you will work with output from a turbulence simulation of dispersion from a point source. The data represents a laboratory experiment in a domain of $2 \\pi \\times \\pi \\times 1$ m$^3$ and the experiment has run for a little more than 2 minutes. The source is emitted at x = 0 m, y = 0 m and z = 0.1 m. The horizontal wind speed in streamwise direction is 0.11 m s$^{-1}$.\n",
    "\n",
    "Data is saved in an xy-plane located at the height of the source (0.1 m), as well as in three slices in the yz-plane perpendicular to the flow at x m, $\\pi$ m, and $2 \\pi$ m.\n",
    "\n",
    "First, we load the necessary Python packages:"
   ]
  },
  {
   "cell_type": "code",
   "execution_count": null,
   "metadata": {},
   "outputs": [],
   "source": [
    "import numpy as np\n",
    "import netCDF4 as nc\n",
    "import matplotlib.pyplot as plt\n",
    "from ipywidgets import interact, interactive, fixed, interact_manual\n",
    "%matplotlib inline"
   ]
  },
  {
   "cell_type": "markdown",
   "metadata": {},
   "source": [
    "Second, we load the data for the streamwise velocity $u$ and the scalar $s$. The three yz-planes are labeled `_close`, `_mid` and `_far`:"
   ]
  },
  {
   "cell_type": "code",
   "execution_count": null,
   "metadata": {},
   "outputs": [],
   "source": [
    "s_nc = nc.Dataset(\"ch4.yz.nc\")\n",
    "w_nc = nc.Dataset(\"w.yz.nc\")\n",
    "u_nc = nc.Dataset(\"u.yz.nc\")\n",
    "time = s_nc.variables[\"time\"][:] - 3601.\n",
    "s_close = s_nc.variables[\"ch4\"][:,:,0,:]\n",
    "s_mid = s_nc.variables[\"ch4\"][:,:,1,:]\n",
    "s_far = s_nc.variables[\"ch4\"][:,:,2,:]\n",
    "u_close = u_nc.variables[\"u\"][:,:,0,:]\n",
    "u_mid = u_nc.variables[\"u\"][:,:,1,:]\n",
    "u_far = u_nc.variables[\"u\"][:,:,2,:]\n",
    "y = s_nc.variables[\"y\"][:]\n",
    "z = s_nc.variables[\"z\"][:]\n",
    "zh = w_nc.variables[\"zh\"][:]\n",
    "s_nc.close(); u_nc.close(); w_nc.close()\n",
    "u_nc = nc.Dataset(\"u.xy.nc\")\n",
    "s_nc = nc.Dataset(\"ch4.xy.nc\")\n",
    "u_xy = u_nc.variables['u'][:,0,:,:]\n",
    "s_xy = s_nc.variables['ch4'][:,0,:,:]\n",
    "x = s_nc.variables[\"x\"][:]\n",
    "u_nc.close(); s_nc.close()"
   ]
  },
  {
   "cell_type": "markdown",
   "metadata": {},
   "source": [
    "After loading the data, we define the domein size, as well as the grid spacing. Note that `dz` is an array, because of non-uniform grid spacing in the vertical direction."
   ]
  },
  {
   "cell_type": "code",
   "execution_count": null,
   "metadata": {},
   "outputs": [],
   "source": [
    "np.append(zh, 1.)\n",
    "xsize = 2.*np.pi\n",
    "ysize = np.pi\n",
    "zsize = 1.\n",
    "dx = x[1]-x[0]\n",
    "dy = y[1]-y[0]\n",
    "dz = zh[1:] - zh[:-1]"
   ]
  },
  {
   "cell_type": "markdown",
   "metadata": {},
   "source": [
    "___\n",
    "# Dispersion in the xy-plane\n",
    "In the first part of the exercise, you are going to study the structure of the turbulence."
   ]
  },
  {
   "cell_type": "code",
   "execution_count": null,
   "metadata": {},
   "outputs": [],
   "source": [
    "@interact(n=(0,120,1))\n",
    "def plot_u_ch4(n=0):\n",
    "    plt.figure(figsize = (10,8))\n",
    "    plt.subplot(211)\n",
    "    plt.pcolormesh(x, y, s_xy[n], vmin=0, vmax=7000, cmap=plt.cm.Blues);\n",
    "    plt.xlabel('x')\n",
    "    plt.ylabel('y')\n",
    "    plt.title('time = {0} s'.format(n))\n",
    "    plt.colorbar();\n",
    "    plt.subplot(212)\n",
    "    plt.pcolormesh(x, y, u_xy[n], vmin=0.04, vmax=0.13, cmap=plt.cm.viridis);\n",
    "    plt.xlabel('x')\n",
    "    plt.ylabel('y')\n",
    "    plt.title('time = {0} s'.format(n))\n",
    "    plt.colorbar();\n",
    "    plt.tight_layout()"
   ]
  },
  {
   "cell_type": "markdown",
   "metadata": {},
   "source": [
    "1. Describe the structure of the velocity field in detail. In which direction does it vary more, $x$ or $y$? What is the consequence for dispersion?\n",
    "1. Is the velocity changing quickly in time? How large is the variation in space compared to the mean velocity? In other words, do the velocity variations matter?\n",
    "1. Describe the evolution of the plume. Explain the change in the structure along its way. How does this change link to the velocity field?"
   ]
  },
  {
   "cell_type": "markdown",
   "metadata": {},
   "source": [
    "___\n",
    "# Dispersion in the yz-plane\n",
    "We will now analyze the flow structure in planes perpendicular to the flow and become a bit more quantitative."
   ]
  },
  {
   "cell_type": "code",
   "execution_count": null,
   "metadata": {},
   "outputs": [],
   "source": [
    "# Compute the streamwise flux of scalar s\n",
    "sflux_mid = np.zeros_like(s_mid)\n",
    "# sflux_mid = "
   ]
  },
  {
   "cell_type": "code",
   "execution_count": null,
   "metadata": {},
   "outputs": [],
   "source": [
    "@interact(n=(0,120,1))\n",
    "def plot_u_ch4(n=0):\n",
    "    plt.figure(figsize = (10,10))\n",
    "    plt.subplot(311)\n",
    "    plt.pcolormesh(y, z, s_mid[n], vmin=0, vmax=5000, cmap=plt.cm.Blues);\n",
    "    plt.xlabel('y')\n",
    "    plt.ylabel('z')\n",
    "    plt.title('s, time = {0} s'.format(n))\n",
    "    plt.colorbar();\n",
    "    plt.subplot(312)\n",
    "    plt.pcolormesh(y, z, u_mid[n], vmin=0.0, vmax=0.14, cmap=plt.cm.viridis);\n",
    "    plt.xlabel('y')\n",
    "    plt.ylabel('z')\n",
    "    plt.title('u, time = {0} s'.format(n))\n",
    "    plt.colorbar();\n",
    "    plt.subplot(313)\n",
    "    plt.pcolormesh(y, z, sflux_mid[n], cmap=plt.cm.plasma)\n",
    "    plt.xlabel('y')\n",
    "    plt.ylabel('z')\n",
    "    plt.title('sflux, time = {0} s'.format(n))\n",
    "    plt.colorbar();\n",
    "    plt.tight_layout()"
   ]
  },
  {
   "cell_type": "markdown",
   "metadata": {},
   "source": [
    "1. Describe the structure of the velocity in detail. Are the variations as large as in the xy-plane?\n",
    "2. Describe the structure of the plume and its change in time. Does it look Gaussian?\n",
    "3. Compute the flux of $s$ through the yz-plane, which is the multiplication of $s$ and $u$.\n",
    "4. What causes more variations in the flux, those in velocity or those in the $s$?"
   ]
  },
  {
   "cell_type": "markdown",
   "metadata": {},
   "source": [
    "___\n",
    "# Calculating the flux\n",
    "In the final part of the exercise, you are going to calculate the source strength."
   ]
  },
  {
   "cell_type": "code",
   "execution_count": null,
   "metadata": {},
   "outputs": [],
   "source": [
    "u_time = np.zeros(time.size)\n",
    "s_time = np.zeros(time.size)\n",
    "sflux_time = np.zeros(time.size)"
   ]
  },
  {
   "cell_type": "code",
   "execution_count": null,
   "metadata": {},
   "outputs": [],
   "source": [
    "# Calculate the time series of the integrals over the yz-plane. You have thus to create\n",
    "# Python code that calculates the time series of the area-averaged u, s, and sflux."
   ]
  },
  {
   "cell_type": "code",
   "execution_count": null,
   "metadata": {},
   "outputs": [],
   "source": [
    "plt.figure(figsize=(12,4))\n",
    "plt.subplot(131)\n",
    "plt.plot(time, u_time)\n",
    "plt.xlabel('t')\n",
    "plt.ylabel('u')\n",
    "plt.subplot(132)\n",
    "plt.plot(time, s_time)\n",
    "plt.xlabel('t')\n",
    "plt.ylabel('s')\n",
    "plt.subplot(133)\n",
    "plt.plot(time, sflux_time)\n",
    "plt.xlabel('t')\n",
    "plt.ylabel('sflux')\n",
    "plt.tight_layout()"
   ]
  },
  {
   "cell_type": "markdown",
   "metadata": {},
   "source": [
    "1. Calculate the time series of area-averaged $u$, $s$, and flux.\n",
    "2. Which fluctuates most of the three?\n",
    "3. Which period is most suitable for calculating the flux over?\n",
    "4. What is the source strength in kg/s? (You can assume that the density is 1 kg m$^{-3}$.\n",
    "___\n",
    "If you are done early, you can modify the notebook and use the slice closest to the source and reestimate the source strength."
   ]
  },
  {
   "cell_type": "code",
   "execution_count": null,
   "metadata": {},
   "outputs": [],
   "source": []
  }
 ],
 "metadata": {
  "kernelspec": {
   "display_name": "Python 3",
   "language": "python",
   "name": "python3"
  },
  "language_info": {
   "codemirror_mode": {
    "name": "ipython",
    "version": 3
   },
   "file_extension": ".py",
   "mimetype": "text/x-python",
   "name": "python",
   "nbconvert_exporter": "python",
   "pygments_lexer": "ipython3",
   "version": "3.7.0"
  },
  "toc": {
   "colors": {
    "hover_highlight": "#DAA520",
    "navigate_num": "#000000",
    "navigate_text": "#333333",
    "running_highlight": "#FF0000",
    "selected_highlight": "#FFD700",
    "sidebar_border": "#EEEEEE",
    "wrapper_background": "#FFFFFF"
   },
   "moveMenuLeft": true,
   "nav_menu": {
    "height": "12px",
    "width": "252px"
   },
   "navigate_menu": true,
   "number_sections": true,
   "sideBar": true,
   "threshold": 4,
   "toc_cell": false,
   "toc_section_display": "block",
   "toc_window_display": false,
   "widenNotebook": false
  },
  "varInspector": {
   "cols": {
    "lenName": 16,
    "lenType": 16,
    "lenVar": 40
   },
   "kernels_config": {
    "python": {
     "delete_cmd_postfix": "",
     "delete_cmd_prefix": "del ",
     "library": "var_list.py",
     "varRefreshCmd": "print(var_dic_list())"
    },
    "r": {
     "delete_cmd_postfix": ") ",
     "delete_cmd_prefix": "rm(",
     "library": "var_list.r",
     "varRefreshCmd": "cat(var_dic_list()) "
    }
   },
   "types_to_exclude": [
    "module",
    "function",
    "builtin_function_or_method",
    "instance",
    "_Feature"
   ],
   "window_display": false
  }
 },
 "nbformat": 4,
 "nbformat_minor": 2
}
