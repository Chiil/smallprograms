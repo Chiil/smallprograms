{
 "cells": [
  {
   "cell_type": "code",
   "execution_count": null,
   "metadata": {},
   "outputs": [],
   "source": [
    "import numpy as np\n",
    "import matplotlib.pyplot as plt\n",
    "%matplotlib inline"
   ]
  },
  {
   "cell_type": "code",
   "execution_count": null,
   "metadata": {},
   "outputs": [],
   "source": [
    "n = 100\n",
    "L = 10.\n",
    "u = 1."
   ]
  },
  {
   "cell_type": "code",
   "execution_count": null,
   "metadata": {},
   "outputs": [],
   "source": [
    "dx = L/n\n",
    "x = np.arange(dx/2, L, dx)"
   ]
  },
  {
   "cell_type": "code",
   "execution_count": null,
   "metadata": {},
   "outputs": [],
   "source": [
    "sigma = 0.5\n",
    "s0 = np.exp(-(x-2)**2 / sigma**2)"
   ]
  },
  {
   "cell_type": "code",
   "execution_count": null,
   "metadata": {},
   "outputs": [],
   "source": [
    "plt.plot(x, s0)"
   ]
  },
  {
   "cell_type": "code",
   "execution_count": null,
   "metadata": {},
   "outputs": [],
   "source": [
    "dt = 0.02\n",
    "endtime = 4.\n",
    "nt = int(endtime/dt)"
   ]
  },
  {
   "cell_type": "code",
   "execution_count": null,
   "metadata": {},
   "outputs": [],
   "source": [
    "# Euler forward, 2nd order space.\n",
    "s = np.zeros(n+2)\n",
    "s[1:-1] = s0[:]\n",
    "\n",
    "for i in range(nt):\n",
    "    # Dirichtlet left.\n",
    "    s[ 0] = -s[ 1]\n",
    "    # Neumann right.\n",
    "    s[-1] =  s[-2]\n",
    "    s[1:-1] -= dt*u*(s[2:]-s[:-2])/(2*dx)\n",
    "s = s[1:-1]\n",
    "\n",
    "plt.plot(x, s)\n",
    "plt.plot(x, s0, 'k:')"
   ]
  },
  {
   "cell_type": "code",
   "execution_count": null,
   "metadata": {},
   "outputs": [],
   "source": [
    "# RK4, 2nd order space.\n",
    "s = s0.copy()\n",
    "\n",
    "def calc_rhs(s_in):\n",
    "    s = np.zeros(n+2)\n",
    "    s[1:-1] = s_in[:]\n",
    "    \n",
    "    # Dirichtlet left.\n",
    "    s[ 0] = -s[ 1]\n",
    "    # Neumann right.\n",
    "    s[-1] =  s[-2]\n",
    "    return -u*(s[2:]-s[:-2])/(2*dx)\n",
    "\n",
    "for i in range(nt):\n",
    "    s_tend1 = calc_rhs(s)\n",
    "    s_tend2 = calc_rhs(s + dt*s_tend1/2)\n",
    "    s_tend3 = calc_rhs(s + dt*s_tend2/2)\n",
    "    s_tend4 = calc_rhs(s + dt*s_tend3  )\n",
    "\n",
    "    s += dt * (s_tend1 + 2.*s_tend2 + 2.*s_tend3 + s_tend4) / 6.\n",
    "\n",
    "plt.plot(x, s)\n",
    "plt.plot(x, s0, 'k:')"
   ]
  },
  {
   "cell_type": "code",
   "execution_count": null,
   "metadata": {},
   "outputs": [],
   "source": [
    "# Euler forward, 4th order space.\n",
    "s = np.zeros(n+4)\n",
    "s[2:-2] = s0[:]\n",
    "\n",
    "for i in range(nt):\n",
    "    # Dirichtlet left = 0\n",
    "    s[ 0] = -9*s[2] + 2*s[3]\n",
    "    s[ 1] = -2*s[2] + (1./3.)*s[3]\n",
    "    # Neumann right.\n",
    "    s[-1] = s[-4]\n",
    "    s[-2] = s[-3]\n",
    "    s[2:-2] -= dt*u*(s[:-4] - 8*s[1:-3] + 8*s[3:-1] - s[4:])/(12*dx)\n",
    "s = s[2:-2]\n",
    "\n",
    "plt.plot(x, s)\n",
    "plt.plot(x, s0, 'k:')"
   ]
  },
  {
   "cell_type": "code",
   "execution_count": null,
   "metadata": {},
   "outputs": [],
   "source": [
    "# RK4, 4th order space.\n",
    "s = s0.copy()\n",
    "\n",
    "def calc_rhs(s_in):\n",
    "    s = np.zeros(n+4)\n",
    "    s[2:-2] = s_in[:]\n",
    "    \n",
    "    # Dirichtlet left = 0\n",
    "    s[ 0] = -9*s[2] + 2*s[3]\n",
    "    s[ 1] = -2*s[2] + (1./3.)*s[3]\n",
    "    # Neumann right.\n",
    "    s[-1] = s[-4]\n",
    "    s[-2] = s[-3]\n",
    "    return -u*(s[:-4] - 8*s[1:-3] + 8*s[3:-1] - s[4:])/(12*dx)\n",
    "\n",
    "for i in range(nt):\n",
    "    s_tend1 = calc_rhs(s)\n",
    "    s_tend2 = calc_rhs(s + dt*s_tend1/2)\n",
    "    s_tend3 = calc_rhs(s + dt*s_tend2/2)\n",
    "    s_tend4 = calc_rhs(s + dt*s_tend3  )\n",
    "\n",
    "    s += dt * (s_tend1 + 2.*s_tend2 + 2.*s_tend3 + s_tend4) / 6.\n",
    "\n",
    "plt.plot(x, s)\n",
    "plt.plot(x, s0, 'k:')"
   ]
  },
  {
   "cell_type": "code",
   "execution_count": null,
   "metadata": {},
   "outputs": [],
   "source": []
  }
 ],
 "metadata": {
  "kernelspec": {
   "display_name": "Python 3",
   "language": "python",
   "name": "python3"
  },
  "language_info": {
   "codemirror_mode": {
    "name": "ipython",
    "version": 3
   },
   "file_extension": ".py",
   "mimetype": "text/x-python",
   "name": "python",
   "nbconvert_exporter": "python",
   "pygments_lexer": "ipython3",
   "version": "3.7.0"
  },
  "toc": {
   "colors": {
    "hover_highlight": "#DAA520",
    "navigate_num": "#000000",
    "navigate_text": "#333333",
    "running_highlight": "#FF0000",
    "selected_highlight": "#FFD700",
    "sidebar_border": "#EEEEEE",
    "wrapper_background": "#FFFFFF"
   },
   "moveMenuLeft": true,
   "nav_menu": {
    "height": "12px",
    "width": "252px"
   },
   "navigate_menu": true,
   "number_sections": true,
   "sideBar": true,
   "threshold": 4,
   "toc_cell": false,
   "toc_section_display": "block",
   "toc_window_display": false,
   "widenNotebook": false
  },
  "varInspector": {
   "cols": {
    "lenName": 16,
    "lenType": 16,
    "lenVar": 40
   },
   "kernels_config": {
    "python": {
     "delete_cmd_postfix": "",
     "delete_cmd_prefix": "del ",
     "library": "var_list.py",
     "varRefreshCmd": "print(var_dic_list())"
    },
    "r": {
     "delete_cmd_postfix": ") ",
     "delete_cmd_prefix": "rm(",
     "library": "var_list.r",
     "varRefreshCmd": "cat(var_dic_list()) "
    }
   },
   "types_to_exclude": [
    "module",
    "function",
    "builtin_function_or_method",
    "instance",
    "_Feature"
   ],
   "window_display": false
  }
 },
 "nbformat": 4,
 "nbformat_minor": 2
}
