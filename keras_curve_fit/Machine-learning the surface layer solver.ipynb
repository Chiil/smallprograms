{
 "cells": [
  {
   "cell_type": "markdown",
   "metadata": {},
   "source": [
    "# Machine-learning the surface-layer solver\n",
    "*Chiel van Heerwaarden, 2020 (chiel.vanheerwaarden@wur.nl)*\n",
    "\n",
    "$$\n",
    "f_m \\equiv \\dfrac{ \\kappa }\n",
    "{ \\ln \\left( \\dfrac{z}{z_{0m}} \\right) \n",
    "- \\Psi_m \\left( \\dfrac{z}{L} \\right) \n",
    "+ \\Psi_m \\left( \\dfrac{z_{0m}}{L} \\right) }\n",
    "$$\n",
    "\n",
    "$$\n",
    "f_h \\equiv \\dfrac{ \\kappa }\n",
    "{ \\ln \\left( \\dfrac{z}{z_{0h}} \\right) \n",
    "- \\Psi_h \\left( \\dfrac{z}{L} \\right) \n",
    "+ \\Psi_h \\left( \\dfrac{z_{0h}}{L} \\right) }\n",
    "$$\n",
    "\n",
    "$$\n",
    "u_* = f_m \\left( u_1 - u_0 \\right)\n",
    "$$\n",
    "\n",
    "$$\n",
    "\\theta_{v*} = f_h \\left( \\theta_{v1} - \\theta_{v0} \\right)\n",
    "$$\n",
    "\n",
    "$$\n",
    "L \\equiv - \\dfrac{u_*^3}{\\kappa \\dfrac{g}{\\theta_{v00}} \\overline{w^\\prime \\theta_v^\\prime}_0}\n",
    "$$\n",
    "\n",
    "$$\n",
    "Ri_B \\equiv \\dfrac{z g \\left( \\theta_{v1} - \\theta_{v0} \\right)}\n",
    "{ \\theta_{v00} \\left( u_1 - u_0 \\right)^2 }\n",
    "=\n",
    "\\dfrac{z}{L} \\dfrac{f_m^2}{f_h}\n",
    "$$"
   ]
  },
  {
   "cell_type": "markdown",
   "metadata": {},
   "source": [
    "___\n",
    "# Create the training data\n",
    "Predict from set $\\left( Ri_B, z, z_{0m}, z_{0h} \\right)$ the values of $(u_*, \\theta_{v*}, L)$ "
   ]
  },
  {
   "cell_type": "code",
   "execution_count": null,
   "metadata": {},
   "outputs": [],
   "source": [
    "import numpy as np\n",
    "from numba import jit\n",
    "import matplotlib.pyplot as plt\n",
    "from tensorflow.keras.models import Sequential\n",
    "from tensorflow.keras.layers import Dense, LeakyReLU"
   ]
  },
  {
   "cell_type": "code",
   "execution_count": null,
   "metadata": {},
   "outputs": [],
   "source": [
    "# Generate the input data.\n",
    "z = 10\n",
    "z0m = 0.1\n",
    "z0h = 0.01\n",
    "RiB = np.linspace(-5, 0.5, 20000)"
   ]
  },
  {
   "cell_type": "code",
   "execution_count": null,
   "metadata": {},
   "outputs": [],
   "source": [
    "@jit(nopython=True, nogil=True, fastmath=True)\n",
    "def phim(zeta):\n",
    "    if zeta <= 0:\n",
    "        phim = (1. + 3.6*(abs(zeta))**(2./3.))**(-1./2.)\n",
    "    else:\n",
    "        phim = 1. + 4.8*zeta\n",
    "    return phim\n",
    "\n",
    "@jit(nopython=True, nogil=True, fastmath=True)\n",
    "def phih(zeta):\n",
    "    if zeta <= 0:\n",
    "        phih = (1. + 7.9*(abs(zeta))**(2./3.))**(-1./2.)\n",
    "    else:\n",
    "        phih = 1. + 7.8*zeta\n",
    "    return phih\n",
    "\n",
    "@jit(nopython=True, nogil=True, fastmath=True)\n",
    "def psim(zeta):\n",
    "    if zeta <= 0:\n",
    "        x     = (1. - 16. * zeta)**(0.25)\n",
    "        psim  = np.pi / 2. - 2. * np.arctan(x) + np.log((1. + x)**2. * (1. + x**2.) / 8.)\n",
    "    else:\n",
    "        psim  = -2./3. * (zeta - 5./0.35) * np.exp(-0.35 * zeta) - zeta - (10./3.) / 0.35\n",
    "    return psim\n",
    "\n",
    "@jit(nopython=True, nogil=True, fastmath=True)\n",
    "def psih(zeta):\n",
    "    if zeta <= 0:\n",
    "        x     = (1. - 16. * zeta)**(0.25)\n",
    "        psih  = 2. * np.log( (1. + x*x) / 2.)\n",
    "    else:\n",
    "        psih  = -2./3. * (zeta - 5./0.35) * np.exp(-0.35 * zeta) - (1. + (2./3.) * zeta) ** (1.5) - (10./3.) / 0.35 + 1.\n",
    "    return psih\n",
    "\n",
    "@jit(nopython=True, nogil=True, fastmath=True)\n",
    "def RiB_to_L(RiB, z, z0m, z0h):\n",
    "    if RiB > 0.:\n",
    "        L  = 1.\n",
    "        L0 = 2.\n",
    "    else:\n",
    "        L  = -1.\n",
    "        L0 = -2.\n",
    "\n",
    "    while abs(L - L0) > 1e-8:\n",
    "        L0      = L\n",
    "        fx      = RiB - z/L * (np.log(z/z0h) - psih(z/L) + psih(z0h/L)) / (np.log(z/z0m) - psim(z/L) + psim(z0m/L))**2.\n",
    "        Lstart  = L - 0.001*L\n",
    "        Lend    = L + 0.001*L\n",
    "        fxdif   = ( (-z/Lstart * (np.log(z/z0h) - psih(z/Lstart) + psih(z0h/Lstart)) / \\\n",
    "                                 (np.log(z/z0m) - psim(z/Lstart) + psim(z0m/Lstart))**2.) \\\n",
    "                  - (-z/Lend   * (np.log(z/z0h) - psih(z/Lend  ) + psih(z0h/Lend  )) / \\\n",
    "                                 (np.log(z/z0m) - psim(z/Lend  ) + psim(z0m/Lend  ))**2.) ) / (Lstart-Lend)\n",
    "        L       = L - fx/fxdif\n",
    "\n",
    "        if(abs(L) > 1e15):\n",
    "            break\n",
    "\n",
    "    return L"
   ]
  },
  {
   "cell_type": "code",
   "execution_count": null,
   "metadata": {},
   "outputs": [],
   "source": [
    "L = np.empty(RiB.size)\n",
    "for i in range(RiB.size):\n",
    "    L[i] = RiB_to_L(RiB[i], z, z0m, z0h)\n",
    "zL = z/L"
   ]
  },
  {
   "cell_type": "code",
   "execution_count": null,
   "metadata": {
    "code_folding": []
   },
   "outputs": [],
   "source": [
    "n_train = 2**20\n",
    "\n",
    "# Uniformly distributed RiB values.\n",
    "#x_train = 3.2*np.random.rand(n_train) - 2.1\n",
    "\n",
    "# Normally distributed RiB values\n",
    "# x_train = np.random.normal(loc=0., scale=3., size=n_train)\n",
    "# x_train = np.delete(x_train, np.argwhere(x_train > 0.6))\n",
    "\n",
    "# More weight on neutral\n",
    "RiB_train = 10.**(8.*np.random.rand(n_train//2) - 7.)\n",
    "RiB_train = np.concatenate((RiB_train, -1 * 10.**(8.*np.random.rand(n_train//2) - 7.) ))\n",
    "#np.random.shuffle(RiB_train)\n",
    "RiB_train = np.delete(RiB_train, np.argwhere(RiB_train > 0.6))\n",
    "\n",
    "print('Calculating training data')\n",
    "zL_train = np.empty_like(RiB_train)\n",
    "for i in range(RiB_train.size):\n",
    "    zL_train[i] = z/RiB_to_L(RiB_train[i], z, z0m, z0h)"
   ]
  },
  {
   "cell_type": "code",
   "execution_count": null,
   "metadata": {
    "code_folding": []
   },
   "outputs": [],
   "source": [
    "plt.figure(figsize=(10,4))\n",
    "plt.subplot(121)\n",
    "plt.hist(RiB_train, 50)\n",
    "plt.xlabel('RiB')\n",
    "plt.subplot(122)\n",
    "plt.hist(zL_train, 50)\n",
    "plt.xlabel('z/L')\n",
    "plt.tight_layout()"
   ]
  },
  {
   "cell_type": "code",
   "execution_count": null,
   "metadata": {
    "code_folding": []
   },
   "outputs": [],
   "source": [
    "model = Sequential()\n",
    "model.add(Dense(units=50, input_dim=1))\n",
    "model.add(LeakyReLU(0.01))\n",
    "# model.add(Dense(units=20))\n",
    "# model.add(LeakyReLU(0.01))\n",
    "# model.add(Dense(units=20))\n",
    "# model.add(LeakyReLU(0.01))\n",
    "model.add(Dense(units=1))\n",
    "\n",
    "model.compile(\n",
    "        loss='mean_squared_error',\n",
    "        optimizer='adam')\n",
    "\n",
    "model.fit(RiB_train, zL_train, epochs=10, batch_size=128, verbose=1)"
   ]
  },
  {
   "cell_type": "markdown",
   "metadata": {},
   "source": [
    "___\n",
    "# Run inference"
   ]
  },
  {
   "cell_type": "code",
   "execution_count": null,
   "metadata": {
    "code_folding": []
   },
   "outputs": [],
   "source": [
    "loss_and_metrics = model.evaluate(RiB, zL, batch_size=1000, verbose=0)\n",
    "print('loss: {:.5e}'.format(loss_and_metrics))"
   ]
  },
  {
   "cell_type": "code",
   "execution_count": null,
   "metadata": {
    "code_folding": [],
    "scrolled": false
   },
   "outputs": [],
   "source": [
    "zL_inf = np.array(model.predict(RiB, batch_size=1)).reshape(RiB.shape)\n",
    "phim_inf = np.empty_like(zL_inf)\n",
    "\n",
    "for i in range(phim_inf.size):\n",
    "    phim_inf[i] = phim(zL_inf[i])\n",
    "    \n",
    "phim_ref = np.empty_like(zL)\n",
    "for i in range(phim_ref.size):\n",
    "    phim_ref[i] = phim(zL[i])"
   ]
  },
  {
   "cell_type": "code",
   "execution_count": null,
   "metadata": {},
   "outputs": [],
   "source": [
    "plt.figure(figsize=(12,4))\n",
    "plt.subplot(121)\n",
    "plt.plot(RiB, zL, 'k:')\n",
    "plt.plot(RiB, zL_inf)\n",
    "plt.xlabel('RiB')\n",
    "plt.ylabel('z/L')\n",
    "plt.subplot(122)\n",
    "plt.plot(RiB, zL, 'k:')\n",
    "plt.plot(RiB, zL_inf)\n",
    "plt.xlabel('RiB')\n",
    "plt.ylabel('z/L')\n",
    "plt.xlim(-0.5, 0.2)\n",
    "plt.ylim(-1., 1.)\n",
    "plt.tight_layout()"
   ]
  },
  {
   "cell_type": "code",
   "execution_count": null,
   "metadata": {},
   "outputs": [],
   "source": [
    "plt.figure(figsize=(12,4))\n",
    "plt.subplot(131)\n",
    "plt.plot(zL, phim_ref, 'k:')\n",
    "plt.plot(zL_inf, phim_inf)\n",
    "plt.xlabel('z/L')\n",
    "plt.ylabel('phim')\n",
    "plt.subplot(132)\n",
    "plt.semilogx(-zL, phim_ref, 'k:')\n",
    "plt.semilogx(-zL_inf, phim_inf)\n",
    "plt.xlabel('-z/L')\n",
    "plt.ylabel('phim')\n",
    "plt.xlim(1e-4, 10)\n",
    "plt.ylim(0, 1.1)\n",
    "plt.subplot(133)\n",
    "plt.semilogx(zL, phim_ref, 'k:')\n",
    "plt.semilogx(zL_inf, phim_inf)\n",
    "plt.xlabel('z/L')\n",
    "plt.ylabel('phim')\n",
    "plt.xlim(1e-4, 1)\n",
    "plt.ylim(0, 8.)\n",
    "plt.tight_layout()"
   ]
  },
  {
   "cell_type": "code",
   "execution_count": null,
   "metadata": {},
   "outputs": [],
   "source": []
  }
 ],
 "metadata": {
  "kernelspec": {
   "display_name": "Python 3",
   "language": "python",
   "name": "python3"
  },
  "language_info": {
   "codemirror_mode": {
    "name": "ipython",
    "version": 3
   },
   "file_extension": ".py",
   "mimetype": "text/x-python",
   "name": "python",
   "nbconvert_exporter": "python",
   "pygments_lexer": "ipython3",
   "version": "3.7.4"
  },
  "toc": {
   "colors": {
    "hover_highlight": "#DAA520",
    "navigate_num": "#000000",
    "navigate_text": "#333333",
    "running_highlight": "#FF0000",
    "selected_highlight": "#FFD700",
    "sidebar_border": "#EEEEEE",
    "wrapper_background": "#FFFFFF"
   },
   "moveMenuLeft": true,
   "nav_menu": {
    "height": "66px",
    "width": "252px"
   },
   "navigate_menu": true,
   "number_sections": true,
   "sideBar": true,
   "threshold": 4,
   "toc_cell": false,
   "toc_section_display": "block",
   "toc_window_display": false,
   "widenNotebook": false
  },
  "varInspector": {
   "cols": {
    "lenName": 16,
    "lenType": 16,
    "lenVar": 40
   },
   "kernels_config": {
    "python": {
     "delete_cmd_postfix": "",
     "delete_cmd_prefix": "del ",
     "library": "var_list.py",
     "varRefreshCmd": "print(var_dic_list())"
    },
    "r": {
     "delete_cmd_postfix": ") ",
     "delete_cmd_prefix": "rm(",
     "library": "var_list.r",
     "varRefreshCmd": "cat(var_dic_list()) "
    }
   },
   "types_to_exclude": [
    "module",
    "function",
    "builtin_function_or_method",
    "instance",
    "_Feature"
   ],
   "window_display": false
  }
 },
 "nbformat": 4,
 "nbformat_minor": 2
}
