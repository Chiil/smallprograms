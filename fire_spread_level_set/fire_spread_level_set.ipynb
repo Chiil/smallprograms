{
 "cells": [
  {
   "cell_type": "code",
   "execution_count": null,
   "id": "eb575baa-ea56-4b07-8748-5c992c5b698e",
   "metadata": {},
   "outputs": [],
   "source": [
    "import numpy as np\n",
    "import matplotlib.pyplot as plt"
   ]
  },
  {
   "cell_type": "code",
   "execution_count": null,
   "id": "91173b56-cc48-4714-9b7e-09b4792d468e",
   "metadata": {},
   "outputs": [],
   "source": [
    "dx, dy = 50, 50\n",
    "xsize, ysize = 6400, 6400\n",
    "\n",
    "x = np.arange(dx/2, xsize, dx) - xsize/2\n",
    "y = np.arange(dy/2, ysize, dy) - ysize/2"
   ]
  },
  {
   "cell_type": "code",
   "execution_count": null,
   "id": "f2ffbe80-ce36-4e2e-a5ad-79c321c4b28e",
   "metadata": {},
   "outputs": [],
   "source": [
    "psi = np.zeros((len(y), len(x)))\n",
    "\n",
    "# R = 200.0\n",
    "# psi[:, :] = (x[None, :]**2 + y[:, None]**2)**.5 - R # Level set function for circle with radius 200\n",
    "\n",
    "p = 10.0 # 2.0 is circle, inf is square\n",
    "a_x, a_y = 100.0, 500.0\n",
    "psi[:, :] = (np.abs(x[None, :]/a_x)**p + np.abs(y[:, None]/a_y)**p)**(1.0/p) - 1.0\n",
    "\n",
    "psi_0 = psi.copy()\n",
    "\n",
    "ros = 0.5\n",
    "alpha_1 = 0.1\n",
    "u = 5.0 * np.ones_like(psi)\n",
    "v = 0.0 * np.ones_like(psi)"
   ]
  },
  {
   "cell_type": "code",
   "execution_count": null,
   "id": "9d32b6db-a755-4255-918d-d9ee54a139fa",
   "metadata": {},
   "outputs": [],
   "source": [
    "time = 0.0\n",
    "dt = 1.0\n",
    "total_time = 1800.0"
   ]
  },
  {
   "cell_type": "code",
   "execution_count": null,
   "id": "d8c34459-55b9-4f73-98f6-336cffd78dea",
   "metadata": {},
   "outputs": [],
   "source": [
    "while time <= total_time:\n",
    "    grad_psi_x, grad_psi_y = np.gradient(psi, dx, axis=1), np.gradient(psi, dy, axis=0)\n",
    "    grad_psi = np.hypot(grad_psi_x, grad_psi_y)\n",
    "\n",
    "    u_norm = grad_psi_x / grad_psi\n",
    "    v_norm = grad_psi_y / grad_psi\n",
    "\n",
    "    rf = ros * (1.0 + alpha_1 * (u * u_norm + v * v_norm)) \n",
    "    dpsi_dt = - rf * grad_psi\n",
    "\n",
    "    psi += dt * dpsi_dt\n",
    "    time += dt"
   ]
  },
  {
   "cell_type": "code",
   "execution_count": null,
   "id": "f75b1890-e97e-42a3-9609-7279e0184f2a",
   "metadata": {},
   "outputs": [],
   "source": [
    "plt.figure()\n",
    "plt.gca().set_aspect(\"equal\")\n",
    "plt.pcolormesh(x, y, psi_0, cmap=plt.cm.Reds)\n",
    "plt.colorbar()\n",
    "plt.contour(x, y, psi_0, [-1e9, 0, 1e9], colors=\"k\")"
   ]
  },
  {
   "cell_type": "code",
   "execution_count": null,
   "id": "ccc61264-3767-4a8c-be3b-3278d7e3fcbd",
   "metadata": {},
   "outputs": [],
   "source": [
    "plt.figure()\n",
    "plt.gca().set_aspect(\"equal\")\n",
    "plt.pcolormesh(x, y, psi, cmap=plt.cm.Reds)\n",
    "plt.colorbar()\n",
    "plt.contour(x, y, psi_0, [-1e9, 0, 1e9], colors=\"k\", linestyles=\":\")\n",
    "plt.contour(x, y, psi, [-1e9, 0, 1e9], colors=\"k\")"
   ]
  },
  {
   "cell_type": "code",
   "execution_count": null,
   "id": "94c631c6-c0c6-4a46-a769-59c6754912e6",
   "metadata": {},
   "outputs": [],
   "source": []
  }
 ],
 "metadata": {
  "kernelspec": {
   "display_name": "Python 3 (ipykernel)",
   "language": "python",
   "name": "python3"
  },
  "language_info": {
   "codemirror_mode": {
    "name": "ipython",
    "version": 3
   },
   "file_extension": ".py",
   "mimetype": "text/x-python",
   "name": "python",
   "nbconvert_exporter": "python",
   "pygments_lexer": "ipython3",
   "version": "3.12.10"
  }
 },
 "nbformat": 4,
 "nbformat_minor": 5
}
