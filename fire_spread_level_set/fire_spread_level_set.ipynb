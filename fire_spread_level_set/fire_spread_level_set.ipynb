{
 "cells": [
  {
   "cell_type": "code",
   "execution_count": null,
   "id": "eb575baa-ea56-4b07-8748-5c992c5b698e",
   "metadata": {},
   "outputs": [],
   "source": [
    "import numpy as np\n",
    "import matplotlib.pyplot as plt\n",
    "import matplotlib.animation as animation\n",
    "from IPython.display import HTML"
   ]
  },
  {
   "cell_type": "code",
   "execution_count": null,
   "id": "64f62b94",
   "metadata": {},
   "outputs": [],
   "source": [
    "def levelset_reinit(phi, dx, dy, n_iter=50):\n",
    "    \"\"\"Concise PDE-based level set reinitialization\"\"\"\n",
    "    phi0, dt = phi.copy(), 0.2 * min(dx, dy)\n",
    "    eps = 1.5 * max(dx, dy)\n",
    "    \n",
    "    for _ in range(n_iter):\n",
    "        # Forward/backward differences\n",
    "        dxp = np.diff(phi, axis=0, append=phi[-1:]) / dx\n",
    "        dxm = np.diff(phi, axis=0, prepend=phi[:1]) / dx  \n",
    "        dyp = np.diff(phi, axis=1, append=phi[:, -1:]) / dy\n",
    "        dym = np.diff(phi, axis=1, prepend=phi[:, :1]) / dy\n",
    "        \n",
    "        # Godunov upwind\n",
    "        sign = phi0 / np.sqrt(phi0**2 + eps**2)\n",
    "        grad_x = np.where(sign > 0, np.maximum(dxm, 0)**2 + np.minimum(dxp, 0)**2,\n",
    "                                    np.maximum(dxp, 0)**2 + np.minimum(dxm, 0)**2)\n",
    "        grad_y = np.where(sign > 0, np.maximum(dym, 0)**2 + np.minimum(dyp, 0)**2,\n",
    "                                    np.maximum(dyp, 0)**2 + np.minimum(dym, 0)**2)\n",
    "        \n",
    "        # Update\n",
    "        phi -= dt * sign * (np.sqrt(grad_x + grad_y) - 1)\n",
    "    \n",
    "    return phi"
   ]
  },
  {
   "cell_type": "code",
   "execution_count": null,
   "id": "91173b56-cc48-4714-9b7e-09b4792d468e",
   "metadata": {},
   "outputs": [],
   "source": [
    "dx, dy = 5, 5\n",
    "xsize, ysize = 2000, 2000\n",
    "\n",
    "x = np.arange(dx/2, xsize, dx) - xsize/4\n",
    "y = np.arange(dy/2, ysize, dy) - ysize/2"
   ]
  },
  {
   "cell_type": "code",
   "execution_count": null,
   "id": "f2ffbe80-ce36-4e2e-a5ad-79c321c4b28e",
   "metadata": {},
   "outputs": [],
   "source": [
    "psi = np.zeros((len(y), len(x)))\n",
    "\n",
    "# R = 200.0\n",
    "# psi[:, :] = (x[None, :]**2 + y[:, None]**2)**.5 - R # Level set function for circle with radius 200\n",
    "\n",
    "p = 8.0 # 2.0 is circle, inf is square\n",
    "a_x, a_y = 200.0, 500.0\n",
    "psi[:, :] = (np.abs(x[None, :]/a_x)**p + np.abs(y[:, None]/a_y)**p)**(1.0/p) - 1.0\n",
    "\n",
    "F = np.ones_like(psi)\n",
    "dFdt = np.zeros_like(psi)\n",
    "alpha_F = - 1.0 / 200.0 # 1 / efolding time\n",
    "\n",
    "H = np.zeros_like(psi)\n",
    "rf = np.zeros_like(psi)\n",
    "U = np.zeros_like(psi)\n",
    "\n",
    "ros = 0.05 # heavy fuel, dry grass\n",
    "u = 5.0 * np.ones_like(psi)\n",
    "v = 0.0 * np.ones_like(psi)"
   ]
  },
  {
   "cell_type": "code",
   "execution_count": null,
   "id": "18fb504b",
   "metadata": {},
   "outputs": [],
   "source": [
    "psi = levelset_reinit(psi, dx, dy, 100)\n",
    "psi_0 = psi.copy()\n",
    "\n",
    "grad_psi_x, grad_psi_y = np.gradient(psi, dx, axis=1), np.gradient(psi, dy, axis=0)\n",
    "grad_psi = np.hypot(grad_psi_x, grad_psi_y)\n",
    "\n",
    "plt.figure(figsize=(14, 4.5))\n",
    "\n",
    "plt.subplot(121)\n",
    "plt.gca().set_aspect(\"equal\")\n",
    "plt.pcolormesh(x, y, psi, cmap=plt.cm.Reds)\n",
    "plt.colorbar()\n",
    "plt.contour(x, y, psi, [-1e9, 0, 1e9], colors=\"k\", linestyles=\":\")\n",
    "\n",
    "plt.subplot(122)\n",
    "plt.gca().set_aspect(\"equal\")\n",
    "plt.pcolormesh(x, y, grad_psi, cmap=plt.cm.Reds)\n",
    "plt.colorbar()\n",
    "plt.contour(x, y, psi, [-1e9, 0, 1e9], colors=\"k\", linestyles=\":\")"
   ]
  },
  {
   "cell_type": "code",
   "execution_count": null,
   "id": "9d32b6db-a755-4255-918d-d9ee54a139fa",
   "metadata": {},
   "outputs": [],
   "source": [
    "time = 0.0\n",
    "dt = 5.0\n",
    "total_time = 2100.0\n",
    "dt_output = 30.0"
   ]
  },
  {
   "cell_type": "code",
   "execution_count": null,
   "id": "d8c34459-55b9-4f73-98f6-336cffd78dea",
   "metadata": {},
   "outputs": [],
   "source": [
    "n_output = round(total_time / dt_output) + 1\n",
    "dF_dt_out = np.zeros((n_output, *psi.shape))\n",
    "psi_out = np.zeros((n_output, *psi.shape))\n",
    "n_step = round(dt_output / dt)\n",
    "\n",
    "\n",
    "n = 0\n",
    "while time <= total_time:\n",
    "    grad_psi_x, grad_psi_y = np.gradient(psi, dx, axis=1), np.gradient(psi, dy, axis=0)\n",
    "    grad_psi = np.hypot(grad_psi_x, grad_psi_y)\n",
    "\n",
    "    u_norm = grad_psi_x / grad_psi\n",
    "    v_norm = grad_psi_y / grad_psi\n",
    "\n",
    "    eps = 0.1\n",
    "    lapl_psi = np.zeros_like(psi)\n",
    "    lapl_psi[1:-1, 1:-1] = (\n",
    "          (psi[1:-1, :-2] - 2*psi[1:-1, 1:-1] + psi[1:-1, 2:]) / dx \n",
    "        + (psi[:-2, 1:-1] - 2*psi[1:-1, 1:-1] + psi[2:, 1:-1]) / dy\n",
    "    )\n",
    "\n",
    "    U = np.maximum(0.0, u * u_norm + v * v_norm)\n",
    "\n",
    "    # alpha_1 = 1.0\n",
    "    # alpha_2 = 1\n",
    "    # phi_w = np.maximum(0.0, alpha_1 * U ** alpha_2)\n",
    "\n",
    "    # phi_w = 0.054 * U ** 1.5 # GR9\n",
    "    phi_w = 0.5 * U ** 1.5\n",
    "\n",
    "\n",
    "    rf = ros * (1.0 + phi_w)\n",
    "    dpsi_dt = - rf * (grad_psi - eps * lapl_psi)\n",
    "\n",
    "    dF_dt = np.where(psi < 0.0, alpha_F * F, 0.0)\n",
    "\n",
    "    # Store output.\n",
    "    if n % n_step == 0:\n",
    "        i = n // n_step\n",
    "        dF_dt_out[i, :, :] = dF_dt[:, :]\n",
    "        psi_out[i, :, :] = psi[:, :]\n",
    "\n",
    "    # Integrate in time.\n",
    "    F += dt * dF_dt\n",
    "    psi += dt * dpsi_dt\n",
    "\n",
    "    n += 1    \n",
    "    time += dt\n",
    "\n",
    "    psi = levelset_reinit(psi, dx, dy, 5)"
   ]
  },
  {
   "cell_type": "code",
   "execution_count": null,
   "id": "003494aa-d59b-428e-90ec-96470b71c754",
   "metadata": {},
   "outputs": [],
   "source": [
    "Mf = 0.07 # Mass fraction of water\n",
    "wl = 1.9 # kg/m2\n",
    "h = 18.16e6 # J/kg\n",
    "Lv = 2.5e6 # J/kg\n",
    "\n",
    "H_out = - dF_dt_out * 1.0 / (1.0 + Mf) * wl * h\n",
    "LE_out = - dF_dt_out * (Mf + 0.56) / (1.0 + Mf) * wl * Lv"
   ]
  },
  {
   "cell_type": "code",
   "execution_count": null,
   "id": "ccc61264-3767-4a8c-be3b-3278d7e3fcbd",
   "metadata": {},
   "outputs": [],
   "source": [
    "plt.figure()\n",
    "plt.gca().set_aspect(\"equal\")\n",
    "plt.pcolormesh(x, y, F, cmap=plt.cm.Reds, vmin=0, vmax=1)\n",
    "plt.colorbar()\n",
    "plt.contour(x, y, psi_0, [-1e9, 0, 1e9], colors=\"k\", linestyles=\":\")"
   ]
  },
  {
   "cell_type": "code",
   "execution_count": null,
   "id": "24f17fd1-953e-4e47-8f76-a440c4b40257",
   "metadata": {},
   "outputs": [],
   "source": [
    "plt.figure()\n",
    "plt.gca().set_aspect(\"equal\")\n",
    "plt.pcolormesh(x, y, rf, cmap=plt.cm.turbo)\n",
    "plt.colorbar()\n",
    "plt.contour(x, y, psi_0, [-1e9, 0, 1e9], colors=\"w\", linestyles=\":\")\n",
    "plt.xlabel('x (m)')\n",
    "plt.ylabel('y (m)')"
   ]
  },
  {
   "cell_type": "code",
   "execution_count": null,
   "id": "7c95520e-6dde-4018-9cbb-e85ddfb2695d",
   "metadata": {},
   "outputs": [],
   "source": [
    "fig, ax = plt.subplots()\n",
    "fuel_use = ax.pcolormesh(x, y, H_out[0, :, :], cmap=plt.cm.turbo, vmin=0, vmax=H_out.max())\n",
    "plt.colorbar(fuel_use)\n",
    "ax.contour(x, y, psi_0, [-1e9, 0, 1e9], colors=\"w\", linestyles=\":\")\n",
    "plt.close()\n",
    "\n",
    "def animate(i):\n",
    "    fuel_use.set_array(H_out[i, :, :])\n",
    "    return [fuel_use]\n",
    "\n",
    "# Call the animator. Keyword blit=True means only re-draw the parts that have changed.\n",
    "anim = animation.FuncAnimation(fig, animate, frames=psi_out.shape[0], interval=40, blit=True)\n",
    "\n",
    "anim.save(\"heat_flux.mp4\", writer=\"ffmpeg\", fps=25)\n",
    "HTML(anim.to_jshtml())"
   ]
  },
  {
   "cell_type": "code",
   "execution_count": null,
   "id": "c177d97c",
   "metadata": {},
   "outputs": [],
   "source": [
    "grad_psi_x, grad_psi_y = np.gradient(psi, dx, axis=1), np.gradient(psi, dy, axis=0)\n",
    "grad_psi = np.hypot(grad_psi_x, grad_psi_y)\n",
    "\n",
    "plt.figure(figsize=(14, 4.5))\n",
    "\n",
    "plt.subplot(121)\n",
    "plt.gca().set_aspect(\"equal\")\n",
    "plt.pcolormesh(x, y, psi, cmap=plt.cm.Reds)\n",
    "plt.colorbar()\n",
    "plt.contour(x, y, psi, [-1e9, 0, 1e9], colors=\"k\", linestyles=\":\")\n",
    "\n",
    "plt.subplot(122)\n",
    "plt.gca().set_aspect(\"equal\")\n",
    "plt.pcolormesh(x, y, grad_psi, cmap=plt.cm.Reds)\n",
    "plt.colorbar()\n",
    "plt.contour(x, y, psi, [-1e9, 0, 1e9], colors=\"k\", linestyles=\":\")"
   ]
  }
 ],
 "metadata": {
  "kernelspec": {
   "display_name": "Python 3 (ipykernel)",
   "language": "python",
   "name": "python3"
  },
  "language_info": {
   "codemirror_mode": {
    "name": "ipython",
    "version": 3
   },
   "file_extension": ".py",
   "mimetype": "text/x-python",
   "name": "python",
   "nbconvert_exporter": "python",
   "pygments_lexer": "ipython3",
   "version": "3.12.10"
  }
 },
 "nbformat": 4,
 "nbformat_minor": 5
}
