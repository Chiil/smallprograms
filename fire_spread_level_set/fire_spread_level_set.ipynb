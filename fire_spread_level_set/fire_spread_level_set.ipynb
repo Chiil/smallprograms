{
 "cells": [
  {
   "cell_type": "code",
   "execution_count": null,
   "id": "eb575baa-ea56-4b07-8748-5c992c5b698e",
   "metadata": {},
   "outputs": [],
   "source": [
    "import numpy as np\n",
    "import matplotlib.pyplot as plt"
   ]
  },
  {
   "cell_type": "code",
   "execution_count": null,
   "id": "91173b56-cc48-4714-9b7e-09b4792d468e",
   "metadata": {},
   "outputs": [],
   "source": [
    "dx, dy = 25, 25\n",
    "xsize, ysize = 6400, 6400\n",
    "\n",
    "x = np.arange(dx/2, xsize, dx) - xsize/4\n",
    "y = np.arange(dy/2, ysize, dy) - ysize/2"
   ]
  },
  {
   "cell_type": "code",
   "execution_count": null,
   "id": "f2ffbe80-ce36-4e2e-a5ad-79c321c4b28e",
   "metadata": {},
   "outputs": [],
   "source": [
    "psi = np.zeros((len(y), len(x)))\n",
    "\n",
    "# R = 200.0\n",
    "# psi[:, :] = (x[None, :]**2 + y[:, None]**2)**.5 - R # Level set function for circle with radius 200\n",
    "\n",
    "p = 3.0 # 2.0 is circle, inf is square\n",
    "a_x, a_y = 200.0, 500.0\n",
    "psi[:, :] = (np.abs(x[None, :]/a_x)**p + np.abs(y[:, None]/a_y)**p)**(1.0/p) - 1.0\n",
    "psi_0 = psi.copy()\n",
    "\n",
    "F = np.ones_like(psi)\n",
    "dFdt = np.zeros_like(psi)\n",
    "alpha_F = - 0.003 # 1 / efolding time\n",
    "\n",
    "H = np.zeros_like(psi)\n",
    "rf = np.zeros_like(psi)\n",
    "U = np.zeros_like(psi)\n",
    "\n",
    "ros = 0.5\n",
    "alpha_1 = 1.0\n",
    "u = 3.0 * np.ones_like(psi)\n",
    "v = 0.0 * np.ones_like(psi)"
   ]
  },
  {
   "cell_type": "code",
   "execution_count": null,
   "id": "9d32b6db-a755-4255-918d-d9ee54a139fa",
   "metadata": {},
   "outputs": [],
   "source": [
    "time = 0.0\n",
    "dt = 1.0\n",
    "total_time = 1800.0"
   ]
  },
  {
   "cell_type": "code",
   "execution_count": null,
   "id": "d8c34459-55b9-4f73-98f6-336cffd78dea",
   "metadata": {},
   "outputs": [],
   "source": [
    "while time <= total_time:\n",
    "    grad_psi_x, grad_psi_y = np.gradient(psi, dx, axis=1), np.gradient(psi, dy, axis=0)\n",
    "    grad_psi = np.hypot(grad_psi_x, grad_psi_y)\n",
    "\n",
    "    u_norm = grad_psi_x / grad_psi\n",
    "    v_norm = grad_psi_y / grad_psi\n",
    "\n",
    "    U = u * u_norm + v * v_norm\n",
    "    rf = F * ros * np.maximum(0.05, (1.0 + alpha_1 * U)) # The minimum value has a huge impact on result. Do we allow ROS to go below zero-wind?\n",
    "    \n",
    "    dpsi_dt = - rf * grad_psi\n",
    "    psi += dt * dpsi_dt\n",
    "\n",
    "    dF_dt = np.where(psi < 0.0, alpha_F * F, 0.0)\n",
    "    F += dt * dF_dt\n",
    "\n",
    "    H = - dF_dt * 1e7 # Conversion of from fuel fraction to kg / m2 / s to W/m2\n",
    "    \n",
    "    time += dt"
   ]
  },
  {
   "cell_type": "code",
   "execution_count": null,
   "id": "ccc61264-3767-4a8c-be3b-3278d7e3fcbd",
   "metadata": {},
   "outputs": [],
   "source": [
    "plt.figure()\n",
    "plt.gca().set_aspect(\"equal\")\n",
    "# plt.pcolormesh(x, y, psi, cmap=plt.cm.Reds)\n",
    "plt.pcolormesh(x, y, F, cmap=plt.cm.Reds, vmin=0, vmax=1)\n",
    "plt.colorbar()\n",
    "#plt.contour(x, y, psi_0, [-1e9, 0, 1e9], colors=\"k\", linestyles=\":\")\n",
    "#plt.contour(x, y, psi, [-1e9, 0, 1e9], colors=\"k\")"
   ]
  },
  {
   "cell_type": "code",
   "execution_count": null,
   "id": "94c631c6-c0c6-4a46-a769-59c6754912e6",
   "metadata": {},
   "outputs": [],
   "source": [
    "plt.figure()\n",
    "plt.gca().set_aspect(\"equal\")\n",
    "# plt.pcolormesh(x, y, psi, cmap=plt.cm.Reds)\n",
    "plt.pcolormesh(x, y, -dF_dt, cmap=plt.cm.turbo)\n",
    "plt.colorbar()\n",
    "plt.contour(x, y, psi_0, [-1e9, 0, 1e9], colors=\"w\", linestyles=\":\")\n",
    "# plt.contour(x, y, psi, [-1e9, 0, 1e9], colors=\"k\")\n",
    "plt.xlabel('x (m)')\n",
    "plt.ylabel('y (m)')"
   ]
  },
  {
   "cell_type": "code",
   "execution_count": null,
   "id": "24f17fd1-953e-4e47-8f76-a440c4b40257",
   "metadata": {},
   "outputs": [],
   "source": [
    "plt.figure()\n",
    "plt.gca().set_aspect(\"equal\")\n",
    "# plt.pcolormesh(x, y, psi, cmap=plt.cm.Reds)\n",
    "plt.pcolormesh(x, y, rf, cmap=plt.cm.turbo)\n",
    "plt.colorbar()\n",
    "plt.contour(x, y, psi_0, [-1e9, 0, 1e9], colors=\"w\", linestyles=\":\")\n",
    "# plt.contour(x, y, psi, [-1e9, 0, 1e9], colors=\"k\")\n",
    "plt.xlabel('x (m)')\n",
    "plt.ylabel('y (m)')"
   ]
  },
  {
   "cell_type": "code",
   "execution_count": null,
   "id": "699d3ebd-825e-4986-96d9-a684d1d7a418",
   "metadata": {},
   "outputs": [],
   "source": []
  },
  {
   "cell_type": "code",
   "execution_count": null,
   "id": "7c95520e-6dde-4018-9cbb-e85ddfb2695d",
   "metadata": {},
   "outputs": [],
   "source": []
  },
  {
   "cell_type": "code",
   "execution_count": null,
   "id": "e0283340-1563-470d-b1bc-2cb73c96de62",
   "metadata": {},
   "outputs": [],
   "source": []
  }
 ],
 "metadata": {
  "kernelspec": {
   "display_name": "Python 3 (ipykernel)",
   "language": "python",
   "name": "python3"
  },
  "language_info": {
   "codemirror_mode": {
    "name": "ipython",
    "version": 3
   },
   "file_extension": ".py",
   "mimetype": "text/x-python",
   "name": "python",
   "nbconvert_exporter": "python",
   "pygments_lexer": "ipython3",
   "version": "3.12.10"
  }
 },
 "nbformat": 4,
 "nbformat_minor": 5
}
