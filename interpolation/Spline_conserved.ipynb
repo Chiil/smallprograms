{
 "cells": [
  {
   "cell_type": "code",
   "execution_count": 19,
   "id": "012909c1-5895-40ae-9e88-98318590b8fc",
   "metadata": {},
   "outputs": [],
   "source": [
    "import sympy\n",
    "import numpy as np\n",
    "import matplotlib.pyplot as pl\n",
    "sympy.init_printing()"
   ]
  },
  {
   "cell_type": "code",
   "execution_count": 2,
   "id": "c0b1ac5f-0a55-4438-8280-6150fdc28de8",
   "metadata": {},
   "outputs": [],
   "source": [
    "x, a0, a1, a2, a3, b0, b1, b2, b3, A, B = sympy.symbols(\"x a0 a1 a2 a3 b0 b1 b2 b3 A B\", real=True)"
   ]
  },
  {
   "cell_type": "code",
   "execution_count": 8,
   "id": "c8fa0438-f127-4b42-9eee-10ef4ee0e70e",
   "metadata": {},
   "outputs": [],
   "source": [
    "def f(x):\n",
    "    return a0 + a1*x + a2*x**2 + a3*x**3\n",
    "    \n",
    "def g(x):\n",
    "    return b0 + b1*x + b2*x**2 + b3*x**3\n",
    "\n",
    "df = sympy.lambdify(x, sympy.diff(f(x), x))\n",
    "dg = sympy.lambdify(x, sympy.diff(g(x), x))\n"
   ]
  },
  {
   "cell_type": "code",
   "execution_count": 11,
   "id": "940c016b-f1fe-4144-ba3f-9db8e1674881",
   "metadata": {},
   "outputs": [
    {
     "data": {
      "image/png": "[encoded data removed]",
      "text/latex": [
       "$\\displaystyle \\left\\{\\left( \\frac{A + B}{2}, \\  \\frac{8 \\left(A - B\\right)}{3}, \\  - \\frac{8 \\left(A - B\\right)}{3}, \\  0, \\  \\frac{A + B}{2}, \\  - \\frac{8 \\left(A - B\\right)}{3}, \\  \\frac{8 \\left(A - B\\right)}{3}, \\  0\\right), \\left( \\frac{11 A - 16 B}{22}, \\  \\frac{8 \\left(A + 2 B\\right)}{3}, \\  - \\frac{8 \\left(11 A + 48 B\\right)}{33}, \\  \\frac{256 B}{33}, \\  \\frac{11 A + 16 B}{22}, \\  - \\frac{8 \\left(A - 2 B\\right)}{3}, \\  \\frac{8 \\left(11 A - 84 B\\right)}{33}, \\  \\frac{448 B}{33}\\right)\\right\\}$"
      ],
      "text/plain": [
       "⎧⎛A + B  8⋅(A - B)  -8⋅(A - B)      A + B  -8⋅(A - B)   8⋅(A - B)   ⎞  ⎛11⋅A - ↪\n",
       "⎨⎜─────, ─────────, ───────────, 0, ─────, ───────────, ─────────, 0⎟, ⎜────── ↪\n",
       "⎩⎝  2        3           3            2         3           3       ⎠  ⎝    22 ↪\n",
       "\n",
       "↪  16⋅B  8⋅(A + 2⋅B)  -8⋅(11⋅A + 48⋅B)   256⋅B  11⋅A + 16⋅B  -8⋅(A - 2⋅B)   8⋅ ↪\n",
       "↪ ─────, ───────────, ─────────────────, ─────, ───────────, ─────────────, ── ↪\n",
       "↪             3              33           33        22             3           ↪\n",
       "\n",
       "↪ (11⋅A - 84⋅B)  448⋅B⎞⎫\n",
       "↪ ─────────────, ─────⎟⎬\n",
       "↪     33          33  ⎠⎭"
      ]
     },
     "execution_count": 11,
     "metadata": {},
     "output_type": "execute_result"
    }
   ],
   "source": [
    "sympy.nonlinsolve(\n",
    "    [\n",
    "        f(0) - g(1),\n",
    "        f(1) - g(0),\n",
    "        df(0) - dg(1),\n",
    "        df(1) - dg(0),\n",
    "        f(sympy.Rational(1, 4)) + f(sympy.Rational(3, 4)) - 2*A, \n",
    "        g(sympy.Rational(1, 4)) + g(sympy.Rational(1, 4)) - 2*B,\n",
    "        f(sympy.Rational(1, 4))**2 + f(sympy.Rational(3, 4))**2 - 2*A**2,\n",
    "        g(sympy.Rational(1, 4))**2 + g(sympy.Rational(3, 4))**2 - 2*B**2,\n",
    "    ],\n",
    "    \n",
    "    [ a0, a1, a2, a3, b0, b1, b2, b3],\n",
    ")"
   ]
  },
  {
   "cell_type": "code",
   "execution_count": 12,
   "id": "6ca18c3d-129e-4187-b6f3-9e1fe95bd1f6",
   "metadata": {},
   "outputs": [
    {
     "data": {
      "image/png": "[encoded data removed]",
      "text/latex": [
       "$\\displaystyle \\left\\{\\left( \\frac{27 A - 16 B}{11}, \\  0, \\  - \\frac{96 \\left(A - B\\right)}{11}, \\  \\frac{64 \\left(A - B\\right)}{11}, \\  - \\frac{5 A - 16 B}{11}, \\  0, \\  \\frac{96 \\left(A - B\\right)}{11}, \\  - \\frac{64 \\left(A - B\\right)}{11}\\right)\\right\\}$"
      ],
      "text/plain": [
       "⎧⎛27⋅A - 16⋅B     -96⋅(A - B)   64⋅(A - B)  -(5⋅A - 16⋅B)      96⋅(A - B)  -64 ↪\n",
       "⎨⎜───────────, 0, ────────────, ──────────, ──────────────, 0, ──────────, ─── ↪\n",
       "⎩⎝    11               11           11            11               11          ↪\n",
       "\n",
       "↪ ⋅(A - B) ⎞⎫\n",
       "↪ ─────────⎟⎬\n",
       "↪   11     ⎠⎭"
      ]
     },
     "execution_count": 12,
     "metadata": {},
     "output_type": "execute_result"
    }
   ],
   "source": [
    "sympy.nonlinsolve(\n",
    "    [\n",
    "        f(0) - g(1),\n",
    "        f(1) - g(0),\n",
    "        df(0) - dg(1),\n",
    "        df(1) - dg(0),\n",
    "        df2(0) - dg2(1),\n",
    "        df2(1) - dg2(0),\n",
    "        f(sympy.Rational(1, 4)) + f(sympy.Rational(3, 4)) - 2*A, \n",
    "        g(sympy.Rational(1, 4)) + g(sympy.Rational(1, 4)) - 2*B,\n",
    "        # f(sympy.Rational(1, 4))**2 + f(sympy.Rational(3, 4))**2 - 2*A**2,\n",
    "        # g(sympy.Rational(1, 4))**2 + g(sympy.Rational(3, 4))**2 - 2*B**2,\n",
    "    ],\n",
    "    \n",
    "    [ a0, a1, a2, a3, b0, b1, b2, b3],\n",
    ")"
   ]
  },
  {
   "cell_type": "code",
   "execution_count": 14,
   "id": "510108ae-a9f1-4796-b1f8-fcf9b1c5c525",
   "metadata": {},
   "outputs": [
    {
     "data": {
      "image/png": "[encoded data removed]",
      "text/latex": [
       "$\\displaystyle \\left\\{\\left( \\frac{A + B}{2}, \\  \\frac{54 A}{19} - \\frac{54 B}{19} - \\frac{108 \\sqrt{3} \\sqrt{- A^{2} + 2 A B - B^{2}}}{95}, \\  - \\frac{54 A}{19} + \\frac{54 B}{19} + \\frac{324 \\sqrt{3} \\sqrt{- A^{2} + 2 A B - B^{2}}}{95}, \\  - \\frac{216 \\sqrt{- 3 A^{2} + 6 A B - 3 B^{2}}}{95}, \\  \\frac{A + B}{2}, \\  - \\frac{54 A}{19} + \\frac{54 B}{19} - \\frac{108 \\sqrt{3} \\sqrt{- A^{2} + 2 A B - B^{2}}}{95}, \\  \\frac{54 A}{19} - \\frac{54 B}{19} + \\frac{324 \\sqrt{3} \\sqrt{- A^{2} + 2 A B - B^{2}}}{95}, \\  - \\sqrt{- \\frac{139968 A^{2}}{9025} + \\frac{279936 A B}{9025} - \\frac{139968 B^{2}}{9025}}\\right), \\left( \\frac{A + B}{2}, \\  \\frac{54 A}{19} - \\frac{54 B}{19} + \\frac{108 \\sqrt{3} \\sqrt{- A^{2} + 2 A B - B^{2}}}{95}, \\  - \\frac{54 A}{19} + \\frac{54 B}{19} - \\frac{324 \\sqrt{3} \\sqrt{- A^{2} + 2 A B - B^{2}}}{95}, \\  \\frac{216 \\sqrt{- 3 A^{2} + 6 A B - 3 B^{2}}}{95}, \\  \\frac{A + B}{2}, \\  - \\frac{54 A}{19} + \\frac{54 B}{19} + \\frac{108 \\sqrt{3} \\sqrt{- A^{2} + 2 A B - B^{2}}}{95}, \\  \\frac{54 A}{19} - \\frac{54 B}{19} - \\frac{324 \\sqrt{3} \\sqrt{- A^{2} + 2 A B - B^{2}}}{95}, \\  \\sqrt{- \\frac{139968 A^{2}}{9025} + \\frac{279936 A B}{9025} - \\frac{139968 B^{2}}{9025}}\\right), \\left( \\frac{A}{2} + \\frac{B}{2} - \\frac{54 \\sqrt{- 3 A^{2} + 6 A B - 3 B^{2}}}{437}, \\  \\frac{54 \\left(A - B\\right)}{19}, \\  - \\frac{54 A}{19} + \\frac{54 B}{19} + \\frac{324 \\sqrt{3} \\sqrt{- A^{2} + 2 A B - B^{2}}}{437}, \\  - \\frac{216 \\sqrt{- 3 A^{2} + 6 A B - 3 B^{2}}}{437}, \\  \\frac{A}{2} + \\frac{B}{2} + \\frac{54 \\sqrt{- 3 A^{2} + 6 A B - 3 B^{2}}}{437}, \\  - \\frac{54 \\left(A - B\\right)}{19}, \\  \\frac{54 A}{19} - \\frac{54 B}{19} - \\frac{324 \\sqrt{3} \\sqrt{- A^{2} + 2 A B - B^{2}}}{437}, \\  \\sqrt{- \\frac{139968 A^{2}}{190969} + \\frac{279936 A B}{190969} - \\frac{139968 B^{2}}{190969}}\\right), \\left( \\frac{A}{2} + \\frac{B}{2} + \\frac{54 \\sqrt{- 3 A^{2} + 6 A B - 3 B^{2}}}{437}, \\  \\frac{54 \\left(A - B\\right)}{19}, \\  - \\frac{54 A}{19} + \\frac{54 B}{19} - \\frac{324 \\sqrt{3} \\sqrt{- A^{2} + 2 A B - B^{2}}}{437}, \\  \\frac{216 \\sqrt{- 3 A^{2} + 6 A B - 3 B^{2}}}{437}, \\  \\frac{A}{2} + \\frac{B}{2} - \\frac{54 \\sqrt{- 3 A^{2} + 6 A B - 3 B^{2}}}{437}, \\  - \\frac{54 \\left(A - B\\right)}{19}, \\  \\frac{54 A}{19} - \\frac{54 B}{19} + \\frac{324 \\sqrt{3} \\sqrt{- A^{2} + 2 A B - B^{2}}}{437}, \\  - \\sqrt{- \\frac{139968 A^{2}}{190969} + \\frac{279936 A B}{190969} - \\frac{139968 B^{2}}{190969}}\\right)\\right\\}$"
      ],
      "text/plain": [
       "⎧⎛                               ___________________                           ↪\n",
       "⎪⎜                              ╱    2            2                            ↪\n",
       "⎨⎜A + B  54⋅A   54⋅B   108⋅√3⋅╲╱  - A  + 2⋅A⋅B - B      54⋅A   54⋅B   324⋅√3⋅╲ ↪\n",
       "⎪⎜─────, ──── - ──── - ─────────────────────────────, - ──── + ──── + ──────── ↪\n",
       "⎩⎝  2     19     19                 95                   19     19             ↪\n",
       "\n",
       "↪   ___________________          _______________________                       ↪\n",
       "↪  ╱    2            2          ╱      2              2                        ↪\n",
       "↪ ╱  - A  + 2⋅A⋅B - B    -216⋅╲╱  - 3⋅A  + 6⋅A⋅B - 3⋅B     A + B    54⋅A   54⋅ ↪\n",
       "↪ ─────────────────────, ────────────────────────────────, ─────, - ──── + ─── ↪\n",
       "↪      95                               95                   2       19     19 ↪\n",
       "\n",
       "↪               ___________________                          _________________ ↪\n",
       "↪              ╱    2            2                          ╱    2             ↪\n",
       "↪ B   108⋅√3⋅╲╱  - A  + 2⋅A⋅B - B    54⋅A   54⋅B   324⋅√3⋅╲╱  - A  + 2⋅A⋅B - B ↪\n",
       "↪ ─ - ─────────────────────────────, ──── - ──── + ─────────────────────────── ↪\n",
       "↪                  95                 19     19                 95             ↪\n",
       "\n",
       "↪ __        ______________________________________⎞  ⎛                         ↪\n",
       "↪ 2        ╱           2                        2 ⎟  ⎜                         ↪\n",
       "↪         ╱    139968⋅A    279936⋅A⋅B   139968⋅B  ⎟  ⎜A + B  54⋅A   54⋅B   108 ↪\n",
       "↪ ──, -  ╱   - ───────── + ────────── - ───────── ⎟, ⎜─────, ──── - ──── + ─── ↪\n",
       "↪      ╲╱        9025         9025        9025    ⎠  ⎝  2     19     19        ↪\n",
       "\n",
       "↪        ___________________                            ___________________    ↪\n",
       "↪       ╱    2            2                            ╱    2            2     ↪\n",
       "↪ ⋅√3⋅╲╱  - A  + 2⋅A⋅B - B      54⋅A   54⋅B   324⋅√3⋅╲╱  - A  + 2⋅A⋅B - B    2 ↪\n",
       "↪ ──────────────────────────, - ──── + ──── - ─────────────────────────────, ─ ↪\n",
       "↪           95                   19     19                 95                  ↪\n",
       "\n",
       "↪       _______________________                                   ____________ ↪\n",
       "↪      ╱      2              2                                   ╱    2        ↪\n",
       "↪ 16⋅╲╱  - 3⋅A  + 6⋅A⋅B - 3⋅B    A + B    54⋅A   54⋅B   108⋅√3⋅╲╱  - A  + 2⋅A⋅ ↪\n",
       "↪ ─────────────────────────────, ─────, - ──── + ──── + ────────────────────── ↪\n",
       "↪              95                  2       19     19                 95        ↪\n",
       "\n",
       "↪ _______                          ___________________       _________________ ↪\n",
       "↪      2                          ╱    2            2       ╱           2      ↪\n",
       "↪ B - B    54⋅A   54⋅B   324⋅√3⋅╲╱  - A  + 2⋅A⋅B - B       ╱    139968⋅A    27 ↪\n",
       "↪ ───────, ──── - ──── - ─────────────────────────────,   ╱   - ───────── + ── ↪\n",
       "↪           19     19                 95                ╲╱        9025         ↪\n",
       "\n",
       "↪ _____________________⎞  ⎛              _______________________               ↪\n",
       "↪                    2 ⎟  ⎜             ╱      2              2                ↪\n",
       "↪ 9936⋅A⋅B   139968⋅B  ⎟  ⎜A   B   54⋅╲╱  - 3⋅A  + 6⋅A⋅B - 3⋅B    54⋅(A - B)   ↪\n",
       "↪ ──────── - ───────── ⎟, ⎜─ + ─ - ─────────────────────────────, ──────────,  ↪\n",
       "↪  9025        9025    ⎠  ⎝2   2                437                   19       ↪\n",
       "\n",
       "↪                           ___________________          _____________________ ↪\n",
       "↪                          ╱    2            2          ╱      2               ↪\n",
       "↪   54⋅A   54⋅B   324⋅√3⋅╲╱  - A  + 2⋅A⋅B - B    -216⋅╲╱  - 3⋅A  + 6⋅A⋅B - 3⋅B ↪\n",
       "↪ - ──── + ──── + ─────────────────────────────, ───────────────────────────── ↪\n",
       "↪    19     19                 437                             437             ↪\n",
       "\n",
       "↪ __                 _______________________                                   ↪\n",
       "↪ 2                 ╱      2              2                                    ↪\n",
       "↪      A   B   54⋅╲╱  - 3⋅A  + 6⋅A⋅B - 3⋅B    -54⋅(A - B)   54⋅A   54⋅B   324⋅ ↪\n",
       "↪ ───, ─ + ─ + ─────────────────────────────, ────────────, ──── - ──── - ──── ↪\n",
       "↪      2   2                437                    19        19     19         ↪\n",
       "\n",
       "↪       ___________________       ______________________________________⎞  ⎛   ↪\n",
       "↪      ╱    2            2       ╱           2                        2 ⎟  ⎜   ↪\n",
       "↪ √3⋅╲╱  - A  + 2⋅A⋅B - B       ╱    139968⋅A    279936⋅A⋅B   139968⋅B  ⎟  ⎜A  ↪\n",
       "↪ ─────────────────────────,   ╱   - ───────── + ────────── - ───────── ⎟, ⎜─  ↪\n",
       "↪          437               ╲╱       190969       190969      190969   ⎠  ⎝2  ↪\n",
       "\n",
       "↪             _______________________                                        _ ↪\n",
       "↪            ╱      2              2                                        ╱  ↪\n",
       "↪   B   54⋅╲╱  - 3⋅A  + 6⋅A⋅B - 3⋅B    54⋅(A - B)    54⋅A   54⋅B   324⋅√3⋅╲╱   ↪\n",
       "↪ + ─ + ─────────────────────────────, ──────────, - ──── + ──── - ─────────── ↪\n",
       "↪   2                437                   19         19     19                ↪\n",
       "\n",
       "↪ __________________         _______________________                __________ ↪\n",
       "↪    2            2         ╱      2              2                ╱      2    ↪\n",
       "↪ - A  + 2⋅A⋅B - B    216⋅╲╱  - 3⋅A  + 6⋅A⋅B - 3⋅B    A   B   54⋅╲╱  - 3⋅A  +  ↪\n",
       "↪ ──────────────────, ──────────────────────────────, ─ + ─ - ──────────────── ↪\n",
       "↪   437                            437                2   2                437 ↪\n",
       "\n",
       "↪ _____________                                        ___________________     ↪\n",
       "↪            2                                        ╱    2            2      ↪\n",
       "↪ 6⋅A⋅B - 3⋅B    -54⋅(A - B)   54⋅A   54⋅B   324⋅√3⋅╲╱  - A  + 2⋅A⋅B - B       ↪\n",
       "↪ ─────────────, ────────────, ──── - ──── + ─────────────────────────────, -  ↪\n",
       "↪                     19        19     19                 437                ╲ ↪\n",
       "\n",
       "↪     ______________________________________⎞⎫\n",
       "↪    ╱           2                        2 ⎟⎪\n",
       "↪   ╱    139968⋅A    279936⋅A⋅B   139968⋅B  ⎟⎬\n",
       "↪  ╱   - ───────── + ────────── - ───────── ⎟⎪\n",
       "↪ ╱       190969       190969      190969   ⎠⎭"
      ]
     },
     "execution_count": 14,
     "metadata": {},
     "output_type": "execute_result"
    }
   ],
   "source": [
    "sol = sympy.nonlinsolve(\n",
    "    [\n",
    "        f(0) - g(1),\n",
    "        f(1) - g(0),\n",
    "        df(0) - dg(1),\n",
    "        df(1) - dg(0),\n",
    "        f(sympy.Rational(1, 6)) + f(sympy.Rational(1, 2)) + f(sympy.Rational(5, 6)) - 3*A, \n",
    "        g(sympy.Rational(1, 6)) + g(sympy.Rational(1, 2)) + g(sympy.Rational(5, 6)) - 3*B,\n",
    "        f(sympy.Rational(1, 6))**2 + f(sympy.Rational(1, 2))**2 + f(sympy.Rational(5, 6))**2 - 3*A**2, \n",
    "        g(sympy.Rational(1, 6))**2 + g(sympy.Rational(1, 2))**2 + g(sympy.Rational(5, 6))**2 - 3*B**2,\n",
    "    ],\n",
    "    \n",
    "    [ a0, a1, a2, a3, b0, b1, b2, b3 ],\n",
    ")\n",
    "sol"
   ]
  },
  {
   "cell_type": "code",
   "execution_count": 18,
   "id": "37ca2e83-a000-42cc-aef0-c257789411f7",
   "metadata": {},
   "outputs": [
    {
     "name": "stdout",
     "output_type": "stream",
     "text": [
      "Solution 0\n",
      "3.50000000000000\n",
      "-2.84210526315789\n",
      "2.84210526315789\n",
      "0\n",
      "3.50000000000000\n",
      "2.84210526315789\n",
      "-2.84210526315789\n",
      "0\n",
      "Solution 1\n",
      "3.50000000000000\n",
      "-2.84210526315789\n",
      "2.84210526315789\n",
      "0\n",
      "3.50000000000000\n",
      "2.84210526315789\n",
      "-2.84210526315789\n",
      "0\n",
      "Solution 2\n",
      "3.50000000000000\n",
      "-2.84210526315789\n",
      "2.84210526315789\n",
      "0\n",
      "3.50000000000000\n",
      "2.84210526315789\n",
      "-2.84210526315789\n",
      "0\n",
      "Solution 3\n",
      "3.50000000000000\n",
      "-2.84210526315789\n",
      "2.84210526315789\n",
      "0\n",
      "3.50000000000000\n",
      "2.84210526315789\n",
      "-2.84210526315789\n",
      "0\n"
     ]
    }
   ],
   "source": [
    "sol_num = sol.subs( [ (A, 3.0), (B, 4.0) ] )\n",
    "for i, s in enumerate(sol_num):\n",
    "    print(\"Solution\", i)\n",
    "    for ss in s:\n",
    "        print(sympy.re(ss))"
   ]
  },
  {
   "cell_type": "code",
   "execution_count": null,
   "id": "698bf864-92e8-4090-bdee-2d43820d124e",
   "metadata": {},
   "outputs": [],
   "source": [
    "def f"
   ]
  },
  {
   "cell_type": "code",
   "execution_count": null,
   "id": "b1bcf233-da09-471e-9e80-863087d4cd96",
   "metadata": {},
   "outputs": [],
   "source": []
  }
 ],
 "metadata": {
  "kernelspec": {
   "display_name": "Python 3 (ipykernel)",
   "language": "python",
   "name": "python3"
  },
  "language_info": {
   "codemirror_mode": {
    "name": "ipython",
    "version": 3
   },
   "file_extension": ".py",
   "mimetype": "text/x-python",
   "name": "python",
   "nbconvert_exporter": "python",
   "pygments_lexer": "ipython3",
   "version": "3.13.0"
  }
 },
 "nbformat": 4,
 "nbformat_minor": 5
}
