{
 "cells": [
  {
   "cell_type": "code",
   "execution_count": 1,
   "metadata": {},
   "outputs": [
    {
     "name": "stdout",
     "output_type": "stream",
     "text": [
      "\u001b[33mWARNING: Retrying (Retry(total=4, connect=None, read=None, redirect=None, status=None)) after connection broken by 'ConnectTimeoutError(<pip._vendor.urllib3.connection.VerifiedHTTPSConnection object at 0x7ff2f1c592e8>, 'Connection to pypi.org timed out. (connect timeout=15)')': /simple/netcdf4/\u001b[0m\n",
      "\u001b[33mWARNING: Retrying (Retry(total=3, connect=None, read=None, redirect=None, status=None)) after connection broken by 'NewConnectionError('<pip._vendor.urllib3.connection.VerifiedHTTPSConnection object at 0x7ff2f1c596d8>: Failed to establish a new connection: [Errno -3] Temporary failure in name resolution')': /simple/netcdf4/\u001b[0m\n",
      "\u001b[33mWARNING: Retrying (Retry(total=2, connect=None, read=None, redirect=None, status=None)) after connection broken by 'NewConnectionError('<pip._vendor.urllib3.connection.VerifiedHTTPSConnection object at 0x7ff2f1c595f8>: Failed to establish a new connection: [Errno -3] Temporary failure in name resolution')': /simple/netcdf4/\u001b[0m\n",
      "\u001b[33mWARNING: Retrying (Retry(total=1, connect=None, read=None, redirect=None, status=None)) after connection broken by 'NewConnectionError('<pip._vendor.urllib3.connection.VerifiedHTTPSConnection object at 0x7ff2f1c597b8>: Failed to establish a new connection: [Errno -3] Temporary failure in name resolution')': /simple/netcdf4/\u001b[0m\n",
      "\u001b[33mWARNING: Retrying (Retry(total=0, connect=None, read=None, redirect=None, status=None)) after connection broken by 'ConnectTimeoutError(<pip._vendor.urllib3.connection.VerifiedHTTPSConnection object at 0x7ff2f1c59128>, 'Connection to pypi.org timed out. (connect timeout=15)')': /simple/netcdf4/\u001b[0m\n",
      "\u001b[31mERROR: Could not find a version that satisfies the requirement netCDF4 (from versions: none)\u001b[0m\n",
      "\u001b[31mERROR: No matching distribution found for netCDF4\u001b[0m\n",
      "Note: you may need to restart the kernel to use updated packages.\n"
     ]
    },
    {
     "ename": "ModuleNotFoundError",
     "evalue": "No module named 'netCDF4'",
     "output_type": "error",
     "traceback": [
      "\u001b[0;31m---------------------------------------------------------------------------\u001b[0m",
      "\u001b[0;31mModuleNotFoundError\u001b[0m                       Traceback (most recent call last)",
      "\u001b[0;32m<ipython-input-1-56f9ad59b7b2>\u001b[0m in \u001b[0;36m<module>\u001b[0;34m\u001b[0m\n\u001b[1;32m      1\u001b[0m \u001b[0mget_ipython\u001b[0m\u001b[0;34m(\u001b[0m\u001b[0;34m)\u001b[0m\u001b[0;34m.\u001b[0m\u001b[0mrun_line_magic\u001b[0m\u001b[0;34m(\u001b[0m\u001b[0;34m'pip'\u001b[0m\u001b[0;34m,\u001b[0m \u001b[0;34m'install netCDF4'\u001b[0m\u001b[0;34m)\u001b[0m\u001b[0;34m\u001b[0m\u001b[0;34m\u001b[0m\u001b[0m\n\u001b[0;32m----> 2\u001b[0;31m \u001b[0;32mimport\u001b[0m \u001b[0mnetCDF4\u001b[0m \u001b[0;32mas\u001b[0m \u001b[0mnc\u001b[0m\u001b[0;34m\u001b[0m\u001b[0;34m\u001b[0m\u001b[0m\n\u001b[0m\u001b[1;32m      3\u001b[0m \u001b[0;32mimport\u001b[0m \u001b[0mnumpy\u001b[0m \u001b[0;32mas\u001b[0m \u001b[0mnp\u001b[0m\u001b[0;34m\u001b[0m\u001b[0;34m\u001b[0m\u001b[0m\n\u001b[1;32m      4\u001b[0m \u001b[0;32mimport\u001b[0m \u001b[0mmatplotlib\u001b[0m\u001b[0;34m.\u001b[0m\u001b[0mpyplot\u001b[0m \u001b[0;32mas\u001b[0m \u001b[0mplt\u001b[0m\u001b[0;34m\u001b[0m\u001b[0;34m\u001b[0m\u001b[0m\n\u001b[1;32m      5\u001b[0m \u001b[0mget_ipython\u001b[0m\u001b[0;34m(\u001b[0m\u001b[0;34m)\u001b[0m\u001b[0;34m.\u001b[0m\u001b[0mrun_line_magic\u001b[0m\u001b[0;34m(\u001b[0m\u001b[0;34m'matplotlib'\u001b[0m\u001b[0;34m,\u001b[0m \u001b[0;34m'inline'\u001b[0m\u001b[0;34m)\u001b[0m\u001b[0;34m\u001b[0m\u001b[0;34m\u001b[0m\u001b[0m\n",
      "\u001b[0;31mModuleNotFoundError\u001b[0m: No module named 'netCDF4'"
     ]
    }
   ],
   "source": [
    "%pip install netCDF4\n",
    "import netCDF4 as nc\n",
    "import numpy as np\n",
    "import matplotlib.pyplot as plt\n",
    "%matplotlib inline"
   ]
  },
  {
   "cell_type": "code",
   "execution_count": 2,
   "metadata": {},
   "outputs": [],
   "source": [
    "nc_0d = nc.Dataset(\"MicroHH_RCE_small_les300_0D.nc\", \"r\")\n",
    "nc_1d = nc.Dataset(\"MicroHH_RCE_small_les300_1D.nc\", \"r\")"
   ]
  },
  {
   "cell_type": "code",
   "execution_count": 3,
   "metadata": {},
   "outputs": [
    {
     "data": {
      "text/plain": [
       "{'time': <class 'netCDF4._netCDF4.Variable'>\n",
       " float32 time(time)\n",
       " unlimited dimensions: \n",
       " current shape = (2401,)\n",
       " filling on, default _FillValue of 9.969209968386869e+36 used,\n",
       " 'pr_avg': <class 'netCDF4._netCDF4.Variable'>\n",
       " float32 pr_avg(time)\n",
       "     units: kg m-2 s-1\n",
       "     long_name: domain avg. surface precipitation rate\n",
       " unlimited dimensions: \n",
       " current shape = (2401,)\n",
       " filling on, default _FillValue of 9.969209968386869e+36 used,\n",
       " 'hfls_avg': <class 'netCDF4._netCDF4.Variable'>\n",
       " float32 hfls_avg(time)\n",
       "     units: W m-2\n",
       "     long_name: domain avg. surface upward latent heat flux\n",
       " unlimited dimensions: \n",
       " current shape = (2401,)\n",
       " filling on, default _FillValue of 9.969209968386869e+36 used,\n",
       " 'hfss_avg': <class 'netCDF4._netCDF4.Variable'>\n",
       " float32 hfss_avg(time)\n",
       "     units: W m-2\n",
       "     long_name: domain avg. surface upward sensible heat flux\n",
       " unlimited dimensions: \n",
       " current shape = (2401,)\n",
       " filling on, default _FillValue of 9.969209968386869e+36 used,\n",
       " 'clwvi_avg': <class 'netCDF4._netCDF4.Variable'>\n",
       " float32 clwvi_avg(time)\n",
       "     units: kg m-2\n",
       "     long_name: domain avg. water condensed water path\n",
       " unlimited dimensions: \n",
       " current shape = (2401,)\n",
       " filling on, default _FillValue of 9.969209968386869e+36 used,\n",
       " 'clivi_avg': <class 'netCDF4._netCDF4.Variable'>\n",
       " float32 clivi_avg(time)\n",
       "     units: kg m-2\n",
       "     long_name: domain avg. water ice water path\n",
       " unlimited dimensions: \n",
       " current shape = (2401,)\n",
       " filling on, default _FillValue of 9.969209968386869e+36 used,\n",
       " 'prw_avg': <class 'netCDF4._netCDF4.Variable'>\n",
       " float32 prw_avg(time)\n",
       "     units: kg m-2\n",
       "     long_name: domain avg. water vapor path\n",
       " unlimited dimensions: \n",
       " current shape = (2401,)\n",
       " filling on, default _FillValue of 9.969209968386869e+36 used,\n",
       " 'sprw_avg': <class 'netCDF4._netCDF4.Variable'>\n",
       " float32 sprw_avg(time)\n",
       "     units: kg m-2\n",
       "     long_name: domain avg. saturated water vapor path\n",
       " unlimited dimensions: \n",
       " current shape = (2401,)\n",
       " filling on, default _FillValue of 9.969209968386869e+36 used,\n",
       " 'rlds_avg': <class 'netCDF4._netCDF4.Variable'>\n",
       " float32 rlds_avg(time)\n",
       "     units: W m-2\n",
       "     long_name: domain avg. surface downwelling longwave flux\n",
       " unlimited dimensions: \n",
       " current shape = (2401,)\n",
       " filling on, default _FillValue of 9.969209968386869e+36 used,\n",
       " 'rlus_avg': <class 'netCDF4._netCDF4.Variable'>\n",
       " float32 rlus_avg(time)\n",
       "     units: W m-2\n",
       "     long_name: domain avg. surface upwelling longwave flux\n",
       " unlimited dimensions: \n",
       " current shape = (2401,)\n",
       " filling on, default _FillValue of 9.969209968386869e+36 used,\n",
       " 'rsds_avg': <class 'netCDF4._netCDF4.Variable'>\n",
       " float32 rsds_avg(time)\n",
       "     units: W m-2\n",
       "     long_name: domain avg. surface downwelling shortwave flux\n",
       " unlimited dimensions: \n",
       " current shape = (2401,)\n",
       " filling on, default _FillValue of 9.969209968386869e+36 used,\n",
       " 'rsus_avg': <class 'netCDF4._netCDF4.Variable'>\n",
       " float32 rsus_avg(time)\n",
       "     units: W m-2\n",
       "     long_name: domain avg. surface upwelling shortwave flux\n",
       " unlimited dimensions: \n",
       " current shape = (2401,)\n",
       " filling on, default _FillValue of 9.969209968386869e+36 used,\n",
       " 'rldscs_avg': <class 'netCDF4._netCDF4.Variable'>\n",
       " float32 rldscs_avg(time)\n",
       "     units: W m-2\n",
       "     long_name: domain avg. surface downwelling longwave flux - clear sky\n",
       " unlimited dimensions: \n",
       " current shape = (2401,)\n",
       " filling on, default _FillValue of 9.969209968386869e+36 used,\n",
       " 'rluscs_avg': <class 'netCDF4._netCDF4.Variable'>\n",
       " float32 rluscs_avg(time)\n",
       "     units: W m-2\n",
       "     long_name: domain avg. surface upwelling longwave flux - clear sky\n",
       " unlimited dimensions: \n",
       " current shape = (2401,)\n",
       " filling on, default _FillValue of 9.969209968386869e+36 used,\n",
       " 'rsdscs_avg': <class 'netCDF4._netCDF4.Variable'>\n",
       " float32 rsdscs_avg(time)\n",
       "     units: W m-2\n",
       "     long_name: domain avg. surface downwelling shortwave flux - clear sky\n",
       " unlimited dimensions: \n",
       " current shape = (2401,)\n",
       " filling on, default _FillValue of 9.969209968386869e+36 used,\n",
       " 'rsuscs_avg': <class 'netCDF4._netCDF4.Variable'>\n",
       " float32 rsuscs_avg(time)\n",
       "     units: W m-2\n",
       "     long_name: domain avg. surface upwelling shortwave flux - clear sky\n",
       " unlimited dimensions: \n",
       " current shape = (2401,)\n",
       " filling on, default _FillValue of 9.969209968386869e+36 used,\n",
       " 'rlut_avg': <class 'netCDF4._netCDF4.Variable'>\n",
       " float32 rlut_avg(time)\n",
       "     units: W m-2\n",
       "     long_name: domain avg. TOA upwelling longwave flux\n",
       " unlimited dimensions: \n",
       " current shape = (2401,)\n",
       " filling on, default _FillValue of 9.969209968386869e+36 used,\n",
       " 'rsdt_avg': <class 'netCDF4._netCDF4.Variable'>\n",
       " float32 rsdt_avg(time)\n",
       "     units: W m-2\n",
       "     long_name: domain avg. TOA downwelling shortwave flux\n",
       " unlimited dimensions: \n",
       " current shape = (2401,)\n",
       " filling on, default _FillValue of 9.969209968386869e+36 used,\n",
       " 'rsut_avg': <class 'netCDF4._netCDF4.Variable'>\n",
       " float32 rsut_avg(time)\n",
       "     units: W m-2\n",
       "     long_name: domain avg. TOA upwelling shortwave flux\n",
       " unlimited dimensions: \n",
       " current shape = (2401,)\n",
       " filling on, default _FillValue of 9.969209968386869e+36 used,\n",
       " 'rlutcs_avg': <class 'netCDF4._netCDF4.Variable'>\n",
       " float32 rlutcs_avg(time)\n",
       "     units: W m-2\n",
       "     long_name: domain avg. TOA upwelling longwave flux - clear sky\n",
       " unlimited dimensions: \n",
       " current shape = (2401,)\n",
       " filling on, default _FillValue of 9.969209968386869e+36 used,\n",
       " 'rsutcs_avg': <class 'netCDF4._netCDF4.Variable'>\n",
       " float32 rsutcs_avg(time)\n",
       "     units: W m-2\n",
       "     long_name: domain avg. TOA upwelling shortwave flux - clear sky\n",
       " unlimited dimensions: \n",
       " current shape = (2401,)\n",
       " filling on, default _FillValue of 9.969209968386869e+36 used}"
      ]
     },
     "execution_count": 3,
     "metadata": {},
     "output_type": "execute_result"
    }
   ],
   "source": [
    "nc_0d.variables"
   ]
  },
  {
   "cell_type": "code",
   "execution_count": 4,
   "metadata": {},
   "outputs": [
    {
     "data": {
      "text/plain": [
       "{'time': <class 'netCDF4._netCDF4.Variable'>\n",
       " float32 time(time)\n",
       " unlimited dimensions: \n",
       " current shape = (2401,)\n",
       " filling on, default _FillValue of 9.969209968386869e+36 used,\n",
       " 'z': <class 'netCDF4._netCDF4.Variable'>\n",
       " float32 z(z)\n",
       " unlimited dimensions: \n",
       " current shape = (144,)\n",
       " filling on, default _FillValue of 9.969209968386869e+36 used,\n",
       " 'zh': <class 'netCDF4._netCDF4.Variable'>\n",
       " float32 zh(zh)\n",
       " unlimited dimensions: \n",
       " current shape = (145,)\n",
       " filling on, default _FillValue of 9.969209968386869e+36 used,\n",
       " 'ta_avg': <class 'netCDF4._netCDF4.Variable'>\n",
       " float32 ta_avg(time, z)\n",
       "     units: K\n",
       "     long_name: domain avg. air temperature profile\n",
       " unlimited dimensions: \n",
       " current shape = (2401, 144)\n",
       " filling on, default _FillValue of 9.969209968386869e+36 used,\n",
       " 'ua_avg': <class 'netCDF4._netCDF4.Variable'>\n",
       " float32 ua_avg(time, z)\n",
       "     units: m s-1\n",
       "     long_name: domain avg. eastward wind profile\n",
       " unlimited dimensions: \n",
       " current shape = (2401, 144)\n",
       " filling on, default _FillValue of 9.969209968386869e+36 used,\n",
       " 'va_avg': <class 'netCDF4._netCDF4.Variable'>\n",
       " float32 va_avg(time, z)\n",
       "     units: m s-1\n",
       "     long_name: domain avg. northward wind profile\n",
       " unlimited dimensions: \n",
       " current shape = (2401, 144)\n",
       " filling on, default _FillValue of 9.969209968386869e+36 used,\n",
       " 'hus_avg': <class 'netCDF4._netCDF4.Variable'>\n",
       " float32 hus_avg(time, z)\n",
       "     units: kg kg-1\n",
       "     long_name: domain avg. specific humidity profile\n",
       " unlimited dimensions: \n",
       " current shape = (2401, 144)\n",
       " filling on, default _FillValue of 9.969209968386869e+36 used,\n",
       " 'hur_avg': <class 'netCDF4._netCDF4.Variable'>\n",
       " float32 hur_avg(time, z)\n",
       "     units: %\n",
       "     long_name: domain avg. relative humidity profile\n",
       " unlimited dimensions: \n",
       " current shape = (2401, 144)\n",
       " filling on, default _FillValue of 9.969209968386869e+36 used,\n",
       " 'clw_avg': <class 'netCDF4._netCDF4.Variable'>\n",
       " float32 clw_avg(time, z)\n",
       "     units: kg kg-1\n",
       "     long_name: domain avg. mass fraction of the cloud liquid water profile\n",
       " unlimited dimensions: \n",
       " current shape = (2401, 144)\n",
       " filling on, default _FillValue of 9.969209968386869e+36 used,\n",
       " 'cli_avg': <class 'netCDF4._netCDF4.Variable'>\n",
       " float32 cli_avg(time, z)\n",
       "     units: kg kg-1\n",
       "     long_name: domain avg. mass fraction of the cloud ice profile\n",
       " unlimited dimensions: \n",
       " current shape = (2401, 144)\n",
       " filling on, default _FillValue of 9.969209968386869e+36 used,\n",
       " 'plw_avg': <class 'netCDF4._netCDF4.Variable'>\n",
       " float32 plw_avg(time, z)\n",
       "     units: kg kg-1\n",
       "     long_name: domain avg. mass fraction of the precipitating liquid water profile\n",
       " unlimited dimensions: \n",
       " current shape = (2401, 144)\n",
       " filling on, default _FillValue of 9.969209968386869e+36 used,\n",
       " 'pli_avg': <class 'netCDF4._netCDF4.Variable'>\n",
       " float32 pli_avg(time, z)\n",
       "     units: kg kg-1\n",
       "     long_name: domain avg. mass fraction of the precipitating ice profile\n",
       " unlimited dimensions: \n",
       " current shape = (2401, 144)\n",
       " filling on, default _FillValue of 9.969209968386869e+36 used,\n",
       " 'theta_avg': <class 'netCDF4._netCDF4.Variable'>\n",
       " float32 theta_avg(time, z)\n",
       "     units: K\n",
       "     long_name: domain avg. potential temperature profile\n",
       " unlimited dimensions: \n",
       " current shape = (2401, 144)\n",
       " filling on, default _FillValue of 9.969209968386869e+36 used,\n",
       " 'thetae_avg': <class 'netCDF4._netCDF4.Variable'>\n",
       " float32 thetae_avg(time, z)\n",
       "     units: K\n",
       "     long_name: domain avg. equivalent potential temperature profile\n",
       " unlimited dimensions: \n",
       " current shape = (2401, 144)\n",
       " filling on, default _FillValue of 9.969209968386869e+36 used,\n",
       " 'cldfrac_avg': <class 'netCDF4._netCDF4.Variable'>\n",
       " float32 cldfrac_avg(time, z)\n",
       "     units: -\n",
       "     long_name: global cloud fraction profile\n",
       " unlimited dimensions: \n",
       " current shape = (2401, 144)\n",
       " filling on, default _FillValue of 9.969209968386869e+36 used,\n",
       " 'tntrs_avg': <class 'netCDF4._netCDF4.Variable'>\n",
       " float32 tntrs_avg(time, z)\n",
       "     units: K s-1\n",
       "     long_name: domain avg. shortwave radiative heating rate profile\n",
       " unlimited dimensions: \n",
       " current shape = (2401, 144)\n",
       " filling on, default _FillValue of 9.969209968386869e+36 used,\n",
       " 'tntrl_avg': <class 'netCDF4._netCDF4.Variable'>\n",
       " float32 tntrl_avg(time, z)\n",
       "     units: K s-1\n",
       "     long_name: domain avg. longwave radiative heating rate profile\n",
       " unlimited dimensions: \n",
       " current shape = (2401, 144)\n",
       " filling on, default _FillValue of 9.969209968386869e+36 used,\n",
       " 'tntrscs_avg': <class 'netCDF4._netCDF4.Variable'>\n",
       " float32 tntrscs_avg(time, z)\n",
       "     units: K s-1\n",
       "     long_name: domain avg. shortwave radiative heating rate profile\n",
       " unlimited dimensions: \n",
       " current shape = (2401, 144)\n",
       " filling on, default _FillValue of 9.969209968386869e+36 used,\n",
       " 'tntrlcs_avg': <class 'netCDF4._netCDF4.Variable'>\n",
       " float32 tntrlcs_avg(time, z)\n",
       "     units: K s-1\n",
       "     long_name: domain avg. longwave radiative heating rate profile\n",
       " unlimited dimensions: \n",
       " current shape = (2401, 144)\n",
       " filling on, default _FillValue of 9.969209968386869e+36 used}"
      ]
     },
     "execution_count": 4,
     "metadata": {},
     "output_type": "execute_result"
    }
   ],
   "source": [
    "nc_1d.variables"
   ]
  },
  {
   "cell_type": "code",
   "execution_count": 5,
   "metadata": {},
   "outputs": [],
   "source": [
    "time = nc_0d.variables['time'][:]\n",
    "rlut_avg = nc_0d.variables['rlut_avg'][:]"
   ]
  },
  {
   "cell_type": "code",
   "execution_count": 6,
   "metadata": {},
   "outputs": [
    {
     "data": {
      "text/plain": [
       "Text(0, 0.5, 'top-of-atmosphere outgoing longwave radiation (W/m2)')"
      ]
     },
     "execution_count": 6,
     "metadata": {},
     "output_type": "execute_result"
    },
    {
     "data": {
      "image/png": "[encoded data removed]",
      "text/plain": [
       "<Figure size 432x288 with 1 Axes>"
      ]
     },
     "metadata": {
      "needs_background": "light"
     },
     "output_type": "display_data"
    }
   ],
   "source": [
    "plt.figure()\n",
    "plt.plot(time, rlut_avg)\n",
    "plt.xlabel('time (d)')\n",
    "plt.ylabel('top-of-atmosphere outgoing longwave radiation (W/m2)')"
   ]
  },
  {
   "cell_type": "code",
   "execution_count": 7,
   "metadata": {},
   "outputs": [],
   "source": [
    "z = nc_1d.variables['z'][:]\n",
    "ta_avg = nc_1d.variables['ta_avg'][:,:]"
   ]
  },
  {
   "cell_type": "code",
   "execution_count": 8,
   "metadata": {},
   "outputs": [
    {
     "data": {
      "text/plain": [
       "<matplotlib.legend.Legend at 0x7f16e21e10f0>"
      ]
     },
     "execution_count": 8,
     "metadata": {},
     "output_type": "execute_result"
    },
    {
     "data": {
      "image/png": "[encoded data removed]",
      "text/plain": [
       "<Figure size 432x288 with 1 Axes>"
      ]
     },
     "metadata": {
      "needs_background": "light"
     },
     "output_type": "display_data"
    }
   ],
   "source": [
    "plt.figure()\n",
    "for i in range(0, 24*100+1, 25*24):\n",
    "    plt.plot(ta_avg[i, :], z[:], label='day = {}'.format(i/24))\n",
    "plt.xlabel('T (K)')\n",
    "plt.ylabel('z (m)')\n",
    "plt.legend(loc=0, frameon=False)"
   ]
  },
  {
   "cell_type": "code",
   "execution_count": null,
   "metadata": {},
   "outputs": [],
   "source": []
  },
  {
   "cell_type": "code",
   "execution_count": null,
   "metadata": {},
   "outputs": [],
   "source": []
  }
 ],
 "metadata": {
  "kernelspec": {
   "display_name": "Python 3",
   "language": "python",
   "name": "python3"
  },
  "language_info": {
   "codemirror_mode": {
    "name": "ipython",
    "version": 3
   },
   "file_extension": ".py",
   "mimetype": "text/x-python",
   "name": "python",
   "nbconvert_exporter": "python",
   "pygments_lexer": "ipython3",
   "version": "3.7.3"
  }
 },
 "nbformat": 4,
 "nbformat_minor": 2
}
