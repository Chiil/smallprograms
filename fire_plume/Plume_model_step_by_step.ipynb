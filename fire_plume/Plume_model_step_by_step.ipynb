{
 "cells": [
  {
   "cell_type": "markdown",
   "id": "9dcb7ed3-23e6-4140-a79f-d4b94764fba1",
   "metadata": {},
   "source": [
    "In this notebook, we prepare step by step the entraining plume. In short, we go through the following steps to compute the plume."
   ]
  },
  {
   "cell_type": "code",
   "execution_count": null,
   "id": "b11bd184-03b9-4048-8a20-1c5eb034b5ad",
   "metadata": {},
   "outputs": [],
   "source": [
    "import numpy as np\n",
    "import matplotlib.pyplot as plt"
   ]
  },
  {
   "cell_type": "code",
   "execution_count": null,
   "id": "cfe69968-ecf1-4668-baaf-7f67c31b7e82",
   "metadata": {},
   "outputs": [],
   "source": [
    "# Constants\n",
    "cp = 1005.0\n",
    "Rv = 461.5\n",
    "Rd = 287.04\n",
    "g = 9.81"
   ]
  },
  {
   "cell_type": "code",
   "execution_count": null,
   "id": "95b9a177-c85c-4518-809a-7ed606430564",
   "metadata": {},
   "outputs": [],
   "source": [
    "# Assume we have a profile of theta and q on height coordinates, and the surface pressure\n",
    "L = 10_000\n",
    "n = 256\n",
    "p0 = 101300.0\n",
    "\n",
    "dz = L / n\n",
    "z = np.arange(dz/2, L, dz)\n",
    "zh = np.arange(0, L+dz/2, dz)\n",
    "theta = 300.0 + 0.003 * z\n",
    "Hq = 2500\n",
    "qt = 0.010 * np.exp(-z/Hq)"
   ]
  },
  {
   "cell_type": "markdown",
   "id": "4604e578-53bb-4683-9101-80eb90ac353d",
   "metadata": {},
   "source": [
    "First, we assume that the environment is dry, and we compute the ambient pressure. We use the gas law for moist air.\n",
    "$$\n",
    "p = \\rho R_\\mathrm{d} \\pi \\theta_\\mathrm{v}\n",
    "$$\n",
    "with $\\pi = \\left( \\dfrac{p}{p_0} \\right)^\\dfrac{R_d}{c_p}$.\n",
    "\n",
    "Then, we use hydrostatic balance and substitute the gas law:\n",
    "\n",
    "$$\n",
    "\\begin{align}\n",
    "\\dfrac{\\partial p}{\\partial z}\n",
    "&= -\\rho g \\\\\n",
    "&= -\\dfrac{p g}{R_\\mathrm{d} \\pi \\theta_\\mathrm{v}} \\\\\n",
    "\\dfrac{\\partial p^\\frac{R_\\mathrm{d}}{c_\\mathrm{p}}}{\\partial z}\n",
    "&= -\\dfrac{g}{c_\\mathrm{p}}\\dfrac{p_0^\\frac{R_\\mathrm{d}}{c_\\mathrm{p}} }{\\theta_\\mathrm{v}} \n",
    "\\end{align}\n",
    "$$\n",
    "with the latter equation, we can solve the pressure."
   ]
  },
  {
   "cell_type": "code",
   "execution_count": null,
   "id": "2011b894-ca6b-4c24-b1fb-7b9cf0bcafcf",
   "metadata": {},
   "outputs": [],
   "source": [
    "# We assume the base state is dry\n",
    "thetav = theta * (1 + (Rv/Rd - 1)*qt)\n",
    "\n",
    "# Compute the pressure profile.\n",
    "ph_Rdcp = np.zeros_like(zh)\n",
    "ph_Rdcp[0] = p0**(Rd/cp)\n",
    "for i in range(1, len(ph_Rdcp)):\n",
    "    ph_Rdcp[i] = ph_Rdcp[i-1] - g/cp * p0**(Rd/cp) / thetav[i-1] * dz\n",
    "\n",
    "ph = ph_Rdcp**(cp/Rd)\n",
    "p = np.exp(0.5*(np.log(ph[:-1]) + np.log(ph[1:])))"
   ]
  },
  {
   "cell_type": "code",
   "execution_count": null,
   "id": "0ae3fe28-1b3c-4623-9470-d01779d41d0a",
   "metadata": {},
   "outputs": [],
   "source": [
    "plt.figure(constrained_layout=True)\n",
    "plt.subplot(131)\n",
    "plt.plot(p, z)\n",
    "plt.subplot(132)\n",
    "plt.plot(theta, z)\n",
    "plt.plot(thetav, z)\n",
    "plt.subplot(133)\n",
    "plt.plot(qt, z)"
   ]
  },
  {
   "cell_type": "code",
   "execution_count": null,
   "id": "e2d47006-8166-4c88-88d2-44512bb40880",
   "metadata": {},
   "outputs": [],
   "source": [
    "# Define excess temperature and humidity (this can go into input).\n",
    "dtheta = 1\n",
    "dqv = 0.001"
   ]
  },
  {
   "cell_type": "code",
   "execution_count": null,
   "id": "6926b3b4-172b-4dad-87a8-649295a95f6f",
   "metadata": {},
   "outputs": [],
   "source": []
  }
 ],
 "metadata": {
  "kernelspec": {
   "display_name": "Python 3 (ipykernel)",
   "language": "python",
   "name": "python3"
  },
  "language_info": {
   "codemirror_mode": {
    "name": "ipython",
    "version": 3
   },
   "file_extension": ".py",
   "mimetype": "text/x-python",
   "name": "python",
   "nbconvert_exporter": "python",
   "pygments_lexer": "ipython3",
   "version": "3.12.3"
  }
 },
 "nbformat": 4,
 "nbformat_minor": 5
}
