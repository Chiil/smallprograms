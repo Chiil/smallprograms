{
 "cells": [
  {
   "cell_type": "markdown",
   "id": "9dcb7ed3-23e6-4140-a79f-d4b94764fba1",
   "metadata": {},
   "source": [
    "In this notebook, we prepare step by step the entraining plume. In short, we go through the following steps to compute the plume."
   ]
  },
  {
   "cell_type": "code",
   "execution_count": null,
   "id": "b11bd184-03b9-4048-8a20-1c5eb034b5ad",
   "metadata": {},
   "outputs": [],
   "source": [
    "import numpy as np\n",
    "import matplotlib.pyplot as plt"
   ]
  },
  {
   "cell_type": "code",
   "execution_count": null,
   "id": "cfe69968-ecf1-4668-baaf-7f67c31b7e82",
   "metadata": {},
   "outputs": [],
   "source": [
    "# Constants\n",
    "cp = 1005.0\n",
    "Rv = 461.5\n",
    "Rd = 287.04\n",
    "g = 9.81"
   ]
  },
  {
   "cell_type": "markdown",
   "id": "97055f76-66ac-4a35-8647-990e833810ef",
   "metadata": {},
   "source": [
    "# Set up the atmospheric profiles"
   ]
  },
  {
   "cell_type": "code",
   "execution_count": null,
   "id": "95b9a177-c85c-4518-809a-7ed606430564",
   "metadata": {},
   "outputs": [],
   "source": [
    "# Assume we have a profile of theta and q on height coordinates, and the surface pressure\n",
    "L = 3000\n",
    "n = 1024\n",
    "p0 = 101300.0\n",
    "\n",
    "dz = L / n\n",
    "z = np.arange(dz/2, L, dz)\n",
    "zh = np.arange(0, L+dz/2, dz)\n",
    "theta = 300 + 0.006 * z\n",
    "thetah = 300 + 0.006 * zh\n",
    "Hq = 2500\n",
    "qt = 0.005 * np.exp(-z/Hq)\n",
    "qth = 0.005 * np.exp(-zh/Hq)"
   ]
  },
  {
   "cell_type": "markdown",
   "id": "4604e578-53bb-4683-9101-80eb90ac353d",
   "metadata": {},
   "source": [
    "First, we assume that the environment is dry, and we compute the ambient pressure. We use the gas law for moist air.\n",
    "$$\n",
    "p = \\rho R_\\mathrm{d} \\pi \\theta_\\mathrm{v}\n",
    "$$\n",
    "with $\\pi = \\left( \\dfrac{p}{p_0} \\right)^\\frac{R_d}{c_p}$.\n",
    "\n",
    "Then, we use hydrostatic balance and substitute the gas law:\n",
    "\n",
    "$$\n",
    "\\begin{align}\n",
    "\\dfrac{\\partial p}{\\partial z}\n",
    "&= -\\rho g \\\\\n",
    "&= -\\dfrac{p g}{R_\\mathrm{d} \\pi \\theta_\\mathrm{v}} \\\\\n",
    "\\dfrac{\\partial p^\\frac{R_\\mathrm{d}}{c_\\mathrm{p}}}{\\partial z}\n",
    "&= -\\dfrac{g}{c_\\mathrm{p}}\\dfrac{p_0^\\frac{R_\\mathrm{d}}{c_\\mathrm{p}} }{\\theta_\\mathrm{v}} \n",
    "\\end{align}\n",
    "$$\n",
    "with the latter equation, we can solve the pressure."
   ]
  },
  {
   "cell_type": "code",
   "execution_count": null,
   "id": "2011b894-ca6b-4c24-b1fb-7b9cf0bcafcf",
   "metadata": {},
   "outputs": [],
   "source": [
    "# We assume the base state is dry, so no saturation adjustment.\n",
    "thetav = theta * (1 + (Rv/Rd - 1)*qt)\n",
    "thetavh = thetah * (1 + (Rv/Rd - 1)*qth)\n",
    "\n",
    "# Compute the pressure profile.\n",
    "ph_Rdcp = np.zeros_like(zh)\n",
    "ph_Rdcp[0] = p0**(Rd/cp)\n",
    "for i in range(1, len(ph_Rdcp)):\n",
    "    ph_Rdcp[i] = ph_Rdcp[i-1] - g/cp * p0**(Rd/cp) / thetav[i-1] * dz\n",
    "\n",
    "ph = ph_Rdcp**(cp/Rd)\n",
    "p = np.exp(0.5*(np.log(ph[:-1]) + np.log(ph[1:])))\n",
    "\n",
    "exner = (p/p0)**(Rd/cp)\n",
    "exnerh = (ph/p0)**(Rd/cp)\n",
    "\n",
    "T = exner*theta\n",
    "Th = exnerh*thetah\n",
    "\n",
    "rho = p / (Rd * exner * thetav)\n",
    "rhoh = ph / (Rd * exnerh * thetavh)\n",
    "\n",
    "print(zh[-1], ph[-1], exnerh[-1], Th[-1])"
   ]
  },
  {
   "cell_type": "code",
   "execution_count": null,
   "id": "0ae3fe28-1b3c-4623-9470-d01779d41d0a",
   "metadata": {},
   "outputs": [],
   "source": [
    "plt.figure(figsize=(10, 4.5), constrained_layout=True)\n",
    "plt.subplot(161)\n",
    "plt.plot(p, z)\n",
    "plt.subplot(162)\n",
    "plt.plot(rho, z)\n",
    "plt.subplot(163)\n",
    "plt.plot(theta, z)\n",
    "plt.plot(thetav, z)\n",
    "plt.subplot(164)\n",
    "plt.plot(qt, z)\n",
    "plt.subplot(165)\n",
    "plt.plot(exner, z)\n",
    "plt.subplot(166)\n",
    "plt.plot(T, z)"
   ]
  },
  {
   "cell_type": "markdown",
   "id": "4d3b6f1b-c333-4e22-9d08-fb2fce305f61",
   "metadata": {},
   "source": [
    "# Calculate the plume ascent"
   ]
  },
  {
   "cell_type": "code",
   "execution_count": null,
   "id": "e2d47006-8166-4c88-88d2-44512bb40880",
   "metadata": {},
   "outputs": [],
   "source": [
    "# Define excess temperature and humidity and fire size (this can go into input).\n",
    "dtheta = 1\n",
    "dqv = 0.001\n",
    "area_bot = 100*100\n",
    "w_bot = 1"
   ]
  },
  {
   "cell_type": "code",
   "execution_count": null,
   "id": "6926b3b4-172b-4dad-87a8-649295a95f6f",
   "metadata": {},
   "outputs": [],
   "source": [
    "# First, set the near-surface plume conditions\n",
    "theta_plume = theta.copy()\n",
    "qt_plume = qt.copy()\n",
    "\n",
    "b_plume = np.zeros_like(theta)\n",
    "area_plume = np.zeros_like(theta)\n",
    "m_plume = np.zeros_like(theta)\n",
    "w_plume = np.zeros_like(theta)\n",
    "e_plume = np.zeros_like(theta)\n",
    "d_plume = np.zeros_like(theta)\n",
    "\n",
    "theta_plume[0] += dtheta\n",
    "qt_plume[0] += dqv\n",
    "dthetav_bot = theta_plume[0] * (1 + (Rv/Rd - 1)*qt_plume[0]) - thetav[0]\n",
    "b_plume[0] = g/thetav[0] * dthetav_bot\n",
    "area_plume[0] = area_bot\n",
    "w_plume[0] = w_bot\n",
    "m_plume[0] = rho[0] * area_plume[0] * w_plume[0]\n",
    "e_plume[0] = rho[0] * area_plume[0] / (2*w_plume[0]) * b_plume[0]\n",
    "\n",
    "print(b_plume[0], area_plume[0], w_plume[0], e_plume[0], d_plume[0], m_plume[0])"
   ]
  },
  {
   "cell_type": "code",
   "execution_count": null,
   "id": "30512866-6259-4b3c-9e0d-5c2d0f307862",
   "metadata": {},
   "outputs": [],
   "source": [
    "# Loop through the profile\n",
    "for i in range(1, len(z)):\n",
    "    # Mass flux through plume\n",
    "    m_plume[i] = m_plume[i-1] + (e_plume[i-1] - d_plume[i-1]) * dz\n",
    "    \n",
    "    # Apply the mass flux to the conserved variables\n",
    "    theta_plume[i] = theta_plume[i-1] - e_plume[i-1] * (theta_plume[i-1] - theta[i-1]) / m_plume[i-1] * dz\n",
    "    qt_plume[i] = qt_plume[i-1] - e_plume[i-1] * (qt_plume[i-1] - qt[i-1]) / m_plume[i-1] * dz\n",
    "\n",
    "    b_plume[i] = g/thetav[i] * (theta_plume[i] * (1 + (Rv/Rd - 1)*qt_plume[i]) - thetav[i])\n",
    "\n",
    "    # Solve the vertical velocity\n",
    "    a_w = 1\n",
    "    b_w = 0\n",
    "    w_plume[i] = w_plume[i-1] + (-b_w * e_plume[i-1] * w_plume[i-1] + a_w * area_plume[i-1] * rho[i-1] * b_plume[i-1]) / m_plume[i-1] * dz\n",
    "\n",
    "    z_sl = 100.0\n",
    "    crossed_sl = False\n",
    "    \n",
    "    if z[i] < z_sl:\n",
    "        # Entrainment and detrainment in the surface layer.\n",
    "        lambda_mix = 30\n",
    "        \n",
    "        e_plume[i] = area_plume[i-1] * rho[i-1] / (2 * w_plume[i-1]) * b_plume[i-1]\n",
    "        d_plume[i] = area_plume[i-1] * rho[i-1] * np.sqrt(lambda_mix) / np.sqrt(area_plume[0]) * (\n",
    "            np.sqrt(z[i]) * (w_plume[i] - w_plume[i-1]) / dz + w_plume[i-1] / (2 * np.sqrt(z[i]))\n",
    "        )\n",
    "\n",
    "    else:\n",
    "        # Entrainment and detrainment above the surface layer.\n",
    "        beta = 1 # Fractional detrainment above surface layer.\n",
    "        if not crossed_sl:\n",
    "            epsi = e_plume[i] / m_plume[i]\n",
    "            delt = epsi / beta\n",
    "            crossed_sl = True\n",
    "    \n",
    "        e_plume[i] = epsi * m_plume[i]\n",
    "        d_plume[i] = delt * m_plume[i]\n",
    "\n",
    "    area_plume[i] = m_plume[i] / (rho[i] * w_plume[i])\n",
    "\n",
    "    if w_plume[i] < 0 or area_plume[i] < 0:\n",
    "        area_plume[i] = np.nan\n",
    "        break"
   ]
  },
  {
   "cell_type": "code",
   "execution_count": null,
   "id": "4decbc95-dac9-41b0-98b8-6364a8ff1d54",
   "metadata": {},
   "outputs": [],
   "source": [
    "plt.figure(figsize=(10, 4.5), constrained_layout=True)\n",
    "plt.subplot(151)\n",
    "plt.plot(theta_plume, z)\n",
    "plt.plot(theta, z, 'k:')\n",
    "plt.subplot(152)\n",
    "plt.plot(qt_plume, z)\n",
    "plt.plot(qt, z, 'k:')\n",
    "plt.subplot(153)\n",
    "plt.plot(e_plume, z)\n",
    "plt.plot(d_plume, z)\n",
    "plt.subplot(154)\n",
    "plt.plot(area_plume, z)\n",
    "plt.subplot(155)\n",
    "plt.plot(w_plume, z)"
   ]
  },
  {
   "cell_type": "code",
   "execution_count": null,
   "id": "92f72132-07d3-4f2b-a476-ee659d38ff77",
   "metadata": {},
   "outputs": [],
   "source": []
  }
 ],
 "metadata": {
  "kernelspec": {
   "display_name": ".venv",
   "language": "python",
   "name": "python3"
  },
  "language_info": {
   "codemirror_mode": {
    "name": "ipython",
    "version": 3
   },
   "file_extension": ".py",
   "mimetype": "text/x-python",
   "name": "python",
   "nbconvert_exporter": "python",
   "pygments_lexer": "ipython3",
   "version": "3.12.3"
  }
 },
 "nbformat": 4,
 "nbformat_minor": 5
}
