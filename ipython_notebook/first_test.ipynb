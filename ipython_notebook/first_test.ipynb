{
 "cells": [
  {
   "cell_type": "markdown",
   "metadata": {},
   "source": [
    "# Tutorial\n",
    "Load the numpy and pylab library under shortcuts `np` and `pl`"
   ]
  },
  {
   "cell_type": "code",
   "execution_count": null,
   "metadata": {
    "collapsed": false
   },
   "outputs": [],
   "source": [
    "import numpy as np\n",
    "import pylab as pl\n",
    "%pylab inline"
   ]
  },
  {
   "cell_type": "markdown",
   "metadata": {},
   "source": [
    "Set the size of the domain:"
   ]
  },
  {
   "cell_type": "code",
   "execution_count": null,
   "metadata": {
    "collapsed": false
   },
   "outputs": [],
   "source": [
    "itot = 512\n",
    "jtot = 384\n",
    "i,j = np.meshgrid(np.arange(0,itot), np.arange(0,jtot))\n",
    "ii = i[:,:itot/2+1]\n",
    "jj = j[:,:itot/2+1]\n",
    "jj = np.where(jj<jtot/2+1, jj, jj-jtot)"
   ]
  },
  {
   "cell_type": "markdown",
   "metadata": {},
   "source": [
    "Generate a field with random data:"
   ]
  },
  {
   "cell_type": "code",
   "execution_count": null,
   "metadata": {
    "collapsed": false
   },
   "outputs": [],
   "source": [
    "a = np.random.rand(jtot, itot)"
   ]
  },
  {
   "cell_type": "markdown",
   "metadata": {},
   "source": [
    "Plot the data:"
   ]
  },
  {
   "cell_type": "code",
   "execution_count": null,
   "metadata": {
    "collapsed": false
   },
   "outputs": [],
   "source": [
    "pl.pcolormesh(i,j,a);\n",
    "pl.colorbar();\n",
    "pl.xlim(0,itot);\n",
    "pl.ylim(0,jtot);"
   ]
  },
  {
   "cell_type": "markdown",
   "metadata": {},
   "source": [
    "Fourier transform the field:"
   ]
  },
  {
   "cell_type": "code",
   "execution_count": null,
   "metadata": {
    "collapsed": true
   },
   "outputs": [],
   "source": [
    "afft = np.fft.rfft2(a)"
   ]
  },
  {
   "cell_type": "markdown",
   "metadata": {},
   "source": [
    "Filter the data around a chosen wave number using a Gaussian filter with a given standard deviation"
   ]
  },
  {
   "cell_type": "markdown",
   "metadata": {},
   "source": [
    "Show filter as illustration and plot the filtered data:"
   ]
  },
  {
   "cell_type": "code",
   "execution_count": null,
   "metadata": {
    "collapsed": false
   },
   "outputs": [],
   "source": [
    "from IPython.html.widgets import interact, interactive\n",
    "from IPython.html import widgets\n",
    "kk = np.sqrt(ii**2 + jj**2)\n",
    "def filter(kmn = 8., ksd = 1.):\n",
    "    # wave number kmn\n",
    "    # standard deviation guassian ksd\n",
    "    f,ax = subplots(1,2)\n",
    "    f.set_figwidth(14)\n",
    "    f.set_figheight(6)\n",
    "    alpha = np.exp( -(kk - kmn)**2 / (2.*ksd**2) )\n",
    "    afft_filter = alpha * afft\n",
    "    a_filter = np.fft.irfft2(afft_filter)\n",
    "    print(\"Mean = {0}\".format(a_filter.mean()))\n",
    "    ktest = np.linspace(0, 16., 1000)\n",
    "    ftest = np.exp(-(ktest - kmn)**2 / (2.*ksd**2) )\n",
    "    ax[0].plot(ktest, ftest)\n",
    "    ax[1].pcolormesh(i, j, a_filter)\n",
    "    ax[1].set_xlim(0, itot)\n",
    "    ax[1].set_ylim(0, jtot)\n",
    "interact(filter, kmn = (1.0,20.0,1.), ksd = (0.1, 3.0, 0.1));"
   ]
  }
 ],
 "metadata": {
  "kernelspec": {
   "display_name": "Python 2",
   "language": "python",
   "name": "python2"
  },
  "language_info": {
   "codemirror_mode": {
    "name": "ipython",
    "version": 2
   },
   "file_extension": ".py",
   "mimetype": "text/x-python",
   "name": "python",
   "nbconvert_exporter": "python",
   "pygments_lexer": "ipython2",
   "version": "2.7.6"
  }
 },
 "nbformat": 4,
 "nbformat_minor": 0
}
